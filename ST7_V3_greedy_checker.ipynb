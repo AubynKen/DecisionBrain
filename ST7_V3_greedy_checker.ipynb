{
 "cells": [
  {
   "cell_type": "markdown",
   "metadata": {
    "collapsed": true,
    "pycharm": {
     "name": "#%% md\n"
    }
   },
   "source": [
    "# ST7 Planification quotidienne d’une équipe mobile\n",
    "# Phase III"
   ]
  },
  {
   "cell_type": "markdown",
   "source": [
    "## Importation de modules"
   ],
   "metadata": {
    "collapsed": false,
    "pycharm": {
     "name": "#%% md\n"
    }
   }
  },
  {
   "cell_type": "code",
   "execution_count": 3,
   "outputs": [],
   "source": [
    "# module importation\n",
    "import numpy as np\n",
    "from math import ceil\n",
    "import matplotlib.pyplot as plt\n",
    "\n",
    "# utilities\n",
    "from utils import *\n",
    "from copy import deepcopy\n",
    "\n",
    "# model classes for employees and nodes\n",
    "from models_v2 import Employee, Node, Task, Home, Unavail"
   ],
   "metadata": {
    "collapsed": false,
    "pycharm": {
     "name": "#%%\n"
    }
   }
  },
  {
   "cell_type": "markdown",
   "source": [
    "Déclaration des constantes et des indices :"
   ],
   "metadata": {
    "collapsed": false,
    "pycharm": {
     "name": "#%% md\n"
    }
   }
  },
  {
   "cell_type": "code",
   "execution_count": 4,
   "outputs": [],
   "source": [
    "W = U = T = V = 0\n",
    "employees = homes = tasks = unavails = nodes = []"
   ],
   "metadata": {
    "collapsed": false,
    "pycharm": {
     "name": "#%%\n"
    }
   }
  },
  {
   "cell_type": "markdown",
   "source": [
    "## Fonction de lecture de données"
   ],
   "metadata": {
    "collapsed": false,
    "pycharm": {
     "name": "#%% md\n"
    }
   }
  },
  {
   "cell_type": "code",
   "source": [
    "def load_data_from_path(path_to_instance: str):\n",
    "    # load employee data\n",
    "    Employee.load_excel(path_to_instance)\n",
    "\n",
    "    # load node data\n",
    "    Node.clear_previous_data()\n",
    "    for cls in [Home, Task, Unavail]:\n",
    "        cls.load_excel(path_to_instance)\n",
    "    Node.initialize_distance()\n",
    "\n",
    "    # constants\n",
    "    global W, U, T, V\n",
    "    (W, U, T, V) = (Task.count, Unavail.count, Employee.count, Node.count)\n",
    "\n",
    "    # indices of employees, homes, lunches, tasks, unavailabilities\n",
    "    global employees, homes, tasks, unavails, nodes\n",
    "    employees = list(range(T))\n",
    "    homes = list(range(T))\n",
    "    tasks = list(range(T, T + W))\n",
    "    unavails = list((range(T + W, V)))\n",
    "    nodes = list(range(V))"
   ],
   "metadata": {
    "collapsed": false,
    "pycharm": {
     "name": "#%%\n"
    }
   },
   "execution_count": 5,
   "outputs": []
  },
  {
   "cell_type": "markdown",
   "source": [
    "Lecture de données de test"
   ],
   "metadata": {
    "collapsed": false,
    "pycharm": {
     "name": "#%% md\n"
    }
   }
  },
  {
   "cell_type": "code",
   "execution_count": 6,
   "outputs": [],
   "source": [
    "path_to_test = path_bordeaux_v2 = \"./data/InstancesV2/InstanceBordeauxV2.xlsx\"\n",
    "load_data_from_path(path_to_test)"
   ],
   "metadata": {
    "collapsed": false,
    "pycharm": {
     "name": "#%%\n"
    }
   }
  },
  {
   "cell_type": "markdown",
   "source": [
    "## Implémentation de la classe Solution"
   ],
   "metadata": {
    "collapsed": false,
    "pycharm": {
     "name": "#%% md\n"
    }
   }
  },
  {
   "cell_type": "code",
   "execution_count": 7,
   "outputs": [],
   "source": [
    "from collections import deque\n",
    "\n",
    "class GreedySolution:\n",
    "\n",
    "    debug = True\n",
    "\n",
    "    def __init__(self):\n",
    "        # the indices of nodes that have not been visited\n",
    "        self.unvisited_nodes = nodes[:]\n",
    "        # indices of employees that are not home yet\n",
    "        self.available_employees = employees[:]\n",
    "        # employee_nodes[k] is the list of indices of tasks attributed to employee k, in the visit order\n",
    "        self.employee_nodes = {k: [] for k in employees}\n",
    "        # unavailabilities that employee should visit\n",
    "        self.employee_unvisited_unavails = {k: deque(Employee.list[k].unavails) for k in employees}\n",
    "        # employee_lunch_time[k] is the start of the lunch break of employee k\n",
    "        self.employee_lunch_time = {k: None for k in employees}\n",
    "        # the beginning of the task at node i\n",
    "        self.node_begin_time = {i: None for i in nodes}\n",
    "\n",
    "    @staticmethod\n",
    "    def is_lunch_time(time):\n",
    "        return parse_time_minute(\"12:00pm\") <= time <= parse_time_minute(\"2:00pm\")\n",
    "\n",
    "    def has_taken_lunch(self, employee_idx: int):\n",
    "        return self.employee_lunch_time[employee_idx] is not None\n",
    "\n",
    "    def finish_time(self, employee_idx: int):\n",
    "        # if employee has finished his work, return infinity\n",
    "        if employee_idx not in self.available_employees:\n",
    "            return float(\"inf\")\n",
    "\n",
    "        # if employee hasn't left home, return his start_time\n",
    "        if not self.has_not_left_home(employee_idx):\n",
    "            if self.has_taken_lunch(employee_idx):\n",
    "                return self.employee_lunch_time[employee_idx] + 60\n",
    "            return Employee.list[employee_idx].start_time\n",
    "\n",
    "        # employee's last task's finish time\n",
    "        last_node_idx = self.employee_nodes[employee_idx][-1]\n",
    "        last_node_finish_time = self.node_begin_time[last_node_idx] + Node.list[last_node_idx].duration\n",
    "        if not self.has_taken_lunch(employee_idx) or last_node_finish_time > self.employee_lunch_time[employee_idx]:\n",
    "            return last_node_finish_time\n",
    "        return last_node_finish_time\n",
    "\n",
    "    def has_not_left_home(self, employee_idx):\n",
    "        return len(self.employee_nodes[employee_idx]) == 0 and not self.has_taken_lunch(employee_idx)\n",
    "\n",
    "    def has_gone_home(self, employee_idx):\n",
    "        return len(self.employee_nodes[employee_idx]) != 0 and self.employee_nodes[employee_idx][]\n",
    "\n",
    "    def current_node(self, employee_idx: int):\n",
    "        \"\"\"return index of the employee's current node\"\"\"\n",
    "        # if employee is at home, return home index = employee index\n",
    "        if employee_idx not in self.available_employees or not self.employee_nodes[employee_idx]:\n",
    "            return employee_idx\n",
    "        # else return his last node\n",
    "        return self.employee_nodes[employee_idx][-1]\n",
    "\n",
    "    # def has_not_left_home(self, employee_idx):\n",
    "    #     return employee_idx == self.current_node(employee_idx)\n",
    "\n",
    "    def employee_distance_to_node(self, employee_idx, node_idx):\n",
    "        \"\"\"distance between employee to node at node_idx\"\"\"\n",
    "        return Node.distance[self.current_node(employee_idx), node_idx]\n",
    "\n",
    "    def travel_time(self, employee_idx, node_idx):\n",
    "        \"\"\"time that it takes for employee to go to node in minute\"\"\"\n",
    "        return ceil(self.employee_distance_to_node(employee_idx, node_idx) / Employee.speed)\n",
    "\n",
    "    def arrival_time(self, employee_idx, node_idx):\n",
    "        return self.finish_time(employee_idx) + self.travel_time(employee_idx, node_idx)\n",
    "\n",
    "    def has_enough_time_to_arrive(self, employee_idx, node_idx):\n",
    "        \"\"\"determine whether an employee has enough time to go to an unavailability / go home\"\"\"\n",
    "        node = Node.list[node_idx]\n",
    "        # if node is a task, throw exception\n",
    "        if node.node_type == \"task\":\n",
    "            raise Exception(\"The node_idx parameter corresponds to the index of a task, expected home or unavailability.\")\n",
    "        if node.node_type == \"home\":\n",
    "            return self.finish_time(employee_idx) + self.travel_time(employee_idx, node_idx) <= parse_time_minute(\"6:00pm\")\n",
    "        # task\n",
    "        return self.finish_time(employee_idx) + self.travel_time(employee_idx, node_idx) <= node.opening_time\n",
    "\n",
    "    def next_obstacle(self, employee_idx):\n",
    "        return self.employee_unvisited_unavails[employee_idx][0] if self.employee_unvisited_unavails[employee_idx] else employee_idx\n",
    "\n",
    "    def has_time_for_next_obstacle(self, employee_idx):\n",
    "        # obstacle = next unavailability or home\n",
    "        return self.has_enough_time_to_arrive(employee_idx, self.next_obstacle(employee_idx))\n",
    "\n",
    "    def took_lunch_after_last_node(self, employee_idx):\n",
    "        if not self.has_taken_lunch(employee_idx):\n",
    "            return False\n",
    "        if self.has_not_left_home(employee_idx):\n",
    "            return True\n",
    "        last_node_idx = self.employee_nodes[employee_idx][-1]\n",
    "        last_node = Node.list[last_node_idx]\n",
    "        return self.employee_lunch_time[employee_idx] >= self.node_begin_time[last_node_idx] + last_node.duration\n",
    "\n",
    "    def take_lunch(self, employee_idx):\n",
    "        if self.has_taken_lunch(employee_idx):\n",
    "            raise Exception(f\"Employee {employee_idx} has already taken his lunch.\")\n",
    "        self.employee_lunch_time[employee_idx] = self.finish_time(employee_idx)\n",
    "\n",
    "    def remove_lunch(self, employee_idx):\n",
    "        self.employee_lunch_time[employee_idx] = None\n",
    "\n",
    "    def next_possible_operation_time(self, employee_idx, node_idx):\n",
    "        node = Node.list[node_idx]\n",
    "        if node.node_type == \"home\":\n",
    "            return parse_time_minute(\"6:00pm\")\n",
    "        if node.node_type == \"unavail\":\n",
    "            return node.opening_time\n",
    "        node: Task\n",
    "        open_intervals = node.open_intervals()\n",
    "        arrival_time = self.arrival_time(employee_idx, node_idx)\n",
    "        for b,e in open_intervals:\n",
    "            if arrival_time >= b and arrival_time + node.duration <= e:\n",
    "                return arrival_time\n",
    "        return float(\"inf\")\n",
    "\n",
    "    def closest_task(self, employee_idx):\n",
    "        next_openings = [(node_idx, self.next_possible_operation_time(employee_idx, node_idx)) for node_idx in self.unvisited_nodes]\n",
    "        node_idx, _ = min(next_openings, key=lambda x,y : y)\n",
    "        return node_idx\n",
    "\n",
    "    def visit_node(self, employee_idx, node_idx):\n",
    "        if self.debug:\n",
    "            print(f\"employee {employee_idx} visits {node_idx}\")\n",
    "        self.unvisited_nodes.remove(node_idx)\n",
    "        self.employee_nodes[employee_idx].append(node_idx)\n",
    "        # if employee is going home\n",
    "        if employee_idx == node_idx:\n",
    "            self.available_employees.remove(employee_idx)\n",
    "\n",
    "    def undo_last_task(self, employee_idx):\n",
    "        if not self.has_not_left_home(employee_idx):\n",
    "            raise Exception(f\"Employee {employee_idx} has not visited any node yet\")\n",
    "        node_idx = self.current_node(employee_idx)\n",
    "        self.unvisited_nodes.append(node_idx)\n",
    "        self.employee_nodes[employee_idx].pop()\n",
    "\n",
    "    def optimize(self):\n",
    "        while self.available_employees:\n",
    "            # employee that is available the earliest\n",
    "            employee_idx = min(self.available_employees, key=lambda k: self.finish_time(k))\n",
    "\n",
    "            #if the employee has time to visit his next obstacle (ie. unavailability / go home)\n",
    "            if self.has_time_for_next_obstacle(employee_idx):\n",
    "                # take lunch if appropriate timing\n",
    "                if self.is_lunch_time(self.finish_time(employee_idx)) and not self.has_taken_lunch(employee_idx):\n",
    "                    self.take_lunch(employee_idx)\n",
    "                # else visit the closest node\n",
    "                else:\n",
    "                    closest_task_to_employee = self.closest_task(employee_idx)\n",
    "                    self.visit_node(employee_idx, node_idx=closest_task_to_employee)\n",
    "\n",
    "            # if the employee still has time to visit his next obstacle\n",
    "            if self.has_time_for_next_obstacle(employee_idx):\n",
    "                continue\n",
    "\n",
    "            # if the employee can't visit his next obstacle because of the lunch\n",
    "            if self.took_lunch_after_last_node(employee_idx):\n",
    "                self.remove_lunch(employee_idx)\n",
    "                next_obstacle = self.next_obstacle(employee_idx)\n",
    "                self.visit_node(employee_idx, next_obstacle)\n",
    "                continue\n",
    "\n",
    "\n",
    "            self.undo_last_task(employee_idx)\n",
    "            obstacle_idx = self.next_obstacle(employee_idx)\n",
    "            self.visit_node(employee_idx, obstacle_idx)"
   ],
   "metadata": {
    "collapsed": false,
    "pycharm": {
     "name": "#%%\n"
    }
   }
  },
  {
   "cell_type": "markdown",
   "source": [
    "# test"
   ],
   "metadata": {
    "collapsed": false,
    "pycharm": {
     "name": "#%% md\n"
    }
   }
  },
  {
   "cell_type": "code",
   "execution_count": 12,
   "outputs": [
    {
     "ename": "IndexError",
     "evalue": "list index out of range",
     "output_type": "error",
     "traceback": [
      "\u001B[0;31m---------------------------------------------------------------------------\u001B[0m",
      "\u001B[0;31mIndexError\u001B[0m                                Traceback (most recent call last)",
      "\u001B[0;32m/var/folders/q9/gr1yp8lj3bd65hlwr2q9q5tr0000gn/T/ipykernel_25498/326505699.py\u001B[0m in \u001B[0;36m<module>\u001B[0;34m\u001B[0m\n\u001B[1;32m      1\u001B[0m \u001B[0msol\u001B[0m \u001B[0;34m=\u001B[0m \u001B[0mGreedySolution\u001B[0m\u001B[0;34m(\u001B[0m\u001B[0;34m)\u001B[0m\u001B[0;34m\u001B[0m\u001B[0;34m\u001B[0m\u001B[0m\n\u001B[0;32m----> 2\u001B[0;31m \u001B[0msol\u001B[0m\u001B[0;34m.\u001B[0m\u001B[0moptimize\u001B[0m\u001B[0;34m(\u001B[0m\u001B[0;34m)\u001B[0m\u001B[0;34m\u001B[0m\u001B[0;34m\u001B[0m\u001B[0m\n\u001B[0m",
      "\u001B[0;32m/var/folders/q9/gr1yp8lj3bd65hlwr2q9q5tr0000gn/T/ipykernel_25498/754632981.py\u001B[0m in \u001B[0;36moptimize\u001B[0;34m(self)\u001B[0m\n\u001B[1;32m    140\u001B[0m         \u001B[0;32mwhile\u001B[0m \u001B[0mself\u001B[0m\u001B[0;34m.\u001B[0m\u001B[0mavailable_employees\u001B[0m\u001B[0;34m:\u001B[0m\u001B[0;34m\u001B[0m\u001B[0;34m\u001B[0m\u001B[0m\n\u001B[1;32m    141\u001B[0m             \u001B[0;31m# employee that is available the earliest\u001B[0m\u001B[0;34m\u001B[0m\u001B[0;34m\u001B[0m\u001B[0m\n\u001B[0;32m--> 142\u001B[0;31m             \u001B[0memployee_idx\u001B[0m \u001B[0;34m=\u001B[0m \u001B[0mmin\u001B[0m\u001B[0;34m(\u001B[0m\u001B[0mself\u001B[0m\u001B[0;34m.\u001B[0m\u001B[0mavailable_employees\u001B[0m\u001B[0;34m,\u001B[0m \u001B[0mkey\u001B[0m\u001B[0;34m=\u001B[0m\u001B[0;32mlambda\u001B[0m \u001B[0mk\u001B[0m\u001B[0;34m:\u001B[0m \u001B[0mself\u001B[0m\u001B[0;34m.\u001B[0m\u001B[0mfinish_time\u001B[0m\u001B[0;34m(\u001B[0m\u001B[0mk\u001B[0m\u001B[0;34m)\u001B[0m\u001B[0;34m)\u001B[0m\u001B[0;34m\u001B[0m\u001B[0;34m\u001B[0m\u001B[0m\n\u001B[0m\u001B[1;32m    143\u001B[0m \u001B[0;34m\u001B[0m\u001B[0m\n\u001B[1;32m    144\u001B[0m             \u001B[0;31m#if the employee has time to visit his next obstacle (ie. unavailability / go home)\u001B[0m\u001B[0;34m\u001B[0m\u001B[0;34m\u001B[0m\u001B[0m\n",
      "\u001B[0;32m/var/folders/q9/gr1yp8lj3bd65hlwr2q9q5tr0000gn/T/ipykernel_25498/754632981.py\u001B[0m in \u001B[0;36m<lambda>\u001B[0;34m(k)\u001B[0m\n\u001B[1;32m    140\u001B[0m         \u001B[0;32mwhile\u001B[0m \u001B[0mself\u001B[0m\u001B[0;34m.\u001B[0m\u001B[0mavailable_employees\u001B[0m\u001B[0;34m:\u001B[0m\u001B[0;34m\u001B[0m\u001B[0;34m\u001B[0m\u001B[0m\n\u001B[1;32m    141\u001B[0m             \u001B[0;31m# employee that is available the earliest\u001B[0m\u001B[0;34m\u001B[0m\u001B[0;34m\u001B[0m\u001B[0m\n\u001B[0;32m--> 142\u001B[0;31m             \u001B[0memployee_idx\u001B[0m \u001B[0;34m=\u001B[0m \u001B[0mmin\u001B[0m\u001B[0;34m(\u001B[0m\u001B[0mself\u001B[0m\u001B[0;34m.\u001B[0m\u001B[0mavailable_employees\u001B[0m\u001B[0;34m,\u001B[0m \u001B[0mkey\u001B[0m\u001B[0;34m=\u001B[0m\u001B[0;32mlambda\u001B[0m \u001B[0mk\u001B[0m\u001B[0;34m:\u001B[0m \u001B[0mself\u001B[0m\u001B[0;34m.\u001B[0m\u001B[0mfinish_time\u001B[0m\u001B[0;34m(\u001B[0m\u001B[0mk\u001B[0m\u001B[0;34m)\u001B[0m\u001B[0;34m)\u001B[0m\u001B[0;34m\u001B[0m\u001B[0;34m\u001B[0m\u001B[0m\n\u001B[0m\u001B[1;32m    143\u001B[0m \u001B[0;34m\u001B[0m\u001B[0m\n\u001B[1;32m    144\u001B[0m             \u001B[0;31m#if the employee has time to visit his next obstacle (ie. unavailability / go home)\u001B[0m\u001B[0;34m\u001B[0m\u001B[0;34m\u001B[0m\u001B[0m\n",
      "\u001B[0;32m/var/folders/q9/gr1yp8lj3bd65hlwr2q9q5tr0000gn/T/ipykernel_25498/754632981.py\u001B[0m in \u001B[0;36mfinish_time\u001B[0;34m(self, employee_idx)\u001B[0m\n\u001B[1;32m     38\u001B[0m \u001B[0;34m\u001B[0m\u001B[0m\n\u001B[1;32m     39\u001B[0m         \u001B[0;31m# employee's last task's finish time\u001B[0m\u001B[0;34m\u001B[0m\u001B[0;34m\u001B[0m\u001B[0m\n\u001B[0;32m---> 40\u001B[0;31m         \u001B[0mlast_node_idx\u001B[0m \u001B[0;34m=\u001B[0m \u001B[0mself\u001B[0m\u001B[0;34m.\u001B[0m\u001B[0memployee_nodes\u001B[0m\u001B[0;34m[\u001B[0m\u001B[0memployee_idx\u001B[0m\u001B[0;34m]\u001B[0m\u001B[0;34m[\u001B[0m\u001B[0;34m-\u001B[0m\u001B[0;36m1\u001B[0m\u001B[0;34m]\u001B[0m\u001B[0;34m\u001B[0m\u001B[0;34m\u001B[0m\u001B[0m\n\u001B[0m\u001B[1;32m     41\u001B[0m         \u001B[0mlast_node_finish_time\u001B[0m \u001B[0;34m=\u001B[0m \u001B[0mself\u001B[0m\u001B[0;34m.\u001B[0m\u001B[0mnode_begin_time\u001B[0m\u001B[0;34m[\u001B[0m\u001B[0mlast_node_idx\u001B[0m\u001B[0;34m]\u001B[0m \u001B[0;34m+\u001B[0m \u001B[0mNode\u001B[0m\u001B[0;34m.\u001B[0m\u001B[0mlist\u001B[0m\u001B[0;34m[\u001B[0m\u001B[0mlast_node_idx\u001B[0m\u001B[0;34m]\u001B[0m\u001B[0;34m.\u001B[0m\u001B[0mduration\u001B[0m\u001B[0;34m\u001B[0m\u001B[0;34m\u001B[0m\u001B[0m\n\u001B[1;32m     42\u001B[0m         \u001B[0;32mif\u001B[0m \u001B[0;32mnot\u001B[0m \u001B[0mself\u001B[0m\u001B[0;34m.\u001B[0m\u001B[0mhas_taken_lunch\u001B[0m\u001B[0;34m(\u001B[0m\u001B[0memployee_idx\u001B[0m\u001B[0;34m)\u001B[0m \u001B[0;32mor\u001B[0m \u001B[0mlast_node_finish_time\u001B[0m \u001B[0;34m>\u001B[0m \u001B[0mself\u001B[0m\u001B[0;34m.\u001B[0m\u001B[0memployee_lunch_time\u001B[0m\u001B[0;34m[\u001B[0m\u001B[0memployee_idx\u001B[0m\u001B[0;34m]\u001B[0m\u001B[0;34m:\u001B[0m\u001B[0;34m\u001B[0m\u001B[0;34m\u001B[0m\u001B[0m\n",
      "\u001B[0;31mIndexError\u001B[0m: list index out of range"
     ]
    },
    {
     "name": "stderr",
     "output_type": "stream",
     "text": [
      "Traceback (most recent call last):\n",
      "  File \"_pydevd_bundle/pydevd_cython_darwin_39_64.pyx\", line 1035, in _pydevd_bundle.pydevd_cython_darwin_39_64.PyDBFrame.trace_dispatch\n",
      "  File \"/Users/pingleihe/Library/Application Support/JetBrains/Toolbox/apps/PyCharm-P/ch-0/213.6777.50/PyCharm.app/Contents/plugins/python/helpers-pro/jupyter_debug/pydev_jupyter_plugin.py\", line 144, in cmd_step_over\n",
      "    if _is_inside_jupyter_cell(frame, pydb):\n",
      "  File \"/Users/pingleihe/Library/Application Support/JetBrains/Toolbox/apps/PyCharm-P/ch-0/213.6777.50/PyCharm.app/Contents/plugins/python/helpers-pro/jupyter_debug/pydev_jupyter_plugin.py\", line 209, in _is_inside_jupyter_cell\n",
      "    if is_cell_filename(filename):\n",
      "  File \"/Users/pingleihe/Library/Application Support/JetBrains/Toolbox/apps/PyCharm-P/ch-0/213.6777.50/PyCharm.app/Contents/plugins/python/helpers-pro/jupyter_debug/pydev_jupyter_plugin.py\", line 220, in is_cell_filename\n",
      "    ipython_shell = get_ipython()\n",
      "NameError: name 'get_ipython' is not defined\n"
     ]
    }
   ],
   "source": [
    "sol = GreedySolution()\n",
    "sol.optimize()"
   ],
   "metadata": {
    "collapsed": false,
    "pycharm": {
     "name": "#%%\n"
    }
   }
  },
  {
   "cell_type": "code",
   "execution_count": 10,
   "outputs": [
    {
     "data": {
      "text/plain": "4"
     },
     "execution_count": 10,
     "metadata": {},
     "output_type": "execute_result"
    }
   ],
   "source": [
    "min([1, 2, 3, 4], key=lambda num: -num)"
   ],
   "metadata": {
    "collapsed": false,
    "pycharm": {
     "name": "#%%\n"
    }
   }
  },
  {
   "cell_type": "code",
   "execution_count": null,
   "outputs": [],
   "source": [],
   "metadata": {
    "collapsed": false,
    "pycharm": {
     "name": "#%%\n"
    }
   }
  }
 ],
 "metadata": {
  "kernelspec": {
   "display_name": "Python 3",
   "language": "python",
   "name": "python3"
  },
  "language_info": {
   "codemirror_mode": {
    "name": "ipython",
    "version": 2
   },
   "file_extension": ".py",
   "mimetype": "text/x-python",
   "name": "python",
   "nbconvert_exporter": "python",
   "pygments_lexer": "ipython2",
   "version": "2.7.6"
  }
 },
 "nbformat": 4,
 "nbformat_minor": 0
}