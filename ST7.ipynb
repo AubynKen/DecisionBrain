{
 "cells": [
  {
   "cell_type": "code",
   "execution_count": 39,
   "id": "b5c60159",
   "metadata": {},
   "outputs": [
    {
     "name": "stdout",
     "output_type": "stream",
     "text": [
      "{'Valentin': {'Latitude': 45.15121765523164, 'Longitude': -0.822092647754919, 'Skill': 'Oenology', 'Level': 2, 'WorkingStartTime': '8:00am', 'WorkingEndTime': '6:00pm'}, 'Ambre': {'Latitude': 45.15121765523164, 'Longitude': -0.822092647754919, 'Skill': 'Oenology', 'Level': 1, 'WorkingStartTime': '8:00am', 'WorkingEndTime': '6:00pm'}}\n"
     ]
    }
   ],
   "source": [
    "import pandas as pd\n",
    "import numpy as np        \n",
    "\n",
    "df_employees = pd.read_excel('InstanceBordeauxV1.xlsx', sheet_name = 0)\n",
    "cols = df_employees.columns\n",
    "\n",
    "data_employees = df.to_numpy()\n",
    "\n",
    "m,n = data_employees.shape\n",
    "\n",
    "class Employee:\n",
    "    def __init__(self, Name, Latitude, Longitude, Skill, Level, WorkingStartTime, WorkingEndTime):\n",
    "        self.Name = Name\n",
    "        self.Latitude = Latitude\n",
    "        self.Longitude = Longitude\n",
    "        self.Skill = Skill\n",
    "        self.Level = Level\n",
    "        self.WorkingStartTime = WorkingStartTime\n",
    "        self.WorkingEndTime = WorkingEndTime\n",
    "    \n",
    "class Task:\n",
    "    def  __init(self, TaskId, Latitude, Longitude, TaskDuration, Skill, Level, OpeningTime, ClosingTime):\n",
    "        self.TaskId = TaskId\n",
    "        self.Latitude = Latitude\n",
    "        self.Longitude = Longitude\n",
    "        self.Taskduration = TaskDuration\n",
    "        self.Skill = Skill\n",
    "        self.Level = Level\n",
    "        self.OpeningTime = OpeningTime\n",
    "        self.ClosingTime = ClosingTime\n",
    "\n",
    "employees = {}\n",
    "\n",
    "for i in range(m):\n",
    "    employees[data_employees[i][0]] = {cols[j] : data_employees[i][j] for j in range(1, n)}\n",
    "print(employees)"
   ]
  },
  {
   "cell_type": "code",
   "execution_count": null,
   "id": "42d9bdd2",
   "metadata": {},
   "outputs": [],
   "source": []
  },
  {
   "cell_type": "code",
   "execution_count": null,
   "id": "3ef6ce7b",
   "metadata": {},
   "outputs": [],
   "source": []
  },
  {
   "cell_type": "code",
   "execution_count": null,
   "id": "ff10c9ff",
   "metadata": {},
   "outputs": [],
   "source": []
  },
  {
   "cell_type": "code",
   "execution_count": null,
   "id": "bf2f771b",
   "metadata": {},
   "outputs": [],
   "source": []
  }
 ],
 "metadata": {
  "kernelspec": {
   "display_name": "Python 3 (ipykernel)",
   "language": "python",
   "name": "python3"
  },
  "language_info": {
   "codemirror_mode": {
    "name": "ipython",
    "version": 3
   },
   "file_extension": ".py",
   "mimetype": "text/x-python",
   "name": "python",
   "nbconvert_exporter": "python",
   "pygments_lexer": "ipython3",
   "version": "3.9.7"
  }
 },
 "nbformat": 4,
 "nbformat_minor": 5
}
