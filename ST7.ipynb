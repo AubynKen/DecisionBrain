{
 "cells": [
  {
   "cell_type": "markdown",
   "id": "ebcd1aa6",
   "metadata": {
    "pycharm": {
     "name": "#%% md\n"
    }
   },
   "source": [
    "# ST7 Planification quotidienne d’une équipe mobile"
   ]
  },
  {
   "cell_type": "code",
   "execution_count": 18,
   "id": "6a6236d7",
   "metadata": {},
   "outputs": [],
   "source": [
    "# Modules de base\n",
    "import numpy as np\n",
    "import matplotlib.pyplot as plt\n",
    "%matplotlib inline\n",
    "\n",
    "# Module relatif à Gurobi\n",
    "from gurobipy import *\n",
    "\n",
    "# Utilités\n",
    "from datetime import datetime\n",
    "from math import ceil\n",
    "import random as rd"
   ]
  },
  {
   "cell_type": "markdown",
   "id": "e2ddd5c9",
   "metadata": {
    "pycharm": {
     "name": "#%% md\n"
    }
   },
   "source": [
    "## Formulation du problème\n",
    "\n",
    "### Notation\n",
    "- $ V $ : Nombre de tâches + 1 qui correspond au dépôt (V pour vertex)\n",
    "- $ T $ : Nombre de techniciens\n",
    "- $ i, j \\in \\{0, ..., V - 1\\} $ : les indices des tâches\n",
    "- $ k \\in \\{0, ..., T - 1 \\} $ : les indices des techniciens\n",
    "- $ (opening_i)_i $ : l’ouverture des sites\n",
    "- $ (closing_i)_i $ : la fermeture des sites\n",
    "- $ (start_k)_k $ : le début de travail des employés\n",
    "- $ (end_k)_k $ : la fin de travail de chaque employé\n",
    "- $ (duration_i)_i $ : la durée de chaque tâche\n",
    "- $ (distance_{i, j}) $ : la distance entre les sites\n",
    "- $ speed $ : la vitesse de déplacement des techniciens\n",
    "- $ M $ : majorant pour notre problème\n",
    "\n",
    "\n",
    "\n",
    "### Variables de décisions\n",
    "- $ (x_{i, j})_{i, j} $, $ x_{i, j} = 1 $ ssi. (i, j) est un arc de i vers j\n",
    "- $ (y_{k, i})_{k, i} $, $ y_{k, i} = 1 $ ssi. le technicien k effectue la tâche i\n",
    "- $ (b_i)_i $, $B_i$ est le début de chaque tâche en minute (b pour beginning)\n",
    "- $ (t_k)_k $ vaut 1 si l'employé i est actif (avec une tâche assignée ou plus)\n",
    "\n",
    "\n",
    "### Objectif d’optimisation\n",
    "$$ min \\sum_{i, j = 0}^{V-1} x_{i, j} \\cdot distance_{i, j} $$\n",
    "\n",
    "\n",
    "### Contraintes\n",
    "- (C1) : Il y a autant de techniciens actifs que d'arcs sortants du dépôt\n",
    "$$ \\sum_{j = 1}^{V-1} x_{0, j} = \\sum_{k = 0}^{T-1} t_k $$\n",
    "\n",
    "- (C2) Il y a autant d’arcs sortant/entrant au dépôt que de techniciens actifs\n",
    "$$ \\sum_{k = 0}^{T-1} t_k = \\sum_{i = 1}^{V-1} x_{0, i} = \\sum_{i = 1}^{V-1} x_{i, 0} $$\n",
    "\n",
    "- (C3) Le site de chaque tâche est visité par exactement un technicien\n",
    "$$ \\forall i \\in \\{1,\\dots, V-1\\}, \\sum_{j = 1, j \\ne i}^{V-1} x_{i, j} = \\sum_{j = 1, j \\ne i}^{V-1} x_{j, i} = 1 $$\n",
    "\n",
    "- (C4) Deux tâches qui se suivent doivent être faites par le même technicien\n",
    "$$ \\forall i, j \\in \\{1,\\dots, V-1\\}, x_{i, j} \\implies \\forall k \\in \\{0,\\dots, T-1\\}, y_{k, i} = y_{k, j} \\\\\n",
    "\\Longleftrightarrow \\forall i, j \\in \\{1,\\dots, V-1\\}, \\forall k \\in \\{0,\\dots, T-1\\}, y_{k, i} \\le y_{k, j} + M \\cdot (1 - x_{i, j}) \\text{ et } y_{k, j} \\le y_{k, i} + M \\cdot (1 - x_{i, j}) $$\n",
    "\n",
    "- (C5) Lorsqu’un travail est effectué sur une tâche, la tâche doit être disponible.\n",
    "$$ \\forall i \\in \\{1,\\dots, V-1\\}, (b_i \\ge opening_i) \\land (b_i + duration_i \\le closing_i) $$\n",
    "\n",
    "- (C6) La fenêtre de temps entre deux travaux doit être suffisante pour le trajet\n",
    "$$ \\forall i, j \\in \\{1,\\dots, V-1\\}, x_{i, j} = 1 \\implies b_i + duration_i + \\frac{distance_{i, j}}{speed} \\le b_j \\\\\n",
    "\\Longleftrightarrow \\forall i, j \\in \\{1,\\dots, V-1\\}, b_i + duration_i + \\frac{distance_{i, j}}{speed} \\le b_j + M \\cdot (1-x_{i, j}) $$\n",
    "\n",
    "- (C7) Un technicien commence à l'heure\n",
    "$$ \\forall k \\in \\{0,\\dots, T-1\\}, \\forall i \\in \\{1,\\dots, V-1\\}, y_{k, i} \\land x_{0, i} \\implies start_k \\le b_i \\\\\n",
    "\\Longleftrightarrow \\forall k \\in \\{0,\\dots, T-1\\}, \\forall i \\in \\{1,\\dots, V-1\\}, start_k \\le b_i + (2 - y_{k, i} - x_{0, i}) \\cdot M $$\n",
    "\n",
    "- (C8) Un technicien doit avoir suffisamment de temps pour rentrer au dépot après sa dernière tâche\n",
    "$$ \\forall k \\in \\{0,\\dots, T-1\\}, \\forall i \\in \\{1,\\dots, V-1\\}, y_{k, i} \\land x_{i, 0} \\implies b_i + duration_i \\le end_k \\\\\n",
    "\\Longleftrightarrow \\forall k \\in \\{0,\\dots, T-1\\}, \\forall i \\in \\{1,\\dots, V-1\\}, b_i + duration_i \\le end_k + (2 - y_{k, i} - x_{i, 0}) \\cdot M $$\n",
    "\n",
    "- (C9) Un technicien n’effectue que des tâches qu’il est capable d’effectuer\n",
    "$$ \\forall k \\in \\{0,\\dots, T-1\\}, \\forall i \\in \\{1,\\dots, V-1\\}, levelTech_k \\ge levelTask_i - M \\cdot (1 - y_{k, i}) $$\n",
    "\n",
    "- (C10) Une tâche est réalisée par un seul employé\n",
    "$$ \\forall i \\in \\{1,\\dots, V-1\\}, \\sum_{k=0}^{T-1} y_{k, i} = 1 $$\n",
    "\n"
   ]
  },
  {
   "cell_type": "code",
   "execution_count": 19,
   "id": "88651692",
   "metadata": {
    "pycharm": {
     "name": "#%%\n"
    }
   },
   "outputs": [],
   "source": [
    "import pandas as pd\n",
    "import numpy as np\n",
    "from datetime import datetime\n",
    "from math import radians, cos, sin, asin, sqrt\n",
    "from utilities import parse_time_minute, parse_time\n",
    "\n",
    "\n",
    "class Employee:\n",
    "    list = []  # initialized to empty list\n",
    "    count = 0\n",
    "    speed = 50 * 1000 / 60  # unit: meter/minute\n",
    "\n",
    "    def __init__(self, name: str, latitude: float, longitude: float, skill: str, level: int, start_time, end_time):\n",
    "        self.name = name\n",
    "        self.latitude = latitude\n",
    "        self.longitude = longitude\n",
    "        self.skill = skill\n",
    "        self.level = level\n",
    "        self.start_time_str = parse_time(start_time)  # parse time into datetime object for printing\n",
    "        self.end_time_str = parse_time(end_time)\n",
    "        self.start_time = parse_time_minute(start_time)  # parse time into minutes\n",
    "        self.end_time = parse_time_minute(end_time)\n",
    "        Employee.count += 1\n",
    "        Employee.list.append(self)\n",
    "\n",
    "    @classmethod\n",
    "    def load_excel(cls, path):\n",
    "        df_employees = pd.read_excel(path, sheet_name=\"Employees\")\n",
    "        df_employees.set_index(\"EmployeeName\")\n",
    "\n",
    "        for index, row in df_employees.iterrows():\n",
    "            Employee(row[\"EmployeeName\"],\n",
    "                     row[\"Latitude\"],\n",
    "                     row[\"Longitude\"],\n",
    "                     row[\"Skill\"],\n",
    "                     row[\"Level\"],\n",
    "                     row[\"WorkingStartTime\"],\n",
    "                     row[\"WorkingEndTime\"])\n",
    "\n",
    "    def __hash__(self):\n",
    "        return hash(self.name)\n",
    "\n",
    "    def __eq__(self, other):\n",
    "        return self.name == other.name\n",
    "\n",
    "    def __str__(self):\n",
    "        return self.name\n",
    "\n",
    "    def __repr__(self):\n",
    "        return f\"Employee(name={self.name}, \" \\\n",
    "               f\"position=[{self.longitude}, {self.latitude}], \" \\\n",
    "               f\"skill_requirement=level {self.level} {self.skill},\" \\\n",
    "               f\"available=[{self.start_time_str.strftime('%I:%M%p')}, {self.end_time_str.strftime('%I:%M%p')}] )\"\n",
    "\n",
    "\n",
    "class Task:\n",
    "    list = []\n",
    "    count = 0\n",
    "    distance: np.array = None\n",
    "    __is_initialized = False\n",
    "\n",
    "    def __init__(self, task_id, latitude, longitude, duration, skill, level, opening_time, closing_time):\n",
    "        if Task.__is_initialized:\n",
    "            raise Exception(\"Cannot instantiate new task after initializing the distance matrix\")\n",
    "        self.id = task_id\n",
    "        self.latitude = latitude\n",
    "        self.longitude = longitude\n",
    "        self.duration = duration\n",
    "        self.skill = skill\n",
    "        self.level = level\n",
    "        self.opening_time_str = parse_time(opening_time)\n",
    "        self.closing_time_str = parse_time(closing_time)\n",
    "        self.opening_time = parse_time_minute(opening_time)\n",
    "        self.closing_time = parse_time_minute(closing_time)\n",
    "\n",
    "        Task.list.append(self)\n",
    "        Task.count += 1\n",
    "\n",
    "    @classmethod\n",
    "    def load_excel(cls, path, initialize_distance=False, load_depot=False):\n",
    "\n",
    "        # create a dummy task at position 0 for depot\n",
    "        if load_depot:\n",
    "            df_employees = pd.read_excel(path, sheet_name=\"Employees\")\n",
    "            depot_longitude = df_employees.iloc[0][\"Longitude\"]\n",
    "            depot_latitude = df_employees.iloc[0][\"Latitude\"]\n",
    "            Task(\"T0\", depot_latitude, depot_longitude, 0, None, 0, None, None)\n",
    "\n",
    "        df = pd.read_excel(path, sheet_name=\"Tasks\")\n",
    "        df.set_index(\"TaskId\")\n",
    "\n",
    "        for index, row in df.iterrows():\n",
    "            # parse the start time and end time into datetime object\n",
    "            opening_time = datetime.strptime(row[\"OpeningTime\"], '%I:%M%p')\n",
    "            closing_time = datetime.strptime(row[\"ClosingTime\"], '%I:%M%p')\n",
    "\n",
    "            Task(row[\"TaskId\"],\n",
    "                 row[\"Latitude\"],\n",
    "                 row[\"Longitude\"],\n",
    "                 row[\"TaskDuration\"],\n",
    "                 row[\"Skill\"],\n",
    "                 row[\"Level\"],\n",
    "                 opening_time,\n",
    "                 closing_time)\n",
    "\n",
    "        if initialize_distance:\n",
    "            cls.initialize_distance()\n",
    "\n",
    "    @staticmethod\n",
    "    def calculate_distance(task1, task2):\n",
    "        lon1, lat1 = radians(task1.longitude), radians(task1.latitude)\n",
    "        lon2, lat2 = radians(task2.longitude), radians(task2.latitude)\n",
    "\n",
    "        # Haversine formula\n",
    "        dlon = lon2 - lon1\n",
    "        dlat = lat2 - lat1\n",
    "        a = sin(dlat / 2) ** 2 + cos(lat1) * cos(lat2) * sin(dlon / 2) ** 2\n",
    "        c = 2 * asin(sqrt(a))\n",
    "        r = 6371 * 1000  # radius of earth\n",
    "        return c * r\n",
    "\n",
    "    @classmethod\n",
    "    def initialize_distance(cls):\n",
    "        if cls.__is_initialized:\n",
    "            raise Exception(\"Distance has already been initialized\")\n",
    "        cls.__is_initialized = True\n",
    "        cls.distance = np.zeros((cls.count, cls.count), dtype=np.float64)\n",
    "\n",
    "        for i in range(cls.count):\n",
    "            for j in range(i):\n",
    "                task_i, task_j = cls.list[i], cls.list[j]\n",
    "                cls.distance[i, j] = cls.distance[j, i] = cls.calculate_distance(task_i, task_j)\n",
    "\n",
    "    def __hash__(self):\n",
    "        return hash(self.id)\n",
    "\n",
    "    def __eq__(self, other):\n",
    "        return self.id == other.id\n",
    "\n",
    "    def __repr__(self):\n",
    "        return f\"Task(id={self.id}, \" \\\n",
    "               f\"position=[{self.longitude}, {self.latitude}], \" \\\n",
    "               f\"duration={self.duration}, \" \\\n",
    "               f\"skill_requirement=level {self.level} {self.skill},\" \\\n",
    "               f\"opening_time=[{self.opening_time_str.strftime('%I:%M%p')} to {self.closing_time_str.strftime('%I:%M%p')}]\"\n"
   ]
  },
  {
   "cell_type": "code",
   "execution_count": 20,
   "id": "9240baa4",
   "metadata": {
    "pycharm": {
     "name": "#%%\n"
    }
   },
   "outputs": [],
   "source": [
    "from file_paths import path_bordeaux"
   ]
  },
  {
   "cell_type": "code",
   "execution_count": 21,
   "id": "18ecc7a4",
   "metadata": {
    "pycharm": {
     "name": "#%%\n"
    },
    "scrolled": true
   },
   "outputs": [],
   "source": [
    "# reading dataframe into python objects\n",
    "Employee.load_excel(path_bordeaux)\n",
    "Task.load_excel(path_bordeaux, initialize_distance=True, load_depot=True)"
   ]
  },
  {
   "cell_type": "code",
   "execution_count": 22,
   "id": "ff10c9ff",
   "metadata": {},
   "outputs": [],
   "source": [
    "V = len(Employee.list)\n",
    "T = len(Task.list)"
   ]
  },
  {
   "cell_type": "code",
   "execution_count": 23,
   "id": "2b13c232",
   "metadata": {
    "pycharm": {
     "name": "#%%\n"
    }
   },
   "outputs": [
    {
     "data": {
      "text/plain": [
       "Task(id=T1, position=[-0.31939224223757195, 44.55654938342008], duration=60, skill_requirement=level 1 Oenology,opening_time=[08:00AM to 06:00PM]"
      ]
     },
     "execution_count": 23,
     "metadata": {},
     "output_type": "execute_result"
    }
   ],
   "source": [
    "# test on Task object\n",
    "Task.list[1]"
   ]
  },
  {
   "cell_type": "code",
   "execution_count": 24,
   "id": "3ddf3e24",
   "metadata": {
    "pycharm": {
     "name": "#%%\n"
    }
   },
   "outputs": [
    {
     "data": {
      "text/plain": [
       "(11, 2)"
      ]
     },
     "execution_count": 24,
     "metadata": {},
     "output_type": "execute_result"
    }
   ],
   "source": [
    "V = Task.count\n",
    "T = Employee.count\n",
    "(V, T)"
   ]
  },
  {
   "cell_type": "code",
   "execution_count": 25,
   "id": "e827563e",
   "metadata": {},
   "outputs": [],
   "source": [
    "opening_time = np.array([Task.list[i].opening_time for i in range(V)])\n",
    "closing_time = np.array([Task.list[i].closing_time for i in range(V)])\n",
    "duration = np.array([Task.list[i].duration for i in range(V)])\n",
    "\n",
    "M = 1000000"
   ]
  },
  {
   "cell_type": "code",
   "execution_count": 26,
   "id": "7113eb6d",
   "metadata": {
    "pycharm": {
     "name": "#%%\n"
    },
    "scrolled": true
   },
   "outputs": [],
   "source": [
    "m = Model(\"DB\")\n",
    "\n",
    "X = {(i, j) : m.addVar(vtype = GRB.BINARY, name = f'x{i}_{j}') for i in range(V) for j in range(V) if i != j}\n",
    "Y = {(k, i) : m.addVar(vtype = GRB.BINARY, name = f'y{k}_{i}') for k in range(T) for i in range(V)}\n",
    "B = {i : m.addVar(vtype = GRB.CONTINUOUS, name = f'b{i}', lb = 0) for i in range(V)}\n",
    "t = {k : m.addVar(vtype = GRB.BINARY, name = f'k{k}') for k in range(T)}\n",
    "\n",
    "# C1\n",
    "for k in range(T):\n",
    "    m.addConstr(t[k] <= quicksum([Y[(k,i)] for i in range(1,V)]))\n",
    "    for i in range(1,V):\n",
    "        m.addConstr(t[k] >= Y[(k,i)])\n",
    "    \n",
    "m.addConstr(quicksum([X[(0,j)] for j in range(1,V)])  == quicksum([t[k] for k in range(T)]))\n",
    "\n",
    "# C2\n",
    "for i in range(1,V):\n",
    "    m.addConstr(quicksum([X[(i,j)] for j in range(V) if i != j]) == quicksum([X[(j,i)] for j in range(V) if i != j]))\n",
    "    \n",
    "# C3\n",
    "for i in range(1,V):\n",
    "    m.addConstr(quicksum([X[(i,j)] for j in range(V) if i != j]) == 1)\n",
    "                      \n",
    "# C4\n",
    "C4  = {(i,j,k) : m.addConstr(Y[(k,i)] <= Y[(k,j)] + M*(1-X[(i,j)])) for i in range(1,V) for j in range(1,V) for k in range(T) if i != j}\n",
    "C4b = {(i,j,k) : m.addConstr(Y[(k,i)] >= Y[(k,j)] - M*(1-X[(i,j)])) for i in range(1,V) for j in range(1,V) for k in range(T) if i != j}\n",
    "\n",
    "# C5\n",
    "C5o = dict()\n",
    "C5c = dict()\n",
    "for i in range(1,V):\n",
    "    C5o[i] = m.addConstr(B[i] >= opening_time[i])\n",
    "    C5c[i] = m.addConstr(duration[i] + B[i] <= closing_time[i])\n",
    "\n",
    "# C6\n",
    "C6 = {(i,j) : m.addConstr(B[i] + duration[i] + ceil(Task.distance[i,j]/Employee.speed) <= B[j] + M * (1-X[(i,j)]) ) for i in range(1,V) for j in range(1,V) if i != j}\n",
    "\n",
    "# C7\n",
    "C7 = {(k,i) : m.addConstr(Employee.list[k].start_time - (2 - Y[(k,i)] - X[(0,i)]) * M <= B[i]) for k in range(T) for i in range(1,V)}\n",
    "\n",
    "# C8\n",
    "C8 = {(k,i) : m.addConstr(B[i] + duration[i] <= Employee.list[k].end_time + M*(2-Y[(k,i)]-X[(i,0)])) for k in range(T) for i in range(1,V)}\n",
    "\n",
    "# C9\n",
    "C9 = {(k,i) : m.addConstr(Employee.list[k].level >= Task.list[i].level - M * (1 - Y[(k,i)]))  for k in range(T) for i in range(1,V)}\n",
    "\n",
    "# C10\n",
    "C10 = {i : m.addConstr(quicksum([Y[(k,i)] for k in range(T)]) == 1) for i in range(1,V)}"
   ]
  },
  {
   "cell_type": "code",
   "execution_count": 27,
   "id": "44d46387",
   "metadata": {
    "pycharm": {
     "name": "#%%\n"
    }
   },
   "outputs": [],
   "source": [
    "obj = quicksum([X[(i,j)]*Task.distance[i,j] for i in range(V) for j in range(V) if i != j])\n",
    "m.setObjective(obj, GRB.MINIMIZE)"
   ]
  },
  {
   "cell_type": "code",
   "execution_count": 28,
   "id": "4d95da51",
   "metadata": {},
   "outputs": [],
   "source": [
    "m.params.outputflag = 0\n",
    "\n",
    "m.update()\n",
    "\n",
    "m.optimize()"
   ]
  },
  {
   "cell_type": "code",
   "execution_count": 29,
   "id": "2dbdb2db",
   "metadata": {},
   "outputs": [],
   "source": [
    "assert m.status != GRB.INFEASIBLE"
   ]
  },
  {
   "cell_type": "code",
   "execution_count": 30,
   "id": "882eeb2e",
   "metadata": {
    "scrolled": true
   },
   "outputs": [
    {
     "name": "stdout",
     "output_type": "stream",
     "text": [
      "Techniciens actifs : [0, 1]\n",
      "Y_0 : [3, 4, 5, 6, 7, 9]\n",
      "Y_1 : [1, 2, 8, 10]\n",
      "\n",
      "[(0, 5), (0, 10)]\n",
      "[(1, 2)]\n",
      "[(2, 0)]\n",
      "[(3, 6)]\n",
      "[(4, 7)]\n",
      "[(5, 3)]\n",
      "[(6, 4)]\n",
      "[(7, 9)]\n",
      "[(8, 1)]\n",
      "[(9, 0)]\n",
      "[(10, 8)]\n",
      "\n",
      "['B_0 : 0.0', 'B_1 : 685.9999999999989', 'B_2 : 807.999999999998', 'B_3 : 555.0', 'B_4 : 692.9999999999977', 'B_5 : 480.0', 'B_6 : 622.9999999999977', 'B_7 : 778.9999999999977', 'B_8 : 548.0', 'B_9 : 1020.0', 'B_10 : 480.0']\n"
     ]
    }
   ],
   "source": [
    "print(\"Techniciens actifs : {}\".format([k for k in range(T) if t[k].x == 1]))\n",
    "\n",
    "for k in range(T):\n",
    "    print(\"Y_{} : {}\".format(k,[i for i in range(1,V) if Y[(k,i)].x == 1]))\n",
    "print()\n",
    "for i in range(V):\n",
    "    print([(i,j) for j in range(V) if i != j and X[(i,j)].x == 1])\n",
    "print()\n",
    "print([\"B_{} : {}\".format(i,B[i].x) for i in range(V)])"
   ]
  },
  {
   "cell_type": "code",
   "execution_count": 31,
   "id": "4af8063a",
   "metadata": {},
   "outputs": [],
   "source": [
    "# Z associe un indice de tâche à l'employé qui l'effectue\n",
    "Z = {}\n",
    "for i in range(V):\n",
    "    for k in range(T):\n",
    "        if Y[(k,i)].x == 1:\n",
    "            Z[i] = k"
   ]
  },
  {
   "cell_type": "code",
   "execution_count": 32,
   "id": "8b7352d5",
   "metadata": {},
   "outputs": [],
   "source": [
    "file = open(\"Results\\SolutionBordeauxV1ByV1.txt\",\"w\")\n",
    "file.write(\"taskId;performed;employeeName;startTime; \\n\")\n",
    "for i in range(1,V):\n",
    "    file.write(f\"T{i};1;{Employee.list[Z[i]].name};{B[i].x};\\n\")\n",
    "file.write(\"\\n\")\n",
    "file.write(\"employeeName;lunchBreakStartTime;\\n\")\n",
    "for k in range(T):\n",
    "    file.write(f\"{Employee.list[k].name};0;\\n\")\n",
    "file.close()"
   ]
  },
  {
   "cell_type": "code",
   "execution_count": 33,
   "id": "7b3efc71",
   "metadata": {},
   "outputs": [
    {
     "data": {
      "text/plain": [
       "127.79477073284689"
      ]
     },
     "execution_count": 33,
     "metadata": {},
     "output_type": "execute_result"
    }
   ],
   "source": [
    "max([Task.distance[i,j] for i in range(V) for j in range(V)])/Employee.speed"
   ]
  },
  {
   "cell_type": "code",
   "execution_count": 34,
   "id": "28c9cd34",
   "metadata": {},
   "outputs": [
    {
     "data": {
      "image/png": "[encoded data removed]",
      "text/plain": [
       "<Figure size 432x288 with 1 Axes>"
      ]
     },
     "metadata": {
      "needs_background": "light"
     },
     "output_type": "display_data"
    }
   ],
   "source": [
    "n_task = V\n",
    "\n",
    "task_pos =[[Employee.list[0].longitude, Employee.list[0].latitude]]\n",
    "plt.scatter([Employee.list[0].longitude], [Employee.list[0].latitude], label=\"Dépôt\", c=\"black\")\n",
    "for j in range(1,n_task):\n",
    "    task_pos.append([Task.list[j].longitude, Task.list[j].latitude])\n",
    "    plt.scatter([Task.list[j].longitude], [Task.list[j].latitude], label=f\"Tâche {j}\")\n",
    "\n",
    "number_of_colors = 8\n",
    "\n",
    "color = [\"#\"+''.join([rd.choice('0123456789ABCDEF') for j in range(6)])\n",
    "             for i in range(number_of_colors)]\n",
    "\n",
    "\n",
    "for i in range(n_task):\n",
    "    for j in range(n_task):\n",
    "        if i != j and X[(i,j)].x == 1:\n",
    "            if i == 0:\n",
    "                plt.plot([task_pos[i][0],task_pos[j][0]], [task_pos[i][1],task_pos[j][1]], c=color[Z[j]], label=f\"{Employee.list[Z[j]].name}\")\n",
    "            else :\n",
    "                plt.plot([task_pos[i][0],task_pos[j][0]], [task_pos[i][1],task_pos[j][1]], c=color[Z[i]])\n",
    "\n",
    "plt.legend()\n",
    "plt.show()\n",
    "\n"
   ]
  }
 ],
 "metadata": {
  "kernelspec": {
   "display_name": "Python 3 (ipykernel)",
   "language": "python",
   "name": "python3"
  },
  "language_info": {
   "codemirror_mode": {
    "name": "ipython",
    "version": 3
   },
   "file_extension": ".py",
   "mimetype": "text/x-python",
   "name": "python",
   "nbconvert_exporter": "python",
   "pygments_lexer": "ipython3",
   "version": "3.8.5"
  }
 },
 "nbformat": 4,
 "nbformat_minor": 5
}
