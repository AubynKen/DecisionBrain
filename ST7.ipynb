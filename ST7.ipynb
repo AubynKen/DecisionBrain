{
 "cells": [
  {
   "cell_type": "markdown",
   "id": "ebcd1aa6",
   "metadata": {
    "pycharm": {
     "name": "#%% md\n"
    }
   },
   "source": [
    "# ST7 Planification quotidienne d’une équipe mobile"
   ]
  },
  {
   "cell_type": "code",
   "execution_count": 204,
   "id": "6a6236d7",
   "metadata": {},
   "outputs": [],
   "source": [
    "# Modules de base\n",
    "import numpy as np\n",
    "import matplotlib.pyplot as plt\n",
    "%matplotlib inline\n",
    "\n",
    "# Module relatif à Gurobi\n",
    "from gurobipy import *\n",
    "\n",
    "# Utilités\n",
    "from datetime import datetime"
   ]
  },
  {
   "cell_type": "markdown",
   "id": "e2ddd5c9",
   "metadata": {
    "pycharm": {
     "name": "#%% md\n"
    }
   },
   "source": [
    "## Formulation du problème\n",
    "\n",
    "### Notation\n",
    "- $ V $ : Nombre de tâches + 1 (V pour vertex)\n",
    "- $ T $ : Nombre de techniciens\n",
    "- $ i, j \\in \\{0, ..., V - 1\\} $ : les indices des tâches\n",
    "- $ k \\in \\{0, ..., T - 1 \\} $ : les indices des techniciens\n",
    "- $ (opening_i)_i $ : l’ouverture des sites\n",
    "- $ (closing_i)_i $ : la fermeture des sites\n",
    "- $ (start_k)_k $ : le début de travail des employés\n",
    "- $ (end_k)_k $ : la fin de travail de chaque employé\n",
    "- $ (duration_i)_i $ : la durée de chaque tâche\n",
    "- $ (distance_{i, j}) $ : la distance entre les sites\n",
    "- $ speed $ : la vitesse de déplacement des techniciens\n",
    "- $ M $ : majorant pour notre problème\n",
    "\n",
    "\n",
    "\n",
    "### Variables de décisions\n",
    "- $ \\tilde{T} $ : Le nombre de techniciens actifs (avec une tâche ou plus)\n",
    "- $ (x_{i, j})_{i, j} $, $ x_{i, j} = 1 $ ssi. (i, j) est un arc de i vers j\n",
    "- $ (y_{k, i})_{k, i} $, $ y_{k, i} = 1 $ ssi. le technicien k effectue la tâche i\n",
    "- $ (b_i)_i $, $B_i$ est le début de chaque tâche en minute (b pour beginning)\n",
    "\n",
    "\n",
    "### Objectif d’optimisation\n",
    "$$ min \\sum_{i, j} x_{i, j} \\cdot distance_{i, j} $$\n",
    "\n",
    "\n",
    "### Contraintes\n",
    "- (C1) : Il n’y a qu’une seule composante connexe dans le graphe des parcours\n",
    "$$ \\sum_{i, j} x_{i, j} = \\tilde{T} + (V - 1) $$\n",
    "- (C2) Il y a autant d’arcs sortant/entrant au dépôt que de techniciens actifs\n",
    "$$ \\tilde{T} = \\sum_i x_{0, i} = \\sum_i x_{i, 0}$$\n",
    "- (C3) Le site de chaque tâche est visité par exactement un technicien\n",
    "$$ \\forall i > 0, \\sum_j x_{i, j} = \\sum_j x_{j, i} = 1 $$\n",
    "- (C4) Deux tâches qui se suivent doivent être faites par le même technicien\n",
    "$$ \\forall i, j > 0, x_{i, j} \\implies \\forall k, y_{k, i} = y_{k, j} \\\\\n",
    "\\Longleftrightarrow \\forall i, j > 0, \\forall k, y_{k, i} \\le y_{k, j} + M \\cdot (1 - x_{i, j}) \\text{ et } y_{k, j} \\le y_{k, i} + M \\cdot (1 - x_{i, j}) $$\n",
    "- (C5) Lorsqu’un travail est effectué sur une tâche, la tâche doit être disponible.\n",
    "$$ \\forall i > 0, (b_i \\ge opening_i) \\land (b_i + duration_i \\le closing_i) $$\n",
    "- (C6) La fenêtre de temps entre deux travaux doit être suffisante pour le trajet\n",
    "$$ \\forall i, j > 0, x_{i, j} = 1 \\implies b_i + duration_i + \\frac{distance_{i, j}}{speed} \\le b_j \\\\\n",
    "\\Longleftrightarrow \\forall i, j > 0, b_i + duration_i + \\frac{distance_{i, j}}{speed} \\le b_j + M \\cdot (1-x_{i, j}) $$\n",
    "- (C7) Un technicien doit avoir suffisamment de temps pour aller à son premier site\n",
    "$$ \\forall k, \\forall i > 0, y_{k, i} \\land x_{0, i} \\implies start_k + \\frac{distance_{0, i}}{speed} \\le b_i \\\\\n",
    "\\Longleftrightarrow \\forall k, \\forall i > 0, start_k + \\frac{distance_{0, i}}{speed} \\le b_i + (2 - y_{k, i} - x_{0, i}) \\cdot M $$\n",
    "- (C8) Un technicien doit avoir suffisamment de temps pour rentrer au dépot après sa dernière tâche\n",
    "$$ \\forall k, \\forall i > 0, y_{k, i} \\land x_{i, 0} \\implies b_i + duration_i + \\frac{distance_{i, 0}}{speed} \\le end_k \\\\\n",
    "\\Longleftrightarrow \\forall k, \\forall i > 0, b_i + duration_i + \\frac{distance_{i, 0}}{speed} \\le end_k + (2 - y_{k, i} - x_{i, 0}) \\cdot M $$\n",
    "- (C9) Un technicien n’effectue que des tâches qu’il est capable d’effectuer\n",
    "$$ \\forall k, \\forall i > 0, levelTech_k \\ge levelTask_i - M \\cdot (1 - y_{k, i}) $$\n",
    "- (C10) Une tâche est réalisée par un seul employé\n",
    "$$ \\forall i > 0, \\sum_k y_{k, i} = 1 $$\n",
    "\n"
   ]
  },
  {
   "cell_type": "markdown",
   "id": "c24cd617",
   "metadata": {
    "pycharm": {
     "name": "#%% md\n"
    }
   },
   "source": [
    "## Variables de décisions\n",
    "$ X \\in R_{V + 1 \\times V + 1}$"
   ]
  },
  {
   "cell_type": "code",
   "execution_count": 205,
   "id": "88651692",
   "metadata": {
    "pycharm": {
     "name": "#%%\n"
    }
   },
   "outputs": [],
   "source": [
    "import pandas as pd\n",
    "import numpy as np\n",
    "from datetime import datetime\n",
    "from math import radians, cos, sin, asin, sqrt\n",
    "from utilities import parse_time_minute, parse_time\n",
    "\n",
    "\n",
    "class Employee:\n",
    "    list = []  # initialized to empty list\n",
    "    count = 0\n",
    "    speed = 50 * 1000 / 60  # unit: meter/minute\n",
    "\n",
    "    def __init__(self, name: str, latitude: float, longitude: float, skill: str, level: int, start_time, end_time):\n",
    "        self.name = name\n",
    "        self.latitude = latitude\n",
    "        self.longitude = longitude\n",
    "        self.skill = skill\n",
    "        self.level = level\n",
    "        self.start_time_str = parse_time(start_time)  # parse time into datetime object for printing\n",
    "        self.end_time_str = parse_time(end_time)\n",
    "        self.start_time = parse_time_minute(start_time)  # parse time into minutes\n",
    "        self.end_time = parse_time_minute(end_time)\n",
    "        Employee.count += 1\n",
    "        Employee.list.append(self)\n",
    "\n",
    "    @classmethod\n",
    "    def load_excel(cls, path):\n",
    "        df_employees = pd.read_excel(path, sheet_name=\"Employees\")\n",
    "        df_employees.set_index(\"EmployeeName\")\n",
    "\n",
    "        for index, row in df_employees.iterrows():\n",
    "            Employee(row[\"EmployeeName\"],\n",
    "                     row[\"Latitude\"],\n",
    "                     row[\"Longitude\"],\n",
    "                     row[\"Skill\"],\n",
    "                     row[\"Level\"],\n",
    "                     row[\"WorkingStartTime\"],\n",
    "                     row[\"WorkingEndTime\"])\n",
    "\n",
    "    def __hash__(self):\n",
    "        return hash(self.name)\n",
    "\n",
    "    def __eq__(self, other):\n",
    "        return self.name == other.name\n",
    "\n",
    "    def __str__(self):\n",
    "        return self.name\n",
    "\n",
    "    def __repr__(self):\n",
    "        return f\"Employee(name={self.name}, \" \\\n",
    "               f\"position=[{self.longitude}, {self.latitude}], \" \\\n",
    "               f\"skill_requirement=level {self.level} {self.skill},\" \\\n",
    "               f\"available=[{self.start_time_str.strftime('%I:%M%p')}, {self.end_time_str.strftime('%I:%M%p')}] )\"\n",
    "\n",
    "\n",
    "class Task:\n",
    "    list = []\n",
    "    count = 0\n",
    "    distance: np.array = None\n",
    "    __is_initialized = False\n",
    "\n",
    "    def __init__(self, task_id, latitude, longitude, duration, skill, level, opening_time, closing_time):\n",
    "        if Task.__is_initialized:\n",
    "            raise Exception(\"Cannot instantiate new task after initializing the distance matrix\")\n",
    "        self.id = task_id\n",
    "        self.latitude = latitude\n",
    "        self.longitude = longitude\n",
    "        self.duration = duration\n",
    "        self.skill = skill\n",
    "        self.level = level\n",
    "        self.opening_time_str = parse_time(opening_time)\n",
    "        self.closing_time_str = parse_time(closing_time)\n",
    "        self.opening_time = parse_time_minute(opening_time)\n",
    "        self.closing_time = parse_time_minute(closing_time)\n",
    "\n",
    "        Task.list.append(self)\n",
    "        Task.count += 1\n",
    "\n",
    "    @classmethod\n",
    "    def load_excel(cls, path, initialize_distance=False, load_depot=False):\n",
    "\n",
    "        # create a dummy task at position 0 for depot\n",
    "        if load_depot:\n",
    "            df_employees = pd.read_excel(path, sheet_name=\"Employees\")\n",
    "            depot_longitude = df_employees.iloc[0][\"Longitude\"]\n",
    "            depot_latitude = df_employees.iloc[0][\"Latitude\"]\n",
    "            Task(\"T0\", depot_latitude, depot_longitude, 0, None, 0, None, None)\n",
    "\n",
    "        df = pd.read_excel(path, sheet_name=\"Tasks\")\n",
    "        df.set_index(\"TaskId\")\n",
    "\n",
    "        for index, row in df.iterrows():\n",
    "            # parse the start time and end time into datetime object\n",
    "            opening_time = datetime.strptime(row[\"OpeningTime\"], '%I:%M%p')\n",
    "            closing_time = datetime.strptime(row[\"ClosingTime\"], '%I:%M%p')\n",
    "\n",
    "            Task(row[\"TaskId\"],\n",
    "                 row[\"Latitude\"],\n",
    "                 row[\"Longitude\"],\n",
    "                 row[\"TaskDuration\"],\n",
    "                 row[\"Skill\"],\n",
    "                 row[\"Level\"],\n",
    "                 opening_time,\n",
    "                 closing_time)\n",
    "\n",
    "        if initialize_distance:\n",
    "            cls.initialize_distance()\n",
    "\n",
    "    @staticmethod\n",
    "    def calculate_distance(task1, task2):\n",
    "        lon1, lat1 = radians(task1.longitude), radians(task1.latitude)\n",
    "        lon2, lat2 = radians(task2.longitude), radians(task2.latitude)\n",
    "\n",
    "        # Haversine formula\n",
    "        dlon = lon2 - lon1\n",
    "        dlat = lat2 - lat1\n",
    "        a = sin(dlat / 2) ** 2 + cos(lat1) * cos(lat2) * sin(dlon / 2) ** 2\n",
    "        c = 2 * asin(sqrt(a))\n",
    "        r = 6371 * 1000  # radius of earth\n",
    "        return c * r\n",
    "\n",
    "    @classmethod\n",
    "    def initialize_distance(cls):\n",
    "        if cls.__is_initialized:\n",
    "            raise Exception(\"Distance has already been initialized\")\n",
    "        cls.__is_initialized = True\n",
    "        cls.distance = np.zeros((cls.count, cls.count), dtype=np.float64)\n",
    "\n",
    "        for i in range(cls.count):\n",
    "            for j in range(i):\n",
    "                task_i, task_j = cls.list[i], cls.list[j]\n",
    "                cls.distance[i, j] = cls.distance[j, i] = cls.calculate_distance(task_i, task_j)\n",
    "\n",
    "    def __hash__(self):\n",
    "        return hash(self.id)\n",
    "\n",
    "    def __eq__(self, other):\n",
    "        return self.id == other.id\n",
    "\n",
    "    def __repr__(self):\n",
    "        return f\"Task(id={self.id}, \" \\\n",
    "               f\"position=[{self.longitude}, {self.latitude}], \" \\\n",
    "               f\"duration={self.duration}, \" \\\n",
    "               f\"skill_requirement=level {self.level} {self.skill},\" \\\n",
    "               f\"opening_time=[{self.opening_time_str.strftime('%I:%M%p')} to {self.closing_time_str.strftime('%I:%M%p')}]\"\n"
   ]
  },
  {
   "cell_type": "code",
   "execution_count": 206,
   "id": "9240baa4",
   "metadata": {
    "pycharm": {
     "name": "#%%\n"
    }
   },
   "outputs": [],
   "source": [
    "from file_paths import path_poland"
   ]
  },
  {
   "cell_type": "code",
   "execution_count": 207,
   "id": "18ecc7a4",
   "metadata": {
    "pycharm": {
     "name": "#%%\n"
    },
    "scrolled": true
   },
   "outputs": [],
   "source": [
    "# reading dataframe into python objects\n",
    "Employee.load_excel(path_poland)\n",
    "Task.load_excel(path_poland, initialize_distance=True, load_depot=True)"
   ]
  },
  {
   "cell_type": "code",
   "execution_count": 208,
   "id": "ff10c9ff",
   "metadata": {},
   "outputs": [],
   "source": [
    "V = len(Employee.list)\n",
    "T = len(Task.list)"
   ]
  },
  {
   "cell_type": "code",
   "execution_count": 209,
   "id": "2b13c232",
   "metadata": {
    "pycharm": {
     "name": "#%%\n"
    }
   },
   "outputs": [
    {
     "data": {
      "text/plain": [
       "Task(id=T1, position=[20.7550215, 53.1790933], duration=40, skill_requirement=level 1 Plumbing,opening_time=[08:00AM to 06:00PM]"
      ]
     },
     "execution_count": 209,
     "metadata": {},
     "output_type": "execute_result"
    }
   ],
   "source": [
    "# test on Task object\n",
    "Task.list[1]"
   ]
  },
  {
   "cell_type": "code",
   "execution_count": 210,
   "id": "3ddf3e24",
   "metadata": {
    "pycharm": {
     "name": "#%%\n"
    }
   },
   "outputs": [
    {
     "data": {
      "text/plain": [
       "(20, 2)"
      ]
     },
     "execution_count": 210,
     "metadata": {},
     "output_type": "execute_result"
    }
   ],
   "source": [
    "V = Task.count\n",
    "T = Employee.count\n",
    "(V, T)"
   ]
  },
  {
   "cell_type": "code",
   "execution_count": 211,
   "id": "267753ac",
   "metadata": {
    "pycharm": {
     "name": "#%%\n"
    }
   },
   "outputs": [
    {
     "data": {
      "text/plain": [
       "array([[    0.        , 11605.61541694, 11756.29885797,  9837.2159456 ,\n",
       "         2175.49196108, 10204.33740237, 11833.79772603, 10827.46496729,\n",
       "         6017.52604523, 10802.62297406,  2320.89965818,  5978.96381555,\n",
       "         3758.14112074,  9597.97985203,  8166.00317165, 46054.43802711,\n",
       "         4542.68593805,  1571.81285196,   238.259962  , 14244.52901484],\n",
       "       [11605.61541694,     0.        ,   225.25707154, 18020.89529351,\n",
       "         9595.56560296, 16832.90098022,   547.79345865, 14822.7884729 ,\n",
       "        17237.660793  , 22227.77449913, 12763.93768144, 16865.41805117,\n",
       "        10436.65138117, 20646.41771653, 18668.52888621, 56544.58877744,\n",
       "        16049.91629101, 13112.75512009, 11832.98747043, 25629.57953829],\n",
       "       [11756.29885797,   225.25707154,     0.        , 18234.59859895,\n",
       "         9732.9587804 , 17053.39218209,   341.09970184, 15047.90975111,\n",
       "        17361.3100688 , 22397.21750027, 12885.03461014, 16978.86359847,\n",
       "        10526.33613798, 20758.68565585, 18859.06313667, 56747.56952856,\n",
       "        16188.41684643, 13269.22884985, 11982.63421087, 25802.23103252],\n",
       "       [ 9837.2159456 , 18020.89529351, 18234.59859895,     0.        ,\n",
       "        11466.39327903,  2345.84915649, 18462.87629896,  5685.98133334,\n",
       "        11640.88541869,  8980.29477874, 11488.79895414, 12420.20772791,\n",
       "        13591.38436516, 14020.70926054,  4478.689257  , 38731.83000682,\n",
       "        10091.22630218,  8870.11936582,  9812.88304896, 11074.55016727],\n",
       "       [ 2175.49196108,  9595.56560296,  9732.9587804 , 11466.39327903,\n",
       "            0.        , 11482.29324414,  9786.50849309, 11512.73637732,\n",
       "         7696.56934067, 12968.92255221,  3309.92798439,  7440.6549316 ,\n",
       "         2605.98719431, 11200.38840933, 10250.01092344, 48210.10850247,\n",
       "         6455.53521925,  3746.23385813,  2368.02657106, 16412.01797578],\n",
       "       [10204.33740237, 16832.90098022, 17053.39218209,  2345.84915649,\n",
       "        11482.29324414,     0.        , 17309.1685362 ,  3382.62580366,\n",
       "        13080.34089325, 11236.77909891, 12160.29031815, 13761.30427776,\n",
       "        13850.59639067, 15778.74550999,  6580.76134116, 40403.54013317,\n",
       "        11402.2446712 ,  9557.36871564, 10234.98302457, 13419.16931703],\n",
       "       [11833.79772603,   547.79345865,   341.09970184, 18462.87629896,\n",
       "         9786.50849309, 17309.1685362 ,     0.        , 15338.10457645,\n",
       "        17385.67078269, 22510.03564489, 12906.62806312, 16985.25830108,\n",
       "        10495.90030579, 20762.04553762, 19020.93777484, 56940.40196929,\n",
       "        16240.49569549, 13357.45271193, 12057.96703024, 25921.58839719],\n",
       "       [10827.46496729, 14822.7884729 , 15047.90975111,  5685.98133334,\n",
       "        11512.73637732,  3382.62580366, 15338.10457645,     0.        ,\n",
       "        14961.54387524, 14304.37854855, 13057.33123941, 15486.62476375,\n",
       "        14084.23768167, 18028.1474644 ,  9537.17192299, 43388.5099832 ,\n",
       "        13184.56865647, 10662.00928837, 10930.01600338, 16698.27727651],\n",
       "       [ 6017.52604523, 17237.660793  , 17361.3100688 , 11640.88541869,\n",
       "         7696.56934067, 13080.34089325, 17385.67078269, 14961.54387524,\n",
       "            0.        ,  7291.80389918,  4479.60216426,   986.60884811,\n",
       "         7198.1096111 ,  3583.47685508,  7775.36449224, 42758.42399173,\n",
       "         1796.48569718,  4982.3555941 ,  5781.54701793, 10419.25854848],\n",
       "       [10802.62297406, 22227.77449913, 22397.21750027,  8980.29477874,\n",
       "        12968.92255221, 11236.77909891, 22510.03564489, 14304.37854855,\n",
       "         7291.80389918,     0.        , 10626.56055241,  8261.87770562,\n",
       "        13598.28285094,  7234.82151708,  4780.91312738, 35650.79417257,\n",
       "         7155.21486701,  9233.32836954, 10601.60090006,  3443.58649366],\n",
       "       [ 2320.89965818, 12763.93768144, 12885.03461014, 11488.79895414,\n",
       "         3309.92798439, 12160.29031815, 12906.62806312, 13057.33123941,\n",
       "         4479.60216426, 10626.56055241,     0.        ,  4139.44700444,\n",
       "         2973.61374347,  7913.5097393 ,  9013.00284232, 46240.88568074,\n",
       "         3564.37123429,  2627.07399477,  2166.57191416, 14027.81273935],\n",
       "       [ 5978.96381555, 16865.41805117, 16978.86359847, 12420.20772791,\n",
       "         7440.6549316 , 13761.30427776, 16985.25830108, 15486.62476375,\n",
       "          986.60884811,  8261.87770562,  4139.44700444,     0.        ,\n",
       "         6630.50424257,  3782.15246586,  8675.37240609, 43668.61121369,\n",
       "         2359.07567756,  5170.28198928,  5751.79579869, 11347.68083065],\n",
       "       [ 3758.14112074, 10436.65138117, 10526.33613798, 13591.38436516,\n",
       "         2605.98719431, 13850.59639067, 10495.90030579, 14084.23768167,\n",
       "         7198.1096111 , 13598.28285094,  2973.61374347,  6630.50424257,\n",
       "            0.        , 10354.05847386, 11704.90094183, 49196.64759535,\n",
       "         6520.52858933,  4991.49620215,  3805.33513384, 17001.40930757],\n",
       "       [ 9597.97985203, 20646.41771653, 20758.68565585, 14020.70926054,\n",
       "        11200.38840933, 15778.74550999, 20762.04553762, 18028.1474644 ,\n",
       "         3583.47685508,  7234.82151708,  7913.5097393 ,  3782.15246586,\n",
       "        10354.05847386,     0.        ,  9688.47354252, 41259.53265955,\n",
       "         5251.66469197,  8537.63032775,  9362.65176879,  9500.55125085],\n",
       "       [ 8166.00317165, 18668.52888621, 18859.06313667,  4478.689257  ,\n",
       "        10250.01092344,  6580.76134116, 19020.93777484,  9537.17192299,\n",
       "         7775.36449224,  4780.91312738,  9013.00284232,  8675.37240609,\n",
       "        11704.90094183,  9688.47354252,     0.        , 38064.51096857,\n",
       "         6544.76013517,  6728.47554074,  8037.45200808,  7555.95493105],\n",
       "       [46054.43802711, 56544.58877744, 56747.56952856, 38731.83000682,\n",
       "        48210.10850247, 40403.54013317, 56940.40196929, 43388.5099832 ,\n",
       "        42758.42399173, 35650.79417257, 46240.88568074, 43668.61121369,\n",
       "        49196.64759535, 41259.53265955, 38064.51096857,     0.        ,\n",
       "        42806.00145562, 44510.8925097 , 45888.71044645, 32350.06205974],\n",
       "       [ 4542.68593805, 16049.91629101, 16188.41684643, 10091.22630218,\n",
       "         6455.53521925, 11402.2446712 , 16240.49569549, 13184.56865647,\n",
       "         1796.48569718,  7155.21486701,  3564.37123429,  2359.07567756,\n",
       "         6520.52858933,  5251.66469197,  6544.76013517, 42806.00145562,\n",
       "            0.        ,  3308.9071824 ,  4304.89038326, 10512.13267268],\n",
       "       [ 1571.81285196, 13112.75512009, 13269.22884985,  8870.11936582,\n",
       "         3746.23385813,  9557.36871564, 13357.45271193, 10662.00928837,\n",
       "         4982.3555941 ,  9233.32836954,  2627.07399477,  5170.28198928,\n",
       "         4991.49620215,  8537.63032775,  6728.47554074, 44510.8925097 ,\n",
       "         3308.9071824 ,     0.        ,  1383.74469984, 12674.40001191],\n",
       "       [  238.259962  , 11832.98747043, 11982.63421087,  9812.88304896,\n",
       "         2368.02657106, 10234.98302457, 12057.96703024, 10930.01600338,\n",
       "         5781.54701793, 10601.60090006,  2166.57191416,  5751.79579869,\n",
       "         3805.33513384,  9362.65176879,  8037.45200808, 45888.71044645,\n",
       "         4304.89038326,  1383.74469984,     0.        , 14044.44343362],\n",
       "       [14244.52901484, 25629.57953829, 25802.23103252, 11074.55016727,\n",
       "        16412.01797578, 13419.16931703, 25921.58839719, 16698.27727651,\n",
       "        10419.25854848,  3443.58649366, 14027.81273935, 11347.68083065,\n",
       "        17001.40930757,  9500.55125085,  7555.95493105, 32350.06205974,\n",
       "        10512.13267268, 12674.40001191, 14044.44343362,     0.        ]])"
      ]
     },
     "execution_count": 211,
     "metadata": {},
     "output_type": "execute_result"
    }
   ],
   "source": [
    "Task.distance"
   ]
  },
  {
   "cell_type": "code",
   "execution_count": 212,
   "id": "e827563e",
   "metadata": {},
   "outputs": [],
   "source": [
    "opening_time = np.array([Task.list[i].opening_time for i in range(V)])\n",
    "closing_time = np.array([Task.list[i].closing_time for i in range(V)])\n",
    "duration = np.array([Task.list[i].duration for i in range(V)])\n",
    "\n",
    "M = 1000000"
   ]
  },
  {
   "cell_type": "code",
   "execution_count": 213,
   "id": "7113eb6d",
   "metadata": {
    "pycharm": {
     "name": "#%%\n"
    },
    "scrolled": true
   },
   "outputs": [],
   "source": [
    "m = Model(\"DB\")\n",
    "\n",
    "X = {(i, j) : m.addVar(vtype = GRB.BINARY, name = f'x{i}_{j}') for i in range(V) for j in range(V)}\n",
    "Y = {(k, i) : m.addVar(vtype = GRB.BINARY, name = f'y{k}_{i}') for k in range(T) for i in range(V)}\n",
    "B = {i : m.addVar(vtype = GRB.CONTINUOUS, name = f'b{i}', lb = 0) for i in range(V)}\n",
    "K = {k : m.addVar(vtype = GRB.BINARY, name = f'k{k}') for k in range(T)}\n",
    "\n",
    "\n",
    "#Cconex\n",
    "#m.addConstr(quicksum([quicksum([X[(i,j)] for j in range(V)]) for i in range(V)]) == quicksum([K[k] for k in range(T)]) + (V-1))\n",
    "\n",
    "# C1\n",
    "for k in range(T):\n",
    "    m.addConstr(K[k] <= quicksum([Y[(k,i)] for i in range(1,V)]))\n",
    "    for i in range(1,V):\n",
    "        m.addConstr(K[k] >= Y[(k,i)])\n",
    "    \n",
    "m.addConstr(quicksum([X[(0,j)] for j in range(1,V)])  == quicksum([K[k] for k in range(T)]))\n",
    "\n",
    "# C2\n",
    "for i in range(1,V):\n",
    "    m.addConstr(quicksum([X[(i,j)] for j in range(V) if i != j]) == quicksum([X[(j,i)] for j in range(V) if i != j]))\n",
    "    \n",
    "# C3\n",
    "for i in range(1,V):\n",
    "    m.addConstr(quicksum([X[(i,j)] for j in range(V) if i != j]) == 1)\n",
    "                      \n",
    "# C4\n",
    "C4  = {(i,j,k) : m.addConstr(Y[(k,i)] <= Y[(k,j)] + M*(1-X[(i,j)])) for i in range(1,V) for j in range(1,V) for k in range(T)}\n",
    "C4b = {(i,j,k) : m.addConstr(Y[(k,i)] >= Y[(k,j)] - M*(1-X[(i,j)])) for i in range(1,V) for j in range(1,V) for k in range(T)}\n",
    "\n",
    "# C5\n",
    "C5o = dict()\n",
    "C5c = dict()\n",
    "for i in range(1,V):\n",
    "    C5o[i] = m.addConstr(B[i] >= opening_time[i])\n",
    "    C5c[i] = m.addConstr(duration[i] + B[i] <= closing_time[i])\n",
    "\n",
    "# C6\n",
    "C6 = {(i,j) : m.addConstr(B[i] + duration[i] + Task.distance[i,j]/Employee.speed <= B[j] + M * (1-X[(i,j)]) ) for i in range(1,V) for j in range(1,V) if i != j}\n",
    "\n",
    "# C7\n",
    "C7 = {(k,i) : m.addConstr(Employee.list[k].start_time + (Task.distance[0,i]/Employee.speed) - (2 - Y[(k,i)] - X[(i,0)]) * M <= B[i]) for k in range(T) for i in range(1,V)}\n",
    "\n",
    "# C8\n",
    "C8 = {(k,i) : m.addConstr(B[i] + duration[i] + Task.distance[0,i]/Employee.speed <= Employee.list[k].end_time + M*(2-Y[(k,i)]-X[(i,0)])) for k in range(T) for i in range(1,V)}\n",
    "\n",
    "# C9\n",
    "C9 = {(k,i) : m.addConstr(Employee.list[k].level >= Task.list[i].level - M * (1 - Y[(k,i)]))  for k in range(T) for i in range(1,V)}\n",
    "\n",
    "# C10\n",
    "C10 = {i : m.addConstr(quicksum([Y[(k,i)] for k in range(T)]) == 1) for i in range(1,V)}"
   ]
  },
  {
   "cell_type": "code",
   "execution_count": 214,
   "id": "44d46387",
   "metadata": {
    "pycharm": {
     "name": "#%%\n"
    }
   },
   "outputs": [],
   "source": [
    "obj = quicksum([X[(i,j)]*Task.distance[i,j] for i in range(V) for j in range(V)])\n",
    "m.setObjective(obj, GRB.MINIMIZE)"
   ]
  },
  {
   "cell_type": "code",
   "execution_count": 215,
   "id": "4d95da51",
   "metadata": {},
   "outputs": [],
   "source": [
    "m.params.outputflag = 0\n",
    "\n",
    "m.update()\n",
    "\n",
    "m.optimize()"
   ]
  },
  {
   "cell_type": "code",
   "execution_count": 216,
   "id": "2dbdb2db",
   "metadata": {},
   "outputs": [],
   "source": [
    "assert m.status != GRB.INFEASIBLE"
   ]
  },
  {
   "cell_type": "code",
   "execution_count": 217,
   "id": "882eeb2e",
   "metadata": {},
   "outputs": [
    {
     "name": "stdout",
     "output_type": "stream",
     "text": [
      "K : [0, 1]\n",
      "Y_0 : [1, 2, 4, 6, 10, 12, 16, 18]\n",
      "Y_1 : [3, 5, 7, 8, 9, 11, 13, 14, 15, 17, 19]\n",
      "\n",
      "[(0, 4), (0, 7)]\n",
      "[(1, 2)]\n",
      "[(2, 6)]\n",
      "[(3, 14)]\n",
      "[(4, 1)]\n",
      "[(5, 3)]\n",
      "[(6, 12)]\n",
      "[(7, 5)]\n",
      "[(8, 11)]\n",
      "[(9, 13)]\n",
      "[(10, 16)]\n",
      "[(11, 17)]\n",
      "[(12, 10)]\n",
      "[(13, 8)]\n",
      "[(14, 15)]\n",
      "[(15, 19)]\n",
      "[(16, 18)]\n",
      "[(17, 0)]\n",
      "[(18, 0)]\n",
      "[(19, 9)]\n",
      "\n",
      "['B_0 : 0.0', 'B_1 : 521.514678723528', 'B_2 : 561.7849872093648', 'B_3 : 566.8741699521197', 'B_4 : 480.0', 'B_5 : 524.0591509643709', 'B_6 : 602.1943068515975', 'B_7 : 480.0', 'B_8 : 950.7255555728916', 'B_9 : 867.7435975263361', 'B_10 : 950.2709741044091', 'B_11 : 1001.9094861906487', 'B_12 : 906.7026376122376', 'B_13 : 906.4253833468538', 'B_14 : 612.248597060563', 'B_15 : 697.9260102228727', 'B_16 : 1004.5482195855584', 'B_17 : 1048.1138245777693', 'B_18 : 1049.7140880455263', 'B_19 : 776.7460846945178']\n"
     ]
    }
   ],
   "source": [
    "print(\"K : {}\".format([k for k in range(T) if K[k].x == 1]))\n",
    "\n",
    "for k in range(T):\n",
    "    print(\"Y_{} : {}\".format(k,[i for i in range(1,V) if Y[(k,i)].x == 1]))\n",
    "print()\n",
    "for i in range(V):\n",
    "    print([(i,j) for j in range(V) if X[(i,j)].x == 1 and i != j])\n",
    "print()\n",
    "print([\"B_{} : {}\".format(i,B[i].x) for i in range(V)])"
   ]
  },
  {
   "cell_type": "code",
   "execution_count": 218,
   "id": "7b3efc71",
   "metadata": {},
   "outputs": [],
   "source": [
    "import matplotlib.pyplot as plt\n",
    "import random"
   ]
  },
  {
   "cell_type": "code",
   "execution_count": 223,
   "id": "28c9cd34",
   "metadata": {},
   "outputs": [
    {
     "data": {
      "image/png": "[encoded data removed]",
      "text/plain": [
       "<Figure size 432x288 with 1 Axes>"
      ]
     },
     "metadata": {
      "needs_background": "light"
     },
     "output_type": "display_data"
    }
   ],
   "source": [
    "n_task = V\n",
    "\n",
    "task_pos =[[Employee.list[0].longitude, Employee.list[0].latitude]]\n",
    "plt.scatter([Employee.list[0].longitude], [Employee.list[0].latitude], label=\"dépôt\", c=\"black\")\n",
    "for j in range(1,n_task):\n",
    "    task_pos.append([Task.list[j].longitude, Task.list[j].latitude])\n",
    "    plt.scatter([Task.list[j].longitude], [Task.list[j].latitude], label=f\"{j}\")\n",
    "\n",
    "number_of_colors = 8\n",
    "\n",
    "color = [\"#\"+''.join([random.choice('0123456789ABCDEF') for j in range(6)])\n",
    "             for i in range(number_of_colors)]\n",
    "\n",
    "Z = {}\n",
    "for i in range(n_task):\n",
    "    for k in range(T):\n",
    "        if Y[(k,i)].x == 1:\n",
    "            Z[i] = k\n",
    "\n",
    "\n",
    "\n",
    "for i in range(n_task):\n",
    "    for j in range(n_task):\n",
    "        if X[(i,j)].x == 1 :\n",
    "            if i == 0:\n",
    "                plt.plot([task_pos[i][0],task_pos[j][0]], [task_pos[i][1],task_pos[j][1]], c=color[Z[j]], label=f\"{Z[j]}\")\n",
    "            else :\n",
    "                plt.plot([task_pos[i][0],task_pos[j][0]], [task_pos[i][1],task_pos[j][1]], c=color[Z[i]])\n",
    "\n",
    "plt.legend()\n",
    "plt.show()\n",
    "\n"
   ]
  }
 ],
 "metadata": {
  "kernelspec": {
   "display_name": "Python 3 (ipykernel)",
   "language": "python",
   "name": "python3"
  },
  "language_info": {
   "codemirror_mode": {
    "name": "ipython",
    "version": 3
   },
   "file_extension": ".py",
   "mimetype": "text/x-python",
   "name": "python",
   "nbconvert_exporter": "python",
   "pygments_lexer": "ipython3",
   "version": "3.9.7"
  }
 },
 "nbformat": 4,
 "nbformat_minor": 5
}
