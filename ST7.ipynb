{
 "cells": [
  {
   "cell_type": "markdown",
   "source": [
    "# ST7 Planification quotidienne d’une équipe mobile"
   ],
   "metadata": {
    "collapsed": false,
    "pycharm": {
     "name": "#%% md\n"
    }
   }
  },
  {
   "cell_type": "markdown",
   "source": [
    "## Formulation du problème\n",
    "\n",
    "### Notation\n",
    "$ V $ : Nombre de tâches. (V pour vertex)\n",
    "$ T $ : Nombre de techniciens."
   ],
   "metadata": {
    "collapsed": false,
    "pycharm": {
     "name": "#%% md\n"
    }
   }
  },
  {
   "cell_type": "markdown",
   "source": [
    "## Variables de décisions\n",
    "$ X \\in R_{V + 1 \\times V + 1}$"
   ],
   "metadata": {
    "collapsed": false,
    "pycharm": {
     "name": "#%% md\n"
    }
   }
  },
  {
   "cell_type": "code",
   "execution_count": 23,
   "outputs": [],
   "source": [
    "# module imports\n",
    "from gurobipy import *\n",
    "from models_v1 import Employee, Task\n",
    "from file_paths import path_finland"
   ],
   "metadata": {
    "collapsed": false,
    "pycharm": {
     "name": "#%%\n"
    }
   }
  },
  {
   "cell_type": "code",
   "execution_count": 24,
   "outputs": [],
   "source": [
    "# reading dataframe into python objects\n",
    "Employee.load_excel(path_finland)\n",
    "Task.load_excel(path_finland)"
   ],
   "metadata": {
    "collapsed": false,
    "pycharm": {
     "name": "#%%\n"
    }
   }
  },
  {
   "cell_type": "code",
   "execution_count": 27,
   "id": "ff10c9ff",
   "metadata": {},
   "outputs": [
    {
     "data": {
      "text/plain": "Employee(name=Aleksi, position=[25.2103536, 61.578308], skill=Plumbing,level=1,available=[08:00AM, 06:00PM] )"
     },
     "execution_count": 27,
     "metadata": {},
     "output_type": "execute_result"
    }
   ],
   "source": [
    "# test on employee object\n",
    "Employee.list[0]"
   ]
  },
  {
   "cell_type": "code",
   "execution_count": null,
   "outputs": [],
   "source": [
    "model = Model(\"V1\")\n",
    "\n",
    "# variables de decision\n"
   ],
   "metadata": {
    "collapsed": false,
    "pycharm": {
     "name": "#%%\n"
    }
   }
  }
 ],
 "metadata": {
  "kernelspec": {
   "display_name": "Python 3 (ipykernel)",
   "language": "python",
   "name": "python3"
  },
  "language_info": {
   "codemirror_mode": {
    "name": "ipython",
    "version": 3
   },
   "file_extension": ".py",
   "mimetype": "text/x-python",
   "name": "python",
   "nbconvert_exporter": "python",
   "pygments_lexer": "ipython3",
   "version": "3.9.7"
  }
 },
 "nbformat": 4,
 "nbformat_minor": 5
}