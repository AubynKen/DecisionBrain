{
 "cells": [
  {
   "cell_type": "markdown",
<<<<<<< HEAD
=======
   "id": "ebcd1aa6",
>>>>>>> 3af5ec5d434a24a14f499362d4bc25c8d0975c7e
   "metadata": {
    "collapsed": false,
    "pycharm": {
     "name": "#%% md\n"
    }
   },
   "source": [
    "# ST7 Planification quotidienne d’une équipe mobile"
   ]
  },
  {
   "cell_type": "markdown",
<<<<<<< HEAD
=======
   "id": "e2ddd5c9",
>>>>>>> 3af5ec5d434a24a14f499362d4bc25c8d0975c7e
   "metadata": {
    "collapsed": false,
    "pycharm": {
     "name": "#%% md\n"
    }
   },
   "source": [
    "## Formulation du problème\n",
    "\n",
    "### Notation\n",
    "- $ V $ : Nombre de tâches + 1 (V pour vertex)\n",
    "- $ T $ : Nombre de techniciens\n",
    "- $ i, j \\in \\{0, ..., V - 1\\} $ : les indices des tâches\n",
    "- $ k \\in \\{0, ..., T - 1 \\} $ : les indices des techniciens\n",
    "- $ (opening_i)_i $ : l’ouverture des sites\n",
    "- $ (closing_i)_i $ : la fermeture des sites\n",
    "- $ (start_k)_k $ : le début de travail des employés\n",
    "- $ (end_k)_k $ : la fin de travail de chaque employé\n",
    "- $ (duration_i)_i $ : la durée de chaque tâche\n",
    "- $ (distance_{i, j}) $ : la distance entre les sites\n",
    "- $ speed $ : la vitesse de déplacement des techniciens\n",
    "\n",
    "\n",
    "\n",
    "### Variables de décisions\n",
    "- $ \\tilde{T} $ : Le nombre de techniciens actifs (avec une tâche ou plus)\n",
    "- $ (x_{i, j})_{i, j} $, $ x_{i, j} = 1 $ ssi. (i, j) est un arc de i vers j\n",
    "- $ (y_{k, i})_{k, i} $, $ y_{k, i} = 1 $ ssi. le technicien k effectue la tâche i\n",
    "- $ (b_i)_i $, $B_i$ est le début de chaque tâche en minute (b pour beginning)\n",
    "\n",
    "\n",
    "### Objectif d’optimisation\n",
    "$$ min \\sum_{i, j} x_{i, j} \\cdot distance_{i, j} $$\n",
    "\n",
    "\n",
    "### Contraintes\n",
    "- (C1) : Il n’y a qu’une seule composante connexe dans le graphe des parcours\n",
    "$$ \\sum_{i, j} x_{i, j} = \\tilde{T} + (V - 1) $$\n",
    "- (C2) Il y a autant d’arcs sortant/entrant au dépôt que de techniciens actifs\n",
    "$$ \\tilde{T} = \\sum_i x_{0, i} = \\sum_i x_{i, 0}$$\n",
    "- (C3) Le site de chaque tâche est visité par exactement un technicien\n",
    "$$ \\forall i > 0, \\sum_j x_{i, j} = \\sum_j x_{j, i} = 1 $$\n",
    "- (C4) Deux tâches adjacentes doivent être fait par le même technicien\n",
    "$$ \\forall i, j > 0, x_{i, j} \\implies \\forall k, y_{k, i} = y_{k, j}$$\n",
    "- (C5) Lorsqu’un travail est effectué sur une tâche, la têche doit être disponible.\n",
    "$$ \\forall i > 0, (b_i \\ge opening_i) \\land (b_i + duration_i \\le closing_i) $$\n",
    "- (C6) La fenêtre de temps entre deux travaux doit être suffisante pour le trajet\n",
    "$$ \\forall i, j > 0, x_{i, j} = 1 \\implies b_i + duration_i + distance_{i, j} \\cdot speed <= b_j $$\n",
    "- (C7) Un technicien doit avoir suffisamment de temps pour aller à son premier site\n",
    "$$ \\forall k, \\forall i > 0, y_{k, i} \\land x_{0, i} \\implies start_k + distance_{0, i} \\cdot speed \\le b_i $$\n",
    "- (C8) Un technicien doit avoir suffisamment de temps pour rentrer au dépot après sa dernière tâche\n",
    "$$ \\forall k, \\forall i > 0, y_{k, i} \\land x_{i, 0} \\implies b_i + distance_{0, i} \\cdot speed \\le end_k $$\n",
    "- (C9) Un technicien n’effectue que des tâches qu’il est capable d’effectuer\n",
    "$$ \\forall k, \\forall i > 0, levelTech_k \\ge levelTask_i $$\n",
    "- (C10) Une tâche est réalisée par un seule employé\n",
    "$$ \\forall i > 0, \\sum_k y_{k, i} = 1 $$\n",
    "\n"
   ]
  },
  {
   "cell_type": "markdown",
<<<<<<< HEAD
   "metadata": {
    "collapsed": false,
    "pycharm": {
     "name": "#%% md\n"
    }
   },
   "source": [
    "## Variables de décisions\n",
    "$ X \\in R_{V + 1 \\times V + 1}$"
   ]
  },
  {
   "cell_type": "code",
   "execution_count": 2,
=======
   "id": "c24cd617",
>>>>>>> 3af5ec5d434a24a14f499362d4bc25c8d0975c7e
   "metadata": {
    "collapsed": false,
    "pycharm": {
     "name": "#%%\n"
    }
   },
<<<<<<< HEAD
=======
   "source": [
    "## Variables de décisions\n",
    "$ X \\in R_{V + 1 \\times V + 1}$"
   ]
  },
  {
   "cell_type": "code",
   "execution_count": 32,
   "id": "88651692",
   "metadata": {
    "collapsed": false,
    "pycharm": {
     "name": "#%%\n"
    }
   },
>>>>>>> 3af5ec5d434a24a14f499362d4bc25c8d0975c7e
   "outputs": [],
   "source": [
    "# module imports\n",
    "from models_v1 import Employee, Task\n",
    "from file_paths import path_finland"
   ]
  },
  {
   "cell_type": "code",
<<<<<<< HEAD
   "execution_count": 3,
=======
   "execution_count": 33,
   "id": "8b36dbff",
>>>>>>> 3af5ec5d434a24a14f499362d4bc25c8d0975c7e
   "metadata": {
    "collapsed": false,
    "pycharm": {
     "name": "#%%\n"
    }
   },
   "outputs": [],
   "source": [
    "# reading dataframe into python objects\n",
    "Employee.load_excel(path_finland)\n",
    "Task.load_excel(path_finland)"
   ]
  },
  {
   "cell_type": "code",
   "execution_count": 7,
   "id": "ff10c9ff",
   "metadata": {},
   "outputs": [
    {
<<<<<<< HEAD
     "name": "stdout",
     "output_type": "stream",
     "text": [
      "4 25\n"
     ]
=======
     "data": {
      "text/plain": [
       "Employee(name=Aleksi, position=[25.2103536, 61.578308], skill=Plumbing,level=1,available=[08:00AM, 06:00PM] )"
      ]
     },
     "execution_count": 34,
     "metadata": {},
     "output_type": "execute_result"
>>>>>>> 3af5ec5d434a24a14f499362d4bc25c8d0975c7e
    }
   ],
   "source": [
    "# test on Employee object\n",
    "V = len(Employee.list)\n",
    "T = len(Task.list)\n",
    "print(V,T)"
   ]
  },
  {
   "cell_type": "code",
   "execution_count": 35,
<<<<<<< HEAD
=======
   "id": "88381c95",
>>>>>>> 3af5ec5d434a24a14f499362d4bc25c8d0975c7e
   "metadata": {
    "collapsed": false,
    "pycharm": {
     "name": "#%%\n"
    }
   },
   "outputs": [
    {
     "data": {
      "text/plain": [
       "<models_v1.Task at 0x7fab5151c1f0>"
      ]
     },
     "execution_count": 35,
     "metadata": {},
     "output_type": "execute_result"
    }
   ],
   "source": [
<<<<<<< HEAD
    "# test on Task object\n"
   ]
  },
  {
   "cell_type": "code",
   "execution_count": null,
   "metadata": {
    "collapsed": false,
    "pycharm": {
     "name": "#%%\n"
    }
   },
   "outputs": [],
   "source": [
    "m = Model(\"DB\")\n",
    "X = {(i, j) : m.addVar(vtype = GRB.BINARY, name = f'x{i}_{j}') for i in range(0,V) for j in range(0,V)}\n",
    "Y = {(k, i) : m.addVar(vtype = GRB.BINARY, name = f'y{k}_{i}') for k in range(0,T) for i in range(0,V)}\n",
    "B = {i : m.addVar(type = GRB.CONTINUOUS, name = f'b{i}') for i in range(0,V)}\n",
    "T_actif = m.addVar(type = GRB.INTEGER, name = 'T_actif')"
=======
    "# test on Task object\n",
    "Task.list[0]"
>>>>>>> 3af5ec5d434a24a14f499362d4bc25c8d0975c7e
   ]
  },
  {
   "cell_type": "code",
   "execution_count": null,
<<<<<<< HEAD
   "metadata": {},
   "outputs": [],
   "source": [
    "#é"
   ]
=======
   "id": "44d46387",
   "metadata": {
    "collapsed": false,
    "pycharm": {
     "name": "#%%\n"
    }
   },
   "outputs": [],
   "source": []
>>>>>>> 3af5ec5d434a24a14f499362d4bc25c8d0975c7e
  }
 ],
 "metadata": {
  "interpreter": {
   "hash": "40d3a090f54c6569ab1632332b64b2c03c39dcf918b08424e98f38b5ae0af88f"
  },
  "kernelspec": {
   "display_name": "Python 3.8.3 64-bit (conda)",
   "name": "python3"
  },
  "language_info": {
   "codemirror_mode": {
    "name": "ipython",
    "version": 3
   },
   "file_extension": ".py",
   "mimetype": "text/x-python",
   "name": "python",
   "nbconvert_exporter": "python",
   "pygments_lexer": "ipython3",
   "version": "3.8.3"
  }
 },
 "nbformat": 4,
 "nbformat_minor": 5
}
