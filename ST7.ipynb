{
 "cells": [
  {
   "cell_type": "code",
   "execution_count": 47,
   "outputs": [],
   "source": [
    "# module imports\n",
    "import pandas as pd\n",
    "import numpy as np\n",
    "from datetime import datetime"
   ],
   "metadata": {
    "collapsed": false,
    "pycharm": {
     "name": "#%%\n"
    }
   }
  },
  {
   "cell_type": "code",
   "execution_count": 48,
   "outputs": [],
   "source": [
    "# setting file paths\n",
    "path_bordeaux = \"./data/InstancesV1/InstanceBordeauxV1.xlsx\"\n",
    "path_finland = \"./data/InstancesV1/InstanceFinlandV1.xlsx\"\n",
    "path_guinea_golf = \"./data/InstancesV1/InstanceGuineaGolfV1.xlsx\"\n",
    "path_italy = \"./data/InstancesV1/InstanceItalyV1.xlsx\"\n",
    "path_poland = \"./data/InstancesV1/InstancePolandV1.xlsx\"\n",
    "\n",
    "path_current = path_finland"
   ],
   "metadata": {
    "collapsed": false,
    "pycharm": {
     "name": "#%%\n"
    }
   }
  },
  {
   "cell_type": "code",
   "execution_count": 49,
   "outputs": [
    {
     "data": {
      "text/plain": "               Latitude  Longitude     Skill  Level WorkingStartTime  \\\nEmployeeName                                                           \nAleksi        61.578308  25.210354  Plumbing      1           8:00am   \nLivia         61.578308  25.210354  Plumbing      2           8:00am   \nOskar         61.578308  25.210354  Plumbing      2           8:00am   \nSebastian     61.578308  25.210354  Plumbing      1           8:00am   \n\n             WorkingEndTime  \nEmployeeName                 \nAleksi               6:00pm  \nLivia                6:00pm  \nOskar                6:00pm  \nSebastian            6:00pm  ",
      "text/html": "<div>\n<style scoped>\n    .dataframe tbody tr th:only-of-type {\n        vertical-align: middle;\n    }\n\n    .dataframe tbody tr th {\n        vertical-align: top;\n    }\n\n    .dataframe thead th {\n        text-align: right;\n    }\n</style>\n<table border=\"1\" class=\"dataframe\">\n  <thead>\n    <tr style=\"text-align: right;\">\n      <th></th>\n      <th>Latitude</th>\n      <th>Longitude</th>\n      <th>Skill</th>\n      <th>Level</th>\n      <th>WorkingStartTime</th>\n      <th>WorkingEndTime</th>\n    </tr>\n    <tr>\n      <th>EmployeeName</th>\n      <th></th>\n      <th></th>\n      <th></th>\n      <th></th>\n      <th></th>\n      <th></th>\n    </tr>\n  </thead>\n  <tbody>\n    <tr>\n      <th>Aleksi</th>\n      <td>61.578308</td>\n      <td>25.210354</td>\n      <td>Plumbing</td>\n      <td>1</td>\n      <td>8:00am</td>\n      <td>6:00pm</td>\n    </tr>\n    <tr>\n      <th>Livia</th>\n      <td>61.578308</td>\n      <td>25.210354</td>\n      <td>Plumbing</td>\n      <td>2</td>\n      <td>8:00am</td>\n      <td>6:00pm</td>\n    </tr>\n    <tr>\n      <th>Oskar</th>\n      <td>61.578308</td>\n      <td>25.210354</td>\n      <td>Plumbing</td>\n      <td>2</td>\n      <td>8:00am</td>\n      <td>6:00pm</td>\n    </tr>\n    <tr>\n      <th>Sebastian</th>\n      <td>61.578308</td>\n      <td>25.210354</td>\n      <td>Plumbing</td>\n      <td>1</td>\n      <td>8:00am</td>\n      <td>6:00pm</td>\n    </tr>\n  </tbody>\n</table>\n</div>"
     },
     "execution_count": 49,
     "metadata": {},
     "output_type": "execute_result"
    }
   ],
   "source": [
    "df_employees = pd.read_excel(path_current, sheet_name = \"Employees\")\n",
    "df_employees.set_index(\"EmployeeName\")"
   ],
   "metadata": {
    "collapsed": false,
    "pycharm": {
     "name": "#%%\n"
    }
   }
  },
  {
   "cell_type": "code",
   "execution_count": 50,
   "outputs": [],
   "source": [
    "# definition of Employee class\n",
    "class Employee:\n",
    "    def __init__(self, name, latitude, longitude, skill, level, start_time, end_time):\n",
    "        self.name = name\n",
    "        self.latitude = latitude\n",
    "        self.longitude = longitude\n",
    "        self.skill = skill\n",
    "        self.level = level\n",
    "        self.start_time = start_time\n",
    "        self.end_time = end_time\n",
    "\n",
    "    def start_time_string(self):\n",
    "        return self.start_time.strftime('%I:%M%p')\n",
    "\n",
    "    def end_time_string(self):\n",
    "        return self.end_time.strftime('%I:%M%p')"
   ],
   "metadata": {
    "collapsed": false,
    "pycharm": {
     "name": "#%%\n"
    }
   }
  },
  {
   "cell_type": "code",
   "execution_count": 51,
   "outputs": [],
   "source": [
    "# definition of Task class\n",
    "class Task:\n",
    "    def __init__(self, task_id, latitude, longitude, duration, skill, level, start_time, end_time):\n",
    "        self.id = task_id\n",
    "        self.latitude = latitude\n",
    "        self.longitude = longitude\n",
    "        self.duration = duration\n",
    "        self.skill = skill\n",
    "        self.level = level\n",
    "        self.start_time = start_time\n",
    "        self.end_time = end_time"
   ],
   "metadata": {
    "collapsed": false,
    "pycharm": {
     "name": "#%%\n"
    }
   }
  },
  {
   "cell_type": "code",
   "execution_count": 52,
   "outputs": [],
   "source": [
    "# reading dataframe into python objects\n",
    "employees = []\n",
    "\n",
    "for index, row in df_employees.iterrows():\n",
    "    # parse the start time and end time into datetime object\n",
    "    start_time = datetime.strptime(row[\"WorkingStartTime\"], '%I:%M%p')\n",
    "    end_time = datetime.strptime(row[\"WorkingEndTime\"], '%I:%M%p')\n",
    "\n",
    "    employee = Employee(row[\"EmployeeName\"],\n",
    "                        row[\"Latitude\"],\n",
    "                        row[\"Longitude\"],\n",
    "                        row[\"Skill\"],\n",
    "                        row[\"Level\"],\n",
    "                        start_time,\n",
    "                        end_time)\n",
    "    employees.append(employee)"
   ],
   "metadata": {
    "collapsed": false,
    "pycharm": {
     "name": "#%%\n"
    }
   }
  },
  {
   "cell_type": "code",
   "execution_count": 53,
   "id": "ff10c9ff",
   "metadata": {},
   "outputs": [
    {
     "name": "stdout",
     "output_type": "stream",
     "text": [
      "Employee name: Aleksi of type <class 'str'>\n",
      "Employee latitude: 61.578308 of type <class 'float'>\n",
      "Employee longitude: 25.2103536 of type <class 'float'>\n",
      "Employee start time: 08:00AM of type <class 'datetime.datetime'>\n",
      "Employee end time: 06:00PM of type <class 'datetime.datetime'>\n",
      "Employee level: 1 of type <class 'int'>\n",
      "Employee skill: Plumbing of type <class 'str'>\n"
     ]
    }
   ],
   "source": [
    "# test on employee object\n",
    "first_employee = employees[0]\n",
    "print(f\"Employee name: {first_employee.name} of type {type(first_employee.name)}\")\n",
    "print(f\"Employee latitude: {first_employee.latitude} of type {type(first_employee.latitude)}\")\n",
    "print(f\"Employee longitude: {first_employee.longitude} of type {type(first_employee.longitude)}\")\n",
    "print(f\"Employee start time: {first_employee.start_time_string()} of type {type(first_employee.start_time)}\")\n",
    "print(f\"Employee end time: {first_employee.end_time_string()} of type {type(first_employee.end_time)}\")\n",
    "print(f\"Employee level: {first_employee.level} of type {type(first_employee.level)}\")\n",
    "print(f\"Employee skill: {first_employee.skill} of type {type(first_employee.skill)}\")\n"
   ]
  },
  {
   "cell_type": "code",
   "execution_count": 56,
   "id": "bf2f771b",
   "metadata": {},
   "outputs": [
    {
     "data": {
      "text/plain": "datetime.timedelta(seconds=36000)"
     },
     "execution_count": 56,
     "metadata": {},
     "output_type": "execute_result"
    }
   ],
   "source": [
    "# Test\n",
    "print(first_employee.end_time - first_employee.start_time)"
   ]
  },
  {
   "cell_type": "code",
   "execution_count": 54,
   "outputs": [],
   "source": [],
   "metadata": {
    "collapsed": false,
    "pycharm": {
     "name": "#%%\n"
    }
   }
  },
  {
   "cell_type": "code",
   "execution_count": 29,
   "outputs": [
    {
     "ename": "TypeError",
     "evalue": "'<' not supported between instances of 'datetime.datetime' and 'str'",
     "output_type": "error",
     "traceback": [
      "\u001B[0;31m---------------------------------------------------------------------------\u001B[0m",
      "\u001B[0;31mTypeError\u001B[0m                                 Traceback (most recent call last)",
      "\u001B[0;32m/var/folders/q9/gr1yp8lj3bd65hlwr2q9q5tr0000gn/T/ipykernel_15005/344418855.py\u001B[0m in \u001B[0;36m<module>\u001B[0;34m\u001B[0m\n\u001B[0;32m----> 1\u001B[0;31m \u001B[0mmy_date\u001B[0m \u001B[0;34m<\u001B[0m \u001B[0;34m\"16:00\"\u001B[0m\u001B[0;34m\u001B[0m\u001B[0;34m\u001B[0m\u001B[0m\n\u001B[0m",
      "\u001B[0;31mTypeError\u001B[0m: '<' not supported between instances of 'datetime.datetime' and 'str'"
     ]
    }
   ],
   "source": [
    "my_date < \"16:00\""
   ],
   "metadata": {
    "collapsed": false,
    "pycharm": {
     "name": "#%%\n"
    }
   }
  },
  {
   "cell_type": "code",
   "execution_count": null,
   "outputs": [],
   "source": [],
   "metadata": {
    "collapsed": false,
    "pycharm": {
     "name": "#%%\n"
    }
   }
  }
 ],
 "metadata": {
  "kernelspec": {
   "display_name": "Python 3 (ipykernel)",
   "language": "python",
   "name": "python3"
  },
  "language_info": {
   "codemirror_mode": {
    "name": "ipython",
    "version": 3
   },
   "file_extension": ".py",
   "mimetype": "text/x-python",
   "name": "python",
   "nbconvert_exporter": "python",
   "pygments_lexer": "ipython3",
   "version": "3.9.7"
  }
 },
 "nbformat": 4,
 "nbformat_minor": 5
}