{
 "cells": [
  {
   "cell_type": "markdown",
   "id": "ebcd1aa6",
   "metadata": {
    "collapsed": false,
    "pycharm": {
     "name": "#%% md\n"
    }
   },
   "source": [
    "# ST7 Planification quotidienne d’une équipe mobile"
   ]
  },
  {
   "cell_type": "code",
   "execution_count": 1,
   "id": "6a6236d7",
   "metadata": {},
   "outputs": [],
   "source": [
    "# Modules de base\n",
    "import numpy as np\n",
    "import matplotlib.pyplot as plt\n",
    "%matplotlib inline\n",
    "\n",
    "# Module relatif à Gurobi\n",
    "from gurobipy import *"
   ]
  },
  {
   "cell_type": "markdown",
   "id": "e2ddd5c9",
   "metadata": {
    "collapsed": false,
    "pycharm": {
     "name": "#%% md\n"
    }
   },
   "source": [
    "## Formulation du problème\n",
    "\n",
    "### Notation\n",
    "- $ V $ : Nombre de tâches + 1 (V pour vertex)\n",
    "- $ T $ : Nombre de techniciens\n",
    "- $ i, j \\in \\{0, ..., V - 1\\} $ : les indices des tâches\n",
    "- $ k \\in \\{0, ..., T - 1 \\} $ : les indices des techniciens\n",
    "- $ (opening_i)_i $ : l’ouverture des sites\n",
    "- $ (closing_i)_i $ : la fermeture des sites\n",
    "- $ (start_k)_k $ : le début de travail des employés\n",
    "- $ (end_k)_k $ : la fin de travail de chaque employé\n",
    "- $ (duration_i)_i $ : la durée de chaque tâche\n",
    "- $ (distance_{i, j}) $ : la distance entre les sites\n",
    "- $ speed $ : la vitesse de déplacement des techniciens\n",
    "- $ M $ : majorant pour notre problème\n",
    "\n",
    "\n",
    "\n",
    "### Variables de décisions\n",
    "- $ \\tilde{T} $ : Le nombre de techniciens actifs (avec une tâche ou plus)\n",
    "- $ (x_{i, j})_{i, j} $, $ x_{i, j} = 1 $ ssi. (i, j) est un arc de i vers j\n",
    "- $ (y_{k, i})_{k, i} $, $ y_{k, i} = 1 $ ssi. le technicien k effectue la tâche i\n",
    "- $ (b_i)_i $, $B_i$ est le début de chaque tâche en minute (b pour beginning)\n",
    "\n",
    "\n",
    "### Objectif d’optimisation\n",
    "$$ min \\sum_{i, j} x_{i, j} \\cdot distance_{i, j} $$\n",
    "\n",
    "\n",
    "### Contraintes\n",
    "- (C1) : Il n’y a qu’une seule composante connexe dans le graphe des parcours\n",
    "$$ \\sum_{i, j} x_{i, j} = \\tilde{T} + (V - 1) $$\n",
    "- (C2) Il y a autant d’arcs sortant/entrant au dépôt que de techniciens actifs\n",
    "$$ \\tilde{T} = \\sum_i x_{0, i} = \\sum_i x_{i, 0}$$\n",
    "- (C3) Le site de chaque tâche est visité par exactement un technicien\n",
    "$$ \\forall i > 0, \\sum_j x_{i, j} = \\sum_j x_{j, i} = 1 $$\n",
    "- (C4) Deux tâches qui se suivent doivent être faites par le même technicien\n",
    "$$ \\forall i, j > 0, x_{i, j} \\implies \\forall k > 0, y_{k, i} = y_{k, j} \\\\\n",
    "\\Longleftrightarrow \\forall i, j > 0, \\forall k > 0, y_{k, i} \\le y_{k, j} + M \\cdot (1 - x_{i, j}) \\text{ et } y_{k, j} \\le y_{k, i} + M \\cdot (1 - x_{i, j}) $$\n",
    "- (C5) Lorsqu’un travail est effectué sur une tâche, la tâche doit être disponible.\n",
    "$$ \\forall i > 0, (b_i \\ge opening_i) \\land (b_i + duration_i \\le closing_i) $$\n",
    "- (C6) La fenêtre de temps entre deux travaux doit être suffisante pour le trajet\n",
    "$$ \\forall i, j > 0, x_{i, j} = 1 \\implies b_i + duration_i + \\frac{distance_{i, j}}{speed} \\le b_j \\\\\n",
    "\\Longleftrightarrow \\forall i, j > 0, b_i + duration_i + \\frac{distance_{i, j}}{speed} \\le b_j + M \\cdot (1-x_{i, j}) $$\n",
    "- (C7) Un technicien doit avoir suffisamment de temps pour aller à son premier site\n",
    "$$ \\forall k > 0, \\forall i > 0, y_{k, i} \\land x_{0, i} \\implies start_k + \\frac{distance_{0, i}}{speed} \\le b_i \\\\\n",
    "\\Longleftrightarrow \\forall k > 0, \\forall i > 0, start_k + \\frac{distance_{0, i}}{speed} \\le b_i + (2 - y_{k, i} - x_{0, i}) \\cdot M $$\n",
    "- (C8) Un technicien doit avoir suffisamment de temps pour rentrer au dépot après sa dernière tâche\n",
    "$$ \\forall k > 0, \\forall i > 0, y_{k, i} \\land x_{i, 0} \\implies b_i + duration_i + \\frac{distance_{i, 0}}{speed} \\le end_k \\\\\n",
    "\\Longleftrightarrow \\forall k > 0, \\forall i > 0, b_i + duration_i + \\frac{distance_{i, 0}}{speed} \\le end_k + (2 - y_{k, i} - x_{i, 0}) \\cdot M $$\n",
    "- (C9) Un technicien n’effectue que des tâches qu’il est capable d’effectuer\n",
    "$$ \\forall k > 0, \\forall i > 0, levelTech_k \\ge levelTask_i - M \\cdot (1 - y_{k, i}) $$\n",
    "- (C10) Une tâche est réalisée par un seul employé\n",
    "$$ \\forall i > 0, \\sum_k y_{k, i} = 1 $$\n",
    "\n"
   ]
  },
  {
   "cell_type": "markdown",
   "id": "c24cd617",
   "metadata": {
    "collapsed": false,
    "pycharm": {
     "name": "#%% md\n"
    }
   },
   "source": [
    "## Variables de décisions\n",
    "$ X \\in R_{V + 1 \\times V + 1}$"
   ]
  },
  {
   "cell_type": "code",
   "execution_count": 32,
   "id": "88651692",
   "metadata": {
    "collapsed": false,
    "pycharm": {
     "name": "#%%\n"
    }
   },
   "outputs": [],
   "source": [
    "# module imports\n",
    "from models_v1 import Employee, Task\n",
    "from file_paths import path_finland"
   ]
  },
  {
   "cell_type": "code",
   "execution_count": 33,
   "id": "8b36dbff",
   "metadata": {
    "collapsed": false,
    "pycharm": {
     "name": "#%%\n"
    }
   },
   "outputs": [],
   "source": [
    "# reading dataframe into python objects\n",
    "Employee.load_excel(path_finland)\n",
    "Task.load_excel(path_finland)"
   ]
  },
  {
   "cell_type": "code",
   "execution_count": 34,
   "id": "55632388",
   "metadata": {},
   "outputs": [],
   "source": [
    "from utils import *\n",
    "def conversion(time):\n",
    "    res = 0\n",
    "    res += 60 * time.hour + time.minute\n",
    "    return(res)\n"
   ]
  },
  {
   "cell_type": "code",
   "execution_count": 13,
   "id": "ff10c9ff",
   "metadata": {},
   "outputs": [],
   "source": [
    "V = len(Employee.list)\n",
    "T = len(Task.list)"
   ]
  },
  {
   "cell_type": "code",
   "execution_count": 35,
   "id": "88381c95",
   "metadata": {
    "collapsed": false,
    "pycharm": {
     "name": "#%%\n"
    }
   },
   "outputs": [],
   "source": [
    "m = Model(\"DB\")\n",
    "X = {(i, j) : m.addVar(vtype = GRB.BINARY, name = f'x{i}_{j}') for i in range(0,V) for j in range(0,V)}\n",
    "Y = {(k, i) : m.addVar(vtype = GRB.BINARY, name = f'y{k}_{i}') for k in range(0,T) for i in range(0,V)}\n",
    "B = {i : m.addVar(vtype = GRB.CONTINUOUS, name = f'b{i}') for i in range(0,V)}\n",
    "T_actif = m.addVar(vtype = GRB.INTEGER, name = 'T_actif')"
   ]
  },
  {
   "cell_type": "code",
   "execution_count": 9,
   "id": "44d46387",
   "metadata": {
    "collapsed": false,
    "pycharm": {
     "name": "#%%\n"
    }
   },
   "outputs": [],
   "source": [
    "#C1\n",
    "C1 = m.addConstr(quicksum([X[(i,j)] for i in range(0,V) for j in range(0,V)]) == T_actif + V - 1, name =\"C1\")"
   ]
  },
  {
   "cell_type": "code",
   "execution_count": 10,
   "id": "4d95da51",
   "metadata": {},
   "outputs": [],
   "source": [
    "#C3\n",
    "C3_entrée = dict()\n",
    "C3_sortie = dict()\n",
    "for i in range(0,V):\n",
    "    C3_entrée[i] = m.addConstr(quicksum([X[(i,j)] for j in range(0,V)]) == 1, name = f'c3e{i}')\n",
    "    C3_sortie[i] = m.addConstr(quicksum([X[(j,i)] for j in range(0,V)]) == 1, name = f'c3s{i}')"
   ]
  },
  {
   "cell_type": "code",
   "execution_count": null,
   "id": "2dbdb2db",
   "metadata": {},
   "outputs": [],
   "source": [
    "#C5\n",
    "C5 = dict()\n",
    "for i in range(0,V):\n",
    "    "
   ]
  }
 ],
 "metadata": {
  "kernelspec": {
   "display_name": "Python 3 (ipykernel)",
   "language": "python",
   "name": "python3"
  },
  "language_info": {
   "codemirror_mode": {
    "name": "ipython",
    "version": 3
   },
   "file_extension": ".py",
   "mimetype": "text/x-python",
   "name": "python",
   "nbconvert_exporter": "python",
   "pygments_lexer": "ipython3",
   "version": "3.9.7"
  }
 },
 "nbformat": 4,
 "nbformat_minor": 5
}
