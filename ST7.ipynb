{
 "cells": [
  {
   "cell_type": "markdown",
   "source": [
    "# ST7 Planification quotidienne d’une équipe mobile"
   ],
   "metadata": {
    "collapsed": false,
    "pycharm": {
     "name": "#%% md\n"
    }
   }
  },
  {
   "cell_type": "markdown",
   "source": [
    "## Formulation du problème\n",
    "\n",
    "### Notation\n",
    "$ V $ : Nombre de tâches. (V pour vertex)\n",
    "$ T $ : Nombre de techniciens."
   ],
   "metadata": {
    "collapsed": false,
    "pycharm": {
     "name": "#%% md\n"
    }
   }
  },
  {
   "cell_type": "markdown",
   "source": [
    "## Variables de décisions\n",
    "$ X \\in R_{V + 1 \\times V + 1}$"
   ],
   "metadata": {
    "collapsed": false,
    "pycharm": {
     "name": "#%% md\n"
    }
   }
  },
  {
   "cell_type": "code",
   "execution_count": 3,
   "outputs": [],
   "source": [
    "# module imports\n",
    "import pandas as pd\n",
    "import numpy as np\n",
    "from gurobipy import *\n",
    "from datetime import datetime\n",
    "from math import radians, cos, sin, asin, sqrt"
   ],
   "metadata": {
    "collapsed": false,
    "pycharm": {
     "name": "#%%\n"
    }
   }
  },
  {
   "cell_type": "code",
   "execution_count": 4,
   "outputs": [],
   "source": [
    "# setting file paths\n",
    "path_bordeaux = \"./data/InstancesV1/InstanceBordeauxV1.xlsx\"\n",
    "path_finland = \"./data/InstancesV1/InstanceFinlandV1.xlsx\"\n",
    "path_guinea_golf = \"./data/InstancesV1/InstanceGuineaGolfV1.xlsx\"\n",
    "path_italy = \"./data/InstancesV1/InstanceItalyV1.xlsx\"\n",
    "path_poland = \"./data/InstancesV1/InstancePolandV1.xlsx\"\n",
    "\n",
    "path_current = path_finland"
   ],
   "metadata": {
    "collapsed": false,
    "pycharm": {
     "name": "#%%\n"
    }
   }
  },
  {
   "cell_type": "code",
   "execution_count": 5,
   "outputs": [
    {
     "data": {
      "text/plain": "               Latitude  Longitude     Skill  Level WorkingStartTime  \\\nEmployeeName                                                           \nAleksi        61.578308  25.210354  Plumbing      1           8:00am   \nLivia         61.578308  25.210354  Plumbing      2           8:00am   \nOskar         61.578308  25.210354  Plumbing      2           8:00am   \nSebastian     61.578308  25.210354  Plumbing      1           8:00am   \n\n             WorkingEndTime  \nEmployeeName                 \nAleksi               6:00pm  \nLivia                6:00pm  \nOskar                6:00pm  \nSebastian            6:00pm  ",
      "text/html": "<div>\n<style scoped>\n    .dataframe tbody tr th:only-of-type {\n        vertical-align: middle;\n    }\n\n    .dataframe tbody tr th {\n        vertical-align: top;\n    }\n\n    .dataframe thead th {\n        text-align: right;\n    }\n</style>\n<table border=\"1\" class=\"dataframe\">\n  <thead>\n    <tr style=\"text-align: right;\">\n      <th></th>\n      <th>Latitude</th>\n      <th>Longitude</th>\n      <th>Skill</th>\n      <th>Level</th>\n      <th>WorkingStartTime</th>\n      <th>WorkingEndTime</th>\n    </tr>\n    <tr>\n      <th>EmployeeName</th>\n      <th></th>\n      <th></th>\n      <th></th>\n      <th></th>\n      <th></th>\n      <th></th>\n    </tr>\n  </thead>\n  <tbody>\n    <tr>\n      <th>Aleksi</th>\n      <td>61.578308</td>\n      <td>25.210354</td>\n      <td>Plumbing</td>\n      <td>1</td>\n      <td>8:00am</td>\n      <td>6:00pm</td>\n    </tr>\n    <tr>\n      <th>Livia</th>\n      <td>61.578308</td>\n      <td>25.210354</td>\n      <td>Plumbing</td>\n      <td>2</td>\n      <td>8:00am</td>\n      <td>6:00pm</td>\n    </tr>\n    <tr>\n      <th>Oskar</th>\n      <td>61.578308</td>\n      <td>25.210354</td>\n      <td>Plumbing</td>\n      <td>2</td>\n      <td>8:00am</td>\n      <td>6:00pm</td>\n    </tr>\n    <tr>\n      <th>Sebastian</th>\n      <td>61.578308</td>\n      <td>25.210354</td>\n      <td>Plumbing</td>\n      <td>1</td>\n      <td>8:00am</td>\n      <td>6:00pm</td>\n    </tr>\n  </tbody>\n</table>\n</div>"
     },
     "execution_count": 5,
     "metadata": {},
     "output_type": "execute_result"
    }
   ],
   "source": [
    "df_employees = pd.read_excel(path_current, sheet_name = \"Employees\")\n",
    "df_employees.set_index(\"EmployeeName\")"
   ],
   "metadata": {
    "collapsed": false,
    "pycharm": {
     "name": "#%%\n"
    }
   }
  },
  {
   "cell_type": "code",
   "execution_count": 6,
   "outputs": [],
   "source": [
    "# definition of Employee class\n",
    "class Employee:\n",
    "\n",
    "    list = [] # initialized to empty list\n",
    "    count = 0\n",
    "    speed = 50 # unit: km/h\n",
    "\n",
    "    def __init__(self, name: str, latitude: float, longitude: float, skill: str, level: int, start_time, end_time):\n",
    "        self.name = name\n",
    "        self.latitude = latitude\n",
    "        self.longitude = longitude\n",
    "        self.skill = skill\n",
    "        self.level = level\n",
    "        self.start_time = start_time\n",
    "        self.end_time = end_time\n",
    "        Employee.count += 1\n",
    "        Employee.list.append(self)\n",
    "\n",
    "    def __hash__(self):\n",
    "        return hash(self.name)\n",
    "\n",
    "    def __eq__(self, other):\n",
    "        return self.name == other.name\n",
    "\n",
    "    def __str__(self):\n",
    "        return self.name\n",
    "\n",
    "    def __repr__(self):\n",
    "        return f\"Employee(name={self.name}, \" \\\n",
    "               f\"position=[{self.longitude}, {self.latitude}], \" \\\n",
    "               f\"skill={self.skill},\" \\\n",
    "               f\"level={self.level},\" \\\n",
    "               f\"available=[{self.start_time_string()}, {self.end_time_string()}] )\"\n",
    "\n",
    "    def start_time_string(self):\n",
    "        return self.start_time.strftime('%I:%M%p')\n",
    "\n",
    "    def end_time_string(self):\n",
    "        return self.end_time.strftime('%I:%M%p')"
   ],
   "metadata": {
    "collapsed": false,
    "pycharm": {
     "name": "#%%\n"
    }
   }
  },
  {
   "cell_type": "code",
   "execution_count": 7,
   "outputs": [],
   "source": [
    "# definition of Task class\n",
    "class Task:\n",
    "\n",
    "    list = []\n",
    "    count = 0\n",
    "    distance : np.array = None\n",
    "    __is_initialized = False\n",
    "\n",
    "    def __init__(self, task_id, latitude, longitude, duration, skill, level, start_time, end_time):\n",
    "        if Task.__is_initialized:\n",
    "            raise Exception(\"Cannot instantiate new task after initializing the distance matrix\")\n",
    "        self.id = task_id\n",
    "        self.latitude = latitude\n",
    "        self.longitude = longitude\n",
    "        self.duration = duration\n",
    "        self.skill = skill\n",
    "        self.level = level\n",
    "        self.start_time = start_time\n",
    "        self.end_time = end_time\n",
    "        Task.list.append(self)\n",
    "        Task.count += 1\n",
    "\n",
    "    @staticmethod\n",
    "    def calculate_distance(task1, task2):\n",
    "        lon1, lat1 = radians(task1.longitude), radians(task1.latitude)\n",
    "        lon2, lat2 = radians(task2.longitude), radians(task2.latitude)\n",
    "\n",
    "        # Haversine formula\n",
    "        dlon = lon2 - lon1\n",
    "        dlat = lat2 - lat1\n",
    "        a = sin(dlat / 2)**2 + cos(lat1) * cos(lat2) * sin(dlon / 2)**2\n",
    "        c = 2 * asin(sqrt(a))\n",
    "        r = 6371\n",
    "        return c * r\n",
    "\n",
    "    @classmethod\n",
    "    def initialize_distance(cls):\n",
    "        if cls.__is_initialized:\n",
    "            raise Exception(\"Distance has already been initialized\")\n",
    "        cls.__is_initialized = True\n",
    "        cls.distance = np.zeros((cls.count, cls.count), dtype=np.float64)\n",
    "\n",
    "        for i in range(cls.count):\n",
    "            for j in range(i):\n",
    "                task_i, task_j = cls.list[i], cls.list[j]\n",
    "                cls.distance[i, j] = cls.distance[j, i] = cls.calculate_distance(task_i, task_j)\n",
    "\n",
    "    def __hash__(self):\n",
    "        return hash(self.id)\n",
    "\n",
    "    def __eq__(self, other):\n",
    "        return self.id == other.id"
   ],
   "metadata": {
    "collapsed": false,
    "pycharm": {
     "name": "#%%\n"
    }
   }
  },
  {
   "cell_type": "code",
   "execution_count": 8,
   "outputs": [],
   "source": [
    "# reading dataframe into python objects\n",
    "for index, row in df_employees.iterrows():\n",
    "    # parse the start time and end time into datetime object\n",
    "    start_time = datetime.strptime(row[\"WorkingStartTime\"], '%I:%M%p')\n",
    "    end_time = datetime.strptime(row[\"WorkingEndTime\"], '%I:%M%p')\n",
    "\n",
    "    Employee(row[\"EmployeeName\"],\n",
    "                        row[\"Latitude\"],\n",
    "                        row[\"Longitude\"],\n",
    "                        row[\"Skill\"],\n",
    "                        row[\"Level\"],\n",
    "                        start_time,\n",
    "                        end_time)"
   ],
   "metadata": {
    "collapsed": false,
    "pycharm": {
     "name": "#%%\n"
    }
   }
  },
  {
   "cell_type": "code",
   "execution_count": 9,
   "id": "ff10c9ff",
   "metadata": {},
   "outputs": [],
   "source": [
    "# test on employee object\n",
    "first_employee = Employee.list[0]"
   ]
  },
  {
   "cell_type": "code",
   "execution_count": 10,
   "id": "bf2f771b",
   "metadata": {},
   "outputs": [
    {
     "name": "stdout",
     "output_type": "stream",
     "text": [
      "Aleksi\n"
     ]
    }
   ],
   "source": [
    "# Testing printing function\n",
    "print(first_employee)"
   ]
  },
  {
   "cell_type": "code",
   "execution_count": 13,
   "outputs": [
    {
     "data": {
      "text/plain": "Employee(name=Aleksi, position=[25.2103536, 61.578308], skill=Plumbing,level=1,available=[08:00AM, 06:00PM] )"
     },
     "execution_count": 13,
     "metadata": {},
     "output_type": "execute_result"
    }
   ],
   "source": [
    "# Testing representation function for debugging\n",
    "first_employee"
   ],
   "metadata": {
    "collapsed": false,
    "pycharm": {
     "name": "#%%\n"
    }
   }
  },
  {
   "cell_type": "code",
   "execution_count": null,
   "outputs": [],
   "source": [
    "model = Model(\"V1\")\n",
    "\n",
    "# variables de decision\n"
   ],
   "metadata": {
    "collapsed": false,
    "pycharm": {
     "name": "#%%\n"
    }
   }
  }
 ],
 "metadata": {
  "kernelspec": {
   "display_name": "Python 3 (ipykernel)",
   "language": "python",
   "name": "python3"
  },
  "language_info": {
   "codemirror_mode": {
    "name": "ipython",
    "version": 3
   },
   "file_extension": ".py",
   "mimetype": "text/x-python",
   "name": "python",
   "nbconvert_exporter": "python",
   "pygments_lexer": "ipython3",
   "version": "3.9.7"
  }
 },
 "nbformat": 4,
 "nbformat_minor": 5
}