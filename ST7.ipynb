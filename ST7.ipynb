{
 "cells": [
  {
   "cell_type": "markdown",
   "id": "ebcd1aa6",
   "metadata": {
    "pycharm": {
     "name": "#%% md\n"
    }
   },
   "source": [
    "# ST7 Planification quotidienne d’une équipe mobile"
   ]
  },
  {
   "cell_type": "code",
   "execution_count": 29,
   "id": "6a6236d7",
   "metadata": {},
   "outputs": [],
   "source": [
    "# Modules de base\n",
    "import numpy as np\n",
    "import matplotlib.pyplot as plt\n",
    "%matplotlib inline\n",
    "\n",
    "# Module relatif à Gurobi\n",
    "from gurobipy import *\n",
    "\n",
    "# Utilités\n",
    "from datetime import datetime"
   ]
  },
  {
   "cell_type": "markdown",
   "id": "e2ddd5c9",
   "metadata": {
    "pycharm": {
     "name": "#%% md\n"
    }
   },
   "source": [
    "## Formulation du problème\n",
    "\n",
    "### Notation\n",
    "- $ V $ : Nombre de tâches + 1 (V pour vertex)\n",
    "- $ T $ : Nombre de techniciens\n",
    "- $ i, j \\in \\{0, ..., V - 1\\} $ : les indices des tâches\n",
    "- $ k \\in \\{0, ..., T - 1 \\} $ : les indices des techniciens\n",
    "- $ (opening_i)_i $ : l’ouverture des sites\n",
    "- $ (closing_i)_i $ : la fermeture des sites\n",
    "- $ (start_k)_k $ : le début de travail des employés\n",
    "- $ (end_k)_k $ : la fin de travail de chaque employé\n",
    "- $ (duration_i)_i $ : la durée de chaque tâche\n",
    "- $ (distance_{i, j}) $ : la distance entre les sites\n",
    "- $ speed $ : la vitesse de déplacement des techniciens\n",
    "- $ M $ : majorant pour notre problème\n",
    "\n",
    "\n",
    "\n",
    "### Variables de décisions\n",
    "- $ \\tilde{T} $ : Le nombre de techniciens actifs (avec une tâche ou plus)\n",
    "- $ (x_{i, j})_{i, j} $, $ x_{i, j} = 1 $ ssi. (i, j) est un arc de i vers j\n",
    "- $ (y_{k, i})_{k, i} $, $ y_{k, i} = 1 $ ssi. le technicien k effectue la tâche i\n",
    "- $ (b_i)_i $, $B_i$ est le début de chaque tâche en minute (b pour beginning)\n",
    "\n",
    "\n",
    "### Objectif d’optimisation\n",
    "$$ min \\sum_{i, j} x_{i, j} \\cdot distance_{i, j} $$\n",
    "\n",
    "\n",
    "### Contraintes\n",
    "- (C1) : Il n’y a qu’une seule composante connexe dans le graphe des parcours\n",
    "$$ \\sum_{i, j} x_{i, j} = \\tilde{T} + (V - 1) $$\n",
    "- (C2) Il y a autant d’arcs sortant/entrant au dépôt que de techniciens actifs\n",
    "$$ \\tilde{T} = \\sum_i x_{0, i} = \\sum_i x_{i, 0}$$\n",
    "- (C3) Le site de chaque tâche est visité par exactement un technicien\n",
    "$$ \\forall i > 0, \\sum_j x_{i, j} = \\sum_j x_{j, i} = 1 $$\n",
    "- (C4) Deux tâches qui se suivent doivent être faites par le même technicien\n",
    "$$ \\forall i, j > 0, x_{i, j} \\implies \\forall k > 0, y_{k, i} = y_{k, j} \\\\\n",
    "\\Longleftrightarrow \\forall i, j > 0, \\forall k > 0, y_{k, i} \\le y_{k, j} + M \\cdot (1 - x_{i, j}) \\text{ et } y_{k, j} \\le y_{k, i} + M \\cdot (1 - x_{i, j}) $$\n",
    "- (C5) Lorsqu’un travail est effectué sur une tâche, la tâche doit être disponible.\n",
    "$$ \\forall i > 0, (b_i \\ge opening_i) \\land (b_i + duration_i \\le closing_i) $$\n",
    "- (C6) La fenêtre de temps entre deux travaux doit être suffisante pour le trajet\n",
    "$$ \\forall i, j > 0, x_{i, j} = 1 \\implies b_i + duration_i + \\frac{distance_{i, j}}{speed} \\le b_j \\\\\n",
    "\\Longleftrightarrow \\forall i, j > 0, b_i + duration_i + \\frac{distance_{i, j}}{speed} \\le b_j + M \\cdot (1-x_{i, j}) $$\n",
    "- (C7) Un technicien doit avoir suffisamment de temps pour aller à son premier site\n",
    "$$ \\forall k > 0, \\forall i > 0, y_{k, i} \\land x_{0, i} \\implies start_k + \\frac{distance_{0, i}}{speed} \\le b_i \\\\\n",
    "\\Longleftrightarrow \\forall k > 0, \\forall i > 0, start_k + \\frac{distance_{0, i}}{speed} \\le b_i + (2 - y_{k, i} - x_{0, i}) \\cdot M $$\n",
    "- (C8) Un technicien doit avoir suffisamment de temps pour rentrer au dépot après sa dernière tâche\n",
    "$$ \\forall k > 0, \\forall i > 0, y_{k, i} \\land x_{i, 0} \\implies b_i + duration_i + \\frac{distance_{i, 0}}{speed} \\le end_k \\\\\n",
    "\\Longleftrightarrow \\forall k > 0, \\forall i > 0, b_i + duration_i + \\frac{distance_{i, 0}}{speed} \\le end_k + (2 - y_{k, i} - x_{i, 0}) \\cdot M $$\n",
    "- (C9) Un technicien n’effectue que des tâches qu’il est capable d’effectuer\n",
    "$$ \\forall k > 0, \\forall i > 0, levelTech_k \\ge levelTask_i - M \\cdot (1 - y_{k, i}) $$\n",
    "- (C10) Une tâche est réalisée par un seul employé\n",
    "$$ \\forall i > 0, \\sum_k y_{k, i} = 1 $$\n",
    "\n"
   ]
  },
  {
   "cell_type": "markdown",
   "id": "c24cd617",
   "metadata": {
    "pycharm": {
     "name": "#%% md\n"
    }
   },
   "source": [
    "## Variables de décisions\n",
    "$ X \\in R_{V + 1 \\times V + 1}$"
   ]
  },
  {
   "cell_type": "code",
   "execution_count": 30,
   "id": "88651692",
   "metadata": {
    "pycharm": {
     "name": "#%%\n"
    }
   },
   "outputs": [],
   "source": [
    "import pandas as pd\n",
    "import numpy as np\n",
    "from datetime import datetime\n",
    "from math import radians, cos, sin, asin, sqrt\n",
    "from utils import parse_time_minute, parse_time\n",
    "\n",
    "\n",
    "class Employee:\n",
    "    list = []  # initialized to empty list\n",
    "    count = 0\n",
    "    speed = 50 * 1000 / 60  # unit: meter/minute\n",
    "\n",
    "    def __init__(self, name: str, latitude: float, longitude: float, skill: str, level: int, start_time, end_time):\n",
    "        self.name = name\n",
    "        self.latitude = latitude\n",
    "        self.longitude = longitude\n",
    "        self.skill = skill\n",
    "        self.level = level\n",
    "        self.start_time_str = parse_time(start_time)  # parse time into datetime object for printing\n",
    "        self.end_time_str = parse_time(end_time)\n",
    "        self.start_time = parse_time_minute(start_time)  # parse time into minutes\n",
    "        self.end_time = parse_time_minute(end_time)\n",
    "        Employee.count += 1\n",
    "        Employee.list.append(self)\n",
    "\n",
    "    @classmethod\n",
    "    def load_excel(cls, path):\n",
    "        df_employees = pd.read_excel(path, sheet_name=\"Employees\")\n",
    "        df_employees.set_index(\"EmployeeName\")\n",
    "\n",
    "        for index, row in df_employees.iterrows():\n",
    "            Employee(row[\"EmployeeName\"],\n",
    "                     row[\"Latitude\"],\n",
    "                     row[\"Longitude\"],\n",
    "                     row[\"Skill\"],\n",
    "                     row[\"Level\"],\n",
    "                     row[\"WorkingStartTime\"],\n",
    "                     row[\"WorkingEndTime\"])\n",
    "\n",
    "    def __hash__(self):\n",
    "        return hash(self.name)\n",
    "\n",
    "    def __eq__(self, other):\n",
    "        return self.name == other.name\n",
    "\n",
    "    def __str__(self):\n",
    "        return self.name\n",
    "\n",
    "    def __repr__(self):\n",
    "        return f\"Employee(name={self.name}, \" \\\n",
    "               f\"position=[{self.longitude}, {self.latitude}], \" \\\n",
    "               f\"skill_requirement=level {self.level} {self.skill},\" \\\n",
    "               f\"available=[{self.start_time_str.strftime('%I:%M%p')}, {self.end_time_str.strftime('%I:%M%p')}] )\"\n",
    "\n",
    "\n",
    "class Task:\n",
    "    list = []\n",
    "    count = 0\n",
    "    distance: np.array = None\n",
    "    __is_initialized = False\n",
    "\n",
    "    def __init__(self, task_id, latitude, longitude, duration, skill, level, opening_time, closing_time):\n",
    "        if Task.__is_initialized:\n",
    "            raise Exception(\"Cannot instantiate new task after initializing the distance matrix\")\n",
    "        self.id = task_id\n",
    "        self.latitude = latitude\n",
    "        self.longitude = longitude\n",
    "        self.duration = duration\n",
    "        self.skill = skill\n",
    "        self.level = level\n",
    "        self.opening_time_str = parse_time(opening_time)\n",
    "        self.closing_time_str = parse_time(closing_time)\n",
    "        self.opening_time = parse_time_minute(opening_time)\n",
    "        self.closing_time = parse_time_minute(closing_time)\n",
    "\n",
    "        Task.list.append(self)\n",
    "        Task.count += 1\n",
    "\n",
    "    @classmethod\n",
    "    def load_excel(cls, path, initialize_distance=False, load_depot=False):\n",
    "\n",
    "        # create a dummy task at position 0 for depot\n",
    "        if load_depot:\n",
    "            df_employees = pd.read_excel(path, sheet_name=\"Employees\")\n",
    "            depot_longitude = df_employees.iloc[0][\"Longitude\"]\n",
    "            depot_latitude = df_employees.iloc[0][\"Latitude\"]\n",
    "            Task(\"T0\", depot_latitude, depot_longitude, 0, None, 0, None, None)\n",
    "\n",
    "        df = pd.read_excel(path, sheet_name=\"Tasks\")\n",
    "        df.set_index(\"TaskId\")\n",
    "\n",
    "        for index, row in df.iterrows():\n",
    "            # parse the start time and end time into datetime object\n",
    "            opening_time = datetime.strptime(row[\"OpeningTime\"], '%I:%M%p')\n",
    "            closing_time = datetime.strptime(row[\"ClosingTime\"], '%I:%M%p')\n",
    "\n",
    "            Task(row[\"TaskId\"],\n",
    "                 row[\"Latitude\"],\n",
    "                 row[\"Longitude\"],\n",
    "                 row[\"TaskDuration\"],\n",
    "                 row[\"Skill\"],\n",
    "                 row[\"Level\"],\n",
    "                 opening_time,\n",
    "                 closing_time)\n",
    "\n",
    "        if initialize_distance:\n",
    "            cls.initialize_distance()\n",
    "\n",
    "    @staticmethod\n",
    "    def calculate_distance(task1, task2):\n",
    "        lon1, lat1 = radians(task1.longitude), radians(task1.latitude)\n",
    "        lon2, lat2 = radians(task2.longitude), radians(task2.latitude)\n",
    "\n",
    "        # Haversine formula\n",
    "        dlon = lon2 - lon1\n",
    "        dlat = lat2 - lat1\n",
    "        a = sin(dlat / 2) ** 2 + cos(lat1) * cos(lat2) * sin(dlon / 2) ** 2\n",
    "        c = 2 * asin(sqrt(a))\n",
    "        r = 6371 * 1000  # radius of earth\n",
    "        return c * r\n",
    "\n",
    "    @classmethod\n",
    "    def initialize_distance(cls):\n",
    "        if cls.__is_initialized:\n",
    "            raise Exception(\"Distance has already been initialized\")\n",
    "        cls.__is_initialized = True\n",
    "        cls.distance = np.zeros((cls.count, cls.count), dtype=np.float64)\n",
    "\n",
    "        for i in range(cls.count):\n",
    "            for j in range(i):\n",
    "                task_i, task_j = cls.list[i], cls.list[j]\n",
    "                cls.distance[i, j] = cls.distance[j, i] = cls.calculate_distance(task_i, task_j)\n",
    "\n",
    "    def __hash__(self):\n",
    "        return hash(self.id)\n",
    "\n",
    "    def __eq__(self, other):\n",
    "        return self.id == other.id\n",
    "\n",
    "    def __repr__(self):\n",
    "        return f\"Task(id={self.id}, \" \\\n",
    "               f\"position=[{self.longitude}, {self.latitude}], \" \\\n",
    "               f\"duration={self.duration}, \" \\\n",
    "               f\"skill_requirement=level {self.level} {self.skill},\" \\\n",
    "               f\"opening_time=[{self.opening_time_str.strftime('%I:%M%p')} to {self.closing_time_str.strftime('%I:%M%p')}]\"\n"
   ]
  },
  {
   "cell_type": "code",
   "execution_count": 31,
   "id": "9240baa4",
   "metadata": {
    "pycharm": {
     "name": "#%%\n"
    }
   },
   "outputs": [],
   "source": [
    "# module imports\n",
    "# from models_v1 import Employee, Task\n",
    "from file_paths import path_finland\n",
    "from gurobipy import Model, GRB"
   ]
  },
  {
   "cell_type": "code",
   "execution_count": 32,
   "id": "18ecc7a4",
   "metadata": {
    "pycharm": {
     "name": "#%%\n"
    }
   },
   "outputs": [],
   "source": [
    "# reading dataframe into python objects\n",
    "Employee.load_excel(path_finland)\n",
    "Task.load_excel(path_finland, initialize_distance=True, load_depot=True)"
   ]
  },
  {
   "cell_type": "code",
   "execution_count": 33,
   "id": "ff10c9ff",
   "metadata": {},
   "outputs": [],
   "source": [
    "V = len(Employee.list)\n",
    "T = len(Task.list)"
   ]
  },
  {
   "cell_type": "code",
   "execution_count": 34,
   "id": "2b13c232",
   "metadata": {
    "pycharm": {
     "name": "#%%\n"
    }
   },
   "outputs": [
    {
     "data": {
      "text/plain": [
       "Task(id=T1, position=[24.850606, 61.178837], duration=40, skill_requirement=level 1 Plumbing,opening_time=[08:00AM to 06:00PM]"
      ]
     },
     "execution_count": 34,
     "metadata": {},
     "output_type": "execute_result"
    }
   ],
   "source": [
    "# test on Task object\n",
    "Task.list[1]"
   ]
  },
  {
   "cell_type": "code",
   "execution_count": 35,
   "id": "3ddf3e24",
   "metadata": {
    "pycharm": {
     "name": "#%%\n"
    }
   },
   "outputs": [
    {
     "data": {
      "text/plain": [
       "(26, 4)"
      ]
     },
     "execution_count": 35,
     "metadata": {},
     "output_type": "execute_result"
    }
   ],
   "source": [
    "V = Task.count\n",
    "T = Employee.count\n",
    "(V, T)"
   ]
  },
  {
   "cell_type": "code",
   "execution_count": 36,
   "id": "267753ac",
   "metadata": {
    "pycharm": {
     "name": "#%%\n"
    }
   },
   "outputs": [
    {
     "data": {
      "text/plain": [
       "array([[    0.        , 48375.80567912, 35201.43297555, 36519.64027781,\n",
       "        36519.64027781, 46480.09943847, 41099.14286807, 34079.67007868,\n",
       "        43579.40710533, 45969.10518945, 33802.15164739, 30159.61306314,\n",
       "        30159.61306314, 30104.64296159, 28882.73717912, 34580.30227993,\n",
       "        28696.90658323, 28696.90658323,  1069.30151348, 45291.68637136,\n",
       "        44571.40787799, 42458.8431502 , 21561.59842308, 21561.59842308,\n",
       "        21561.59842308,  2022.83976311],\n",
       "       [48375.80567912,     0.        , 19831.54439314, 15925.08267198,\n",
       "        15925.08267198,  3124.49393092,  9266.67972921, 27039.20546763,\n",
       "        12154.80032663,  7693.11944183, 79034.58469798, 27162.27787446,\n",
       "        27162.27787446, 20096.97052889, 27377.24959714, 14210.30215964,\n",
       "        27367.83814303, 27367.83814303, 47450.59580049, 19708.74021684,\n",
       "        25269.06781593, 19736.41333726, 31516.12388168, 31516.12388168,\n",
       "        31516.12388168, 46722.90102255],\n",
       "       [35201.43297555, 19831.54439314,     0.        ,  4073.04198591,\n",
       "         4073.04198591, 16792.17116271, 10609.91620635,  7410.52252681,\n",
       "         9554.16344383, 13579.7980208 , 68648.71318283,  7548.69283566,\n",
       "         7548.69283566, 19330.59832359,  8096.81936632, 15394.42867907,\n",
       "         8156.7316142 ,  8156.7316142 , 34145.93737787, 31997.1365059 ,\n",
       "        35911.11443521, 30267.40784178, 14311.20191734, 14311.20191734,\n",
       "        14311.20191734, 34087.44671614],\n",
       "       [36519.64027781, 15925.08267198,  4073.04198591,     0.        ,\n",
       "            0.        , 12950.89631436,  6658.97373057, 11483.12572802,\n",
       "         7070.55274893, 10275.00193937, 69477.27953606, 11240.31135346,\n",
       "        11240.31135346, 16821.6344986 , 11523.23179403, 12075.63411835,\n",
       "        11533.42797461, 11533.42797461, 35489.04559432, 28237.14733141,\n",
       "        32377.15705331, 26641.82376006, 16694.05076534, 16694.05076534,\n",
       "        16694.05076534, 35226.68317404],\n",
       "       [36519.64027781, 15925.08267198,  4073.04198591,     0.        ,\n",
       "            0.        , 12950.89631436,  6658.97373057, 11483.12572802,\n",
       "         7070.55274893, 10275.00193937, 69477.27953606, 11240.31135346,\n",
       "        11240.31135346, 16821.6344986 , 11523.23179403, 12075.63411835,\n",
       "        11533.42797461, 11533.42797461, 35489.04559432, 28237.14733141,\n",
       "        32377.15705331, 26641.82376006, 16694.05076534, 16694.05076534,\n",
       "        16694.05076534, 35226.68317404],\n",
       "       [46480.09943847,  3124.49393092, 16792.17116271, 12950.89631436,\n",
       "        12950.89631436,     0.        ,  6332.0579754 , 23949.52206947,\n",
       "         9079.61182762,  4773.49693361, 77734.6618035 , 24187.32438454,\n",
       "        24187.32438454, 19265.35369654, 24455.02591367, 13083.39280993,\n",
       "        24455.02141346, 24455.02141346, 45527.93975808, 21457.81361142,\n",
       "        26842.40972574, 21112.25848574, 28893.23862792, 28893.23862792,\n",
       "        28893.23862792, 44892.32640953],\n",
       "       [41099.14286807,  9266.67972921, 10609.91620635,  6658.97373057,\n",
       "         6658.97373057,  6332.0579754 ,     0.        , 17922.80150853,\n",
       "         5462.97565973,  5002.69031742, 73150.62584111, 17895.81461709,\n",
       "        17895.81461709, 16421.3886581 , 18130.99894833, 10305.66973771,\n",
       "        18128.03627388, 18128.03627388, 40112.5367807 , 23709.23537888,\n",
       "        28494.87889077, 22617.929118  , 22686.27877703, 22686.27877703,\n",
       "        22686.27877703, 39616.16243652],\n",
       "       [34079.67007868, 27039.20546763,  7410.52252681, 11483.12572802,\n",
       "        11483.12572802, 23949.52206947, 17922.80150853,     0.        ,\n",
       "        15803.67094965, 20274.47419033, 67881.14626208,  4117.02668674,\n",
       "         4117.02668674, 25051.92106943,  5455.81211469, 22137.25564318,\n",
       "         5668.95356992,  5668.95356992, 33011.94629059, 39038.83075782,\n",
       "        42641.42813149, 37148.97769668, 12604.8766553 , 12604.8766553 ,\n",
       "        12604.8766553 , 33352.61020994],\n",
       "       [43579.40710533, 12154.80032663,  9554.16344383,  7070.55274893,\n",
       "         7070.55274893,  9079.61182762,  5462.97565973, 15803.67094965,\n",
       "            0.        ,  4634.20517861, 76407.30998092, 17024.22267034,\n",
       "        17024.22267034, 21413.44875738, 17648.02615045, 15520.6230596 ,\n",
       "        17710.6299348 , 17710.6299348 , 42551.49515027, 28959.63923037,\n",
       "        33874.01718289, 27995.52424438, 23563.88678396, 23563.88678396,\n",
       "        23563.88678396, 42265.57305658],\n",
       "       [45969.10518945,  7693.11944183, 13579.7980208 , 10275.00193937,\n",
       "        10275.00193937,  4773.49693361,  5002.69031742, 20274.47419033,\n",
       "         4634.20517861,     0.        , 78147.86388177, 21128.30765753,\n",
       "        21128.30765753, 21068.64142979, 21607.48762066, 14821.26940685,\n",
       "        21643.75124841, 21643.75124841, 44971.66206136, 25843.09156956,\n",
       "        31065.26094347, 25240.59957593, 26930.10382041, 26930.10382041,\n",
       "        26930.10382041, 44520.87938669],\n",
       "       [33802.15164739, 79034.58469798, 68648.71318283, 69477.27953606,\n",
       "        69477.27953606, 77734.6618035 , 73150.62584111, 67881.14626208,\n",
       "        76407.30998092, 78147.86388177,     0.        , 63954.43576984,\n",
       "        63954.43576984, 59077.33761654, 62669.80238706, 64830.45776542,\n",
       "        62481.21292971, 62481.21292971, 34870.42480414, 69940.51880714,\n",
       "        66874.50781742, 67364.05450508, 55350.08643878, 55350.08643878,\n",
       "        55350.08643878, 34648.0551703 ],\n",
       "       [30159.61306314, 27162.27787446,  7548.69283566, 11240.31135346,\n",
       "        11240.31135346, 24187.32438454, 17895.81461709,  4117.02668674,\n",
       "        17024.22267034, 21128.30765753, 63954.43576984,     0.        ,\n",
       "            0.        , 22173.29539166,  1339.27457677, 20108.06492639,\n",
       "         1551.92773494,  1551.92773494, 29090.42367266, 37119.73050655,\n",
       "        40317.28789189, 35034.60182044,  8606.78919643,  8606.78919643,\n",
       "         8606.78919643, 29364.99931534],\n",
       "       [30159.61306314, 27162.27787446,  7548.69283566, 11240.31135346,\n",
       "        11240.31135346, 24187.32438454, 17895.81461709,  4117.02668674,\n",
       "        17024.22267034, 21128.30765753, 63954.43576984,     0.        ,\n",
       "            0.        , 22173.29539166,  1339.27457677, 20108.06492639,\n",
       "         1551.92773494,  1551.92773494, 29090.42367266, 37119.73050655,\n",
       "        40317.28789189, 35034.60182044,  8606.78919643,  8606.78919643,\n",
       "         8606.78919643, 29364.99931534],\n",
       "       [30104.64296159, 20096.97052889, 19330.59832359, 16821.6344986 ,\n",
       "        16821.6344986 , 19265.35369654, 16421.3886581 , 25051.92106943,\n",
       "        21413.44875738, 21068.64142979, 59077.33761654, 22173.29539166,\n",
       "        22173.29539166,     0.        , 21357.89993222,  6274.70301005,\n",
       "        21193.02272354, 21193.02272354, 29323.38281494, 16868.59164909,\n",
       "        18700.573534  , 14245.8425641 , 20274.36953125, 20274.36953125,\n",
       "        20274.36953125, 28238.05984785],\n",
       "       [28882.73717912, 27377.24959714,  8096.81936632, 11523.23179403,\n",
       "        11523.23179403, 24455.02591367, 18130.99894833,  5455.81211469,\n",
       "        17648.02615045, 21607.48762066, 62669.80238706,  1339.27457677,\n",
       "         1339.27457677, 21357.89993222,     0.        , 19628.82283605,\n",
       "          217.70516433,   217.70516433, 27813.43582332, 36612.30129998,\n",
       "        39660.40445368, 34462.73255085,  7321.24054282,  7321.24054282,\n",
       "         7321.24054282, 28064.97833013],\n",
       "       [34580.30227993, 14210.30215964, 15394.42867907, 12075.63411835,\n",
       "        12075.63411835, 13083.39280993, 10305.66973771, 22137.25564318,\n",
       "        15520.6230596 , 14821.26940685, 64830.45776542, 20108.06492639,\n",
       "        20108.06492639,  6274.70301005, 19628.82283605,     0.        ,\n",
       "        19512.77495504, 19512.77495504, 33705.00529841, 17013.10583445,\n",
       "        20544.57845175, 15014.88445367, 20774.34997551, 20774.34997551,\n",
       "        20774.34997551, 32839.0467418 ],\n",
       "       [28696.90658323, 27367.83814303,  8156.7316142 , 11533.42797461,\n",
       "        11533.42797461, 24455.02141346, 18128.03627388,  5668.95356992,\n",
       "        17710.6299348 , 21643.75124841, 62481.21292971,  1551.92773494,\n",
       "         1551.92773494, 21193.02272354,   217.70516433, 19512.77495504,\n",
       "            0.        ,     0.        , 27627.61151396, 36489.03672064,\n",
       "        39515.45835697, 34330.32566199,  7135.55631416,  7135.55631416,\n",
       "         7135.55631416, 27872.15741648],\n",
       "       [28696.90658323, 27367.83814303,  8156.7316142 , 11533.42797461,\n",
       "        11533.42797461, 24455.02141346, 18128.03627388,  5668.95356992,\n",
       "        17710.6299348 , 21643.75124841, 62481.21292971,  1551.92773494,\n",
       "         1551.92773494, 21193.02272354,   217.70516433, 19512.77495504,\n",
       "            0.        ,     0.        , 27627.61151396, 36489.03672064,\n",
       "        39515.45835697, 34330.32566199,  7135.55631416,  7135.55631416,\n",
       "         7135.55631416, 27872.15741648],\n",
       "       [ 1069.30151348, 47450.59580049, 34145.93737787, 35489.04559432,\n",
       "        35489.04559432, 45527.93975808, 40112.5367807 , 33011.94629059,\n",
       "        42551.49515027, 44971.66206136, 34870.42480414, 29090.42367266,\n",
       "        29090.42367266, 29323.38281494, 27813.43582332, 33705.00529841,\n",
       "        27627.61151396, 27627.61151396,     0.        , 44668.06918447,\n",
       "        44062.57715937, 41835.41941132, 20492.29748811, 20492.29748811,\n",
       "        20492.29748811,  1832.37987376],\n",
       "       [45291.68637136, 19708.74021684, 31997.1365059 , 28237.14733141,\n",
       "        28237.14733141, 21457.81361142, 23709.23537888, 39038.83075782,\n",
       "        28959.63923037, 25843.09156956, 69940.51880714, 37119.73050655,\n",
       "        37119.73050655, 16868.59164909, 36612.30129998, 17013.10583445,\n",
       "        36489.03672064, 36489.03672064, 44668.06918447,     0.        ,\n",
       "         5692.88073118,  2832.90405863, 36883.0780092 , 36883.0780092 ,\n",
       "        36883.0780092 , 43304.30979381],\n",
       "       [44571.40787799, 25269.06781593, 35911.11443521, 32377.15705331,\n",
       "        32377.15705331, 26842.40972574, 28494.87889077, 42641.42813149,\n",
       "        33874.01718289, 31065.26094347, 66874.50781742, 40317.28789189,\n",
       "        40317.28789189, 18700.573534  , 39660.40445368, 20544.57845175,\n",
       "        39515.45835697, 39515.45835697, 44062.57715937,  5692.88073118,\n",
       "            0.        ,  5878.75613991, 38953.16231725, 38953.16231725,\n",
       "        38953.16231725, 42552.0754054 ],\n",
       "       [42458.8431502 , 19736.41333726, 30267.40784178, 26641.82376006,\n",
       "        26641.82376006, 21112.25848574, 22617.929118  , 37148.97769668,\n",
       "        27995.52424438, 25240.59957593, 67364.05450508, 35034.60182044,\n",
       "        35034.60182044, 14245.8425641 , 34462.73255085, 15014.88445367,\n",
       "        34330.32566199, 34330.32566199, 41835.41941132,  2832.90405863,\n",
       "         5878.75613991,     0.        , 34401.30496539, 34401.30496539,\n",
       "        34401.30496539, 40471.74043642],\n",
       "       [21561.59842308, 31516.12388168, 14311.20191734, 16694.05076534,\n",
       "        16694.05076534, 28893.23862792, 22686.27877703, 12604.8766553 ,\n",
       "        23563.88678396, 26930.10382041, 55350.08643878,  8606.78919643,\n",
       "         8606.78919643, 20274.36953125,  7321.24054282, 20774.34997551,\n",
       "         7135.55631416,  7135.55631416, 20492.29748811, 36883.0780092 ,\n",
       "        38953.16231725, 34401.30496539,     0.        ,     0.        ,\n",
       "            0.        , 20761.81636127],\n",
       "       [21561.59842308, 31516.12388168, 14311.20191734, 16694.05076534,\n",
       "        16694.05076534, 28893.23862792, 22686.27877703, 12604.8766553 ,\n",
       "        23563.88678396, 26930.10382041, 55350.08643878,  8606.78919643,\n",
       "         8606.78919643, 20274.36953125,  7321.24054282, 20774.34997551,\n",
       "         7135.55631416,  7135.55631416, 20492.29748811, 36883.0780092 ,\n",
       "        38953.16231725, 34401.30496539,     0.        ,     0.        ,\n",
       "            0.        , 20761.81636127],\n",
       "       [21561.59842308, 31516.12388168, 14311.20191734, 16694.05076534,\n",
       "        16694.05076534, 28893.23862792, 22686.27877703, 12604.8766553 ,\n",
       "        23563.88678396, 26930.10382041, 55350.08643878,  8606.78919643,\n",
       "         8606.78919643, 20274.36953125,  7321.24054282, 20774.34997551,\n",
       "         7135.55631416,  7135.55631416, 20492.29748811, 36883.0780092 ,\n",
       "        38953.16231725, 34401.30496539,     0.        ,     0.        ,\n",
       "            0.        , 20761.81636127],\n",
       "       [ 2022.83976311, 46722.90102255, 34087.44671614, 35226.68317404,\n",
       "        35226.68317404, 44892.32640953, 39616.16243652, 33352.61020994,\n",
       "        42265.57305658, 44520.87938669, 34648.0551703 , 29364.99931534,\n",
       "        29364.99931534, 28238.05984785, 28064.97833013, 32839.0467418 ,\n",
       "        27872.15741648, 27872.15741648,  1832.37987376, 43304.30979381,\n",
       "        42552.0754054 , 40471.74043642, 20761.81636127, 20761.81636127,\n",
       "        20761.81636127,     0.        ]])"
      ]
     },
     "execution_count": 36,
     "metadata": {},
     "output_type": "execute_result"
    }
   ],
   "source": [
    "Task.distance"
   ]
  },
  {
   "cell_type": "code",
   "execution_count": 37,
   "id": "815b4d93",
   "metadata": {},
   "outputs": [],
   "source": [
    "opening_time = np.array([Task.list[i].opening_time for i in range(V)])\n",
    "closing_time = np.array([Task.list[i].closing_time for i in range(V)])\n",
    "duration = np.array([Task.list[i].duration for i in range(V)])\n",
    "\n",
    "M = 1000000"
   ]
  },
  {
   "cell_type": "code",
   "execution_count": 38,
   "id": "a179acae",
   "metadata": {},
   "outputs": [],
   "source": [
    "def parse_time(time):\n",
    "    if type(time) == str:\n",
    "        return datetime.strptime(time, '%I:%M%p')\n",
    "    return time\n",
    "\n",
    "def conversion(time):\n",
    "    return 60 * time.hour + time.minute"
   ]
  },
  {
   "cell_type": "code",
   "execution_count": 41,
   "id": "7113eb6d",
   "metadata": {
    "pycharm": {
     "name": "#%%\n"
    }
   },
   "outputs": [],
   "source": [
    "m = Model(\"DB\")\n",
    "\n",
    "X = {(i, j) : m.addVar(vtype = GRB.BINARY, name = f'x{i}_{j}') for i in range(0,V) for j in range(0,V)}\n",
    "Y = {(k, i) : m.addVar(vtype = GRB.BINARY, name = f'y{k}_{i}') for k in range(0,T) for i in range(0,V)}\n",
    "B = {i : m.addVar(vtype = GRB.CONTINUOUS, name = f'b{i}') for i in range(0,V)}\n",
    "T_actif = m.addVar(vtype = GRB.INTEGER, name = 'T_actif')\n",
    "\n",
    "#C1\n",
    "# C1 = m.addConstr(quicksum([X[(i,j)] for i in range(0,V) for j in range(0,V)]) == T_actif + V - 1, name =\"C1\")\n",
    "\n",
    "#C2\n",
    "C2 = m.addConstr(quicksum([X[(i,0)] for i in range(1,V)]) == T_actif, name=\"C2\")\n",
    "C2b = m.addConstr(quicksum([X[(0,i)] for i in range(1,V)]) == T_actif, name=\"C2b\")\n",
    "\n",
    "#C3\n",
    "C3_entrée = dict()\n",
    "C3_sortie = dict()\n",
    "for i in range(1,V):\n",
    "    C3_entrée[i] = m.addConstr(quicksum([X[(i,j)] for j in range(V)]) == 1, name = f'c3e{i}')\n",
    "    C3_sortie[i] = m.addConstr(quicksum([X[(j,i)] for j in range(V)]) == 1, name = f'c3s{i}')\n",
    "\n",
    "#C4\n",
    "C4 = {(i,j,k) : m.addConstr(Y[(k,i)] <= Y[(k,j)] + M*(1-X[(i,j)]), name=\"C4\") for i in range(1,V) for j in range(1,V) for k in range(T)}\n",
    "C4b = {(i,j,k) : m.addConstr(Y[(k,i)] >= Y[(k,j)] + M*(1-X[(i,j)]), name=\"C4b\") for i in range(1,V) for j in range(1,V) for k in range(T)}\n",
    "\n",
    "#C5\n",
    "C5o = dict()\n",
    "C5c = dict()\n",
    "for i in range(1,V):\n",
    "    C5o[i] = m.addConstr(B[i] >= Task.list[i].opening_time)\n",
    "    C5c[i] = m.addConstr(Task.list[i].duration + B[i] <= Task.list[i].closing_time)\n",
    "\n",
    "#C6\n",
    "C6 = {(i,j) : m.addConstr(B[i] + duration[i] + Task.distance[i,j]/Employee.speed <= B[j] + M*(1-X[(i,j)]), name=\"C6\") for i in range(1,V) for j in range(1,V)}\n",
    "\n",
    "#C7\n",
    "C7 = {(k,i) : m.addConstr(Employee.list[k].start_time + (Task.distance[0,i]/Employee.speed) - (2 - Y[(k,i)] - X[(i,0)]) * M <= B[i]) for k in range(0,T) for i in range(0,V)}\n",
    "\n",
    "#C8\n",
    "C8 = {(k,i) : m.addConstr(B[i] + duration[i] + Task.distance[0,i]/Employee.speed <= Employee.list[k].end_time + M*(2-Y[(k,i)]-X[(i,0)]), name=\"C8\") for k in range(T) for i in range(1,V)}\n",
    "\n",
    "#C9\n",
    "C9 = {(k,i) : m.addConstr(Employee.list[k].level >= Task.list[i].level - M * (1 - Y[(k,i)]))  for k in range(T) for i in range(1,V)}\n",
    "\n",
    "#C10\n",
    "C10 = {i : m.addConstr(quicksum([Y[(k,i)] for k in range(T)]) == 1, name=\"C10\") for i in range(1,V)}"
   ]
  },
  {
   "cell_type": "code",
   "execution_count": 42,
   "id": "534d893a",
   "metadata": {
    "pycharm": {
     "name": "#%%\n"
    }
   },
   "outputs": [],
   "source": [
    "m.setObjective(quicksum([X[(i,j)] * Task.distance[i,j] for i in range(V) for j in range(V)]), GRB.MINIMIZE)"
   ]
  },
  {
   "cell_type": "code",
   "execution_count": 43,
   "id": "44d46387",
   "metadata": {
    "pycharm": {
     "name": "#%%\n"
    }
   },
   "outputs": [
    {
     "name": "stdout",
     "output_type": "stream",
     "text": [
      "Gurobi Optimizer version 9.5.0 build v9.5.0rc5 (win64)\n",
      "Thread count: 4 physical cores, 8 logical processors, using up to 8 threads\n",
      "Optimize a model with 6056 rows, 807 columns and 18639 nonzeros\n",
      "Model fingerprint: 0x22574bba\n",
      "Variable types: 26 continuous, 781 integer (780 binary)\n",
      "Coefficient statistics:\n",
      "  Matrix range     [1e+00, 1e+06]\n",
      "  Objective range  [2e+02, 8e+04]\n",
      "  Bounds range     [1e+00, 1e+00]\n",
      "  RHS range        [1e+00, 2e+06]\n",
      "Presolve removed 184 rows and 6 columns\n",
      "Presolve time: 0.00s\n",
      "\n",
      "Explored 0 nodes (0 simplex iterations) in 0.02 seconds (0.00 work units)\n",
      "Thread count was 1 (of 8 available processors)\n",
      "\n",
      "Solution count 0\n",
      "\n",
      "Model is infeasible\n",
      "Best objective -, best bound -, gap -\n",
      "3\n"
     ]
    }
   ],
   "source": [
    "m.update()\n",
    "m.optimize()\n",
    "print(m.status)"
   ]
  },
  {
   "cell_type": "code",
   "execution_count": null,
   "id": "4d95da51",
   "metadata": {},
   "outputs": [],
   "source": [
    "\n"
   ]
  },
  {
   "cell_type": "code",
   "execution_count": null,
   "id": "2dbdb2db",
   "metadata": {},
   "outputs": [],
   "source": [
    "\n",
    "    "
   ]
  },
  {
   "cell_type": "code",
   "execution_count": null,
   "id": "8f527bf7",
   "metadata": {},
   "outputs": [],
   "source": []
  }
 ],
 "metadata": {
  "kernelspec": {
   "display_name": "Python 3 (ipykernel)",
   "language": "python",
   "name": "python3"
  },
  "language_info": {
   "codemirror_mode": {
    "name": "ipython",
    "version": 3
   },
   "file_extension": ".py",
   "mimetype": "text/x-python",
   "name": "python",
   "nbconvert_exporter": "python",
   "pygments_lexer": "ipython3",
   "version": "3.8.5"
  }
 },
 "nbformat": 4,
 "nbformat_minor": 5
}
