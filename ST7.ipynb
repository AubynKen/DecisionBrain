{
 "cells": [
  {
   "cell_type": "markdown",
   "id": "ebcd1aa6",
   "metadata": {
    "collapsed": false,
    "pycharm": {
     "name": "#%% md\n"
    }
   },
   "source": [
    "# ST7 Planification quotidienne d’une équipe mobile"
   ]
  },
  {
   "cell_type": "code",
   "execution_count": 1,
   "metadata": {},
   "outputs": [],
   "source": [
    "# Modules de base\n",
    "import numpy as np\n",
    "import matplotlib.pyplot as plt\n",
    "%matplotlib inline\n",
    "\n",
    "# Module relatif à Gurobi\n",
    "from gurobipy import *"
   ]
  },
  {
   "cell_type": "markdown",
   "id": "e2ddd5c9",
   "metadata": {
    "collapsed": false,
    "pycharm": {
     "name": "#%% md\n"
    }
   },
   "source": [
    "## Formulation du problème\n",
    "\n",
    "### Notation\n",
    "- $ V $ : Nombre de tâches + 1 (V pour vertex)\n",
    "- $ T $ : Nombre de techniciens\n",
    "- $ i, j \\in \\{0, ..., V - 1\\} $ : les indices des tâches\n",
    "- $ k \\in \\{0, ..., T - 1 \\} $ : les indices des techniciens\n",
    "- $ (opening_i)_i $ : l’ouverture des sites\n",
    "- $ (closing_i)_i $ : la fermeture des sites\n",
    "- $ (start_k)_k $ : le début de travail des employés\n",
    "- $ (end_k)_k $ : la fin de travail de chaque employé\n",
    "- $ (duration_i)_i $ : la durée de chaque tâche\n",
    "- $ (distance_{i, j}) $ : la distance entre les sites\n",
    "- $ speed $ : la vitesse de déplacement des techniciens\n",
    "- $ M $ : majorant pour notre problème\n",
    "\n",
    "\n",
    "\n",
    "### Variables de décisions\n",
    "- $ \\tilde{T} $ : Le nombre de techniciens actifs (avec une tâche ou plus)\n",
    "- $ (x_{i, j})_{i, j} $, $ x_{i, j} = 1 $ ssi. (i, j) est un arc de i vers j\n",
    "- $ (y_{k, i})_{k, i} $, $ y_{k, i} = 1 $ ssi. le technicien k effectue la tâche i\n",
    "- $ (b_i)_i $, $B_i$ est le début de chaque tâche en minute (b pour beginning)\n",
    "\n",
    "\n",
    "### Objectif d’optimisation\n",
    "$$ min \\sum_{i, j} x_{i, j} \\cdot distance_{i, j} $$\n",
    "\n",
    "\n",
    "### Contraintes\n",
    "- (C1) : Il n’y a qu’une seule composante connexe dans le graphe des parcours\n",
    "$$ \\sum_{i, j} x_{i, j} = \\tilde{T} + (V - 1) $$\n",
    "- (C2) Il y a autant d’arcs sortant/entrant au dépôt que de techniciens actifs\n",
    "$$ \\tilde{T} = \\sum_i x_{0, i} = \\sum_i x_{i, 0}$$\n",
    "- (C3) Le site de chaque tâche est visité par exactement un technicien\n",
    "$$ \\forall i > 0, \\sum_j x_{i, j} = \\sum_j x_{j, i} = 1 $$\n",
    "- (C4) Deux tâches qui se suivent doivent être faites par le même technicien\n",
    "$$ \\forall i, j > 0, x_{i, j} \\implies \\forall k, y_{k, i} = y_{k, j}$$\n",
    "- (C5) Lorsqu’un travail est effectué sur une tâche, la tâche doit être disponible.\n",
    "$$ \\forall i > 0, (b_i \\ge opening_i) \\land (b_i + duration_i \\le closing_i) $$\n",
    "- (C6) La fenêtre de temps entre deux travaux doit être suffisante pour le trajet\n",
    "$$ \\forall i, j > 0, x_{i, j} = 1 \\implies b_i + duration_i + \\frac{distance_{i, j}}{speed} \\le b_j \\\\\n",
    "\\Longleftrightarrow \\forall i, j > 0, b_i + duration_i + \\frac{distance_{i, j}}{speed} \\le b_j + M \\cdot (1-x_{i, j}) $$\n",
    "- (C7) Un technicien doit avoir suffisamment de temps pour aller à son premier site\n",
    "$$ \\forall k > 0, \\forall i > 0, y_{k, i} \\land x_{0, i} \\implies start_k + \\frac{distance_{0, i}}{speed} \\le b_i \\\\\n",
    "\\Longleftrightarrow \\forall k > 0, \\forall i > 0, start_k + \\frac{distance_{0, i}}{speed} \\le b_i + (2 - y_{k, i} - x_{0, i}) \\cdot M $$\n",
    "- (C8) Un technicien doit avoir suffisamment de temps pour rentrer au dépot après sa dernière tâche\n",
    "$$ \\forall k > 0, \\forall i > 0, y_{k, i} \\land x_{i, 0} \\implies b_i + duration_i + \\frac{distance_{i, 0}}{speed} \\le end_k \\\\\n",
    "\\Longleftrightarrow \\forall k > 0, \\forall i > 0, b_i + duration_i + \\frac{distance_{i, 0}}{speed} \\le end_k + (2 - y_{k, i} - x_{i, 0}) \\cdot M $$\n",
    "- (C9) Un technicien n’effectue que des tâches qu’il est capable d’effectuer\n",
    "$$ \\forall k > 0, \\forall i > 0, levelTech_k \\ge levelTask_i - M \\cdot (1 - y_{k, i}) $$\n",
    "- (C10) Une tâche est réalisée par un seul employé\n",
    "$$ \\forall i > 0, \\sum_k y_{k, i} = 1 $$\n",
    "\n"
   ]
  },
  {
   "cell_type": "markdown",
   "id": "c24cd617",
   "metadata": {
    "collapsed": false,
    "pycharm": {
     "name": "#%% md\n"
    }
   },
   "source": [
    "## Variables de décisions\n",
    "$ X \\in R_{V + 1 \\times V + 1}$"
   ]
  },
  {
   "cell_type": "code",
   "execution_count": 2,
   "id": "88651692",
   "metadata": {
    "collapsed": false,
    "pycharm": {
     "name": "#%%\n"
    }
   },
   "outputs": [],
   "source": [
    "import pandas as pd\n",
    "import numpy as np\n",
    "from datetime import datetime\n",
    "from math import radians, cos, sin, asin, sqrt\n",
    "from utils import parse_time_minute, parse_time\n",
    "\n",
    "\n",
    "class Employee:\n",
    "    list = []  # initialized to empty list\n",
    "    count = 0\n",
    "    speed = 50 * 1000 / 60  # unit: meter/minute\n",
    "\n",
    "    def __init__(self, name: str, latitude: float, longitude: float, skill: str, level: int, start_time, end_time):\n",
    "        self.name = name\n",
    "        self.latitude = latitude\n",
    "        self.longitude = longitude\n",
    "        self.skill = skill\n",
    "        self.level = level\n",
    "        self.start_time_str = parse_time(start_time)  # parse time into datetime object for printing\n",
    "        self.end_time_str = parse_time(end_time)\n",
    "        self.start_time = parse_time_minute(start_time)  # parse time into minutes\n",
    "        self.end_time = parse_time_minute(end_time)\n",
    "        Employee.count += 1\n",
    "        Employee.list.append(self)\n",
    "\n",
    "    @classmethod\n",
    "    def load_excel(cls, path):\n",
    "        df_employees = pd.read_excel(path, sheet_name=\"Employees\")\n",
    "        df_employees.set_index(\"EmployeeName\")\n",
    "\n",
    "        for index, row in df_employees.iterrows():\n",
    "            Employee(row[\"EmployeeName\"],\n",
    "                     row[\"Latitude\"],\n",
    "                     row[\"Longitude\"],\n",
    "                     row[\"Skill\"],\n",
    "                     row[\"Level\"],\n",
    "                     row[\"WorkingStartTime\"],\n",
    "                     row[\"WorkingEndTime\"])\n",
    "\n",
    "    def __hash__(self):\n",
    "        return hash(self.name)\n",
    "\n",
    "    def __eq__(self, other):\n",
    "        return self.name == other.name\n",
    "\n",
    "    def __str__(self):\n",
    "        return self.name\n",
    "\n",
    "    def __repr__(self):\n",
    "        return f\"Employee(name={self.name}, \" \\\n",
    "               f\"position=[{self.longitude}, {self.latitude}], \" \\\n",
    "               f\"skill_requirement=level {self.level} {self.skill},\" \\\n",
    "               f\"available=[{self.start_time_str.strftime('%I:%M%p')}, {self.end_time_str.strftime('%I:%M%p')}] )\"\n",
    "\n",
    "\n",
    "class Task:\n",
    "    list = []\n",
    "    count = 0\n",
    "    distance: np.array = None\n",
    "    __is_initialized = False\n",
    "\n",
    "    def __init__(self, task_id, latitude, longitude, duration, skill, level, opening_time, closing_time):\n",
    "        if Task.__is_initialized:\n",
    "            raise Exception(\"Cannot instantiate new task after initializing the distance matrix\")\n",
    "        self.id = task_id\n",
    "        self.latitude = latitude\n",
    "        self.longitude = longitude\n",
    "        self.duration = duration\n",
    "        self.skill = skill\n",
    "        self.level = level\n",
    "        self.opening_time_str = parse_time(opening_time)\n",
    "        self.closing_time_str = parse_time(closing_time)\n",
    "        self.opening_time = parse_time_minute(opening_time)\n",
    "        self.closing_time = parse_time_minute(closing_time)\n",
    "\n",
    "        Task.list.append(self)\n",
    "        Task.count += 1\n",
    "\n",
    "    @classmethod\n",
    "    def load_excel(cls, path, initialize_distance=False, load_depot=False):\n",
    "\n",
    "        # create a dummy task at position 0 for depot\n",
    "        if load_depot:\n",
    "            df_employees = pd.read_excel(path, sheet_name=\"Employees\")\n",
    "            depot_longitude = df_employees.iloc[0][\"Longitude\"]\n",
    "            depot_latitude = df_employees.iloc[0][\"Latitude\"]\n",
    "            Task(\"T0\", depot_latitude, depot_longitude, 0, None, 0, None, None)\n",
    "\n",
    "        df = pd.read_excel(path, sheet_name=\"Tasks\")\n",
    "        df.set_index(\"TaskId\")\n",
    "\n",
    "        for index, row in df.iterrows():\n",
    "            # parse the start time and end time into datetime object\n",
    "            opening_time = datetime.strptime(row[\"OpeningTime\"], '%I:%M%p')\n",
    "            closing_time = datetime.strptime(row[\"ClosingTime\"], '%I:%M%p')\n",
    "\n",
    "            Task(row[\"TaskId\"],\n",
    "                 row[\"Latitude\"],\n",
    "                 row[\"Longitude\"],\n",
    "                 row[\"TaskDuration\"],\n",
    "                 row[\"Skill\"],\n",
    "                 row[\"Level\"],\n",
    "                 opening_time,\n",
    "                 closing_time)\n",
    "\n",
    "        if initialize_distance:\n",
    "            cls.initialize_distance()\n",
    "\n",
    "    @staticmethod\n",
    "    def calculate_distance(task1, task2):\n",
    "        lon1, lat1 = radians(task1.longitude), radians(task1.latitude)\n",
    "        lon2, lat2 = radians(task2.longitude), radians(task2.latitude)\n",
    "\n",
    "        # Haversine formula\n",
    "        dlon = lon2 - lon1\n",
    "        dlat = lat2 - lat1\n",
    "        a = sin(dlat / 2) ** 2 + cos(lat1) * cos(lat2) * sin(dlon / 2) ** 2\n",
    "        c = 2 * asin(sqrt(a))\n",
    "        r = 6371 * 1000  # radius of earth\n",
    "        return c * r\n",
    "\n",
    "    @classmethod\n",
    "    def initialize_distance(cls):\n",
    "        if cls.__is_initialized:\n",
    "            raise Exception(\"Distance has already been initialized\")\n",
    "        cls.__is_initialized = True\n",
    "        cls.distance = np.zeros((cls.count, cls.count), dtype=np.float64)\n",
    "\n",
    "        for i in range(cls.count):\n",
    "            for j in range(i):\n",
    "                task_i, task_j = cls.list[i], cls.list[j]\n",
    "                cls.distance[i, j] = cls.distance[j, i] = cls.calculate_distance(task_i, task_j)\n",
    "\n",
    "    def __hash__(self):\n",
    "        return hash(self.id)\n",
    "\n",
    "    def __eq__(self, other):\n",
    "        return self.id == other.id\n",
    "\n",
    "    def __repr__(self):\n",
    "        return f\"Task(id={self.id}, \" \\\n",
    "               f\"position=[{self.longitude}, {self.latitude}], \" \\\n",
    "               f\"duration={self.duration}, \" \\\n",
    "               f\"skill_requirement=level {self.level} {self.skill},\" \\\n",
    "               f\"opening_time=[{self.opening_time_str.strftime('%I:%M%p')} to {self.closing_time_str.strftime('%I:%M%p')}]\"\n"
   ]
  },
  {
   "cell_type": "code",
   "execution_count": 3,
   "metadata": {
    "collapsed": false,
    "pycharm": {
     "name": "#%%\n"
    }
   },
   "outputs": [],
   "source": [
    "# module imports\n",
    "# from models_v1 import Employee, Task\n",
    "from file_paths import path_finland\n",
    "from gurobipy import Model, GRB"
   ]
  },
  {
   "cell_type": "code",
   "execution_count": 4,
   "metadata": {
    "collapsed": false,
    "pycharm": {
     "name": "#%%\n"
    }
   },
   "outputs": [],
   "source": [
    "# reading dataframe into python objects\n",
    "Employee.load_excel(path_finland)\n",
    "Task.load_excel(path_finland, initialize_distance=True, load_depot=True)"
   ]
  },
  {
   "cell_type": "code",
   "execution_count": 5,
   "id": "ff10c9ff",
   "metadata": {},
   "outputs": [],
   "source": [
    "V = len(Employee.list)\n",
    "T = len(Task.list)"
   ]
  },
  {
   "cell_type": "code",
   "execution_count": 6,
   "metadata": {
    "collapsed": false,
    "pycharm": {
     "name": "#%%\n"
    }
   },
   "outputs": [
    {
     "data": {
      "text/plain": [
       "Task(id=T1, position=[24.850606, 61.178837], duration=40, skill_requirement=level 1 Plumbing,opening_time=[08:00AM to 06:00PM]"
      ]
     },
     "execution_count": 6,
     "metadata": {},
     "output_type": "execute_result"
    }
   ],
   "source": [
    "# test on Task object\n",
    "Task.list[1]"
   ]
  },
  {
   "cell_type": "code",
   "execution_count": 7,
   "metadata": {
    "collapsed": false,
    "pycharm": {
     "name": "#%%\n"
    }
   },
   "outputs": [
    {
     "data": {
      "text/plain": [
       "(26, 4)"
      ]
     },
     "execution_count": 7,
     "metadata": {},
     "output_type": "execute_result"
    }
   ],
   "source": [
    "V = Task.count\n",
    "T = Employee.count\n",
    "(V, T)"
   ]
  },
  {
   "cell_type": "code",
   "execution_count": 8,
   "metadata": {
    "collapsed": false,
    "pycharm": {
     "name": "#%%\n"
    }
   },
   "outputs": [
    {
     "data": {
      "text/plain": [
       "array([[    0.        , 48375.80567912, 35201.43297555, 36519.64027781,\n",
       "        36519.64027781, 46480.09943848, 41099.14286807, 34079.67007868,\n",
       "        43579.40710533, 45969.10518946, 33802.15164739, 30159.61306314,\n",
       "        30159.61306314, 30104.64296159, 28882.73717912, 34580.30227993,\n",
       "        28696.90658324, 28696.90658324,  1069.30151348, 45291.68637136,\n",
       "        44571.40787799, 42458.8431502 , 21561.59842308, 21561.59842308,\n",
       "        21561.59842308,  2022.83976311],\n",
       "       [48375.80567912,     0.        , 19831.54439314, 15925.08267198,\n",
       "        15925.08267198,  3124.49393092,  9266.67972921, 27039.20546763,\n",
       "        12154.80032663,  7693.11944183, 79034.58469799, 27162.27787446,\n",
       "        27162.27787446, 20096.97052889, 27377.24959714, 14210.30215964,\n",
       "        27367.83814303, 27367.83814303, 47450.59580049, 19708.74021684,\n",
       "        25269.06781593, 19736.41333726, 31516.12388168, 31516.12388168,\n",
       "        31516.12388168, 46722.90102255],\n",
       "       [35201.43297555, 19831.54439314,     0.        ,  4073.04198591,\n",
       "         4073.04198591, 16792.17116271, 10609.91620635,  7410.52252681,\n",
       "         9554.16344383, 13579.7980208 , 68648.71318283,  7548.69283566,\n",
       "         7548.69283566, 19330.59832359,  8096.81936632, 15394.42867907,\n",
       "         8156.7316142 ,  8156.7316142 , 34145.93737787, 31997.1365059 ,\n",
       "        35911.11443521, 30267.40784178, 14311.20191734, 14311.20191734,\n",
       "        14311.20191734, 34087.44671614],\n",
       "       [36519.64027781, 15925.08267198,  4073.04198591,     0.        ,\n",
       "            0.        , 12950.89631436,  6658.97373057, 11483.12572802,\n",
       "         7070.55274893, 10275.00193937, 69477.27953607, 11240.31135346,\n",
       "        11240.31135346, 16821.6344986 , 11523.23179403, 12075.63411835,\n",
       "        11533.42797461, 11533.42797461, 35489.04559432, 28237.14733141,\n",
       "        32377.15705331, 26641.82376007, 16694.05076534, 16694.05076534,\n",
       "        16694.05076534, 35226.68317404],\n",
       "       [36519.64027781, 15925.08267198,  4073.04198591,     0.        ,\n",
       "            0.        , 12950.89631436,  6658.97373057, 11483.12572802,\n",
       "         7070.55274893, 10275.00193937, 69477.27953607, 11240.31135346,\n",
       "        11240.31135346, 16821.6344986 , 11523.23179403, 12075.63411835,\n",
       "        11533.42797461, 11533.42797461, 35489.04559432, 28237.14733141,\n",
       "        32377.15705331, 26641.82376007, 16694.05076534, 16694.05076534,\n",
       "        16694.05076534, 35226.68317404],\n",
       "       [46480.09943848,  3124.49393092, 16792.17116271, 12950.89631436,\n",
       "        12950.89631436,     0.        ,  6332.0579754 , 23949.52206947,\n",
       "         9079.61182762,  4773.49693361, 77734.6618035 , 24187.32438454,\n",
       "        24187.32438454, 19265.35369654, 24455.02591367, 13083.39280993,\n",
       "        24455.02141345, 24455.02141345, 45527.93975808, 21457.81361143,\n",
       "        26842.40972574, 21112.25848574, 28893.23862792, 28893.23862792,\n",
       "        28893.23862792, 44892.32640953],\n",
       "       [41099.14286807,  9266.67972921, 10609.91620635,  6658.97373057,\n",
       "         6658.97373057,  6332.0579754 ,     0.        , 17922.80150853,\n",
       "         5462.97565973,  5002.69031742, 73150.62584111, 17895.81461709,\n",
       "        17895.81461709, 16421.3886581 , 18130.99894833, 10305.66973771,\n",
       "        18128.03627388, 18128.03627388, 40112.5367807 , 23709.23537888,\n",
       "        28494.87889077, 22617.929118  , 22686.27877703, 22686.27877703,\n",
       "        22686.27877703, 39616.16243652],\n",
       "       [34079.67007868, 27039.20546763,  7410.52252681, 11483.12572802,\n",
       "        11483.12572802, 23949.52206947, 17922.80150853,     0.        ,\n",
       "        15803.67094964, 20274.47419033, 67881.14626208,  4117.02668674,\n",
       "         4117.02668674, 25051.92106943,  5455.81211469, 22137.25564318,\n",
       "         5668.95356992,  5668.95356992, 33011.94629059, 39038.83075782,\n",
       "        42641.42813149, 37148.97769669, 12604.8766553 , 12604.8766553 ,\n",
       "        12604.8766553 , 33352.61020994],\n",
       "       [43579.40710533, 12154.80032663,  9554.16344383,  7070.55274893,\n",
       "         7070.55274893,  9079.61182762,  5462.97565973, 15803.67094964,\n",
       "            0.        ,  4634.20517861, 76407.30998092, 17024.22267034,\n",
       "        17024.22267034, 21413.44875738, 17648.02615045, 15520.6230596 ,\n",
       "        17710.62993479, 17710.62993479, 42551.49515027, 28959.63923038,\n",
       "        33874.01718289, 27995.52424438, 23563.88678396, 23563.88678396,\n",
       "        23563.88678396, 42265.57305658],\n",
       "       [45969.10518946,  7693.11944183, 13579.7980208 , 10275.00193937,\n",
       "        10275.00193937,  4773.49693361,  5002.69031742, 20274.47419033,\n",
       "         4634.20517861,     0.        , 78147.86388177, 21128.30765753,\n",
       "        21128.30765753, 21068.64142979, 21607.48762066, 14821.26940686,\n",
       "        21643.75124841, 21643.75124841, 44971.66206136, 25843.09156956,\n",
       "        31065.26094347, 25240.59957593, 26930.10382041, 26930.10382041,\n",
       "        26930.10382041, 44520.87938669],\n",
       "       [33802.15164739, 79034.58469799, 68648.71318283, 69477.27953607,\n",
       "        69477.27953607, 77734.6618035 , 73150.62584111, 67881.14626208,\n",
       "        76407.30998092, 78147.86388177,     0.        , 63954.43576984,\n",
       "        63954.43576984, 59077.33761654, 62669.80238706, 64830.45776542,\n",
       "        62481.21292971, 62481.21292971, 34870.42480414, 69940.51880714,\n",
       "        66874.50781742, 67364.05450509, 55350.08643878, 55350.08643878,\n",
       "        55350.08643878, 34648.05517031],\n",
       "       [30159.61306314, 27162.27787446,  7548.69283566, 11240.31135346,\n",
       "        11240.31135346, 24187.32438454, 17895.81461709,  4117.02668674,\n",
       "        17024.22267034, 21128.30765753, 63954.43576984,     0.        ,\n",
       "            0.        , 22173.29539166,  1339.27457677, 20108.06492639,\n",
       "         1551.92773494,  1551.92773494, 29090.42367266, 37119.73050655,\n",
       "        40317.2878919 , 35034.60182044,  8606.78919643,  8606.78919643,\n",
       "         8606.78919643, 29364.99931534],\n",
       "       [30159.61306314, 27162.27787446,  7548.69283566, 11240.31135346,\n",
       "        11240.31135346, 24187.32438454, 17895.81461709,  4117.02668674,\n",
       "        17024.22267034, 21128.30765753, 63954.43576984,     0.        ,\n",
       "            0.        , 22173.29539166,  1339.27457677, 20108.06492639,\n",
       "         1551.92773494,  1551.92773494, 29090.42367266, 37119.73050655,\n",
       "        40317.2878919 , 35034.60182044,  8606.78919643,  8606.78919643,\n",
       "         8606.78919643, 29364.99931534],\n",
       "       [30104.64296159, 20096.97052889, 19330.59832359, 16821.6344986 ,\n",
       "        16821.6344986 , 19265.35369654, 16421.3886581 , 25051.92106943,\n",
       "        21413.44875738, 21068.64142979, 59077.33761654, 22173.29539166,\n",
       "        22173.29539166,     0.        , 21357.89993222,  6274.70301004,\n",
       "        21193.02272354, 21193.02272354, 29323.38281494, 16868.59164909,\n",
       "        18700.573534  , 14245.8425641 , 20274.36953125, 20274.36953125,\n",
       "        20274.36953125, 28238.05984786],\n",
       "       [28882.73717912, 27377.24959714,  8096.81936632, 11523.23179403,\n",
       "        11523.23179403, 24455.02591367, 18130.99894833,  5455.81211469,\n",
       "        17648.02615045, 21607.48762066, 62669.80238706,  1339.27457677,\n",
       "         1339.27457677, 21357.89993222,     0.        , 19628.82283605,\n",
       "          217.70516433,   217.70516433, 27813.43582332, 36612.30129998,\n",
       "        39660.40445368, 34462.73255085,  7321.24054282,  7321.24054282,\n",
       "         7321.24054282, 28064.97833013],\n",
       "       [34580.30227993, 14210.30215964, 15394.42867907, 12075.63411835,\n",
       "        12075.63411835, 13083.39280993, 10305.66973771, 22137.25564318,\n",
       "        15520.6230596 , 14821.26940686, 64830.45776542, 20108.06492639,\n",
       "        20108.06492639,  6274.70301004, 19628.82283605,     0.        ,\n",
       "        19512.77495504, 19512.77495504, 33705.00529841, 17013.10583445,\n",
       "        20544.57845176, 15014.88445367, 20774.34997551, 20774.34997551,\n",
       "        20774.34997551, 32839.04674179],\n",
       "       [28696.90658324, 27367.83814303,  8156.7316142 , 11533.42797461,\n",
       "        11533.42797461, 24455.02141345, 18128.03627388,  5668.95356992,\n",
       "        17710.62993479, 21643.75124841, 62481.21292971,  1551.92773494,\n",
       "         1551.92773494, 21193.02272354,   217.70516433, 19512.77495504,\n",
       "            0.        ,     0.        , 27627.61151396, 36489.03672064,\n",
       "        39515.45835697, 34330.32566199,  7135.55631416,  7135.55631416,\n",
       "         7135.55631416, 27872.15741648],\n",
       "       [28696.90658324, 27367.83814303,  8156.7316142 , 11533.42797461,\n",
       "        11533.42797461, 24455.02141345, 18128.03627388,  5668.95356992,\n",
       "        17710.62993479, 21643.75124841, 62481.21292971,  1551.92773494,\n",
       "         1551.92773494, 21193.02272354,   217.70516433, 19512.77495504,\n",
       "            0.        ,     0.        , 27627.61151396, 36489.03672064,\n",
       "        39515.45835697, 34330.32566199,  7135.55631416,  7135.55631416,\n",
       "         7135.55631416, 27872.15741648],\n",
       "       [ 1069.30151348, 47450.59580049, 34145.93737787, 35489.04559432,\n",
       "        35489.04559432, 45527.93975808, 40112.5367807 , 33011.94629059,\n",
       "        42551.49515027, 44971.66206136, 34870.42480414, 29090.42367266,\n",
       "        29090.42367266, 29323.38281494, 27813.43582332, 33705.00529841,\n",
       "        27627.61151396, 27627.61151396,     0.        , 44668.06918447,\n",
       "        44062.57715937, 41835.41941132, 20492.29748812, 20492.29748812,\n",
       "        20492.29748812,  1832.37987376],\n",
       "       [45291.68637136, 19708.74021684, 31997.1365059 , 28237.14733141,\n",
       "        28237.14733141, 21457.81361143, 23709.23537888, 39038.83075782,\n",
       "        28959.63923038, 25843.09156956, 69940.51880714, 37119.73050655,\n",
       "        37119.73050655, 16868.59164909, 36612.30129998, 17013.10583445,\n",
       "        36489.03672064, 36489.03672064, 44668.06918447,     0.        ,\n",
       "         5692.88073118,  2832.90405863, 36883.0780092 , 36883.0780092 ,\n",
       "        36883.0780092 , 43304.30979381],\n",
       "       [44571.40787799, 25269.06781593, 35911.11443521, 32377.15705331,\n",
       "        32377.15705331, 26842.40972574, 28494.87889077, 42641.42813149,\n",
       "        33874.01718289, 31065.26094347, 66874.50781742, 40317.2878919 ,\n",
       "        40317.2878919 , 18700.573534  , 39660.40445368, 20544.57845176,\n",
       "        39515.45835697, 39515.45835697, 44062.57715937,  5692.88073118,\n",
       "            0.        ,  5878.75613991, 38953.16231725, 38953.16231725,\n",
       "        38953.16231725, 42552.0754054 ],\n",
       "       [42458.8431502 , 19736.41333726, 30267.40784178, 26641.82376007,\n",
       "        26641.82376007, 21112.25848574, 22617.929118  , 37148.97769669,\n",
       "        27995.52424438, 25240.59957593, 67364.05450509, 35034.60182044,\n",
       "        35034.60182044, 14245.8425641 , 34462.73255085, 15014.88445367,\n",
       "        34330.32566199, 34330.32566199, 41835.41941132,  2832.90405863,\n",
       "         5878.75613991,     0.        , 34401.30496539, 34401.30496539,\n",
       "        34401.30496539, 40471.74043642],\n",
       "       [21561.59842308, 31516.12388168, 14311.20191734, 16694.05076534,\n",
       "        16694.05076534, 28893.23862792, 22686.27877703, 12604.8766553 ,\n",
       "        23563.88678396, 26930.10382041, 55350.08643878,  8606.78919643,\n",
       "         8606.78919643, 20274.36953125,  7321.24054282, 20774.34997551,\n",
       "         7135.55631416,  7135.55631416, 20492.29748812, 36883.0780092 ,\n",
       "        38953.16231725, 34401.30496539,     0.        ,     0.        ,\n",
       "            0.        , 20761.81636127],\n",
       "       [21561.59842308, 31516.12388168, 14311.20191734, 16694.05076534,\n",
       "        16694.05076534, 28893.23862792, 22686.27877703, 12604.8766553 ,\n",
       "        23563.88678396, 26930.10382041, 55350.08643878,  8606.78919643,\n",
       "         8606.78919643, 20274.36953125,  7321.24054282, 20774.34997551,\n",
       "         7135.55631416,  7135.55631416, 20492.29748812, 36883.0780092 ,\n",
       "        38953.16231725, 34401.30496539,     0.        ,     0.        ,\n",
       "            0.        , 20761.81636127],\n",
       "       [21561.59842308, 31516.12388168, 14311.20191734, 16694.05076534,\n",
       "        16694.05076534, 28893.23862792, 22686.27877703, 12604.8766553 ,\n",
       "        23563.88678396, 26930.10382041, 55350.08643878,  8606.78919643,\n",
       "         8606.78919643, 20274.36953125,  7321.24054282, 20774.34997551,\n",
       "         7135.55631416,  7135.55631416, 20492.29748812, 36883.0780092 ,\n",
       "        38953.16231725, 34401.30496539,     0.        ,     0.        ,\n",
       "            0.        , 20761.81636127],\n",
       "       [ 2022.83976311, 46722.90102255, 34087.44671614, 35226.68317404,\n",
       "        35226.68317404, 44892.32640953, 39616.16243652, 33352.61020994,\n",
       "        42265.57305658, 44520.87938669, 34648.05517031, 29364.99931534,\n",
       "        29364.99931534, 28238.05984786, 28064.97833013, 32839.04674179,\n",
       "        27872.15741648, 27872.15741648,  1832.37987376, 43304.30979381,\n",
       "        42552.0754054 , 40471.74043642, 20761.81636127, 20761.81636127,\n",
       "        20761.81636127,     0.        ]])"
      ]
     },
     "execution_count": 8,
     "metadata": {},
     "output_type": "execute_result"
    }
   ],
   "source": [
    "Task.distance"
   ]
  },
  {
   "cell_type": "code",
   "execution_count": 9,
   "metadata": {
    "collapsed": false,
    "pycharm": {
     "name": "#%%\n"
    }
   },
   "outputs": [
    {
     "ename": "SyntaxError",
     "evalue": "invalid syntax (Temp/ipykernel_10180/3714848579.py, line 35)",
     "output_type": "error",
     "traceback": [
      "\u001b[1;36m  File \u001b[1;32m\"C:\\Users\\maela\\AppData\\Local\\Temp/ipykernel_10180/3714848579.py\"\u001b[1;36m, line \u001b[1;32m35\u001b[0m\n\u001b[1;33m    for i in range()\u001b[0m\n\u001b[1;37m                    ^\u001b[0m\n\u001b[1;31mSyntaxError\u001b[0m\u001b[1;31m:\u001b[0m invalid syntax\n"
     ]
    }
   ],
   "source": [
    "m = Model(\"Model-V1\")\n",
    "\n",
    "X = m.addMVar(shape=(V, V), name=\"adjacence-matrix\", vtype=GRB.BINARY)\n",
    "Y = m.addMVar(shape=(T, V), vtype=GRB.BINARY)\n",
    "B = m.addMVar(shape=(V,), vtype=GRB.INTEGER, lb=0, ub=1440)\n",
    "\n",
    "m.addConstr(X.sum() == T + V - 1, name=\"C1\")\n",
    "m.addConstr(X[0, :].sum() == T, name=\"C2\")\n",
    "m.addConstrs((X[i, :].sum() == X[:, i].sum() for i in range(0,V)), name=\"C3\")\n",
    "\n",
    "#C4\n",
    "for i in range(V):\n",
    "    for j in range(V):\n",
    "        m.addConstrs((X[i, j] == 1) >> (Y[k, i] == Y[k, j]) for k in range(T))\n",
    "\n",
    "opening_time = np.array([Task.list[i].opening_time for i in range(V)])\n",
    "closing_time = np.array([Task.list[i].closing_time for i in range(V)])\n",
    "duration = np.array([Task.list[i].duration for i in range(V)])\n",
    "\n",
    "m.addConstr(B[1:] >= opening_time[1:], name=\"C5a\")\n",
    "m.addConstr(B[1:] + duration[1:] <= closing_time[1:], name=\"C5b\")\n",
    "\n",
    "#c6\n",
    "for i in range(1,V):\n",
    "    for j in range(1,V):\n",
    "        m.addConstr((X[i, j] == 1) >> (B[i] + duration[i] + Task.distance[i,j] * Employee.speed <= B[j]))\n",
    "\n",
    "#c7\n",
    "for k in range(T):\n",
    "    for i in range(1, V):\n",
    "        m.addConstr(Employee.list[k].level >= Task.list[i].level)\n",
    "\n",
    "\n",
    "last_task = m.addMVar((T, V), vtype=GRB.BINARY)\n",
    "for i in range()\n",
    "\n",
    "first_task = m.addMVar((T, V), vtype=GRB.BINARY)\n",
    "#c8\n",
    "for i in range(1, V):\n",
    "    for k in range(T):\n",
    "        m.addConstr((X[i, 0] + Y[k, i] == 2) >> (Employee.list[k] >= B[i] + Task.distance[i, 0] * Employee.speed + duration[i]))\n",
    "\n",
    "#c9\n",
    "\n",
    "#X * Task.distance"
   ]
  },
  {
   "cell_type": "code",
   "execution_count": 10,
   "metadata": {
    "collapsed": false,
    "pycharm": {
     "name": "#%%\n"
    }
   },
   "outputs": [
    {
     "name": "stdout",
     "output_type": "stream",
     "text": [
      "Set parameter Username\n",
      "Academic license - for non-commercial use only - expires 2023-01-27\n"
     ]
    }
   ],
   "source": [
    "m = Model(\"DB\")\n",
    "X = {(i, j) : m.addVar(vtype = GRB.BINARY, name = f'x{i}_{j}') for i in range(0,V) for j in range(0,V)}\n",
    "Y = {(k, i) : m.addVar(vtype = GRB.BINARY, name = f'y{k}_{i}') for k in range(0,T) for i in range(0,V)}\n",
    "B = {i : m.addVar(vtype = GRB.CONTINUOUS, name = f'b{i}') for i in range(0,V)}\n",
    "T_actif = m.addVar(vtype = GRB.INTEGER, name = 'T_actif')"
   ]
  },
  {
   "cell_type": "code",
   "execution_count": 11,
   "id": "44d46387",
   "metadata": {
    "collapsed": false,
    "pycharm": {
     "name": "#%%\n"
    }
   },
   "outputs": [],
   "source": [
    "#C1\n",
    "C1 = m.addConstr(quicksum([X[(i,j)] for i in range(0,V) for j in range(0,V)]) == T_actif + V - 1, name =\"C1\")"
   ]
  },
  {
   "cell_type": "code",
   "execution_count": 12,
   "id": "e123ddfd",
   "metadata": {},
   "outputs": [],
   "source": [
    "#C2\n",
    "C2 = m.addConstr(quicksum([X[(i,0)] for i in range(V)]) == T_actif, name=\"C2\")\n",
    "C2b = m.addConstr(quicksum([X[(0,i)] for i in range(V)]) == T_actif, name=\"C2b\")"
   ]
  },
  {
   "cell_type": "code",
   "execution_count": 13,
   "metadata": {},
   "outputs": [],
   "source": [
    "#C3\n",
    "C3_entrée = dict()\n",
    "C3_sortie = dict()\n",
    "for i in range(0,V):\n",
    "    C3_entrée[i] = m.addConstr(quicksum([X[(i,j)] for j in range(0,V)]) == 1, name = f'c3e{i}')\n",
    "    C3_sortie[i] = m.addConstr(quicksum([X[(j,i)] for j in range(0,V)]) == 1, name = f'c3s{i}')"
   ]
  },
  {
   "cell_type": "code",
   "execution_count": 14,
   "id": "c206209e",
   "metadata": {},
   "outputs": [
    {
     "ename": "NameError",
     "evalue": "name 'M' is not defined",
     "output_type": "error",
     "traceback": [
      "\u001b[1;31m---------------------------------------------------------------------------\u001b[0m",
      "\u001b[1;31mNameError\u001b[0m                                 Traceback (most recent call last)",
      "\u001b[1;32m~\\AppData\\Local\\Temp/ipykernel_10180/4198963444.py\u001b[0m in \u001b[0;36m<module>\u001b[1;34m\u001b[0m\n\u001b[0;32m      1\u001b[0m \u001b[1;31m#C4\u001b[0m\u001b[1;33m\u001b[0m\u001b[1;33m\u001b[0m\u001b[0m\n\u001b[1;32m----> 2\u001b[1;33m \u001b[0mC4\u001b[0m \u001b[1;33m=\u001b[0m \u001b[1;33m{\u001b[0m\u001b[1;33m(\u001b[0m\u001b[0mi\u001b[0m\u001b[1;33m,\u001b[0m\u001b[0mj\u001b[0m\u001b[1;33m,\u001b[0m\u001b[0mk\u001b[0m\u001b[1;33m)\u001b[0m \u001b[1;33m:\u001b[0m \u001b[0mm\u001b[0m\u001b[1;33m.\u001b[0m\u001b[0maddConstr\u001b[0m\u001b[1;33m(\u001b[0m\u001b[0mY\u001b[0m\u001b[1;33m[\u001b[0m\u001b[1;33m(\u001b[0m\u001b[0mk\u001b[0m\u001b[1;33m,\u001b[0m\u001b[0mi\u001b[0m\u001b[1;33m)\u001b[0m\u001b[1;33m]\u001b[0m \u001b[1;33m<=\u001b[0m \u001b[0mY\u001b[0m\u001b[1;33m[\u001b[0m\u001b[1;33m(\u001b[0m\u001b[0mk\u001b[0m\u001b[1;33m,\u001b[0m\u001b[0mj\u001b[0m\u001b[1;33m)\u001b[0m\u001b[1;33m]\u001b[0m \u001b[1;33m+\u001b[0m \u001b[0mM\u001b[0m\u001b[1;33m*\u001b[0m\u001b[1;33m(\u001b[0m\u001b[1;36m1\u001b[0m\u001b[1;33m-\u001b[0m\u001b[0mX\u001b[0m\u001b[1;33m[\u001b[0m\u001b[1;33m(\u001b[0m\u001b[0mi\u001b[0m\u001b[1;33m,\u001b[0m\u001b[0mj\u001b[0m\u001b[1;33m)\u001b[0m\u001b[1;33m]\u001b[0m\u001b[1;33m)\u001b[0m\u001b[1;33m,\u001b[0m \u001b[0mname\u001b[0m\u001b[1;33m=\u001b[0m\u001b[1;34m\"C4\"\u001b[0m\u001b[1;33m)\u001b[0m \u001b[1;32mfor\u001b[0m \u001b[0mi\u001b[0m \u001b[1;32min\u001b[0m \u001b[0mrange\u001b[0m\u001b[1;33m(\u001b[0m\u001b[1;36m1\u001b[0m\u001b[1;33m,\u001b[0m\u001b[0mV\u001b[0m\u001b[1;33m)\u001b[0m \u001b[1;32mfor\u001b[0m \u001b[0mj\u001b[0m \u001b[1;32min\u001b[0m \u001b[0mrange\u001b[0m\u001b[1;33m(\u001b[0m\u001b[1;36m1\u001b[0m\u001b[1;33m,\u001b[0m\u001b[0mV\u001b[0m\u001b[1;33m)\u001b[0m \u001b[1;32mfor\u001b[0m \u001b[0mk\u001b[0m \u001b[1;32min\u001b[0m \u001b[0mrange\u001b[0m\u001b[1;33m(\u001b[0m\u001b[0mT\u001b[0m\u001b[1;33m)\u001b[0m\u001b[1;33m}\u001b[0m\u001b[1;33m\u001b[0m\u001b[1;33m\u001b[0m\u001b[0m\n\u001b[0m\u001b[0;32m      3\u001b[0m \u001b[0mC4b\u001b[0m \u001b[1;33m=\u001b[0m \u001b[1;33m{\u001b[0m\u001b[1;33m(\u001b[0m\u001b[0mi\u001b[0m\u001b[1;33m,\u001b[0m\u001b[0mj\u001b[0m\u001b[1;33m,\u001b[0m\u001b[0mk\u001b[0m\u001b[1;33m)\u001b[0m \u001b[1;33m:\u001b[0m \u001b[0mm\u001b[0m\u001b[1;33m.\u001b[0m\u001b[0maddConstr\u001b[0m\u001b[1;33m(\u001b[0m\u001b[0mY\u001b[0m\u001b[1;33m[\u001b[0m\u001b[1;33m(\u001b[0m\u001b[0mk\u001b[0m\u001b[1;33m,\u001b[0m\u001b[0mi\u001b[0m\u001b[1;33m)\u001b[0m\u001b[1;33m]\u001b[0m \u001b[1;33m>=\u001b[0m \u001b[0mY\u001b[0m\u001b[1;33m[\u001b[0m\u001b[1;33m(\u001b[0m\u001b[0mk\u001b[0m\u001b[1;33m,\u001b[0m\u001b[0mj\u001b[0m\u001b[1;33m)\u001b[0m\u001b[1;33m]\u001b[0m \u001b[1;33m+\u001b[0m \u001b[0mM\u001b[0m\u001b[1;33m*\u001b[0m\u001b[1;33m(\u001b[0m\u001b[1;36m1\u001b[0m\u001b[1;33m-\u001b[0m\u001b[0mX\u001b[0m\u001b[1;33m[\u001b[0m\u001b[1;33m(\u001b[0m\u001b[0mi\u001b[0m\u001b[1;33m,\u001b[0m\u001b[0mj\u001b[0m\u001b[1;33m)\u001b[0m\u001b[1;33m]\u001b[0m\u001b[1;33m)\u001b[0m\u001b[1;33m,\u001b[0m \u001b[0mname\u001b[0m\u001b[1;33m=\u001b[0m\u001b[1;34m\"C4b\"\u001b[0m\u001b[1;33m)\u001b[0m \u001b[1;32mfor\u001b[0m \u001b[0mi\u001b[0m \u001b[1;32min\u001b[0m \u001b[0mrange\u001b[0m\u001b[1;33m(\u001b[0m\u001b[1;36m1\u001b[0m\u001b[1;33m,\u001b[0m\u001b[0mV\u001b[0m\u001b[1;33m)\u001b[0m \u001b[1;32mfor\u001b[0m \u001b[0mj\u001b[0m \u001b[1;32min\u001b[0m \u001b[0mrange\u001b[0m\u001b[1;33m(\u001b[0m\u001b[1;36m1\u001b[0m\u001b[1;33m,\u001b[0m\u001b[0mV\u001b[0m\u001b[1;33m)\u001b[0m \u001b[1;32mfor\u001b[0m \u001b[0mk\u001b[0m \u001b[1;32min\u001b[0m \u001b[0mrange\u001b[0m\u001b[1;33m(\u001b[0m\u001b[0mT\u001b[0m\u001b[1;33m)\u001b[0m\u001b[1;33m}\u001b[0m\u001b[1;33m\u001b[0m\u001b[1;33m\u001b[0m\u001b[0m\n",
      "\u001b[1;32m~\\AppData\\Local\\Temp/ipykernel_10180/4198963444.py\u001b[0m in \u001b[0;36m<dictcomp>\u001b[1;34m(.0)\u001b[0m\n\u001b[0;32m      1\u001b[0m \u001b[1;31m#C4\u001b[0m\u001b[1;33m\u001b[0m\u001b[1;33m\u001b[0m\u001b[0m\n\u001b[1;32m----> 2\u001b[1;33m \u001b[0mC4\u001b[0m \u001b[1;33m=\u001b[0m \u001b[1;33m{\u001b[0m\u001b[1;33m(\u001b[0m\u001b[0mi\u001b[0m\u001b[1;33m,\u001b[0m\u001b[0mj\u001b[0m\u001b[1;33m,\u001b[0m\u001b[0mk\u001b[0m\u001b[1;33m)\u001b[0m \u001b[1;33m:\u001b[0m \u001b[0mm\u001b[0m\u001b[1;33m.\u001b[0m\u001b[0maddConstr\u001b[0m\u001b[1;33m(\u001b[0m\u001b[0mY\u001b[0m\u001b[1;33m[\u001b[0m\u001b[1;33m(\u001b[0m\u001b[0mk\u001b[0m\u001b[1;33m,\u001b[0m\u001b[0mi\u001b[0m\u001b[1;33m)\u001b[0m\u001b[1;33m]\u001b[0m \u001b[1;33m<=\u001b[0m \u001b[0mY\u001b[0m\u001b[1;33m[\u001b[0m\u001b[1;33m(\u001b[0m\u001b[0mk\u001b[0m\u001b[1;33m,\u001b[0m\u001b[0mj\u001b[0m\u001b[1;33m)\u001b[0m\u001b[1;33m]\u001b[0m \u001b[1;33m+\u001b[0m \u001b[0mM\u001b[0m\u001b[1;33m*\u001b[0m\u001b[1;33m(\u001b[0m\u001b[1;36m1\u001b[0m\u001b[1;33m-\u001b[0m\u001b[0mX\u001b[0m\u001b[1;33m[\u001b[0m\u001b[1;33m(\u001b[0m\u001b[0mi\u001b[0m\u001b[1;33m,\u001b[0m\u001b[0mj\u001b[0m\u001b[1;33m)\u001b[0m\u001b[1;33m]\u001b[0m\u001b[1;33m)\u001b[0m\u001b[1;33m,\u001b[0m \u001b[0mname\u001b[0m\u001b[1;33m=\u001b[0m\u001b[1;34m\"C4\"\u001b[0m\u001b[1;33m)\u001b[0m \u001b[1;32mfor\u001b[0m \u001b[0mi\u001b[0m \u001b[1;32min\u001b[0m \u001b[0mrange\u001b[0m\u001b[1;33m(\u001b[0m\u001b[1;36m1\u001b[0m\u001b[1;33m,\u001b[0m\u001b[0mV\u001b[0m\u001b[1;33m)\u001b[0m \u001b[1;32mfor\u001b[0m \u001b[0mj\u001b[0m \u001b[1;32min\u001b[0m \u001b[0mrange\u001b[0m\u001b[1;33m(\u001b[0m\u001b[1;36m1\u001b[0m\u001b[1;33m,\u001b[0m\u001b[0mV\u001b[0m\u001b[1;33m)\u001b[0m \u001b[1;32mfor\u001b[0m \u001b[0mk\u001b[0m \u001b[1;32min\u001b[0m \u001b[0mrange\u001b[0m\u001b[1;33m(\u001b[0m\u001b[0mT\u001b[0m\u001b[1;33m)\u001b[0m\u001b[1;33m}\u001b[0m\u001b[1;33m\u001b[0m\u001b[1;33m\u001b[0m\u001b[0m\n\u001b[0m\u001b[0;32m      3\u001b[0m \u001b[0mC4b\u001b[0m \u001b[1;33m=\u001b[0m \u001b[1;33m{\u001b[0m\u001b[1;33m(\u001b[0m\u001b[0mi\u001b[0m\u001b[1;33m,\u001b[0m\u001b[0mj\u001b[0m\u001b[1;33m,\u001b[0m\u001b[0mk\u001b[0m\u001b[1;33m)\u001b[0m \u001b[1;33m:\u001b[0m \u001b[0mm\u001b[0m\u001b[1;33m.\u001b[0m\u001b[0maddConstr\u001b[0m\u001b[1;33m(\u001b[0m\u001b[0mY\u001b[0m\u001b[1;33m[\u001b[0m\u001b[1;33m(\u001b[0m\u001b[0mk\u001b[0m\u001b[1;33m,\u001b[0m\u001b[0mi\u001b[0m\u001b[1;33m)\u001b[0m\u001b[1;33m]\u001b[0m \u001b[1;33m>=\u001b[0m \u001b[0mY\u001b[0m\u001b[1;33m[\u001b[0m\u001b[1;33m(\u001b[0m\u001b[0mk\u001b[0m\u001b[1;33m,\u001b[0m\u001b[0mj\u001b[0m\u001b[1;33m)\u001b[0m\u001b[1;33m]\u001b[0m \u001b[1;33m+\u001b[0m \u001b[0mM\u001b[0m\u001b[1;33m*\u001b[0m\u001b[1;33m(\u001b[0m\u001b[1;36m1\u001b[0m\u001b[1;33m-\u001b[0m\u001b[0mX\u001b[0m\u001b[1;33m[\u001b[0m\u001b[1;33m(\u001b[0m\u001b[0mi\u001b[0m\u001b[1;33m,\u001b[0m\u001b[0mj\u001b[0m\u001b[1;33m)\u001b[0m\u001b[1;33m]\u001b[0m\u001b[1;33m)\u001b[0m\u001b[1;33m,\u001b[0m \u001b[0mname\u001b[0m\u001b[1;33m=\u001b[0m\u001b[1;34m\"C4b\"\u001b[0m\u001b[1;33m)\u001b[0m \u001b[1;32mfor\u001b[0m \u001b[0mi\u001b[0m \u001b[1;32min\u001b[0m \u001b[0mrange\u001b[0m\u001b[1;33m(\u001b[0m\u001b[1;36m1\u001b[0m\u001b[1;33m,\u001b[0m\u001b[0mV\u001b[0m\u001b[1;33m)\u001b[0m \u001b[1;32mfor\u001b[0m \u001b[0mj\u001b[0m \u001b[1;32min\u001b[0m \u001b[0mrange\u001b[0m\u001b[1;33m(\u001b[0m\u001b[1;36m1\u001b[0m\u001b[1;33m,\u001b[0m\u001b[0mV\u001b[0m\u001b[1;33m)\u001b[0m \u001b[1;32mfor\u001b[0m \u001b[0mk\u001b[0m \u001b[1;32min\u001b[0m \u001b[0mrange\u001b[0m\u001b[1;33m(\u001b[0m\u001b[0mT\u001b[0m\u001b[1;33m)\u001b[0m\u001b[1;33m}\u001b[0m\u001b[1;33m\u001b[0m\u001b[1;33m\u001b[0m\u001b[0m\n",
      "\u001b[1;31mNameError\u001b[0m: name 'M' is not defined"
     ]
    }
   ],
   "source": [
    "#C4\n",
    "C4 = {(i,j,k) : m.addConstr(Y[(k,i)] <= Y[(k,j)] + M*(1-X[(i,j)]), name=\"C4\") for i in range(1,V) for j in range(1,V) for k in range(T)}\n",
    "C4b = {(i,j,k) : m.addConstr(Y[(k,i)] >= Y[(k,j)] + M*(1-X[(i,j)]), name=\"C4b\") for i in range(1,V) for j in range(1,V) for k in range(T)}\n"
   ]
  },
  {
   "cell_type": "code",
   "execution_count": 15,
   "metadata": {},
   "outputs": [
    {
     "ename": "IndentationError",
     "evalue": "expected an indented block (Temp/ipykernel_10180/3781211766.py, line 4)",
     "output_type": "error",
     "traceback": [
      "\u001b[1;36m  File \u001b[1;32m\"C:\\Users\\maela\\AppData\\Local\\Temp/ipykernel_10180/3781211766.py\"\u001b[1;36m, line \u001b[1;32m4\u001b[0m\n\u001b[1;33m    \u001b[0m\n\u001b[1;37m    ^\u001b[0m\n\u001b[1;31mIndentationError\u001b[0m\u001b[1;31m:\u001b[0m expected an indented block\n"
     ]
    }
   ],
   "source": [
    "#C5\n",
    "C5 = dict()\n",
    "for i in range(0,V):\n",
    "    "
   ]
  },
  {
   "cell_type": "code",
   "execution_count": 16,
   "id": "5c57472e",
   "metadata": {},
   "outputs": [
    {
     "ename": "NameError",
     "evalue": "name 'duration' is not defined",
     "output_type": "error",
     "traceback": [
      "\u001b[1;31m---------------------------------------------------------------------------\u001b[0m",
      "\u001b[1;31mNameError\u001b[0m                                 Traceback (most recent call last)",
      "\u001b[1;32m~\\AppData\\Local\\Temp/ipykernel_10180/1655561738.py\u001b[0m in \u001b[0;36m<module>\u001b[1;34m\u001b[0m\n\u001b[0;32m      1\u001b[0m \u001b[1;31m#C6\u001b[0m\u001b[1;33m\u001b[0m\u001b[1;33m\u001b[0m\u001b[0m\n\u001b[1;32m----> 2\u001b[1;33m \u001b[0mC6\u001b[0m \u001b[1;33m=\u001b[0m \u001b[1;33m{\u001b[0m\u001b[1;33m(\u001b[0m\u001b[0mi\u001b[0m\u001b[1;33m,\u001b[0m\u001b[0mj\u001b[0m\u001b[1;33m)\u001b[0m \u001b[1;33m:\u001b[0m \u001b[0mm\u001b[0m\u001b[1;33m.\u001b[0m\u001b[0maddConstr\u001b[0m\u001b[1;33m(\u001b[0m\u001b[0mB\u001b[0m\u001b[1;33m[\u001b[0m\u001b[0mi\u001b[0m\u001b[1;33m]\u001b[0m \u001b[1;33m+\u001b[0m \u001b[0mduration\u001b[0m\u001b[1;33m[\u001b[0m\u001b[0mi\u001b[0m\u001b[1;33m]\u001b[0m \u001b[1;33m+\u001b[0m \u001b[0mdistance\u001b[0m\u001b[1;33m[\u001b[0m\u001b[0mi\u001b[0m\u001b[1;33m]\u001b[0m\u001b[1;33m[\u001b[0m\u001b[0mj\u001b[0m\u001b[1;33m]\u001b[0m\u001b[1;33m/\u001b[0m\u001b[0mspeed\u001b[0m \u001b[1;33m<=\u001b[0m \u001b[0mB\u001b[0m\u001b[1;33m[\u001b[0m\u001b[0mj\u001b[0m\u001b[1;33m]\u001b[0m \u001b[1;33m-\u001b[0m \u001b[0mM\u001b[0m\u001b[1;33m*\u001b[0m\u001b[1;33m(\u001b[0m\u001b[1;36m1\u001b[0m\u001b[1;33m-\u001b[0m\u001b[0mX\u001b[0m\u001b[1;33m[\u001b[0m\u001b[1;33m(\u001b[0m\u001b[0mi\u001b[0m\u001b[1;33m,\u001b[0m\u001b[0mj\u001b[0m\u001b[1;33m)\u001b[0m\u001b[1;33m]\u001b[0m\u001b[1;33m)\u001b[0m\u001b[1;33m,\u001b[0m \u001b[0mname\u001b[0m\u001b[1;33m=\u001b[0m\u001b[1;34m\"C6\"\u001b[0m\u001b[1;33m)\u001b[0m \u001b[1;32mfor\u001b[0m \u001b[0mi\u001b[0m \u001b[1;32min\u001b[0m \u001b[0mrange\u001b[0m\u001b[1;33m(\u001b[0m\u001b[1;36m1\u001b[0m\u001b[1;33m,\u001b[0m\u001b[0mV\u001b[0m\u001b[1;33m)\u001b[0m \u001b[1;32mfor\u001b[0m \u001b[0mj\u001b[0m \u001b[1;32min\u001b[0m \u001b[0mrange\u001b[0m\u001b[1;33m(\u001b[0m\u001b[1;36m1\u001b[0m\u001b[1;33m,\u001b[0m\u001b[0mV\u001b[0m\u001b[1;33m)\u001b[0m\u001b[1;33m}\u001b[0m\u001b[1;33m\u001b[0m\u001b[1;33m\u001b[0m\u001b[0m\n\u001b[0m",
      "\u001b[1;32m~\\AppData\\Local\\Temp/ipykernel_10180/1655561738.py\u001b[0m in \u001b[0;36m<dictcomp>\u001b[1;34m(.0)\u001b[0m\n\u001b[0;32m      1\u001b[0m \u001b[1;31m#C6\u001b[0m\u001b[1;33m\u001b[0m\u001b[1;33m\u001b[0m\u001b[0m\n\u001b[1;32m----> 2\u001b[1;33m \u001b[0mC6\u001b[0m \u001b[1;33m=\u001b[0m \u001b[1;33m{\u001b[0m\u001b[1;33m(\u001b[0m\u001b[0mi\u001b[0m\u001b[1;33m,\u001b[0m\u001b[0mj\u001b[0m\u001b[1;33m)\u001b[0m \u001b[1;33m:\u001b[0m \u001b[0mm\u001b[0m\u001b[1;33m.\u001b[0m\u001b[0maddConstr\u001b[0m\u001b[1;33m(\u001b[0m\u001b[0mB\u001b[0m\u001b[1;33m[\u001b[0m\u001b[0mi\u001b[0m\u001b[1;33m]\u001b[0m \u001b[1;33m+\u001b[0m \u001b[0mduration\u001b[0m\u001b[1;33m[\u001b[0m\u001b[0mi\u001b[0m\u001b[1;33m]\u001b[0m \u001b[1;33m+\u001b[0m \u001b[0mdistance\u001b[0m\u001b[1;33m[\u001b[0m\u001b[0mi\u001b[0m\u001b[1;33m]\u001b[0m\u001b[1;33m[\u001b[0m\u001b[0mj\u001b[0m\u001b[1;33m]\u001b[0m\u001b[1;33m/\u001b[0m\u001b[0mspeed\u001b[0m \u001b[1;33m<=\u001b[0m \u001b[0mB\u001b[0m\u001b[1;33m[\u001b[0m\u001b[0mj\u001b[0m\u001b[1;33m]\u001b[0m \u001b[1;33m-\u001b[0m \u001b[0mM\u001b[0m\u001b[1;33m*\u001b[0m\u001b[1;33m(\u001b[0m\u001b[1;36m1\u001b[0m\u001b[1;33m-\u001b[0m\u001b[0mX\u001b[0m\u001b[1;33m[\u001b[0m\u001b[1;33m(\u001b[0m\u001b[0mi\u001b[0m\u001b[1;33m,\u001b[0m\u001b[0mj\u001b[0m\u001b[1;33m)\u001b[0m\u001b[1;33m]\u001b[0m\u001b[1;33m)\u001b[0m\u001b[1;33m,\u001b[0m \u001b[0mname\u001b[0m\u001b[1;33m=\u001b[0m\u001b[1;34m\"C6\"\u001b[0m\u001b[1;33m)\u001b[0m \u001b[1;32mfor\u001b[0m \u001b[0mi\u001b[0m \u001b[1;32min\u001b[0m \u001b[0mrange\u001b[0m\u001b[1;33m(\u001b[0m\u001b[1;36m1\u001b[0m\u001b[1;33m,\u001b[0m\u001b[0mV\u001b[0m\u001b[1;33m)\u001b[0m \u001b[1;32mfor\u001b[0m \u001b[0mj\u001b[0m \u001b[1;32min\u001b[0m \u001b[0mrange\u001b[0m\u001b[1;33m(\u001b[0m\u001b[1;36m1\u001b[0m\u001b[1;33m,\u001b[0m\u001b[0mV\u001b[0m\u001b[1;33m)\u001b[0m\u001b[1;33m}\u001b[0m\u001b[1;33m\u001b[0m\u001b[1;33m\u001b[0m\u001b[0m\n\u001b[0m",
      "\u001b[1;31mNameError\u001b[0m: name 'duration' is not defined"
     ]
    }
   ],
   "source": [
    "#C6\n",
    "C6 = {(i,j) : m.addConstr(B[i] + duration[i] + distance[i][j]/speed <= B[j] - M*(1-X[(i,j)]), name=\"C6\") for i in range(1,V) for j in range(1,V)}"
   ]
  },
  {
   "cell_type": "code",
   "execution_count": null,
   "id": "289a9929",
   "metadata": {},
   "outputs": [],
   "source": [
    "#C8\n",
    "C8 = {(k,i) : m.addConstr(B[i] + duration[i] + distance[0][i]/speed <= end[k] + M*(2-Y[(k,i)]-X[(i,0)]), name=\"C8\") for k in range(T) for i in range(1,V)}\n"
   ]
  },
  {
   "cell_type": "code",
   "execution_count": null,
   "id": "2c42e023",
   "metadata": {},
   "outputs": [],
   "source": [
    "#C10\n",
    "C10 = {i : m.addConstr(quicksum([Y[(k,i)] for k in range(T)]) ,name=\"C10\") for i in range(1,V)}"
   ]
  }
 ],
 "metadata": {
  "kernelspec": {
   "display_name": "Python 3 (ipykernel)",
   "language": "python",
   "name": "python3"
  },
  "language_info": {
   "codemirror_mode": {
    "name": "ipython",
    "version": 3
   },
   "file_extension": ".py",
   "mimetype": "text/x-python",
   "name": "python",
   "nbconvert_exporter": "python",
   "pygments_lexer": "ipython3",
   "version": "3.9.7"
  }
 },
 "nbformat": 4,
 "nbformat_minor": 5
}
