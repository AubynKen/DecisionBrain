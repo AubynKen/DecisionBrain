{
 "cells": [
  {
   "cell_type": "markdown",
   "id": "ebcd1aa6",
   "metadata": {
    "pycharm": {
     "name": "#%% md\n"
    }
   },
   "source": [
    "# ST7 Planification quotidienne d’une équipe mobile"
   ]
  },
  {
   "cell_type": "code",
<<<<<<< HEAD
   "execution_count": 183,
=======
   "execution_count": 103,
>>>>>>> 4db3c1cffffbd8cfdf762b77082bed7384a87e46
   "id": "6a6236d7",
   "metadata": {},
   "outputs": [],
   "source": [
    "# Modules de base\n",
    "import numpy as np\n",
    "import matplotlib.pyplot as plt\n",
    "%matplotlib inline\n",
    "\n",
    "# Module relatif à Gurobi\n",
    "from gurobipy import *\n",
    "\n",
    "# Utilités\n",
    "from datetime import datetime"
   ]
  },
  {
   "cell_type": "markdown",
   "id": "e2ddd5c9",
   "metadata": {
    "pycharm": {
     "name": "#%% md\n"
    }
   },
   "source": [
    "## Formulation du problème\n",
    "\n",
    "### Notation\n",
    "- $ V $ : Nombre de tâches + 1 (V pour vertex)\n",
    "- $ T $ : Nombre de techniciens\n",
    "- $ i, j \\in \\{0, ..., V - 1\\} $ : les indices des tâches\n",
    "- $ k \\in \\{0, ..., T - 1 \\} $ : les indices des techniciens\n",
    "- $ (opening_i)_i $ : l’ouverture des sites\n",
    "- $ (closing_i)_i $ : la fermeture des sites\n",
    "- $ (start_k)_k $ : le début de travail des employés\n",
    "- $ (end_k)_k $ : la fin de travail de chaque employé\n",
    "- $ (duration_i)_i $ : la durée de chaque tâche\n",
    "- $ (distance_{i, j}) $ : la distance entre les sites\n",
    "- $ speed $ : la vitesse de déplacement des techniciens\n",
    "- $ M $ : majorant pour notre problème\n",
    "\n",
    "\n",
    "\n",
    "### Variables de décisions\n",
    "- $ \\tilde{T} $ : Le nombre de techniciens actifs (avec une tâche ou plus)\n",
    "- $ (x_{i, j})_{i, j} $, $ x_{i, j} = 1 $ ssi. (i, j) est un arc de i vers j\n",
    "- $ (y_{k, i})_{k, i} $, $ y_{k, i} = 1 $ ssi. le technicien k effectue la tâche i\n",
    "- $ (b_i)_i $, $B_i$ est le début de chaque tâche en minute (b pour beginning)\n",
    "\n",
    "\n",
    "### Objectif d’optimisation\n",
    "$$ min \\sum_{i, j} x_{i, j} \\cdot distance_{i, j} $$\n",
    "\n",
    "\n",
    "### Contraintes\n",
    "- (C1) : Il n’y a qu’une seule composante connexe dans le graphe des parcours\n",
    "$$ \\sum_{i, j} x_{i, j} = \\tilde{T} + (V - 1) $$\n",
    "- (C2) Il y a autant d’arcs sortant/entrant au dépôt que de techniciens actifs\n",
    "$$ \\tilde{T} = \\sum_i x_{0, i} = \\sum_i x_{i, 0}$$\n",
    "- (C3) Le site de chaque tâche est visité par exactement un technicien\n",
    "$$ \\forall i > 0, \\sum_j x_{i, j} = \\sum_j x_{j, i} = 1 $$\n",
    "- (C4) Deux tâches qui se suivent doivent être faites par le même technicien\n",
    "$$ \\forall i, j > 0, x_{i, j} \\implies \\forall k, y_{k, i} = y_{k, j} \\\\\n",
    "\\Longleftrightarrow \\forall i, j > 0, \\forall k, y_{k, i} \\le y_{k, j} + M \\cdot (1 - x_{i, j}) \\text{ et } y_{k, j} \\le y_{k, i} + M \\cdot (1 - x_{i, j}) $$\n",
    "- (C5) Lorsqu’un travail est effectué sur une tâche, la tâche doit être disponible.\n",
    "$$ \\forall i > 0, (b_i \\ge opening_i) \\land (b_i + duration_i \\le closing_i) $$\n",
    "- (C6) La fenêtre de temps entre deux travaux doit être suffisante pour le trajet\n",
    "$$ \\forall i, j > 0, x_{i, j} = 1 \\implies b_i + duration_i + \\frac{distance_{i, j}}{speed} \\le b_j \\\\\n",
    "\\Longleftrightarrow \\forall i, j > 0, b_i + duration_i + \\frac{distance_{i, j}}{speed} \\le b_j + M \\cdot (1-x_{i, j}) $$\n",
    "- (C7) Un technicien doit avoir suffisamment de temps pour aller à son premier site\n",
    "$$ \\forall k, \\forall i > 0, y_{k, i} \\land x_{0, i} \\implies start_k + \\frac{distance_{0, i}}{speed} \\le b_i \\\\\n",
    "\\Longleftrightarrow \\forall k, \\forall i > 0, start_k + \\frac{distance_{0, i}}{speed} \\le b_i + (2 - y_{k, i} - x_{0, i}) \\cdot M $$\n",
    "- (C8) Un technicien doit avoir suffisamment de temps pour rentrer au dépot après sa dernière tâche\n",
    "$$ \\forall k, \\forall i > 0, y_{k, i} \\land x_{i, 0} \\implies b_i + duration_i + \\frac{distance_{i, 0}}{speed} \\le end_k \\\\\n",
    "\\Longleftrightarrow \\forall k, \\forall i > 0, b_i + duration_i + \\frac{distance_{i, 0}}{speed} \\le end_k + (2 - y_{k, i} - x_{i, 0}) \\cdot M $$\n",
    "- (C9) Un technicien n’effectue que des tâches qu’il est capable d’effectuer\n",
    "$$ \\forall k, \\forall i > 0, levelTech_k \\ge levelTask_i - M \\cdot (1 - y_{k, i}) $$\n",
    "- (C10) Une tâche est réalisée par un seul employé\n",
    "$$ \\forall i > 0, \\sum_k y_{k, i} = 1 $$\n",
    "\n"
   ]
  },
  {
   "cell_type": "markdown",
   "id": "c24cd617",
   "metadata": {
    "pycharm": {
     "name": "#%% md\n"
    }
   },
   "source": [
    "## Variables de décisions\n",
    "$ X \\in R_{V + 1 \\times V + 1}$"
   ]
  },
  {
   "cell_type": "code",
<<<<<<< HEAD
   "execution_count": 184,
=======
   "execution_count": 104,
>>>>>>> 4db3c1cffffbd8cfdf762b77082bed7384a87e46
   "id": "88651692",
   "metadata": {
    "pycharm": {
     "name": "#%%\n"
    }
   },
   "outputs": [],
   "source": [
    "import pandas as pd\n",
    "import numpy as np\n",
    "from datetime import datetime\n",
    "from math import radians, cos, sin, asin, sqrt\n",
    "from utils import parse_time_minute, parse_time\n",
    "\n",
    "\n",
    "class Employee:\n",
    "    list = []  # initialized to empty list\n",
    "    count = 0\n",
    "    speed = 50 * 1000 / 60  # unit: meter/minute\n",
    "\n",
    "    def __init__(self, name: str, latitude: float, longitude: float, skill: str, level: int, start_time, end_time):\n",
    "        self.name = name\n",
    "        self.latitude = latitude\n",
    "        self.longitude = longitude\n",
    "        self.skill = skill\n",
    "        self.level = level\n",
    "        self.start_time_str = parse_time(start_time)  # parse time into datetime object for printing\n",
    "        self.end_time_str = parse_time(end_time)\n",
    "        self.start_time = parse_time_minute(start_time)  # parse time into minutes\n",
    "        self.end_time = parse_time_minute(end_time)\n",
    "        Employee.count += 1\n",
    "        Employee.list.append(self)\n",
    "\n",
    "    @classmethod\n",
    "    def load_excel(cls, path):\n",
    "        df_employees = pd.read_excel(path, sheet_name=\"Employees\")\n",
    "        df_employees.set_index(\"EmployeeName\")\n",
    "\n",
    "        for index, row in df_employees.iterrows():\n",
    "            Employee(row[\"EmployeeName\"],\n",
    "                     row[\"Latitude\"],\n",
    "                     row[\"Longitude\"],\n",
    "                     row[\"Skill\"],\n",
    "                     row[\"Level\"],\n",
    "                     row[\"WorkingStartTime\"],\n",
    "                     row[\"WorkingEndTime\"])\n",
    "\n",
    "    def __hash__(self):\n",
    "        return hash(self.name)\n",
    "\n",
    "    def __eq__(self, other):\n",
    "        return self.name == other.name\n",
    "\n",
    "    def __str__(self):\n",
    "        return self.name\n",
    "\n",
    "    def __repr__(self):\n",
    "        return f\"Employee(name={self.name}, \" \\\n",
    "               f\"position=[{self.longitude}, {self.latitude}], \" \\\n",
    "               f\"skill_requirement=level {self.level} {self.skill},\" \\\n",
    "               f\"available=[{self.start_time_str.strftime('%I:%M%p')}, {self.end_time_str.strftime('%I:%M%p')}] )\"\n",
    "\n",
    "\n",
    "class Task:\n",
    "    list = []\n",
    "    count = 0\n",
    "    distance: np.array = None\n",
    "    __is_initialized = False\n",
    "\n",
    "    def __init__(self, task_id, latitude, longitude, duration, skill, level, opening_time, closing_time):\n",
    "        if Task.__is_initialized:\n",
    "            raise Exception(\"Cannot instantiate new task after initializing the distance matrix\")\n",
    "        self.id = task_id\n",
    "        self.latitude = latitude\n",
    "        self.longitude = longitude\n",
    "        self.duration = duration\n",
    "        self.skill = skill\n",
    "        self.level = level\n",
    "        self.opening_time_str = parse_time(opening_time)\n",
    "        self.closing_time_str = parse_time(closing_time)\n",
    "        self.opening_time = parse_time_minute(opening_time)\n",
    "        self.closing_time = parse_time_minute(closing_time)\n",
    "\n",
    "        Task.list.append(self)\n",
    "        Task.count += 1\n",
    "\n",
    "    @classmethod\n",
    "    def load_excel(cls, path, initialize_distance=False, load_depot=False):\n",
    "\n",
    "        # create a dummy task at position 0 for depot\n",
    "        if load_depot:\n",
    "            df_employees = pd.read_excel(path, sheet_name=\"Employees\")\n",
    "            depot_longitude = df_employees.iloc[0][\"Longitude\"]\n",
    "            depot_latitude = df_employees.iloc[0][\"Latitude\"]\n",
    "            Task(\"T0\", depot_latitude, depot_longitude, 0, None, 0, None, None)\n",
    "\n",
    "        df = pd.read_excel(path, sheet_name=\"Tasks\")\n",
    "        df.set_index(\"TaskId\")\n",
    "\n",
    "        for index, row in df.iterrows():\n",
    "            # parse the start time and end time into datetime object\n",
    "            opening_time = datetime.strptime(row[\"OpeningTime\"], '%I:%M%p')\n",
    "            closing_time = datetime.strptime(row[\"ClosingTime\"], '%I:%M%p')\n",
    "\n",
    "            Task(row[\"TaskId\"],\n",
    "                 row[\"Latitude\"],\n",
    "                 row[\"Longitude\"],\n",
    "                 row[\"TaskDuration\"],\n",
    "                 row[\"Skill\"],\n",
    "                 row[\"Level\"],\n",
    "                 opening_time,\n",
    "                 closing_time)\n",
    "\n",
    "        if initialize_distance:\n",
    "            cls.initialize_distance()\n",
    "\n",
    "    @staticmethod\n",
    "    def calculate_distance(task1, task2):\n",
    "        lon1, lat1 = radians(task1.longitude), radians(task1.latitude)\n",
    "        lon2, lat2 = radians(task2.longitude), radians(task2.latitude)\n",
    "\n",
    "        # Haversine formula\n",
    "        dlon = lon2 - lon1\n",
    "        dlat = lat2 - lat1\n",
    "        a = sin(dlat / 2) ** 2 + cos(lat1) * cos(lat2) * sin(dlon / 2) ** 2\n",
    "        c = 2 * asin(sqrt(a))\n",
    "        r = 6371 * 1000  # radius of earth\n",
    "        return c * r\n",
    "\n",
    "    @classmethod\n",
    "    def initialize_distance(cls):\n",
    "        if cls.__is_initialized:\n",
    "            raise Exception(\"Distance has already been initialized\")\n",
    "        cls.__is_initialized = True\n",
    "        cls.distance = np.zeros((cls.count, cls.count), dtype=np.float64)\n",
    "\n",
    "        for i in range(cls.count):\n",
    "            for j in range(i):\n",
    "                task_i, task_j = cls.list[i], cls.list[j]\n",
    "                cls.distance[i, j] = cls.distance[j, i] = cls.calculate_distance(task_i, task_j)\n",
    "\n",
    "    def __hash__(self):\n",
    "        return hash(self.id)\n",
    "\n",
    "    def __eq__(self, other):\n",
    "        return self.id == other.id\n",
    "\n",
    "    def __repr__(self):\n",
    "        return f\"Task(id={self.id}, \" \\\n",
    "               f\"position=[{self.longitude}, {self.latitude}], \" \\\n",
    "               f\"duration={self.duration}, \" \\\n",
    "               f\"skill_requirement=level {self.level} {self.skill},\" \\\n",
    "               f\"opening_time=[{self.opening_time_str.strftime('%I:%M%p')} to {self.closing_time_str.strftime('%I:%M%p')}]\"\n"
   ]
  },
  {
   "cell_type": "code",
<<<<<<< HEAD
   "execution_count": 185,
=======
   "execution_count": 105,
>>>>>>> 4db3c1cffffbd8cfdf762b77082bed7384a87e46
   "id": "9240baa4",
   "metadata": {
    "pycharm": {
     "name": "#%%\n"
    }
   },
   "outputs": [],
   "source": [
    "from file_paths import path_poland"
   ]
  },
  {
   "cell_type": "code",
<<<<<<< HEAD
   "execution_count": 186,
=======
   "execution_count": 106,
>>>>>>> 4db3c1cffffbd8cfdf762b77082bed7384a87e46
   "id": "18ecc7a4",
   "metadata": {
    "pycharm": {
     "name": "#%%\n"
    },
    "scrolled": true
   },
   "outputs": [],
   "source": [
    "# reading dataframe into python objects\n",
    "Employee.load_excel(path_poland)\n",
    "Task.load_excel(path_poland, initialize_distance=True, load_depot=True)"
   ]
  },
  {
   "cell_type": "code",
<<<<<<< HEAD
   "execution_count": 187,
   "id": "5a837f82",
   "metadata": {},
   "outputs": [
    {
     "name": "stdout",
     "output_type": "stream",
     "text": [
      "(20.7480904791913, 53.2833826159413)\n",
      "(20.7480904791913, 53.2833826159413)\n"
     ]
    }
   ],
   "source": [
    "print((Employee.list[0].longitude,Employee.list[0].latitude))\n",
    "print((Task.list[0].longitude,Task.list[0].latitude))"
   ]
  },
  {
   "cell_type": "code",
   "execution_count": 188,
=======
   "execution_count": 107,
>>>>>>> 4db3c1cffffbd8cfdf762b77082bed7384a87e46
   "id": "ff10c9ff",
   "metadata": {},
   "outputs": [],
   "source": [
    "V = len(Employee.list)\n",
    "T = len(Task.list)"
   ]
  },
  {
   "cell_type": "code",
<<<<<<< HEAD
   "execution_count": 189,
=======
   "execution_count": 108,
>>>>>>> 4db3c1cffffbd8cfdf762b77082bed7384a87e46
   "id": "2b13c232",
   "metadata": {
    "pycharm": {
     "name": "#%%\n"
    }
   },
   "outputs": [
    {
     "data": {
      "text/plain": [
       "Task(id=T1, position=[20.7550215, 53.1790933], duration=40, skill_requirement=level 1 Plumbing,opening_time=[08:00AM to 06:00PM]"
      ]
     },
<<<<<<< HEAD
     "execution_count": 189,
=======
     "execution_count": 108,
>>>>>>> 4db3c1cffffbd8cfdf762b77082bed7384a87e46
     "metadata": {},
     "output_type": "execute_result"
    }
   ],
   "source": [
    "# test on Task object\n",
    "Task.list[1]"
   ]
  },
  {
   "cell_type": "code",
<<<<<<< HEAD
   "execution_count": 190,
=======
   "execution_count": 109,
>>>>>>> 4db3c1cffffbd8cfdf762b77082bed7384a87e46
   "id": "3ddf3e24",
   "metadata": {
    "pycharm": {
     "name": "#%%\n"
    }
   },
   "outputs": [
    {
     "data": {
      "text/plain": [
       "(20, 2)"
      ]
     },
<<<<<<< HEAD
     "execution_count": 190,
=======
     "execution_count": 109,
>>>>>>> 4db3c1cffffbd8cfdf762b77082bed7384a87e46
     "metadata": {},
     "output_type": "execute_result"
    }
   ],
   "source": [
    "V = Task.count\n",
    "T = Employee.count\n",
    "(V, T)"
   ]
  },
  {
   "cell_type": "code",
<<<<<<< HEAD
   "execution_count": 191,
=======
   "execution_count": 110,
>>>>>>> 4db3c1cffffbd8cfdf762b77082bed7384a87e46
   "id": "267753ac",
   "metadata": {
    "pycharm": {
     "name": "#%%\n"
    }
   },
   "outputs": [
    {
     "data": {
      "text/plain": [
       "array([[    0.        , 11605.61541694, 11756.29885797,  9837.2159456 ,\n",
       "         2175.49196108, 10204.33740237, 11833.79772603, 10827.46496729,\n",
       "         6017.52604523, 10802.62297406,  2320.89965818,  5978.96381555,\n",
       "         3758.14112074,  9597.97985203,  8166.00317165, 46054.43802711,\n",
       "         4542.68593805,  1571.81285196,   238.259962  , 14244.52901484],\n",
       "       [11605.61541694,     0.        ,   225.25707154, 18020.89529351,\n",
       "         9595.56560296, 16832.90098022,   547.79345865, 14822.7884729 ,\n",
       "        17237.660793  , 22227.77449913, 12763.93768144, 16865.41805117,\n",
       "        10436.65138117, 20646.41771653, 18668.52888621, 56544.58877744,\n",
       "        16049.91629101, 13112.75512009, 11832.98747043, 25629.57953829],\n",
       "       [11756.29885797,   225.25707154,     0.        , 18234.59859895,\n",
       "         9732.9587804 , 17053.39218209,   341.09970184, 15047.90975111,\n",
       "        17361.3100688 , 22397.21750027, 12885.03461014, 16978.86359847,\n",
       "        10526.33613798, 20758.68565585, 18859.06313667, 56747.56952856,\n",
       "        16188.41684643, 13269.22884985, 11982.63421087, 25802.23103252],\n",
       "       [ 9837.2159456 , 18020.89529351, 18234.59859895,     0.        ,\n",
       "        11466.39327903,  2345.84915649, 18462.87629896,  5685.98133334,\n",
       "        11640.88541869,  8980.29477874, 11488.79895414, 12420.20772791,\n",
       "        13591.38436516, 14020.70926054,  4478.689257  , 38731.83000682,\n",
       "        10091.22630218,  8870.11936582,  9812.88304896, 11074.55016727],\n",
       "       [ 2175.49196108,  9595.56560296,  9732.9587804 , 11466.39327903,\n",
       "            0.        , 11482.29324414,  9786.50849309, 11512.73637732,\n",
       "         7696.56934067, 12968.92255221,  3309.92798439,  7440.6549316 ,\n",
       "         2605.98719431, 11200.38840933, 10250.01092344, 48210.10850247,\n",
       "         6455.53521925,  3746.23385813,  2368.02657106, 16412.01797578],\n",
       "       [10204.33740237, 16832.90098022, 17053.39218209,  2345.84915649,\n",
       "        11482.29324414,     0.        , 17309.1685362 ,  3382.62580366,\n",
       "        13080.34089325, 11236.77909891, 12160.29031815, 13761.30427776,\n",
       "        13850.59639067, 15778.74550999,  6580.76134116, 40403.54013317,\n",
       "        11402.2446712 ,  9557.36871564, 10234.98302457, 13419.16931703],\n",
       "       [11833.79772603,   547.79345865,   341.09970184, 18462.87629896,\n",
       "         9786.50849309, 17309.1685362 ,     0.        , 15338.10457645,\n",
       "        17385.67078269, 22510.03564489, 12906.62806312, 16985.25830108,\n",
       "        10495.90030579, 20762.04553762, 19020.93777484, 56940.40196929,\n",
       "        16240.49569549, 13357.45271193, 12057.96703024, 25921.58839719],\n",
       "       [10827.46496729, 14822.7884729 , 15047.90975111,  5685.98133334,\n",
       "        11512.73637732,  3382.62580366, 15338.10457645,     0.        ,\n",
       "        14961.54387524, 14304.37854855, 13057.33123941, 15486.62476375,\n",
       "        14084.23768167, 18028.1474644 ,  9537.17192299, 43388.5099832 ,\n",
       "        13184.56865647, 10662.00928837, 10930.01600338, 16698.27727651],\n",
       "       [ 6017.52604523, 17237.660793  , 17361.3100688 , 11640.88541869,\n",
       "         7696.56934067, 13080.34089325, 17385.67078269, 14961.54387524,\n",
       "            0.        ,  7291.80389918,  4479.60216426,   986.60884811,\n",
       "         7198.1096111 ,  3583.47685508,  7775.36449224, 42758.42399173,\n",
       "         1796.48569718,  4982.3555941 ,  5781.54701793, 10419.25854848],\n",
       "       [10802.62297406, 22227.77449913, 22397.21750027,  8980.29477874,\n",
       "        12968.92255221, 11236.77909891, 22510.03564489, 14304.37854855,\n",
       "         7291.80389918,     0.        , 10626.56055241,  8261.87770562,\n",
       "        13598.28285094,  7234.82151708,  4780.91312738, 35650.79417257,\n",
       "         7155.21486701,  9233.32836954, 10601.60090006,  3443.58649366],\n",
       "       [ 2320.89965818, 12763.93768144, 12885.03461014, 11488.79895414,\n",
       "         3309.92798439, 12160.29031815, 12906.62806312, 13057.33123941,\n",
       "         4479.60216426, 10626.56055241,     0.        ,  4139.44700444,\n",
       "         2973.61374347,  7913.5097393 ,  9013.00284232, 46240.88568074,\n",
       "         3564.37123429,  2627.07399477,  2166.57191416, 14027.81273935],\n",
       "       [ 5978.96381555, 16865.41805117, 16978.86359847, 12420.20772791,\n",
       "         7440.6549316 , 13761.30427776, 16985.25830108, 15486.62476375,\n",
       "          986.60884811,  8261.87770562,  4139.44700444,     0.        ,\n",
       "         6630.50424257,  3782.15246586,  8675.37240609, 43668.61121369,\n",
       "         2359.07567756,  5170.28198928,  5751.79579869, 11347.68083065],\n",
       "       [ 3758.14112074, 10436.65138117, 10526.33613798, 13591.38436516,\n",
       "         2605.98719431, 13850.59639067, 10495.90030579, 14084.23768167,\n",
       "         7198.1096111 , 13598.28285094,  2973.61374347,  6630.50424257,\n",
       "            0.        , 10354.05847386, 11704.90094183, 49196.64759535,\n",
       "         6520.52858933,  4991.49620215,  3805.33513384, 17001.40930757],\n",
       "       [ 9597.97985203, 20646.41771653, 20758.68565585, 14020.70926054,\n",
       "        11200.38840933, 15778.74550999, 20762.04553762, 18028.1474644 ,\n",
       "         3583.47685508,  7234.82151708,  7913.5097393 ,  3782.15246586,\n",
       "        10354.05847386,     0.        ,  9688.47354252, 41259.53265955,\n",
       "         5251.66469197,  8537.63032775,  9362.65176879,  9500.55125085],\n",
       "       [ 8166.00317165, 18668.52888621, 18859.06313667,  4478.689257  ,\n",
       "        10250.01092344,  6580.76134116, 19020.93777484,  9537.17192299,\n",
       "         7775.36449224,  4780.91312738,  9013.00284232,  8675.37240609,\n",
       "        11704.90094183,  9688.47354252,     0.        , 38064.51096857,\n",
       "         6544.76013517,  6728.47554074,  8037.45200808,  7555.95493105],\n",
       "       [46054.43802711, 56544.58877744, 56747.56952856, 38731.83000682,\n",
       "        48210.10850247, 40403.54013317, 56940.40196929, 43388.5099832 ,\n",
       "        42758.42399173, 35650.79417257, 46240.88568074, 43668.61121369,\n",
       "        49196.64759535, 41259.53265955, 38064.51096857,     0.        ,\n",
       "        42806.00145562, 44510.8925097 , 45888.71044645, 32350.06205974],\n",
       "       [ 4542.68593805, 16049.91629101, 16188.41684643, 10091.22630218,\n",
       "         6455.53521925, 11402.2446712 , 16240.49569549, 13184.56865647,\n",
       "         1796.48569718,  7155.21486701,  3564.37123429,  2359.07567756,\n",
       "         6520.52858933,  5251.66469197,  6544.76013517, 42806.00145562,\n",
       "            0.        ,  3308.9071824 ,  4304.89038326, 10512.13267268],\n",
       "       [ 1571.81285196, 13112.75512009, 13269.22884985,  8870.11936582,\n",
       "         3746.23385813,  9557.36871564, 13357.45271193, 10662.00928837,\n",
       "         4982.3555941 ,  9233.32836954,  2627.07399477,  5170.28198928,\n",
       "         4991.49620215,  8537.63032775,  6728.47554074, 44510.8925097 ,\n",
       "         3308.9071824 ,     0.        ,  1383.74469984, 12674.40001191],\n",
       "       [  238.259962  , 11832.98747043, 11982.63421087,  9812.88304896,\n",
       "         2368.02657106, 10234.98302457, 12057.96703024, 10930.01600338,\n",
       "         5781.54701793, 10601.60090006,  2166.57191416,  5751.79579869,\n",
       "         3805.33513384,  9362.65176879,  8037.45200808, 45888.71044645,\n",
       "         4304.89038326,  1383.74469984,     0.        , 14044.44343362],\n",
       "       [14244.52901484, 25629.57953829, 25802.23103252, 11074.55016727,\n",
       "        16412.01797578, 13419.16931703, 25921.58839719, 16698.27727651,\n",
       "        10419.25854848,  3443.58649366, 14027.81273935, 11347.68083065,\n",
       "        17001.40930757,  9500.55125085,  7555.95493105, 32350.06205974,\n",
       "        10512.13267268, 12674.40001191, 14044.44343362,     0.        ]])"
      ]
     },
<<<<<<< HEAD
     "execution_count": 191,
=======
     "execution_count": 110,
>>>>>>> 4db3c1cffffbd8cfdf762b77082bed7384a87e46
     "metadata": {},
     "output_type": "execute_result"
    }
   ],
   "source": [
    "Task.distance"
   ]
  },
  {
   "cell_type": "code",
<<<<<<< HEAD
   "execution_count": 192,
=======
   "execution_count": 111,
>>>>>>> 4db3c1cffffbd8cfdf762b77082bed7384a87e46
   "id": "e827563e",
   "metadata": {},
   "outputs": [],
   "source": [
    "opening_time = np.array([Task.list[i].opening_time for i in range(V)])\n",
    "closing_time = np.array([Task.list[i].closing_time for i in range(V)])\n",
    "duration = np.array([Task.list[i].duration for i in range(V)])\n",
    "\n",
    "M = 1000000"
   ]
  },
  {
   "cell_type": "code",
<<<<<<< HEAD
   "execution_count": 193,
=======
   "execution_count": 112,
>>>>>>> 4db3c1cffffbd8cfdf762b77082bed7384a87e46
   "id": "7113eb6d",
   "metadata": {
    "pycharm": {
     "name": "#%%\n"
    },
    "scrolled": true
   },
   "outputs": [],
   "source": [
    "m = Model(\"DB\")\n",
    "\n",
    "X = {(i, j) : m.addVar(vtype = GRB.BINARY, name = f'x{i}_{j}') for i in range(V) for j in range(V)}\n",
    "Y = {(k, i) : m.addVar(vtype = GRB.BINARY, name = f'y{k}_{i}') for k in range(T) for i in range(V)}\n",
    "B = {i : m.addVar(vtype = GRB.CONTINUOUS, name = f'b{i}', lb = 0) for i in range(V)}\n",
    "K = {k : m.addVar(vtype = GRB.BINARY, name = f'k{k}') for k in range(T)}\n",
    "\n",
    "\n",
    "#Cconex\n",
    "#m.addConstr(quicksum([quicksum([X[(i,j)] for j in range(V)]) for i in range(V)]) == quicksum([K[k] for k in range(T)]) + (V-1))\n",
    "\n",
    "# C1\n",
    "for k in range(T):\n",
    "    m.addConstr(K[k] <= quicksum([Y[(k,i)] for i in range(1,V)]))\n",
    "    for i in range(1,V):\n",
    "        m.addConstr(K[k] >= Y[(k,i)])\n",
    "    \n",
    "m.addConstr(quicksum([X[(0,j)] for j in range(1,V)])  == quicksum([K[k] for k in range(T)]))\n",
    "\n",
    "# C2\n",
    "for i in range(1,V):\n",
<<<<<<< HEAD
    "    m.addConstr(quicksum([X[(i,j)] for j in range(V) if i != j]) == quicksum([X[(j,i)] for j in range(V) if i != j]), name=f\"c2e{i}\")\n",
=======
    "    m.addConstr(quicksum([X[(i,j)] for j in range(V) if i != j]) == quicksum([X[(j,i)] for j in range(V) if i != j]))\n",
>>>>>>> 4db3c1cffffbd8cfdf762b77082bed7384a87e46
    "    \n",
    "# C3\n",
    "for i in range(1,V):\n",
    "    m.addConstr(quicksum([X[(i,j)] for j in range(V) if i != j]) == 1)\n",
    "                      \n",
    "# C4\n",
    "C4  = {(i,j,k) : m.addConstr(Y[(k,i)] <= Y[(k,j)] + M*(1-X[(i,j)])) for i in range(1,V) for j in range(1,V) for k in range(T)}\n",
    "C4b = {(i,j,k) : m.addConstr(Y[(k,i)] >= Y[(k,j)] - M*(1-X[(i,j)])) for i in range(1,V) for j in range(1,V) for k in range(T)}\n",
    "\n",
    "# C5\n",
    "C5o = dict()\n",
    "C5c = dict()\n",
    "for i in range(1,V):\n",
    "    C5o[i] = m.addConstr(B[i] >= opening_time[i])\n",
    "    C5c[i] = m.addConstr(duration[i] + B[i] <= closing_time[i])\n",
    "\n",
    "# C6\n",
<<<<<<< HEAD
    "C6 = {(i,j) : m.addConstr(B[i] + duration[i] + Task.distance[i,j]/Employee.speed <= B[j] + M*(1-X[(i,j)])) for i in range(1,V) for j in range(1,V) if i!=j}\n",
=======
    "C6 = {(i,j) : m.addConstr(B[i] + duration[i] + Task.distance[i,j]/Employee.speed <= B[j] + M * (1-X[(i,j)]) ) for i in range(1,V) for j in range(1,V) if i != j}\n",
>>>>>>> 4db3c1cffffbd8cfdf762b77082bed7384a87e46
    "\n",
    "# C7\n",
    "C7 = {(k,i) : m.addConstr(Employee.list[k].start_time + (Task.distance[0,i]/Employee.speed) - (2 - Y[(k,i)] - X[(i,0)]) * M <= B[i]) for k in range(T) for i in range(1,V)}\n",
    "\n",
    "# C8\n",
    "C8 = {(k,i) : m.addConstr(B[i] + duration[i] + Task.distance[0,i]/Employee.speed <= Employee.list[k].end_time + M*(2-Y[(k,i)]-X[(i,0)])) for k in range(T) for i in range(1,V)}\n",
    "\n",
    "# C9\n",
    "C9 = {(k,i) : m.addConstr(Employee.list[k].level >= Task.list[i].level - M * (1 - Y[(k,i)]))  for k in range(T) for i in range(1,V)}\n",
    "\n",
    "# C10\n",
    "C10 = {i : m.addConstr(quicksum([Y[(k,i)] for k in range(T)]) == 1) for i in range(1,V)}"
   ]
  },
  {
   "cell_type": "code",
<<<<<<< HEAD
   "execution_count": 194,
=======
   "execution_count": 113,
>>>>>>> 4db3c1cffffbd8cfdf762b77082bed7384a87e46
   "id": "44d46387",
   "metadata": {
    "pycharm": {
     "name": "#%%\n"
    }
   },
   "outputs": [],
   "source": [
    "obj = quicksum([X[(i,j)]*Task.distance[i,j] for i in range(V) for j in range(V)])\n",
    "m.setObjective(obj, GRB.MINIMIZE)"
   ]
  },
  {
   "cell_type": "code",
<<<<<<< HEAD
   "execution_count": 195,
=======
   "execution_count": 114,
>>>>>>> 4db3c1cffffbd8cfdf762b77082bed7384a87e46
   "id": "4d95da51",
   "metadata": {},
   "outputs": [],
   "source": [
    "m.params.outputflag = 0\n",
    "\n",
    "m.update()\n",
    "\n",
    "m.optimize()"
   ]
  },
  {
   "cell_type": "code",
<<<<<<< HEAD
   "execution_count": 196,
=======
   "execution_count": 115,
>>>>>>> 4db3c1cffffbd8cfdf762b77082bed7384a87e46
   "id": "2dbdb2db",
   "metadata": {},
   "outputs": [],
   "source": [
    "assert m.status != GRB.INFEASIBLE"
   ]
  },
  {
   "cell_type": "code",
<<<<<<< HEAD
   "execution_count": 197,
=======
   "execution_count": 116,
>>>>>>> 4db3c1cffffbd8cfdf762b77082bed7384a87e46
   "id": "882eeb2e",
   "metadata": {},
   "outputs": [
    {
     "name": "stdout",
     "output_type": "stream",
     "text": [
      "K : [0, 1]\n",
<<<<<<< HEAD
      "Y_0 : [1, 2, 4, 6, 10, 12, 16, 18]\n",
      "Y_1 : [3, 5, 7, 8, 9, 11, 13, 14, 15, 17, 19]\n",
      "\n",
      "[(0, 4), (0, 7)]\n",
      "[(1, 2)]\n",
      "[(2, 6)]\n",
      "[(3, 14)]\n",
      "[(4, 1)]\n",
      "[(5, 3)]\n",
      "[(6, 12)]\n",
      "[(7, 5)]\n",
      "[(8, 11)]\n",
      "[(9, 13)]\n",
      "[(10, 16)]\n",
      "[(11, 17)]\n",
      "[(12, 10)]\n",
      "[(13, 8)]\n",
      "[(14, 15)]\n",
      "[(15, 19)]\n",
      "[(16, 18)]\n",
      "[(17, 0)]\n",
      "[(18, 0)]\n",
      "[(19, 9)]\n",
      "\n",
      "['B_0 : 0.0', 'B_1 : 521.514678723528', 'B_2 : 561.7849872093648', 'B_3 : 566.8741699521197', 'B_4 : 480.0', 'B_5 : 524.0591509643709', 'B_6 : 602.1943068515975', 'B_7 : 480.0', 'B_8 : 950.7255555728916', 'B_9 : 867.7435975263361', 'B_10 : 950.2709741044091', 'B_11 : 1001.9094861906487', 'B_12 : 906.7026376122376', 'B_13 : 906.4253833468538', 'B_14 : 612.248597060563', 'B_15 : 697.9260102228727', 'B_16 : 1004.5482195855584', 'B_17 : 1048.1138245777693', 'B_18 : 1049.7140880455263', 'B_19 : 776.7460846945178']\n"
=======
      "Y_0 : [3, 4, 5, 6, 7, 9]\n",
      "Y_1 : [1, 2, 8, 10]\n",
      "\n",
      "[(0, 2), (0, 9)]\n",
      "[(1, 8)]\n",
      "[(2, 1)]\n",
      "[(3, 5)]\n",
      "[(4, 6)]\n",
      "[(5, 0)]\n",
      "[(6, 3)]\n",
      "[(7, 4)]\n",
      "[(8, 10)]\n",
      "[(9, 7)]\n",
      "[(10, 0)]\n",
      "\n",
      "['B_0 : 0.0', 'B_1 : 601.3031549907755', 'B_2 : 480.0', 'B_3 : 776.2472116444184', 'B_4 : 639.7451547312063', 'B_5 : 850.9227555693245', 'B_6 : 708.7753740046122', 'B_7 : 554.2672701659612', 'B_8 : 738.8645203646709', 'B_9 : 480.0', 'B_10 : 806.601900248318']\n"
>>>>>>> 4db3c1cffffbd8cfdf762b77082bed7384a87e46
     ]
    }
   ],
   "source": [
    "print(\"K : {}\".format([k for k in range(T) if K[k].x == 1]))\n",
    "\n",
    "for k in range(T):\n",
    "    print(\"Y_{} : {}\".format(k,[i for i in range(1,V) if Y[(k,i)].x == 1]))\n",
    "print()\n",
    "for i in range(V):\n",
    "    print([(i,j) for j in range(V) if X[(i,j)].x == 1 and i != j])\n",
    "print()\n",
    "print([\"B_{} : {}\".format(i,B[i].x) for i in range(V)])"
   ]
  },
  {
   "cell_type": "code",
<<<<<<< HEAD
   "execution_count": 198,
   "id": "7b3efc71",
   "metadata": {},
   "outputs": [],
   "source": [
    "import matplotlib.pyplot as plt\n",
    "import random"
=======
   "execution_count": 117,
   "id": "7b3efc71",
   "metadata": {},
   "outputs": [
    {
     "data": {
      "text/plain": [
       "127.79477073284689"
      ]
     },
     "execution_count": 117,
     "metadata": {},
     "output_type": "execute_result"
    }
   ],
   "source": [
    "max([Task.distance[i,j] for i in range(V) for j in range(V)])/Employee.speed"
>>>>>>> 4db3c1cffffbd8cfdf762b77082bed7384a87e46
   ]
  },
  {
   "cell_type": "code",
   "execution_count": 201,
   "id": "28c9cd34",
   "metadata": {},
<<<<<<< HEAD
   "outputs": [
    {
     "data": {
      "image/png": "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",
      "text/plain": [
       "<Figure size 432x288 with 1 Axes>"
      ]
     },
     "metadata": {
      "needs_background": "light"
     },
     "output_type": "display_data"
    }
   ],
   "source": [
    "n_task = V\n",
    "\n",
    "task_pos =[[Employee.list[0].longitude, Employee.list[0].latitude]]\n",
    "plt.scatter([Employee.list[0].longitude], [Employee.list[0].latitude], label=\"dépôt\", c=\"black\")\n",
    "for j in range(1,n_task):\n",
    "    task_pos.append([Task.list[j].longitude, Task.list[j].latitude])\n",
    "    plt.scatter([Task.list[j].longitude], [Task.list[j].latitude], label=f\"{j}\")\n",
    "\n",
    "number_of_colors = 8\n",
    "\n",
    "color = [\"#\"+''.join([random.choice('0123456789ABCDEF') for j in range(6)])\n",
    "             for i in range(number_of_colors)]\n",
    "\n",
    "Z = {}\n",
    "for i in range(n_task):\n",
    "    for k in range(T):\n",
    "        if Y[(k,i)].x == 1:\n",
    "            Z[i] = k\n",
    "\n",
    "\n",
    "\n",
    "for i in range(n_task):\n",
    "    for j in range(n_task):\n",
    "        if X[(i,j)].x == 1 :\n",
    "            if i == 0:\n",
    "                plt.plot([task_pos[i][0],task_pos[j][0]], [task_pos[i][1],task_pos[j][1]], c=color[Z[j]], label=f\"{Z[j]}\")\n",
    "            else :\n",
    "                plt.plot([task_pos[i][0],task_pos[j][0]], [task_pos[i][1],task_pos[j][1]], c=color[Z[i]])\n",
    "\n",
    "plt.legend()\n",
    "plt.show()\n",
    "\n"
   ]
=======
   "outputs": [],
   "source": []
  },
  {
   "cell_type": "code",
   "execution_count": null,
   "id": "a5888818",
   "metadata": {},
   "outputs": [],
   "source": []
  },
  {
   "cell_type": "code",
   "execution_count": null,
   "id": "f07a28c2",
   "metadata": {},
   "outputs": [],
   "source": []
  },
  {
   "cell_type": "code",
   "execution_count": null,
   "id": "97f73922",
   "metadata": {},
   "outputs": [],
   "source": []
  },
  {
   "cell_type": "code",
   "execution_count": null,
   "id": "21ad32c4",
   "metadata": {},
   "outputs": [],
   "source": []
  },
  {
   "cell_type": "code",
   "execution_count": null,
   "id": "661b2322",
   "metadata": {},
   "outputs": [],
   "source": []
  },
  {
   "cell_type": "code",
   "execution_count": null,
   "id": "dfbcac5f",
   "metadata": {},
   "outputs": [],
   "source": []
  },
  {
   "cell_type": "code",
   "execution_count": null,
   "id": "560e1150",
   "metadata": {},
   "outputs": [],
   "source": []
  },
  {
   "cell_type": "code",
   "execution_count": null,
   "id": "80e41f8a",
   "metadata": {},
   "outputs": [],
   "source": []
  },
  {
   "cell_type": "code",
   "execution_count": null,
   "id": "20518f5b",
   "metadata": {},
   "outputs": [],
   "source": []
  },
  {
   "cell_type": "code",
   "execution_count": null,
   "id": "03de6658",
   "metadata": {},
   "outputs": [],
   "source": []
  },
  {
   "cell_type": "code",
   "execution_count": null,
   "id": "75cf2b92",
   "metadata": {},
   "outputs": [],
   "source": []
  },
  {
   "cell_type": "code",
   "execution_count": null,
   "id": "d507ade0",
   "metadata": {},
   "outputs": [],
   "source": []
  },
  {
   "cell_type": "code",
   "execution_count": null,
   "id": "3a6ad744",
   "metadata": {},
   "outputs": [],
   "source": []
  },
  {
   "cell_type": "code",
   "execution_count": null,
   "id": "01b021ce",
   "metadata": {},
   "outputs": [],
   "source": []
  },
  {
   "cell_type": "code",
   "execution_count": null,
   "id": "a0c48ea0",
   "metadata": {},
   "outputs": [],
   "source": []
  },
  {
   "cell_type": "code",
   "execution_count": null,
   "id": "6d253cc5",
   "metadata": {},
   "outputs": [],
   "source": []
  },
  {
   "cell_type": "code",
   "execution_count": null,
   "id": "52177f34",
   "metadata": {},
   "outputs": [],
   "source": []
  },
  {
   "cell_type": "code",
   "execution_count": null,
   "id": "86ea3abd",
   "metadata": {},
   "outputs": [],
   "source": []
  },
  {
   "cell_type": "code",
   "execution_count": null,
   "id": "90cf2528",
   "metadata": {},
   "outputs": [],
   "source": []
  },
  {
   "cell_type": "code",
   "execution_count": null,
   "id": "dd269274",
   "metadata": {},
   "outputs": [],
   "source": []
  },
  {
   "cell_type": "code",
   "execution_count": null,
   "id": "a3cc2006",
   "metadata": {},
   "outputs": [],
   "source": []
  },
  {
   "cell_type": "code",
   "execution_count": null,
   "id": "fb240f45",
   "metadata": {},
   "outputs": [],
   "source": []
  },
  {
   "cell_type": "code",
   "execution_count": null,
   "id": "f3705e5d",
   "metadata": {},
   "outputs": [],
   "source": []
  },
  {
   "cell_type": "code",
   "execution_count": null,
   "id": "164ea463",
   "metadata": {},
   "outputs": [],
   "source": []
  },
  {
   "cell_type": "code",
   "execution_count": null,
   "id": "552409e2",
   "metadata": {},
   "outputs": [],
   "source": []
  },
  {
   "cell_type": "code",
   "execution_count": null,
   "id": "7b1debed",
   "metadata": {},
   "outputs": [],
   "source": []
  },
  {
   "cell_type": "code",
   "execution_count": null,
   "id": "79a0133c",
   "metadata": {},
   "outputs": [],
   "source": []
  },
  {
   "cell_type": "code",
   "execution_count": null,
   "id": "e4d3fa31",
   "metadata": {},
   "outputs": [],
   "source": []
  },
  {
   "cell_type": "code",
   "execution_count": null,
   "id": "12e3266b",
   "metadata": {},
   "outputs": [],
   "source": []
  },
  {
   "cell_type": "code",
   "execution_count": null,
   "id": "f67c8b6c",
   "metadata": {},
   "outputs": [],
   "source": []
  },
  {
   "cell_type": "code",
   "execution_count": null,
   "id": "cf16a90e",
   "metadata": {},
   "outputs": [],
   "source": []
  },
  {
   "cell_type": "code",
   "execution_count": null,
   "id": "2a277a1a",
   "metadata": {},
   "outputs": [],
   "source": []
  },
  {
   "cell_type": "code",
   "execution_count": null,
   "id": "5be5ed74",
   "metadata": {},
   "outputs": [],
   "source": []
  },
  {
   "cell_type": "code",
   "execution_count": null,
   "id": "54d20975",
   "metadata": {},
   "outputs": [],
   "source": []
  },
  {
   "cell_type": "code",
   "execution_count": null,
   "id": "b67dc28b",
   "metadata": {},
   "outputs": [],
   "source": []
  },
  {
   "cell_type": "code",
   "execution_count": null,
   "id": "adb77e28",
   "metadata": {},
   "outputs": [],
   "source": []
  },
  {
   "cell_type": "code",
   "execution_count": null,
   "id": "1ac4989a",
   "metadata": {},
   "outputs": [],
   "source": []
  },
  {
   "cell_type": "code",
   "execution_count": null,
   "id": "35864146",
   "metadata": {},
   "outputs": [],
   "source": []
  },
  {
   "cell_type": "code",
   "execution_count": null,
   "id": "ec7e8807",
   "metadata": {},
   "outputs": [],
   "source": []
  },
  {
   "cell_type": "code",
   "execution_count": null,
   "id": "b077888c",
   "metadata": {},
   "outputs": [],
   "source": []
  },
  {
   "cell_type": "code",
   "execution_count": null,
   "id": "3aa842a2",
   "metadata": {},
   "outputs": [],
   "source": []
  },
  {
   "cell_type": "code",
   "execution_count": null,
   "id": "63a3313e",
   "metadata": {},
   "outputs": [],
   "source": []
  },
  {
   "cell_type": "code",
   "execution_count": null,
   "id": "eb6145e9",
   "metadata": {},
   "outputs": [],
   "source": []
  },
  {
   "cell_type": "code",
   "execution_count": null,
   "id": "3bab375b",
   "metadata": {},
   "outputs": [],
   "source": []
  },
  {
   "cell_type": "code",
   "execution_count": null,
   "id": "055befb2",
   "metadata": {},
   "outputs": [],
   "source": []
  },
  {
   "cell_type": "code",
   "execution_count": null,
   "id": "51f267f3",
   "metadata": {},
   "outputs": [],
   "source": []
  },
  {
   "cell_type": "code",
   "execution_count": null,
   "id": "98979191",
   "metadata": {},
   "outputs": [],
   "source": []
  },
  {
   "cell_type": "code",
   "execution_count": null,
   "id": "077c0c8e",
   "metadata": {},
   "outputs": [],
   "source": []
  },
  {
   "cell_type": "code",
   "execution_count": null,
   "id": "4015f8e6",
   "metadata": {},
   "outputs": [],
   "source": []
  },
  {
   "cell_type": "code",
   "execution_count": null,
   "id": "af49da65",
   "metadata": {},
   "outputs": [],
   "source": []
  },
  {
   "cell_type": "code",
   "execution_count": null,
   "id": "dd22f4d5",
   "metadata": {},
   "outputs": [],
   "source": []
  },
  {
   "cell_type": "code",
   "execution_count": null,
   "id": "dae3267c",
   "metadata": {},
   "outputs": [],
   "source": []
  },
  {
   "cell_type": "code",
   "execution_count": null,
   "id": "1bd21abf",
   "metadata": {},
   "outputs": [],
   "source": []
  },
  {
   "cell_type": "code",
   "execution_count": null,
   "id": "929d30f0",
   "metadata": {},
   "outputs": [],
   "source": []
  },
  {
   "cell_type": "code",
   "execution_count": null,
   "id": "df95fed0",
   "metadata": {},
   "outputs": [],
   "source": []
  },
  {
   "cell_type": "code",
   "execution_count": null,
   "id": "e68d9a04",
   "metadata": {},
   "outputs": [],
   "source": []
  },
  {
   "cell_type": "code",
   "execution_count": null,
   "id": "019b5c38",
   "metadata": {},
   "outputs": [],
   "source": []
  },
  {
   "cell_type": "code",
   "execution_count": null,
   "id": "b67eb60e",
   "metadata": {},
   "outputs": [],
   "source": []
  },
  {
   "cell_type": "code",
   "execution_count": null,
   "id": "05fd6325",
   "metadata": {},
   "outputs": [],
   "source": []
  },
  {
   "cell_type": "code",
   "execution_count": null,
   "id": "316fd892",
   "metadata": {},
   "outputs": [],
   "source": []
  },
  {
   "cell_type": "code",
   "execution_count": null,
   "id": "312df44a",
   "metadata": {},
   "outputs": [],
   "source": []
  },
  {
   "cell_type": "code",
   "execution_count": null,
   "id": "5a11fd44",
   "metadata": {},
   "outputs": [],
   "source": []
  },
  {
   "cell_type": "code",
   "execution_count": null,
   "id": "3b76991e",
   "metadata": {},
   "outputs": [],
   "source": []
  },
  {
   "cell_type": "code",
   "execution_count": null,
   "id": "0edd0b46",
   "metadata": {},
   "outputs": [],
   "source": []
  },
  {
   "cell_type": "code",
   "execution_count": null,
   "id": "99852d51",
   "metadata": {},
   "outputs": [],
   "source": []
  },
  {
   "cell_type": "code",
   "execution_count": null,
   "id": "069469e4",
   "metadata": {},
   "outputs": [],
   "source": []
  },
  {
   "cell_type": "code",
   "execution_count": null,
   "id": "ec9a8593",
   "metadata": {},
   "outputs": [],
   "source": []
  },
  {
   "cell_type": "code",
   "execution_count": null,
   "id": "920ebd0d",
   "metadata": {},
   "outputs": [],
   "source": []
  },
  {
   "cell_type": "code",
   "execution_count": null,
   "id": "236e5c52",
   "metadata": {},
   "outputs": [],
   "source": []
>>>>>>> 4db3c1cffffbd8cfdf762b77082bed7384a87e46
  }
 ],
 "metadata": {
  "kernelspec": {
   "display_name": "Python 3 (ipykernel)",
   "language": "python",
   "name": "python3"
  },
  "language_info": {
   "codemirror_mode": {
    "name": "ipython",
    "version": 3
   },
   "file_extension": ".py",
   "mimetype": "text/x-python",
   "name": "python",
   "nbconvert_exporter": "python",
   "pygments_lexer": "ipython3",
   "version": "3.9.7"
  }
 },
 "nbformat": 4,
 "nbformat_minor": 5
}
