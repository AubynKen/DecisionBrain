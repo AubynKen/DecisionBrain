{
 "cells": [
  {
   "cell_type": "markdown",
   "metadata": {
    "collapsed": true,
    "pycharm": {
     "name": "#%% md\n"
    }
   },
   "source": [
    "# ST7 Planification quotidienne d’une équipe mobile\n",
    "# Phase III"
   ]
  },
  {
   "cell_type": "markdown",
   "source": [
    "## Importation de modules"
   ],
   "metadata": {
    "collapsed": false,
    "pycharm": {
     "name": "#%% md\n"
    }
   }
  },
  {
   "cell_type": "code",
   "execution_count": 1,
   "outputs": [],
   "source": [
    "# module importation\n",
    "import numpy as np\n",
    "from math import ceil\n",
    "import matplotlib.pyplot as plt\n",
    "\n",
    "# utilities\n",
    "from utils import *\n",
    "from copy import deepcopy\n",
    "\n",
    "# model classes for employees and nodes\n",
    "from models_v2 import Employee, Node, Task, Home, Unavail"
   ],
   "metadata": {
    "collapsed": false,
    "pycharm": {
     "name": "#%%\n"
    }
   }
  },
  {
   "cell_type": "markdown",
   "source": [
    "Déclaration des constantes et des indices :"
   ],
   "metadata": {
    "collapsed": false,
    "pycharm": {
     "name": "#%% md\n"
    }
   }
  },
  {
   "cell_type": "code",
   "execution_count": 2,
   "outputs": [],
   "source": [
    "W = U = T = V = 0\n",
    "employees = homes = tasks = unavails = nodes = []"
   ],
   "metadata": {
    "collapsed": false,
    "pycharm": {
     "name": "#%%\n"
    }
   }
  },
  {
   "cell_type": "markdown",
   "source": [
    "## Fonction de lecture de données"
   ],
   "metadata": {
    "collapsed": false,
    "pycharm": {
     "name": "#%% md\n"
    }
   }
  },
  {
   "cell_type": "code",
   "source": [
    "def load_data_from_path(path_to_instance: str):\n",
    "    # load employee data\n",
    "    Employee.load_excel(path_to_instance)\n",
    "\n",
    "    # load node data\n",
    "    Node.clear_previous_data()\n",
    "    for cls in [Home, Task, Unavail]:\n",
    "        cls.load_excel(path_to_instance)\n",
    "    Node.initialize_distance()\n",
    "\n",
    "    # constants\n",
    "    global W, U, T, V\n",
    "    (W, U, T, V) = (Task.count, Unavail.count, Employee.count, Node.count)\n",
    "\n",
    "    # indices of employees, homes, lunches, tasks, unavailabilities\n",
    "    global employees, homes, tasks, unavails, nodes\n",
    "    employees = list(range(T))\n",
    "    homes = list(range(T))\n",
    "    tasks = list(range(T, T + W))\n",
    "    unavails = list((range(T + W, V)))\n",
    "    nodes = list(range(V))"
   ],
   "metadata": {
    "collapsed": false,
    "pycharm": {
     "name": "#%%\n"
    }
   },
   "execution_count": 3,
   "outputs": []
  },
  {
   "cell_type": "markdown",
   "source": [
    "Lecture de données de test"
   ],
   "metadata": {
    "collapsed": false,
    "pycharm": {
     "name": "#%% md\n"
    }
   }
  },
  {
   "cell_type": "code",
   "execution_count": 4,
   "outputs": [],
   "source": [
    "path_to_test = path_bordeaux_v2 = \"./data/InstancesV2/InstanceBordeauxV2.xlsx\"\n",
    "load_data_from_path(path_to_test)"
   ],
   "metadata": {
    "collapsed": false,
    "pycharm": {
     "name": "#%%\n"
    }
   }
  },
  {
   "cell_type": "markdown",
   "source": [
    "## Implémentation de la classe Solution"
   ],
   "metadata": {
    "collapsed": false,
    "pycharm": {
     "name": "#%% md\n"
    }
   }
  },
  {
   "cell_type": "code",
   "execution_count": 5,
   "outputs": [],
   "source": [
    "class Solution:\n",
    "    print_warning = True  # whether to print warning or not when validating\n",
    "\n",
    "    def __init__(self):\n",
    "        \"\"\"instantiate new solution instance that adapts to the Employee and Node data\"\"\"\n",
    "        self.x = np.zeros((V, V), dtype=np.intc)\n",
    "        self.y = np.zeros((T, W), dtype=np.intc)\n",
    "        self.b = np.zeros(W, dtype=np.intc)\n",
    "        self.l = np.zeros((T, V), dtype=np.intc)\n",
    "\n",
    "    @classmethod\n",
    "    def set_warning(cls, print_warning: bool):\n",
    "        \"\"\"set whether to print warning when validating data\"\"\"\n",
    "        cls.print_warning = print_warning\n",
    "\n",
    "    @classmethod\n",
    "    def warn(cls, warning: str, print_color=\"yellow\"):\n",
    "        \"\"\"\n",
    "        Print a text in yellow if print_warning set to True\n",
    "        :param warning: the warning message we want to print\n",
    "        :param print_color: the color of the printed message, defaulted to yellow\n",
    "        \"\"\"\n",
    "        if not cls.print_warning: return # does nothing if print_warning set to False\n",
    "        correspondance = {\n",
    "            \"yellow\": Colors.WARNING,\n",
    "            \"cyan\": Colors.CYAN,\n",
    "            \"green\": Colors.GREEN,\n",
    "            \"red\": Colors.FAIL\n",
    "        }\n",
    "        color = correspondance[print_color] if print_color in correspondance.keys() else Colors.WARNING\n",
    "        print(f\"{color}Error: {warning}{Colors.NORMAL}\")\n",
    "\n",
    "    def copy(self):\n",
    "        \"\"\"Return a deep copy of the instance\"\"\"\n",
    "        return deepcopy(self)\n",
    "\n",
    "    def validate_binary_vars(self):\n",
    "        \"\"\"Verify that x, y and l only contain binary variables\"\"\"\n",
    "\n",
    "        def is_binary(arr: np.array):\n",
    "            return np.min(arr) >= 0 and np.max(arr) <= 1\n",
    "\n",
    "        to_verify = [(self.x, \"x\"), (self.y, \"y\"), (self.l, \"l\")]\n",
    "        for arr, name in to_verify:\n",
    "            if is_binary(arr):\n",
    "                continue\n",
    "            Solution.warn(f\"{name} should contain binary variables, values other than 0 and 1 detected.\")\n",
    "            return False\n",
    "        return True\n",
    "\n",
    "    def validate(self):\n",
    "        \"\"\"\n",
    "        validate the modifications\n",
    "        :return: whether the constraints are verified\n",
    "        \"\"\"\n",
    "\n",
    "        # verify that x, y and l contain only 0 and 1\n",
    "        if not self.validate_binary_vars(): return False\n",
    "\n",
    "        # verify that a node is not linked to itself\n",
    "        for i in nodes:\n",
    "            if not self.x[i, i]: continue\n",
    "            Solution.warn(\"A node can't be linked to itself.\")\n",
    "            Solution.warn(f\"Condition violated by node {i}.\")\n",
    "            return False\n",
    "\n",
    "        entrance_count = self.x.sum(axis=0)\n",
    "        exit_count = self.x.sum(axis=1)\n",
    "        # C1\n",
    "        if not np.all(entrance_count == exit_count):\n",
    "            Solution.warn(\"C1: The number of entrance of each node should be equal to the number of exit.\")\n",
    "            node_idx = np.argwhere(entrance_count != exit_count)[0]\n",
    "            Solution.warn(\n",
    "                f\"Condition violated by node {node_idx} with {entrance_count[node_idx]} entrance(s) and {exit_count[node_idx]} exit(s).\")\n",
    "            return False\n",
    "\n",
    "        # C2\n",
    "        less_than_one_entrance = entrance_count <= 1\n",
    "        if not np.all(less_than_one_entrance[tasks + homes]):\n",
    "            Solution.warn(\"C2: Each task should be done by at most one employee.\")\n",
    "            for i in tasks:\n",
    "                if not less_than_one_entrance[i]:\n",
    "                    Solution.warn(f\"Condition violated by node {i} done by {entrance_count[i]} employees.\", \"cyan\")\n",
    "            return False\n",
    "\n",
    "        # C3.a\n",
    "        exactly_one_entrance = entrance_count == 1\n",
    "        if not np.all(exactly_one_entrance[unavails]):\n",
    "            Solution.warn(\"C3.a: Unavailabilities should be visited.\")\n",
    "            unavail_indices = np.argwhere(~exactly_one_entrance)\n",
    "            idx = unavail_indices[0]\n",
    "            Solution.warn(f\"Condition violated by node {idx}\", \"cyan\")\n",
    "            return False\n",
    "\n",
    "        # C3.b\n",
    "        for k in employees:\n",
    "            if self.x[k, Employee.list[k].home()]:\n",
    "                continue\n",
    "            Solution.warn(f\"C3.b: Each employee should visits their home.\")\n",
    "            Solution.warn(f\"Condition violated by employee {k}.\", \"cyan\")\n",
    "\n",
    "            return False\n",
    "\n",
    "        for idx in unavails:\n",
    "            employee = Node.list[idx].employee\n",
    "            employee_idx = Employee.index_of(employee)\n",
    "            if self.x[employee_idx, idx] == 1:\n",
    "                continue\n",
    "            Solution.warn(f\"C3.b: Each employee should visit his unavailabilities.\")\n",
    "            Solution.warn(f\"Condition violated by employee {employee_idx}.\", \"cyan\")\n",
    "            return False\n",
    "\n",
    "        # C4\n",
    "        for i in nodes:\n",
    "            for j in nodes:\n",
    "                if i == j or not self.x[i, j]: continue\n",
    "                if self.y[:, i] == self.y[:, j]: continue\n",
    "                Solution.warn(f\"C4: Two consecutive tasks should be done by the same employee\")\n",
    "                Solution.warn(f\"Condition violated by task {i} and {j}\", \"cyan\")\n",
    "                return False\n",
    "\n",
    "        # C5\n",
    "        for i in tasks:\n",
    "            task: Task = Node.list[i]\n",
    "            opening, closing = task.opening_time, task.closing_time\n",
    "            if self.b[i] >= opening and self.b[i] + task.duration <= closing: continue\n",
    "            Solution.warn(f\"C5: A task should be worked on between its opening time and closing time\")\n",
    "            Solution.warn(f\"Condition violated by task {i}\", \"cyan\")\n",
    "            return False\n",
    "\n",
    "        # C6.a\n",
    "        for k in employees:\n",
    "            employee: Employee = Employee.list[k]\n",
    "            employee_start = employee.start_time\n",
    "            if employee_start == self.b[k]: continue\n",
    "            Solution.warn(f\"C6.a: Employees' start times should be respected\")\n",
    "            Solution.warn(f\"Condition violated by employee {k}\", \"cyan\")\n",
    "            return False\n",
    "\n",
    "        # C6.b\n",
    "        for i in unavails:\n",
    "            if self.b[i] == Node.list[i].opening_time: continue\n",
    "            Solution.warn(f\"C6.b: The beginning and end of unavailabilities should be respected\")\n",
    "            Solution.warn(f\"Condition violated by Node {i}\", \"cyan\")\n",
    "            return False\n",
    "\n",
    "        # C7\n",
    "        # TODO: verify C7\n",
    "\n",
    "        # C8\n",
    "        # TODO: verify C8\n",
    "\n",
    "        # C9\n",
    "        for k in employees:\n",
    "            for i in tasks:\n",
    "                if not self.x[i, k]: continue\n",
    "                task: Task = Node.list[i]\n",
    "                employee: Employee = Employee.list[k]\n",
    "                if self.b[k] + task.duration + (Node.distance[i, k] / Employee.speed) + self.l[\n",
    "                    k, i] * 60 <= employee.end_time: continue\n",
    "                Solution.warn(\"C9: An employee should have enough time to go back home.\")\n",
    "                Solution.warn(f\"Condition violated by employee {k} after task {i}\", \"cyan\")\n",
    "                return False\n",
    "\n",
    "        # C10.a\n",
    "        for k in employees:\n",
    "            if sum(self.l[k, :]) == 1: continue\n",
    "            Solution.warn(\"C10.a: Each employee has one unique lunch\")\n",
    "            Solution.warn(f\"Condition violated by employee {k}\", \"cyan\")\n",
    "            return False\n",
    "\n",
    "        # C10.b\n",
    "        for k in employees:\n",
    "            for i in nodes:\n",
    "                if not self.l[k, i]: continue\n",
    "                if self.y[k, i]: continue\n",
    "                Solution.warn(f\"C10.b: Constraint violated\")\n",
    "                Solution.warn(f\"Condition violated by employee {k} after lunch at node {i}\")\n",
    "                return False\n",
    "\n",
    "        # C10.c\n",
    "        for i in nodes:\n",
    "            for k in employees:\n",
    "                if not self.l[k, i]: continue\n",
    "                task_duration = Node.list[i].duration\n",
    "                if self.b[i] + task_duration + self.l[k, i] * 60 <= 14 * 60 and self.b[\n",
    "                    i] + task_duration >= 12 * 60: continue\n",
    "                Solution.warn(\"C10.c A task should be taken between 12AM and 2PM\")\n",
    "                Solution.warn(f\"Condition violated by employee {k} after node {i}\", \"cyan\")\n",
    "                return False\n",
    "\n",
    "        # C11\n",
    "        for i in tasks + unavails:\n",
    "            if sum(self.y[:, i]) <= sum(self.x[:, i]): continue\n",
    "            Solution.warn(\"C11: This constraint is violated\")\n",
    "            Solution.warn(f\"Condition violated by node {i}\", \"cyan\")\n",
    "            return False\n",
    "\n",
    "        # C12\n",
    "        for i in tasks + unavails:\n",
    "            for j in tasks + unavails:\n",
    "                if i == j or self.x[i, j]: continue\n",
    "                if self.b[i] + Node.list[i].duration + (Node.distance[i, j] / Employee.speed) + sum(\n",
    "                        self.l[:, i]) * 60 <= self.b[j]: continue\n",
    "                Solution.warn(\"C12: The traveling time between two nodes should be sufficient.\")\n",
    "                Solution.warn(f\"Condition violated between node {i} and {j}\", \"cyan\")\n",
    "                return False\n",
    "\n",
    "        # C13\n",
    "        for k in employees:\n",
    "            for i in tasks:\n",
    "                if not self.y[k, i]: continue\n",
    "                employee: Employee = Employee.list[k]\n",
    "                task: Task = Node.list[i]\n",
    "                if employee.level >= task.level: continue\n",
    "                Solution.warn(\"C13: An employee can only do tasks that they are able to do.\")\n",
    "                Solution.warn(f\"Condition violated by employee {k} at node {i}\", \"cyan\")\n",
    "                Solution.warn(repr(employee), \"green\")\n",
    "                Solution.warn(repr(task), \"green\")\n",
    "                return False\n",
    "\n",
    "        # Every condition is verified\n",
    "        return True"
   ],
   "metadata": {
    "collapsed": false,
    "pycharm": {
     "name": "#%%\n"
    }
   }
  },
  {
   "cell_type": "markdown",
   "source": [
    "# Demo\n",
    "On peut instancier une nouvelle instance de Solution en appelant simplement le constructeur Solution().\n",
    "L’instance s’adapte alors automatiquement aux données présentes dans les classes Employee et Node\n",
    "\n",
    "La méthode validate permet de déterminer si notre solution vérifie les contraintes. Lorsque au moins une contrainte n’est pas vérifiée. Dans ce cas-là, un message d’erreur correspondant à la première violation de contrainte s’affiche."
   ],
   "metadata": {
    "collapsed": false,
    "pycharm": {
     "name": "#%% md\n"
    }
   }
  },
  {
   "cell_type": "code",
   "execution_count": 6,
   "outputs": [
    {
     "name": "stdout",
     "output_type": "stream",
     "text": [
      "\u001B[93mError: C3.a: Unavailabilities should be visited.\u001B[0m\n",
      "\u001B[96mError: Condition violated by node [0]\u001B[0m\n"
     ]
    },
    {
     "data": {
      "text/plain": "False"
     },
     "execution_count": 6,
     "metadata": {},
     "output_type": "execute_result"
    }
   ],
   "source": [
    "solution_instance = Solution()\n",
    "solution_instance.validate()"
   ],
   "metadata": {
    "collapsed": false,
    "pycharm": {
     "name": "#%%\n"
    }
   }
  },
  {
   "cell_type": "markdown",
   "source": [
    "Pour modifier une solution, on modifie directement les tableaux numpy stockés en attribut des instances."
   ],
   "metadata": {
    "collapsed": false,
    "pycharm": {
     "name": "#%% md\n"
    }
   }
  },
  {
   "cell_type": "code",
   "execution_count": 7,
   "outputs": [
    {
     "name": "stdout",
     "output_type": "stream",
     "text": [
      "\u001B[93mError: A node can't be linked to itself.\u001B[0m\n",
      "\u001B[93mError: Condition violated by node 0.\u001B[0m\n"
     ]
    },
    {
     "data": {
      "text/plain": "False"
     },
     "execution_count": 7,
     "metadata": {},
     "output_type": "execute_result"
    }
   ],
   "source": [
    "solution_instance.x[0, 0] = 1\n",
    "solution_instance.validate()"
   ],
   "metadata": {
    "collapsed": false,
    "pycharm": {
     "name": "#%%\n"
    }
   }
  },
  {
   "cell_type": "markdown",
   "source": [
    "Pour copier une instance, on utilise la méthode copy(), qui fait un deep-copy de l’instance."
   ],
   "metadata": {
    "collapsed": false,
    "pycharm": {
     "name": "#%% md\n"
    }
   }
  },
  {
   "cell_type": "code",
   "execution_count": 8,
   "outputs": [],
   "source": [
    "solution_instance_copy = solution_instance.copy()"
   ],
   "metadata": {
    "collapsed": false,
    "pycharm": {
     "name": "#%%\n"
    }
   }
  },
  {
   "cell_type": "markdown",
   "source": [
    "Lorsque l’on modifie une copie, la solution originale n’est pas modifiée."
   ],
   "metadata": {
    "collapsed": false,
    "pycharm": {
     "name": "#%% md\n"
    }
   }
  },
  {
   "cell_type": "code",
   "execution_count": 9,
   "outputs": [],
   "source": [
    "solution_instance_copy.x[0, 0] = 2\n",
    "solution_instance.x[0, 0] = 0\n",
    "solution_instance.x[1, 0] = solution_instance.x[0, 2] = 1"
   ],
   "metadata": {
    "collapsed": false,
    "pycharm": {
     "name": "#%%\n"
    }
   }
  },
  {
   "cell_type": "code",
   "execution_count": 10,
   "outputs": [
    {
     "name": "stdout",
     "output_type": "stream",
     "text": [
      "\u001B[93mError: C1: The number of entrance of each node should be equal to the number of exit.\u001B[0m\n",
      "\u001B[93mError: Condition violated by node [1] with [0] entrance(s) and [1] exit(s).\u001B[0m\n"
     ]
    },
    {
     "data": {
      "text/plain": "False"
     },
     "execution_count": 10,
     "metadata": {},
     "output_type": "execute_result"
    }
   ],
   "source": [
    "solution_instance.validate()"
   ],
   "metadata": {
    "collapsed": false,
    "pycharm": {
     "name": "#%%\n"
    }
   }
  },
  {
   "cell_type": "code",
   "execution_count": 11,
   "outputs": [
    {
     "name": "stdout",
     "output_type": "stream",
     "text": [
      "\u001B[93mError: x should contain binary variables, values other than 0 and 1 detected.\u001B[0m\n"
     ]
    },
    {
     "data": {
      "text/plain": "False"
     },
     "execution_count": 11,
     "metadata": {},
     "output_type": "execute_result"
    }
   ],
   "source": [
    "solution_instance_copy.validate()"
   ],
   "metadata": {
    "collapsed": false,
    "pycharm": {
     "name": "#%%\n"
    }
   }
  },
  {
   "cell_type": "markdown",
   "source": [
    "L'affichage des contraintes non vérifiées sont pour le debug, et on peut ne pas les afficher lorsque l’on exécute nos algorithmes méta-heuristiques."
   ],
   "metadata": {
    "collapsed": false
   }
  },
  {
   "cell_type": "code",
   "execution_count": 12,
   "outputs": [
    {
     "data": {
      "text/plain": "False"
     },
     "execution_count": 12,
     "metadata": {},
     "output_type": "execute_result"
    }
   ],
   "source": [
    "Solution.set_warning(False) # this tells the solution class to not print warning messages\n",
    "solution_instance.validate()"
   ],
   "metadata": {
    "collapsed": false,
    "pycharm": {
     "name": "#%%\n"
    }
   }
  },
  {
   "cell_type": "code",
   "execution_count": 13,
   "outputs": [
    {
     "name": "stdout",
     "output_type": "stream",
     "text": [
      "\u001B[93mError: C1: The number of entrance of each node should be equal to the number of exit.\u001B[0m\n",
      "\u001B[93mError: Condition violated by node [1] with [0] entrance(s) and [1] exit(s).\u001B[0m\n"
     ]
    },
    {
     "data": {
      "text/plain": "False"
     },
     "execution_count": 13,
     "metadata": {},
     "output_type": "execute_result"
    }
   ],
   "source": [
    "Solution.set_warning(True) # modify setting to print warning messages again\n",
    "solution_instance.validate()"
   ],
   "metadata": {
    "collapsed": false,
    "pycharm": {
     "name": "#%%\n"
    }
   }
  },
  {
   "cell_type": "markdown",
   "source": [
    "## Algorithme glouton\n",
    "Each employee has a list of tasks\n",
    "\n",
    "\n",
    "constraints to respect: go home, lunch, unavailability\n",
    "\n",
    "next obstacle = home + unavailabilities, ordered\n",
    "\n",
    "for each obstacle:\n",
    "    while employee has time to go to next obstacle:\n",
    "        if lunch time go to lunch else add next task\n",
    "    remove last task\n",
    "    if lunch added remove lunch\n",
    "    remove last task\n",
    "    go to unavailability"
   ],
   "metadata": {
    "collapsed": false,
    "pycharm": {
     "name": "#%% md\n"
    }
   }
  },
  {
   "cell_type": "code",
   "execution_count": null,
   "outputs": [],
   "source": [],
   "metadata": {
    "collapsed": false,
    "pycharm": {
     "name": "#%%\n"
    }
   }
  }
 ],
 "metadata": {
  "kernelspec": {
   "display_name": "Python 3",
   "language": "python",
   "name": "python3"
  },
  "language_info": {
   "codemirror_mode": {
    "name": "ipython",
    "version": 2
   },
   "file_extension": ".py",
   "mimetype": "text/x-python",
   "name": "python",
   "nbconvert_exporter": "python",
   "pygments_lexer": "ipython2",
   "version": "2.7.6"
  }
 },
 "nbformat": 4,
 "nbformat_minor": 0
}