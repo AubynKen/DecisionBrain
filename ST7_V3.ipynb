{
 "cells": [
  {
   "cell_type": "markdown",
   "metadata": {
    "collapsed": true,
    "pycharm": {
     "name": "#%% md\n"
    }
   },
   "source": [
    "# ST7 Planification quotidienne d’une équipe mobile\n",
    "# Phase III"
   ]
  },
  {
   "cell_type": "markdown",
   "metadata": {
    "collapsed": false,
    "pycharm": {
     "name": "#%% md\n"
    }
   },
   "source": [
    "## Importation de modules"
   ]
  },
  {
   "cell_type": "code",
   "execution_count": 122,
   "metadata": {
    "collapsed": false,
    "pycharm": {
     "name": "#%%\n"
    }
   },
   "outputs": [],
   "source": [
    "# module importation\n",
    "import numpy as np\n",
    "from math import ceil\n",
    "import matplotlib.pyplot as plt\n",
    "\n",
    "# utilities\n",
    "from utils import *\n",
    "from copy import deepcopy\n",
    "\n",
    "# model classes for employees and nodes\n",
    "from models_v2 import Employee, Node, Task, Home, Unavail"
   ]
  },
  {
   "cell_type": "markdown",
   "metadata": {
    "collapsed": false,
    "pycharm": {
     "name": "#%% md\n"
    }
   },
   "source": [
    "Déclaration des constantes et des indices :"
   ]
  },
  {
   "cell_type": "code",
   "execution_count": 123,
   "metadata": {
    "collapsed": false,
    "pycharm": {
     "name": "#%%\n"
    }
   },
   "outputs": [],
   "source": [
    "W = U = T = V = 0\n",
    "employees = homes = tasks = unavails = nodes = []"
   ]
  },
  {
   "cell_type": "markdown",
   "metadata": {
    "collapsed": false,
    "pycharm": {
     "name": "#%% md\n"
    }
   },
   "source": [
    "## Fonction de lecture de données"
   ]
  },
  {
   "cell_type": "code",
   "execution_count": 124,
   "metadata": {
    "collapsed": false,
    "pycharm": {
     "name": "#%%\n"
    }
   },
   "outputs": [],
   "source": [
    "def load_data_from_path(path_to_instance: str):\n",
    "    # load employee data\n",
    "    Employee.load_excel(path_to_instance)\n",
    "\n",
    "    # load node data\n",
    "    Node.clear_previous_data()\n",
    "    for cls in [Home, Task, Unavail]:\n",
    "        cls.load_excel(path_to_instance)\n",
    "    Node.initialize_distance()\n",
    "\n",
    "    # constants\n",
    "    global W, U, T, V\n",
    "    (W, U, T, V) = (Task.count, Unavail.count, Employee.count, Node.count)\n",
    "\n",
    "    # indices of employees, homes, lunches, tasks, unavailabilities\n",
    "    global employees, homes, tasks, unavails, nodes\n",
    "    employees = list(range(T))\n",
    "    homes = list(range(T))\n",
    "    tasks = list(range(T, T + W))\n",
    "    unavails = list((range(T + W, V)))\n",
    "    nodes = list(range(V))"
   ]
  },
  {
   "cell_type": "markdown",
   "metadata": {
    "collapsed": false,
    "pycharm": {
     "name": "#%% md\n"
    }
   },
   "source": [
    "Lecture de données de test"
   ]
  },
  {
   "cell_type": "code",
   "execution_count": 125,
   "metadata": {
    "collapsed": false,
    "pycharm": {
     "name": "#%%\n"
    }
   },
   "outputs": [],
   "source": [
    "path_to_test = path_bordeaux_v2 = \"./data/InstancesV2/InstanceBordeauxV2.xlsx\"\n",
    "load_data_from_path(path_to_test)"
   ]
  },
  {
   "cell_type": "markdown",
   "metadata": {
    "collapsed": false,
    "pycharm": {
     "name": "#%% md\n"
    }
   },
   "source": [
    "## Implémentation de la classe Solution"
   ]
  },
  {
   "cell_type": "code",
   "execution_count": 252,
   "metadata": {
    "collapsed": false,
    "pycharm": {
     "name": "#%%\n"
    }
   },
   "outputs": [],
   "source": [
    "class Chemins:\n",
    "    print_warning = True  # whether to print warning or not when validating\n",
    "\n",
    "    def __init__(self,chemins):\n",
    "        self.list = chemins\n",
    "    \n",
    "    @classmethod\n",
    "    def set_warning(cls, print_warning: bool):\n",
    "        \"\"\"set whether to print warning when validating data\"\"\"\n",
    "        cls.print_warning = print_warning\n",
    "\n",
    "    @classmethod\n",
    "    def warn(cls, warning: str, print_color=\"yellow\"):\n",
    "        \"\"\"\n",
    "        Print a text in yellow if print_warning set to True\n",
    "        :param warning: the warning message we want to print\n",
    "        :param print_color: the color of the printed message, defaulted to yellow\n",
    "        \"\"\"\n",
    "        if not cls.print_warning: return # does nothing if print_warning set to False\n",
    "        correspondance = {\n",
    "            \"yellow\": Colors.WARNING,\n",
    "            \"cyan\": Colors.CYAN,\n",
    "            \"green\": Colors.GREEN,\n",
    "            \"red\": Colors.FAIL\n",
    "        }\n",
    "        color = correspondance[print_color] if print_color in correspondance.keys() else Colors.WARNING\n",
    "        print(f\"{color}Error: {warning}{Colors.NORMAL}\")\n",
    "\n",
    "    def copy(self):\n",
    "        \"\"\"Return a deep copy of the instance\"\"\"\n",
    "        return deepcopy(self)\n",
    "\n",
    "    def validate_format(self):\n",
    "        \"\"\"Verify that chemins and margin have the right format\"\"\"\n",
    "        if type(self.list) == str :\n",
    "            Chemins.warn(self.list)\n",
    "            return False\n",
    "\n",
    "        for k in self.list.keys():\n",
    "            if k not in employees :\n",
    "                Chemins.warn(f\"{k} is not the index of an employee\")\n",
    "                return False\n",
    "            for v in list(self.list[k].keys())[1:] : \n",
    "                if v not in tasks + unavails: \n",
    "                    Chemins.warn(f\"{v} is not the index of a task or an unvavailability\")\n",
    "                    return False\n",
    "        return True\n",
    "\n",
    "    def validate(self):\n",
    "        \"\"\"\n",
    "        validate the modifications\n",
    "        :return: whether the constraints are verified\n",
    "        \"\"\"\n",
    "\n",
    "        # verify that x, y and l contain only 0 and 1\n",
    "        if not self.validate_format(): return False\n",
    "\n",
    "        # C1, okay thank to the format \n",
    "\n",
    "        # C2\n",
    "        visited = []\n",
    "        for k in self.list.keys():\n",
    "            for v in self.list[k].keys():\n",
    "                if v in visited :\n",
    "                    Chemins.warn(\"C2: Each task should be done by at most one employee.\")\n",
    "                    Chemins.warn(f\"Condition violated by node {v} done by employees {k}.\", \"cyan\")\n",
    "                    return False\n",
    "                visited.append(v)\n",
    "\n",
    "        # C3.a and C3.b2\n",
    "        for v in unavails :\n",
    "            employee = Node.list[v].employee\n",
    "            employee_idx = Employee.index_of(employee)\n",
    "            if not v in self.list[employee_idx].keys():\n",
    "                Chemins.warn(\"C3.a: Unavailabilities should be visited.\")\n",
    "                Chemins.warn(f\"Condition violated by node {v}.\", \"cyan\")\n",
    "                return False\n",
    "        for k in self.list.keys():\n",
    "            if list(self.list[k].keys())[0] != k:\n",
    "                Chemins.warn(f\"C3.b: Each employee should visits their home.\")\n",
    "                Chemins.warn(f\"Condition violated by employee {k}.\", \"cyan\")\n",
    "                return False\n",
    "\n",
    "        # C4, okay thank to the format \n",
    "\n",
    "        # C5 + C6.b\n",
    "        for k in self.list.keys():\n",
    "            delta1 = 0\n",
    "            delta2 = 0\n",
    "            for v in self.list[k].keys(): \n",
    "                if v == k :\n",
    "                    continue\n",
    "                self.list[k][v][0] += delta1\n",
    "                self.list[k][v][1] -= delta2\n",
    "\n",
    "                opening, closing = Node.list[v].opening_time, Node.list[v].closing_time\n",
    "                m = self.list[k][v][1] - opening\n",
    "                if m<0 :\n",
    "                    Chemins.warn(f\"C5: A task should be worked on between its opening time and closing time\")\n",
    "                    Chemins.warn(f\"Condition violated by task {v}\", \"cyan\")\n",
    "                    return False\n",
    "                if  opening > self.list[k][v][0] :\n",
    "                    delta1 += opening - self.list[k][v][0]\n",
    "                    self.list[k][v][0] = opening\n",
    "                \n",
    "                m = closing - (self.list[k][v][0] + Node.list[v].duration)\n",
    "                if m<0 :\n",
    "                    Chemins.warn(f\"C5: A task should be worked on between its opening time and closing time\")\n",
    "                    Chemins.warn(f\"Condition violated by task {v}\", \"cyan\")\n",
    "                    return False\n",
    "                if  closing < self.list[k][v][1] + Node.list[v].duration:\n",
    "                    delta2 += (self.list[k][v][1] + Node.list[v].duration) - closing\n",
    "                    self.list[k][v][1] = closing - Node.list[v].duration\n",
    "\n",
    "                if v in unavails :\n",
    "                    self.list[k][v][0] = opening\n",
    "                    self.list[k][v][1] = opening\n",
    "\n",
    "        # C6.a + \n",
    "        for k in self.list.keys():\n",
    "            v = list(self.list[k].keys())[1]\n",
    "            if v not in unavails :\n",
    "                if self.list[k][v][0] < Employee.list[k].start_time :\n",
    "                    Chemins.warn(f\"C6.a: Employees' start times should be respected\")\n",
    "                    Chemins.warn(f\"Condition violated by employee {k}\", \"cyan\")\n",
    "                    return False\n",
    "\n",
    "        # C7\n",
    "        # TODO: verify C7\n",
    "\n",
    "        # C8\n",
    "        # TODO: verify C8\n",
    "\n",
    "        # C9\n",
    "        for k in self.list.keys():\n",
    "            v = list(self.list[k].keys())[-1]\n",
    "            if self.list[k][v][1] + Node.list[v].duration + (Node.distance[v, k] / Employee.speed) > Employee.list[k].end_time :\n",
    "                Chemins.warn(\"C9: An employee should have enough time to go back home.\")\n",
    "                Chemins.warn(f\"Condition violated by employee {k} after task {v}\", \"cyan\")\n",
    "                return False\n",
    "\n",
    "        # C10\n",
    "        for k in self.list.keys() :\n",
    "            Lunch_Break = False\n",
    "            for i in range(len(self.list[k].keys())):\n",
    "                v = list(self.list[k].keys())[i]\n",
    "                t1,t2 = self.list[k][v]\n",
    "                if t1<= 13*60 and t2>=13*60 and t2-t1>=60 :\n",
    "                    if t1<=12*60:\n",
    "                        t_end_lunch = 13*60\n",
    "                    else :\n",
    "                        t_end_lunch = t1+60\n",
    "                    def rec(i,t):\n",
    "                        if i==len(self.list[k].keys()):\n",
    "                            return True\n",
    "                        else :\n",
    "                            v1 = list(self.list[k].keys())[i-1]\n",
    "                            v2 = list(self.list[k].keys())[i]\n",
    "                            t1,t2 = self.list[k][v2]\n",
    "                            if v1 == k:\n",
    "                                d = (Node.distance[v1,v2]/Employee.speed)\n",
    "                            else :\n",
    "                                d = Node.list[v1].duration + (Node.distance[v1,v2]/Employee.speed)\n",
    "                            T = t + d\n",
    "                            if T>t2:\n",
    "                                return False\n",
    "                            if T<=t1 :\n",
    "                                return True\n",
    "                            else :\n",
    "                                return rec(i+1,T)\n",
    "                    Lunch_Break = rec(i+1,t_end_lunch)\n",
    "                    if Lunch_Break : break\n",
    "                    \n",
    "                    \n",
    "            if not Lunch_Break :\n",
    "                Chemins.warn(\"C10: Each employee must have the time to lunch\")\n",
    "                Chemins.warn(f\"Condition violated by employee {k}\", \"cyan\")\n",
    "                return False\n",
    "\n",
    "        # C12\n",
    "        for k in self.list.keys():\n",
    "            for i in range(len(self.list[k].keys())-1):\n",
    "                v1 = list(self.list[k].keys())[i]\n",
    "                v2 = list(self.list[k].keys())[i+1]\n",
    "                if i == 0 and self.list[k][v1][0] + (Node.distance[v1, v2] / Employee.speed) > self.list[k][v2][1] :\n",
    "                    Chemins.warn(\"C12: The traveling time between two nodes should be sufficient.\")\n",
    "                    Chemins.warn(f\"Condition violated between node {v1} and {v2}\", \"cyan\")\n",
    "                    return False\n",
    "\n",
    "        # C13\n",
    "        for k in self.list.keys():\n",
    "            for v in self.list[k].keys():\n",
    "                if v in tasks and Employee.list[k].level < Node.list[v].level :\n",
    "                    Chemins.warn(\"C13: An employee can only do tasks that they are able to do.\")\n",
    "                    Chemins.warn(f\"Condition violated by employee {k} at node {v}\", \"cyan\")\n",
    "                    return False\n",
    "\n",
    "        # Every condition is verified\n",
    "        return True\n",
    "    \n",
    "\n",
    "\n",
    "\n"
   ]
  },
  {
   "cell_type": "markdown",
   "metadata": {
    "collapsed": false,
    "pycharm": {
     "name": "#%% md\n"
    }
   },
   "source": [
    "# Demo\n",
    "On peut instancier une nouvelle instance de Solution en appelant simplement le constructeur Solution().\n",
    "L’instance s’adapte alors automatiquement aux données présentes dans les classes Employee et Node\n",
    "\n",
    "La méthode validate permet de déterminer si notre solution vérifie les contraintes. Lorsque au moins une contrainte n’est pas vérifiée. Dans ce cas-là, un message d’erreur correspondant à la première violation de contrainte s’affiche."
   ]
  },
  {
   "cell_type": "code",
   "execution_count": 127,
   "metadata": {
    "collapsed": false,
    "pycharm": {
     "name": "#%%\n"
    }
   },
   "outputs": [
    {
     "name": "stdout",
     "output_type": "stream",
     "text": [
      "\u001b[93mError: C3.a: Unavailabilities should be visited.\u001b[0m\n",
      "\u001b[96mError: Condition violated by node [0]\u001b[0m\n"
     ]
    },
    {
     "data": {
      "text/plain": [
       "False"
      ]
     },
     "execution_count": 127,
     "metadata": {},
     "output_type": "execute_result"
    }
   ],
   "source": [
    "solution_instance = Solution()\n",
    "solution_instance.validate()"
   ]
  },
  {
   "cell_type": "markdown",
   "metadata": {
    "collapsed": false,
    "pycharm": {
     "name": "#%% md\n"
    }
   },
   "source": [
    "Pour modifier une solution, on modifie directement les tableaux numpy stockés en attribut des instances."
   ]
  },
  {
   "cell_type": "code",
   "execution_count": 128,
   "metadata": {
    "collapsed": false,
    "pycharm": {
     "name": "#%%\n"
    }
   },
   "outputs": [
    {
     "name": "stdout",
     "output_type": "stream",
     "text": [
      "\u001b[93mError: A node can't be linked to itself.\u001b[0m\n",
      "\u001b[93mError: Condition violated by node 0.\u001b[0m\n"
     ]
    },
    {
     "data": {
      "text/plain": [
       "False"
      ]
     },
     "execution_count": 128,
     "metadata": {},
     "output_type": "execute_result"
    }
   ],
   "source": [
    "solution_instance.x[0, 0] = 1\n",
    "solution_instance.validate()"
   ]
  },
  {
   "cell_type": "markdown",
   "metadata": {
    "collapsed": false,
    "pycharm": {
     "name": "#%% md\n"
    }
   },
   "source": [
    "Pour copier une instance, on utilise la méthode copy(), qui fait un deep-copy de l’instance."
   ]
  },
  {
   "cell_type": "code",
   "execution_count": 129,
   "metadata": {
    "collapsed": false,
    "pycharm": {
     "name": "#%%\n"
    }
   },
   "outputs": [],
   "source": [
    "solution_instance_copy = solution_instance.copy()"
   ]
  },
  {
   "cell_type": "markdown",
   "metadata": {
    "collapsed": false,
    "pycharm": {
     "name": "#%% md\n"
    }
   },
   "source": [
    "Lorsque l’on modifie une copie, la solution originale n’est pas modifiée."
   ]
  },
  {
   "cell_type": "code",
   "execution_count": 130,
   "metadata": {
    "collapsed": false,
    "pycharm": {
     "name": "#%%\n"
    }
   },
   "outputs": [],
   "source": [
    "solution_instance_copy.x[0, 0] = 2\n",
    "solution_instance.x[0, 0] = 0\n",
    "solution_instance.x[1, 0] = solution_instance.x[0, 2] = 1"
   ]
  },
  {
   "cell_type": "code",
   "execution_count": 131,
   "metadata": {
    "collapsed": false,
    "pycharm": {
     "name": "#%%\n"
    }
   },
   "outputs": [
    {
     "name": "stdout",
     "output_type": "stream",
     "text": [
      "\u001b[93mError: C1: The number of entrance of each node should be equal to the number of exit.\u001b[0m\n",
      "\u001b[93mError: Condition violated by node [1] with [0] entrance(s) and [1] exit(s).\u001b[0m\n"
     ]
    },
    {
     "data": {
      "text/plain": [
       "False"
      ]
     },
     "execution_count": 131,
     "metadata": {},
     "output_type": "execute_result"
    }
   ],
   "source": [
    "solution_instance.validate()"
   ]
  },
  {
   "cell_type": "code",
   "execution_count": 132,
   "metadata": {
    "collapsed": false,
    "pycharm": {
     "name": "#%%\n"
    }
   },
   "outputs": [
    {
     "name": "stdout",
     "output_type": "stream",
     "text": [
      "\u001b[93mError: x should contain binary variables, values other than 0 and 1 detected.\u001b[0m\n"
     ]
    },
    {
     "data": {
      "text/plain": [
       "False"
      ]
     },
     "execution_count": 132,
     "metadata": {},
     "output_type": "execute_result"
    }
   ],
   "source": [
    "solution_instance_copy.validate()"
   ]
  },
  {
   "cell_type": "markdown",
   "metadata": {
    "collapsed": false
   },
   "source": [
    "L'affichage des contraintes non vérifiées sont pour le debug, et on peut ne pas les afficher lorsque l’on exécute nos algorithmes méta-heuristiques."
   ]
  },
  {
   "cell_type": "code",
   "execution_count": 133,
   "metadata": {
    "collapsed": false,
    "pycharm": {
     "name": "#%%\n"
    }
   },
   "outputs": [
    {
     "data": {
      "text/plain": [
       "False"
      ]
     },
     "execution_count": 133,
     "metadata": {},
     "output_type": "execute_result"
    }
   ],
   "source": [
    "Solution.set_warning(False) # this tells the solution class to not print warning messages\n",
    "solution_instance.validate()"
   ]
  },
  {
   "cell_type": "code",
   "execution_count": 134,
   "metadata": {
    "collapsed": false,
    "pycharm": {
     "name": "#%%\n"
    }
   },
   "outputs": [
    {
     "name": "stdout",
     "output_type": "stream",
     "text": [
      "\u001b[93mError: C1: The number of entrance of each node should be equal to the number of exit.\u001b[0m\n",
      "\u001b[93mError: Condition violated by node [1] with [0] entrance(s) and [1] exit(s).\u001b[0m\n"
     ]
    },
    {
     "data": {
      "text/plain": [
       "False"
      ]
     },
     "execution_count": 134,
     "metadata": {},
     "output_type": "execute_result"
    }
   ],
   "source": [
    "Solution.set_warning(True) # modify setting to print warning messages again\n",
    "solution_instance.validate()"
   ]
  },
  {
   "cell_type": "code",
   "execution_count": 269,
   "metadata": {},
   "outputs": [],
   "source": [
    "# Tabu Search\n",
    "\n",
    "# Définition des objets\n",
    "\n",
    "def add_time(routes):\n",
    "    routes_timed = {}\n",
    "    for k in range(len(routes)):\n",
    "        routes_timed[k] = {}\n",
    "        v0 = routes[k][0]\n",
    "        routes_timed[k][v0] = Employee.list[k].start_time\n",
    "        for i in range(1,len(routes[k])):\n",
    "            v1 = routes[k][i-1]\n",
    "            v2 = routes[k][i]\n",
    "            if i == 1 :\n",
    "                d = ceil(Node.distance[v1,v2]/Employee.speed)\n",
    "            else :\n",
    "                d = Node.list[v1].duration + ceil(Node.distance[v1,v2]/Employee.speed)\n",
    "            routes_timed[k][v2] = routes_timed[k][v1] + d\n",
    "        \n",
    "        v = routes[k][-1]\n",
    "        margin = Employee.list[k].end_time - (routes_timed[k][v] + Node.list[v].duration + ceil(Node.distance[v,v0]/Employee.speed))\n",
    "        if margin <0 :\n",
    "            return \"Not Possible\"\n",
    "        else :\n",
    "            for i in range(len(routes[k])):\n",
    "                v = routes[k][i]\n",
    "                routes_timed[k][v] = [routes_timed[k][v],routes_timed[k][v]+margin]\n",
    "    return routes_timed\n",
    "\n",
    "\n",
    "# Définition de la list Tabou\n",
    "\n",
    "Tabu_list = {}\n",
    "\n",
    "def update(Tabu_list, opp, iter, tabu_step):\n",
    "    Tabu_list[iter] = opp\n",
    "    if iter >= tabu_step :\n",
    "        del Tabu_list[iter - tabu_step]\n",
    "\n",
    "# Définition du voisinage\n",
    "\n",
    "def Crossing(route1, route2, max_len_cross):\n",
    "    Neighbors = []\n",
    "    n1 = len(route1)\n",
    "    n2 = len(route2)\n",
    "    for l1 in range(max_len_cross+1):\n",
    "        for l2 in range(max_len_cross+1): \n",
    "            if l1 == 0 and l2 ==0:\n",
    "                continue\n",
    "            for i in range(1,n1-l1):\n",
    "                for j in range(1,n2-l2):\n",
    "                    new_route1 = route1[:i]+route2[j:j+l2]+route1[i+l1:]\n",
    "                    new_route2 = route2[:j]+route1[i:i+l1]+route2[j+l2:]\n",
    "                    Neighbors.append((new_route1,new_route2))\n",
    "    return Neighbors\n",
    "\n",
    "def Crossing_alone(route, max_len_cross):\n",
    "    Neighbors = []\n",
    "    n = len(route)\n",
    "    for l1 in range(max_len_cross+1):\n",
    "        for l2 in range(max_len_cross+1): \n",
    "            if l1 == 0 and l2 ==0:\n",
    "                continue\n",
    "            for i in range(1,n-l1):\n",
    "                for j in range(i+l1+1,n-l2-l1-i):\n",
    "                    new_route = route[:i]+route[j:j+l2]+route[i+l1:j]+route[i:i+l1]+route[j+l2:]\n",
    "                    if new_route not in Neighbors :\n",
    "                        Neighbors.append(new_route)\n",
    "    return Neighbors\n",
    "\n",
    "def create_neighborhood(routes, max_len_cross):\n",
    "    Neighborhood = []\n",
    "    T = len(routes)\n",
    "    for i in range(T):\n",
    "        Neighbors = Crossing_alone(routes[i], max_len_cross)\n",
    "        for route in Neighbors:\n",
    "            new_routes = routes[:i]+[route]+routes[i+1:]\n",
    "            if Chemins(add_time(new_routes)).validate() :\n",
    "                Neighborhood.append(new_routes)\n",
    "        for j in range(i+1,T):\n",
    "            Neighbors = Crossing(routes[i], routes[j], max_len_cross)\n",
    "            for (route1,route2) in Neighbors:\n",
    "                new_routes = routes[:i]+[route1]+routes[i+1:j]+[route2]+routes[j+1:]\n",
    "                if Chemins(add_time(new_routes)).validate() :\n",
    "                    Neighborhood.append(new_routes)\n",
    "    return Neighborhood\n",
    "\n",
    "# Initialisation / 1ère solution\n",
    "\n",
    "# Itérations\n"
   ]
  },
  {
   "cell_type": "code",
   "execution_count": 231,
   "metadata": {},
   "outputs": [
    {
     "data": {
      "text/plain": [
       "True"
      ]
     },
     "execution_count": 231,
     "metadata": {},
     "output_type": "execute_result"
    }
   ],
   "source": [
    "C = Chemins(chemins = add_time([[0,10,7,6,4,12],[1,3,5,11,9]]))\n",
    "C.validate()"
   ]
  },
  {
   "cell_type": "code",
   "execution_count": 270,
   "metadata": {},
   "outputs": [
    {
     "data": {
      "text/plain": [
       "[[[0, 7, 10, 6, 4, 12], [1, 3, 5, 11, 9]],\n",
       " [[0, 6, 10, 7, 4, 12], [1, 3, 5, 11, 9]],\n",
       " [[0, 7, 6, 10, 4, 12], [1, 3, 5, 11, 9]],\n",
       " [[0, 10, 7, 6, 4, 12], [1, 5, 3, 11, 9]]]"
      ]
     },
     "execution_count": 270,
     "metadata": {},
     "output_type": "execute_result"
    }
   ],
   "source": [
    "Chemins.set_warning(False)\n",
    "create_neighborhood([[0,10,7,6,4,12],[1,3,5,11,9]],10)"
   ]
  }
 ],
 "metadata": {
  "kernelspec": {
   "display_name": "Python 3",
   "language": "python",
   "name": "python3"
  },
  "language_info": {
   "codemirror_mode": {
    "name": "ipython",
    "version": 3
   },
   "file_extension": ".py",
   "mimetype": "text/x-python",
   "name": "python",
   "nbconvert_exporter": "python",
   "pygments_lexer": "ipython3",
   "version": "3.9.7"
  }
 },
 "nbformat": 4,
 "nbformat_minor": 0
}
