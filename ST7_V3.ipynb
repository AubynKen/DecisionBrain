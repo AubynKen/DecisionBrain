{
 "cells": [
  {
   "cell_type": "markdown",
   "metadata": {
    "collapsed": true,
    "pycharm": {
     "name": "#%% md\n"
    }
   },
   "source": [
    "# ST7 Planification quotidienne d’une équipe mobile\n",
    "# Phase III"
   ]
  },
  {
   "cell_type": "markdown",
   "metadata": {
    "pycharm": {
     "name": "#%% md\n"
    }
   },
   "source": [
    "## Importation de modules"
   ]
  },
  {
   "cell_type": "code",
<<<<<<< HEAD
   "execution_count": 3,
   "metadata": {
    "collapsed": false,
=======
   "execution_count": 1,
   "metadata": {
>>>>>>> e95bfeef156b2dcb47c67022de82e806e32b29ff
    "pycharm": {
     "name": "#%%\n"
    }
   },
   "outputs": [],
   "source": [
    "# module importation\n",
    "import numpy as np\n",
    "from math import ceil\n",
    "import matplotlib.pyplot as plt\n",
    "import itertools\n",
    "\n",
    "# utilities\n",
    "from utils import *\n",
    "from copy import deepcopy\n",
    "\n",
    "# model classes for employees and nodes\n",
    "from models_v2 import Employee, Node, Task, Home, Unavail"
   ]
  },
  {
   "cell_type": "markdown",
   "metadata": {
    "pycharm": {
     "name": "#%% md\n"
    }
   },
   "source": [
    "Déclaration des constantes et des indices :"
   ]
  },
  {
   "cell_type": "code",
<<<<<<< HEAD
   "execution_count": 4,
=======
   "execution_count": 2,
>>>>>>> e95bfeef156b2dcb47c67022de82e806e32b29ff
   "metadata": {
    "pycharm": {
     "name": "#%%\n"
    }
   },
   "outputs": [],
   "source": [
    "W = U = T = V = 0\n",
    "employees = homes = tasks = unavails = nodes = []"
   ]
  },
  {
   "cell_type": "markdown",
   "metadata": {
    "pycharm": {
     "name": "#%% md\n"
    }
   },
   "source": [
    "## Fonction de lecture de données"
   ]
  },
  {
   "cell_type": "code",
<<<<<<< HEAD
   "execution_count": 5,
   "metadata": {
    "collapsed": false,
=======
   "execution_count": 3,
   "metadata": {
>>>>>>> e95bfeef156b2dcb47c67022de82e806e32b29ff
    "pycharm": {
     "name": "#%%\n"
    }
   },
   "outputs": [],
   "source": [
    "def load_data_from_path(path_to_instance: str):\n",
    "    # load employee data\n",
    "    Employee.load_excel(path_to_instance)\n",
    "\n",
    "    # load node data\n",
    "    Node.clear_previous_data()\n",
    "    for cls in [Home, Task, Unavail]:\n",
    "        cls.load_excel(path_to_instance)\n",
    "    Node.initialize_distance()\n",
    "\n",
    "    # constants\n",
    "    global W, U, T, V\n",
    "    (W, U, T, V) = (Task.count, Unavail.count, Employee.count, Node.count)\n",
    "\n",
    "    # indices of employees, homes, lunches, tasks, unavailabilities\n",
    "    global employees, homes, tasks, unavails, nodes\n",
    "    employees = list(range(T))\n",
    "    homes = list(range(T))\n",
    "    tasks = list(range(T, T + W))\n",
    "    unavails = list((range(T + W, V)))\n",
    "    nodes = list(range(V))"
   ]
  },
  {
   "cell_type": "markdown",
   "metadata": {
    "pycharm": {
     "name": "#%% md\n"
    }
   },
   "source": [
    "Lecture de données de test"
   ]
  },
  {
   "cell_type": "code",
<<<<<<< HEAD
   "execution_count": 6,
=======
   "execution_count": 4,
>>>>>>> e95bfeef156b2dcb47c67022de82e806e32b29ff
   "metadata": {
    "pycharm": {
     "name": "#%%\n"
    }
   },
   "outputs": [],
   "source": [
<<<<<<< HEAD
    "path_to_test = path_columbia_v3 = \"./data/InstancesV3/InstanceColumbiaV3.xlsx\"\n",
=======
    "path_to_test = path_bordeaux_v2 = \"./data/InstancesV2/InstanceBordeauxV2.xlsx\"\n",
>>>>>>> e95bfeef156b2dcb47c67022de82e806e32b29ff
    "load_data_from_path(path_to_test)"
   ]
  },
  {
<<<<<<< HEAD
=======
   "cell_type": "code",
   "execution_count": 8,
   "metadata": {},
   "outputs": [],
   "source": [
    "def open_intervals(i):\n",
    "    d, f = Node.list[i].opening_time, Node.list[i].closing_time\n",
    "    task_duration = Node.list[i].duration\n",
    "    l = [d]\n",
    "    for s, e in Node.list[i].closed_intervals:\n",
    "        l.append(s)\n",
    "        l.append(e)\n",
    "    l.append(f)\n",
    "    return [(l[j],l[j+1]) for j in range(0,len(l),2) if l[j+1] - l[j] >= task_duration]"
   ]
  },
  {
>>>>>>> e95bfeef156b2dcb47c67022de82e806e32b29ff
   "cell_type": "markdown",
   "metadata": {
    "pycharm": {
     "name": "#%% md\n"
    }
   },
   "source": [
    "## Implémentation de la classe Solution"
   ]
  },
  {
   "cell_type": "code",
<<<<<<< HEAD
   "execution_count": 7,
   "metadata": {
    "collapsed": false,
=======
   "execution_count": 5,
   "metadata": {
>>>>>>> e95bfeef156b2dcb47c67022de82e806e32b29ff
    "pycharm": {
     "name": "#%%\n"
    }
   },
<<<<<<< HEAD
   "outputs": [],
=======
   "outputs": [
    {
     "ename": "IndentationError",
     "evalue": "expected an indented block (Temp/ipykernel_4056/4021777753.py, line 156)",
     "output_type": "error",
     "traceback": [
      "\u001b[1;36m  File \u001b[1;32m\"C:\\Users\\yasse\\AppData\\Local\\Temp/ipykernel_4056/4021777753.py\"\u001b[1;36m, line \u001b[1;32m156\u001b[0m\n\u001b[1;33m    for k in employees:\u001b[0m\n\u001b[1;37m    ^\u001b[0m\n\u001b[1;31mIndentationError\u001b[0m\u001b[1;31m:\u001b[0m expected an indented block\n"
     ]
    }
   ],
>>>>>>> e95bfeef156b2dcb47c67022de82e806e32b29ff
   "source": [
    "class Chemins:\n",
    "    print_warning = True  # whether to print warning or not when validating\n",
    "\n",
<<<<<<< HEAD
    "    def __init__(self,chemins):\n",
    "        self.list = chemins\n",
    "    \n",
=======
    "    def __init__(self):\n",
    "        \"\"\"instantiate new solution instance that adapts to the Employee and Node data\"\"\"\n",
    "        self.x = np.zeros((V, V), dtype=np.intc)\n",
    "        self.y = np.zeros((T, W), dtype=np.intc)\n",
    "        self.b = np.zeros(W, dtype=np.intc)\n",
    "        self.l = np.zeros((T, V), dtype=np.intc)\n",
    "        self.p = np.zeros(T, dtype = np.intc)\n",
    "        self.t = np.zeros(W, dtype = np.intc) # t[i] = indice du segment utilisé de disponibilité de la tache i\n",
    "        #Si la tache i n'est pas effectuée, on prend t[i] = -1\n",
    "\n",
>>>>>>> e95bfeef156b2dcb47c67022de82e806e32b29ff
    "    @classmethod\n",
    "    def set_warning(cls, print_warning: bool):\n",
    "        \"\"\"set whether to print warning when validating data\"\"\"\n",
    "        cls.print_warning = print_warning\n",
    "\n",
    "    @classmethod\n",
    "    def warn(cls, warning: str, print_color=\"yellow\"):\n",
    "        \"\"\"\n",
    "        Print a text in yellow if print_warning set to True\n",
    "        :param warning: the warning message we want to print\n",
    "        :param print_color: the color of the printed message, defaulted to yellow\n",
    "        \"\"\"\n",
    "        if not cls.print_warning: return # does nothing if print_warning set to False\n",
    "        correspondance = {\n",
    "            \"yellow\": Colors.WARNING,\n",
    "            \"cyan\": Colors.CYAN,\n",
    "            \"green\": Colors.GREEN,\n",
    "            \"red\": Colors.FAIL\n",
    "        }\n",
    "        color = correspondance[print_color] if print_color in correspondance.keys() else Colors.WARNING\n",
    "        print(f\"{color}Error: {warning}{Colors.NORMAL}\")\n",
    "\n",
    "    def copy(self):\n",
    "        \"\"\"Return a deep copy of the instance\"\"\"\n",
    "        return deepcopy(self)\n",
    "\n",
    "    def validate_format(self):\n",
    "        \"\"\"Verify that chemins and margin have the right format\"\"\"\n",
    "        if type(self.list) == str :\n",
    "            Chemins.warn(self.list)\n",
    "            return False\n",
    "\n",
    "        for k in self.list.keys():\n",
    "            if k not in employees :\n",
    "                Chemins.warn(f\"{k} is not the index of an employee\")\n",
    "                return False\n",
    "            for v in list(self.list[k].keys())[1:] : \n",
    "                if v not in tasks + unavails: \n",
    "                    Chemins.warn(f\"{v} is not the index of a task or an unvavailability\")\n",
    "                    return False\n",
    "        return True\n",
    "\n",
    "    def validate(self):\n",
    "        \"\"\"\n",
    "        validate the modifications\n",
    "        :return: whether the constraints are verified\n",
    "        \"\"\"\n",
    "\n",
    "        # verify that x, y and l contain only 0 and 1\n",
    "        if not self.validate_format(): return False\n",
    "\n",
    "        # C1, okay thank to the format \n",
    "\n",
    "        # C2\n",
    "        visited = []\n",
    "        for k in self.list.keys():\n",
    "            for v in self.list[k].keys():\n",
    "                if v in visited :\n",
    "                    Chemins.warn(\"C2: Each task should be done by at most one employee.\")\n",
    "                    Chemins.warn(f\"Condition violated by node {v} done by employees {k}.\", \"cyan\")\n",
    "                    return False\n",
    "                visited.append(v)\n",
    "\n",
    "        # C3.a and C3.b2\n",
    "        for v in unavails :\n",
    "            for k in self.list.keys() :\n",
    "                if Node.list[v].employee.index_of() == k and not v in self.list[k].keys():\n",
    "                    Chemins.warn(\"C3.a: Unavailabilities should be visited.\")\n",
    "                    Chemins.warn(f\"Condition violated by node {v}.\", \"cyan\")\n",
    "                    return False\n",
    "\n",
    "        for k in self.list.keys():\n",
    "            if list(self.list[k].keys())[0] != k:\n",
    "                Chemins.warn(f\"C3.b: Each employee should visits their home.\")\n",
    "                Chemins.warn(f\"Condition violated by employee {k}.\", \"cyan\")\n",
    "                return False\n",
    "\n",
    "        # C4, okay thank to the format \n",
    "\n",
    "        # C5 + C6.b\n",
    "        for k in self.list.keys():\n",
    "            delta1 = 0\n",
    "            delta2 = 0\n",
    "            for v in self.list[k].keys(): \n",
    "                if v == k :\n",
    "                    continue\n",
    "                self.list[k][v][0] += delta1\n",
    "                self.list[k][v][1] -= delta2\n",
    "\n",
    "                opening, closing = Node.list[v].opening_time, Node.list[v].closing_time\n",
    "                m = self.list[k][v][1] - opening\n",
    "                if m<0 :\n",
    "                    Chemins.warn(f\"C5: A task should be worked on between its opening time and closing time\")\n",
    "                    Chemins.warn(f\"Condition violated by task {v}\", \"cyan\")\n",
    "                    return False\n",
    "                if  opening > self.list[k][v][0] :\n",
    "                    delta1 += opening - self.list[k][v][0]\n",
    "                    self.list[k][v][0] = opening\n",
    "                \n",
    "                m = closing - (self.list[k][v][0] + Node.list[v].duration)\n",
    "                if m<0 :\n",
    "                    Chemins.warn(f\"C5: A task should be worked on between its opening time and closing time\")\n",
    "                    Chemins.warn(f\"Condition violated by task {v}\", \"cyan\")\n",
    "                    return False\n",
    "                if  closing < self.list[k][v][1] + Node.list[v].duration:\n",
    "                    delta2 += (self.list[k][v][1] + Node.list[v].duration) - closing\n",
    "                    self.list[k][v][1] = closing - Node.list[v].duration\n",
    "\n",
    "                if v in unavails :\n",
    "                    self.list[k][v][0] = opening\n",
    "                    self.list[k][v][1] = opening\n",
    "\n",
    "        # C6.a + \n",
    "        for k in self.list.keys():\n",
    "            if len(list(self.list[k].keys())) == 1: continue\n",
    "            v = list(self.list[k].keys())[1]\n",
    "            if v not in unavails :\n",
    "                if self.list[k][v][0] < Employee.list[k].start_time :\n",
    "                    Chemins.warn(f\"C6.a: Employees' start times should be respected\")\n",
    "                    Chemins.warn(f\"Condition violated by employee {k}\", \"cyan\")\n",
    "                    return False\n",
    "\n",
    "        # C7\n",
    "        # TODO: verify C7\n",
    "        for i in tasks:\n",
    "            if sum(self.x[i, :]) == 0: continue\n",
    "            intervals = open_intervals(i)\n",
    "            if self.t[i] in range(len(intervals)):\n",
    "                start, end = intervals[self.t[i]]\n",
    "                if self.b[i] >= start and self.b[i] + Node.list[i].duration <= end: continue\n",
    "                Solution.warn(\"C7 : Start and end of used disponibility segment not respected\")\n",
    "                Solution.warn(f\"CO)\n",
    "            Solution.warn(\"C7 : No disponibility segment used for a task that is visited!\")\n",
    "            Solution.warn(f\"Condition violated by task {i}\", \"cyan\")\n",
    "            return False\n",
    "                \n",
    "            \n",
    "        # C8\n",
    "        for k in employees:\n",
    "            if self.l[k, k] and self.b[k] > self.p[k]:\n",
    "                Solution.warn(\"C8: An employee's lunch time does not respect his daily activity start time.\")\n",
    "                Solution.warn(f\"Condition violated by employee {k}\", \"cyan\")\n",
    "                return False\n",
    "            for i in tasks + unavails:\n",
    "                if not self.x[k, i]: continue\n",
    "                task: Task = Node.list[i]\n",
    "                employee: Employee = Employee.list[k]\n",
    "                if self.b[k] + task.duration + (Node.distance[i, k] / Employee.speed) <= employee.end_time:\n",
    "                    if not self.l[k, k]: continue\n",
    "                    if self.p[k] + 60 + (Node.distance[i, k] / Employee.Speed) <= self.b[i]: continue\n",
    "                    Solution.warn(\"C8: An employee having his lunch at home should do his first task/unavail AFTER lunch time.\")\n",
    "                    Solution.warn(f\"Condition violated by employee {k} before task/unavail {i}\", \"cyan\")\n",
    "                    return False\n",
    "                Solution.warn(\"C8: An employee should respect his starting time to do his first task/unavail.\")\n",
    "                Solution.warn(f\"Condition violated by employee {k} before task/unavail {i}\", \"cyan\")\n",
    "                return False\n",
    "\n",
    "        # C9\n",
<<<<<<< HEAD
    "        for k in self.list.keys():\n",
    "            if len(list(self.list[k].keys())) == 1 : continue\n",
    "            v = list(self.list[k].keys())[-1]\n",
    "            if self.list[k][v][1] + Node.list[v].duration + (Node.distance[v, k] / Employee.speed) > Employee.list[k].end_time :\n",
    "                Chemins.warn(\"C9: An employee should have enough time to go back home.\")\n",
    "                Chemins.warn(f\"Condition violated by employee {k} after task {v}\", \"cyan\")\n",
=======
    "        for k in employees:\n",
    "            for i in tasks + unavails:\n",
    "                if not self.x[i, k]: continue\n",
    "                task: Task = Node.list[i]\n",
    "                employee: Employee = Employee.list[k]\n",
    "                if self.b[k] + task.duration + (Node.distance[i, k] / Employee.speed) <= employee.end_time:\n",
    "                    if not L[k, i] or not X[i, k]: continue\n",
    "                    if self.b[i] + task.duration <= self.p[k] and self.p[k] + 60 + (Node.distance[i, k] / Employee.speed) <= employee.end_time: continue\n",
    "                    Solution.warn(\"C9: An employee should have enough time to have his lunch time at his last task/unavail.\")\n",
    "                    Solution.warn(f\"Condition violated by emplye {k} after task/unavail {i}\", \"cyan\")\n",
    "                    return False\n",
    "                Solution.warn(\"C9: An employee should have enough time to go back home.\")\n",
    "                Solution.warn(f\"Condition violated by employee {k} after task/unavail {i}\", \"cyan\")\n",
    "                return False\n",
    "\n",
    "        # C10.a\n",
    "        for k in employees:\n",
    "            if sum(self.l[k, :]) == 1: continue\n",
    "            Solution.warn(\"C10.a: Each employee has one unique lunch\")\n",
    "            Solution.warn(f\"Condition violated by employee {k}\", \"cyan\")\n",
    "            return False\n",
    "\n",
    "        # C10.b\n",
    "        for k in employees:\n",
    "            for i in nodes:\n",
    "                if not self.l[k, i]: continue\n",
    "                if self.y[k, i]: continue\n",
    "                Solution.warn(f\"C10.b: Constraint violated\")\n",
    "                Solution.warn(f\"Condition violated by employee {k} after lunch at node {i}\")\n",
>>>>>>> e95bfeef156b2dcb47c67022de82e806e32b29ff
    "                return False\n",
    "\n",
    "        # C10\n",
    "        for k in self.list.keys() :\n",
    "            Lunch_Break = False\n",
    "            for i in range(len(self.list[k].keys())):\n",
    "                v = list(self.list[k].keys())[i]\n",
    "                t1,t2 = self.list[k][v]\n",
    "                if t1<= 13*60 and t2>=13*60 and t2-t1>=60 :\n",
    "                    if t1<=12*60:\n",
    "                        t_end_lunch = 13*60\n",
    "                    else :\n",
    "                        t_end_lunch = t1+60\n",
    "                    def rec(i,t):\n",
    "                        if i==len(self.list[k].keys()):\n",
    "                            return True\n",
    "                        else :\n",
    "                            v1 = list(self.list[k].keys())[i-1]\n",
    "                            v2 = list(self.list[k].keys())[i]\n",
    "                            t1,t2 = self.list[k][v2]\n",
    "                            if v1 == k:\n",
    "                                d = (Node.distance[v1,v2]/Employee.speed)\n",
    "                            else :\n",
    "                                d = Node.list[v1].duration + (Node.distance[v1,v2]/Employee.speed)\n",
    "                            T = t + d\n",
    "                            if T>t2:\n",
    "                                return False\n",
    "                            if T<=t1 :\n",
    "                                return True\n",
    "                            else :\n",
    "                                return rec(i+1,T)\n",
    "                    Lunch_Break = rec(i+1,t_end_lunch)\n",
    "                    if Lunch_Break : break\n",
    "            \n",
    "            if v>=len(self.list.keys()) and t1 + Node.list[v].duration <= 13*60 and Employee.list[k].end_time:\n",
    "                if Employee.list[k].end_time >= max(t1 + Node.list[v].duration,12*60) + 60 +Node.distance[v,k]/Employee.speed :\n",
    "                    break\n",
    "                    \n",
    "            if not Lunch_Break :\n",
    "                Chemins.warn(\"C10: Each employee must have the time to lunch\")\n",
    "                Chemins.warn(f\"Condition violated by employee {k}\", \"cyan\")\n",
    "                return False\n",
    "\n",
    "        # C12\n",
<<<<<<< HEAD
    "        for k in self.list.keys():\n",
    "            for i in range(len(self.list[k].keys())-1):\n",
    "                v1 = list(self.list[k].keys())[i]\n",
    "                v2 = list(self.list[k].keys())[i+1]\n",
    "                if i == 0 and self.list[k][v1][0] + (Node.distance[v1, v2] / Employee.speed) > self.list[k][v2][1] :\n",
    "                    Chemins.warn(\"C12: The traveling time between two nodes should be sufficient.\")\n",
    "                    Chemins.warn(f\"Condition violated between node {v1} and {v2}\", \"cyan\")\n",
    "                    return False\n",
=======
    "        for i in tasks + unavails:\n",
    "            for j in tasks + unavails:\n",
    "                if i == j or not self.x[i, j]: continue\n",
    "                pause_en_i = sum(self.l[:, i])\n",
    "                if self.b[i] + Node.list[i].duration + (Node.distance[i, j] / Employee.speed) <= self.b[j]:\n",
    "                    if not pause_en_i: continue\n",
    "                    if self.b[i] + Node.list[i].duration <= self.p[k] and self.p[k] + 60 + (Node.distance[i, j] / Employee.speed) <= self.b[j]: continue\n",
    "                    Solution.warn(\"C12: An employee should have enough time to have his lunch time at his current task/unavail before going to the next one.\")\n",
    "                    Solution.warn(f\"Condition violated between task/unavail {i} and task/unavail {j}\", \"cyan\")\n",
    "                    return False\n",
    "                Solution.warn(\"C12: The traveling time between two nodes should be sufficient.\")\n",
    "                Solution.warn(f\"Condition violated between task/unavail {i} and task/unavail {j}\", \"cyan\")\n",
    "                return False\n",
>>>>>>> e95bfeef156b2dcb47c67022de82e806e32b29ff
    "\n",
    "        # C13\n",
    "        for k in self.list.keys():\n",
    "            for v in self.list[k].keys():\n",
    "                if v in tasks and Employee.list[k].level < Node.list[v].level :\n",
    "                    Chemins.warn(\"C13: An employee can only do tasks that they are able to do.\")\n",
    "                    Chemins.warn(f\"Condition violated by employee {k} at node {v}\", \"cyan\")\n",
    "                    return False\n",
    "\n",
    "        # Every condition is verified\n",
<<<<<<< HEAD
    "        return True\n",
    "    \n",
    "\n",
    "\n",
    "\n"
=======
    "        return True"
>>>>>>> e95bfeef156b2dcb47c67022de82e806e32b29ff
   ]
  },
  {
   "cell_type": "markdown",
   "metadata": {
<<<<<<< HEAD
    "collapsed": false,
=======
>>>>>>> e95bfeef156b2dcb47c67022de82e806e32b29ff
    "pycharm": {
     "name": "#%% md\n"
    }
   },
   "source": [
    "# Demo\n",
    "On peut instancier une nouvelle instance de Solution en appelant simplement le constructeur Solution().\n",
    "L’instance s’adapte alors automatiquement aux données présentes dans les classes Employee et Node\n",
    "\n",
    "La méthode validate permet de déterminer si notre solution vérifie les contraintes. Lorsque au moins une contrainte n’est pas vérifiée. Dans ce cas-là, un message d’erreur correspondant à la première violation de contrainte s’affiche."
   ]
  },
  {
   "cell_type": "code",
<<<<<<< HEAD
   "execution_count": 8,
   "metadata": {
    "collapsed": false,
=======
   "execution_count": 6,
   "metadata": {
>>>>>>> e95bfeef156b2dcb47c67022de82e806e32b29ff
    "pycharm": {
     "name": "#%%\n"
    }
   },
<<<<<<< HEAD
   "outputs": [],
   "source": [
    "#solution_instance = Solution()\n",
    "#solution_instance.validate()"
=======
   "outputs": [
    {
     "name": "stdout",
     "output_type": "stream",
     "text": [
      "\u001b[93mError: C3.a: Unavailabilities should be visited.\u001b[0m\n",
      "\u001b[96mError: Condition violated by node [0]\u001b[0m\n"
     ]
    },
    {
     "data": {
      "text/plain": [
       "False"
      ]
     },
     "execution_count": 6,
     "metadata": {},
     "output_type": "execute_result"
    }
   ],
   "source": [
    "solution_instance = Solution()\n",
    "solution_instance.validate()"
>>>>>>> e95bfeef156b2dcb47c67022de82e806e32b29ff
   ]
  },
  {
   "cell_type": "markdown",
   "metadata": {
    "pycharm": {
     "name": "#%% md\n"
    }
   },
   "source": [
    "Pour modifier une solution, on modifie directement les tableaux numpy stockés en attribut des instances."
   ]
  },
  {
   "cell_type": "code",
<<<<<<< HEAD
   "execution_count": 9,
   "metadata": {
    "collapsed": false,
=======
   "execution_count": 7,
   "metadata": {
>>>>>>> e95bfeef156b2dcb47c67022de82e806e32b29ff
    "pycharm": {
     "name": "#%%\n"
    }
   },
<<<<<<< HEAD
   "outputs": [],
   "source": [
    "#solution_instance.x[0, 0] = 1\n",
    "#solution_instance.validate()"
=======
   "outputs": [
    {
     "name": "stdout",
     "output_type": "stream",
     "text": [
      "\u001b[93mError: A node can't be linked to itself.\u001b[0m\n",
      "\u001b[93mError: Condition violated by node 0.\u001b[0m\n"
     ]
    },
    {
     "data": {
      "text/plain": [
       "False"
      ]
     },
     "execution_count": 7,
     "metadata": {},
     "output_type": "execute_result"
    }
   ],
   "source": [
    "solution_instance.x[0, 0] = 1\n",
    "solution_instance.validate()"
>>>>>>> e95bfeef156b2dcb47c67022de82e806e32b29ff
   ]
  },
  {
   "cell_type": "markdown",
   "metadata": {
    "pycharm": {
     "name": "#%% md\n"
    }
   },
   "source": [
    "Pour copier une instance, on utilise la méthode copy(), qui fait un deep-copy de l’instance."
   ]
  },
  {
   "cell_type": "code",
<<<<<<< HEAD
   "execution_count": 10,
=======
   "execution_count": 8,
>>>>>>> e95bfeef156b2dcb47c67022de82e806e32b29ff
   "metadata": {
    "pycharm": {
     "name": "#%%\n"
    }
   },
   "outputs": [],
   "source": [
<<<<<<< HEAD
    "#solution_instance_copy = solution_instance.copy()"
=======
    "solution_instance_copy = solution_instance.copy()"
>>>>>>> e95bfeef156b2dcb47c67022de82e806e32b29ff
   ]
  },
  {
   "cell_type": "markdown",
   "metadata": {
    "pycharm": {
     "name": "#%% md\n"
    }
   },
   "source": [
    "Lorsque l’on modifie une copie, la solution originale n’est pas modifiée."
   ]
  },
  {
   "cell_type": "code",
<<<<<<< HEAD
   "execution_count": 11,
   "metadata": {
    "collapsed": false,
=======
   "execution_count": 9,
   "metadata": {
>>>>>>> e95bfeef156b2dcb47c67022de82e806e32b29ff
    "pycharm": {
     "name": "#%%\n"
    }
   },
   "outputs": [],
   "source": [
<<<<<<< HEAD
    "#solution_instance_copy.x[0, 0] = 2\n",
    "#solution_instance.x[0, 0] = 0\n",
    "#solution_instance.x[1, 0] = solution_instance.x[0, 2] = 1"
=======
    "solution_instance_copy.x[0, 0] = 2\n",
    "solution_instance.x[0, 0] = 0\n",
    "solution_instance.x[1, 0] = solution_instance.x[0, 2] = 1"
>>>>>>> e95bfeef156b2dcb47c67022de82e806e32b29ff
   ]
  },
  {
   "cell_type": "code",
<<<<<<< HEAD
   "execution_count": 12,
   "metadata": {
    "collapsed": false,
=======
   "execution_count": 10,
   "metadata": {
>>>>>>> e95bfeef156b2dcb47c67022de82e806e32b29ff
    "pycharm": {
     "name": "#%%\n"
    }
   },
<<<<<<< HEAD
   "outputs": [],
   "source": [
    "#solution_instance.validate()"
=======
   "outputs": [
    {
     "name": "stdout",
     "output_type": "stream",
     "text": [
      "\u001b[93mError: C1: The number of entrance of each node should be equal to the number of exit.\u001b[0m\n",
      "\u001b[93mError: Condition violated by node [1] with [0] entrance(s) and [1] exit(s).\u001b[0m\n"
     ]
    },
    {
     "data": {
      "text/plain": [
       "False"
      ]
     },
     "execution_count": 10,
     "metadata": {},
     "output_type": "execute_result"
    }
   ],
   "source": [
    "solution_instance.validate()"
>>>>>>> e95bfeef156b2dcb47c67022de82e806e32b29ff
   ]
  },
  {
   "cell_type": "code",
<<<<<<< HEAD
   "execution_count": 13,
   "metadata": {
    "collapsed": false,
=======
   "execution_count": 11,
   "metadata": {
>>>>>>> e95bfeef156b2dcb47c67022de82e806e32b29ff
    "pycharm": {
     "name": "#%%\n"
    }
   },
<<<<<<< HEAD
   "outputs": [],
   "source": [
    "#solution_instance_copy.validate()"
=======
   "outputs": [
    {
     "name": "stdout",
     "output_type": "stream",
     "text": [
      "\u001b[93mError: x should contain binary variables, values other than 0 and 1 detected.\u001b[0m\n"
     ]
    },
    {
     "data": {
      "text/plain": [
       "False"
      ]
     },
     "execution_count": 11,
     "metadata": {},
     "output_type": "execute_result"
    }
   ],
   "source": [
    "solution_instance_copy.validate()"
>>>>>>> e95bfeef156b2dcb47c67022de82e806e32b29ff
   ]
  },
  {
   "cell_type": "markdown",
<<<<<<< HEAD
   "metadata": {
    "collapsed": false
   },
=======
   "metadata": {},
>>>>>>> e95bfeef156b2dcb47c67022de82e806e32b29ff
   "source": [
    "L'affichage des contraintes non vérifiées sont pour le debug, et on peut ne pas les afficher lorsque l’on exécute nos algorithmes méta-heuristiques."
   ]
  },
  {
   "cell_type": "code",
<<<<<<< HEAD
   "execution_count": 14,
   "metadata": {
    "collapsed": false,
    "pycharm": {
     "name": "#%%\n"
=======
   "execution_count": 12,
   "metadata": {
    "pycharm": {
     "name": "#%%\n"
    }
   },
   "outputs": [
    {
     "data": {
      "text/plain": [
       "False"
      ]
     },
     "execution_count": 12,
     "metadata": {},
     "output_type": "execute_result"
>>>>>>> e95bfeef156b2dcb47c67022de82e806e32b29ff
    }
   },
   "outputs": [],
   "source": [
<<<<<<< HEAD
    "#Solution.set_warning(False) # this tells the solution class to not print warning messages\n",
    "#solution_instance.validate()"
   ]
  },
  {
   "cell_type": "code",
   "execution_count": 15,
   "metadata": {
    "collapsed": false,
    "pycharm": {
     "name": "#%%\n"
    }
   },
   "outputs": [],
   "source": [
    "#Solution.set_warning(True) # modify setting to print warning messages again\n",
    "#solution_instance.validate()"
=======
    "Solution.set_warning(False) # this tells the solution class to not print warning messages\n",
    "solution_instance.validate()"
>>>>>>> e95bfeef156b2dcb47c67022de82e806e32b29ff
   ]
  },
  {
   "cell_type": "code",
<<<<<<< HEAD
   "execution_count": 16,
   "metadata": {},
   "outputs": [],
   "source": [
    "# Tabu Search\n",
    "\n",
    "# Définition des objets\n",
    "\n",
    "def evaluate(routes):\n",
    "    total_task_duration = 0\n",
    "    total_distance = 0\n",
    "    for route in routes :\n",
    "        for i in range(1,len(route)) :\n",
    "            if route[i] not in unavails :\n",
    "                total_task_duration += Node.list[route[i]].duration\n",
    "            total_distance += Node.distance[route[i-1],route[i]]\n",
    "        total_distance += Node.distance[route[-1],route[0]]\n",
    "    return (total_task_duration, total_distance)\n",
    "\n",
    "def compare(a,b):\n",
    "    if a[0] < b[0] :\n",
    "        return True\n",
    "    elif a[0] == b[0] and a[1] > b[1] :\n",
    "        return True\n",
    "    return False\n",
    "\n",
    "def add_time(routes):\n",
    "    routes_timed = {}\n",
    "    for k in range(len(routes)):\n",
    "        routes_timed[k] = {}\n",
    "        v0 = routes[k][0]\n",
    "        routes_timed[k][v0] = Employee.list[k].start_time\n",
    "        for i in range(1,len(routes[k])):\n",
    "            v1 = routes[k][i-1]\n",
    "            v2 = routes[k][i]\n",
    "            if i == 1 :\n",
    "                d = ceil(Node.distance[v1,v2]/Employee.speed)\n",
    "            else :\n",
    "                if v1<len(Employee.list):\n",
    "                    return \"Not Possible\"\n",
    "                d = Node.list[v1].duration + ceil(Node.distance[v1,v2]/Employee.speed)\n",
    "            routes_timed[k][v2] = routes_timed[k][v1] + d\n",
    "        \n",
    "        v = routes[k][-1]\n",
    "        if v<len(routes):\n",
    "            margin = Employee.list[k].end_time - (routes_timed[k][v] + ceil(Node.distance[v,v0]/Employee.speed))\n",
    "        else :\n",
    "            margin = Employee.list[k].end_time - (routes_timed[k][v] + Node.list[v].duration + ceil(Node.distance[v,v0]/Employee.speed))\n",
    "        if margin <0 :\n",
    "            return \"Not Possible\"\n",
    "        else :\n",
    "            for i in range(len(routes[k])):\n",
    "                v = routes[k][i]\n",
    "                routes_timed[k][v] = [routes_timed[k][v],routes_timed[k][v]+margin]\n",
    "    return routes_timed\n",
    "\n",
    "\n",
    "# Définition de la list Tabou\n",
    "\n",
    "def update_tabu(Tabu_list, opp, iter, tabu_step):\n",
    "    Tabu_list[iter] = opp\n",
    "    if iter >= tabu_step :\n",
    "        del Tabu_list[iter - tabu_step]\n",
    "\n",
    "# Définition du voisinage\n",
    "\n",
    "def Crossing(route1, route2, max_len_cross):\n",
    "    Neighbors = []\n",
    "    n1 = len(route1)\n",
    "    n2 = len(route2)\n",
    "    for l1 in range(max_len_cross+1):\n",
    "        for l2 in range(max_len_cross+1): \n",
    "            if l1 == 0 and l2 ==0:\n",
    "                continue\n",
    "            for i in range(1,n1-l1):\n",
    "                for j in range(1,n2-l2):\n",
    "                    new_route1 = route1[:i]+route2[j:j+l2]+route1[i+l1:]\n",
    "                    new_route2 = route2[:j]+route1[i:i+l1]+route2[j+l2:]\n",
    "                    Neighbors.append((new_route1,new_route2))\n",
    "    return Neighbors\n",
    "\n",
    "def Crossing_alone(route):\n",
    "    Neighbors = []\n",
    "    permutations = list(itertools.permutations(route[1:]))\n",
    "    for p in permutations :\n",
    "        Neighbors.append([route[0]]+[x for x in p])\n",
    "    return Neighbors\n",
    "\n",
    "def Adding_Node(route,unvisited_nodes):\n",
    "    Neighbors = []\n",
    "    for node in unvisited_nodes :\n",
    "        for i in range(len(route)):\n",
    "                Neighbors.append((route[:i+1]+[node]+route[i+1:],node))\n",
    "    return Neighbors\n",
    "\n",
    "def Deleting_Node(route):\n",
    "    Neighbors = []\n",
    "    for i in range(1,len(route)):\n",
    "        if route[i] not in unavails:\n",
    "            Neighbors.append((route[:i]+route[i+1:], route[i]))\n",
    "    return Neighbors\n",
    "\n",
    "def local_neighbor_switching(route):\n",
    "    candidate_list = Crossing_alone(route)\n",
    "    local_obj_values = (0,0)\n",
    "    for candidate in candidate_list:\n",
    "        if Chemins(add_time([candidate])).validate() :\n",
    "            obj_values = evaluate([candidate])\n",
    "            if compare(local_obj_values, obj_values) :\n",
    "                local_sol = candidate\n",
    "                local_obj_values = obj_values\n",
    "\n",
    "    return local_sol\n",
    "\n",
    "def local_neighbor_adding(route,unvisited_nodes):\n",
    "    candidate_list = Adding_Node(route,unvisited_nodes)\n",
    "    local_obj_values = (0,0)\n",
    "    add_node = -1\n",
    "    for candidate, node in candidate_list:\n",
    "        if Chemins(add_time([candidate])).validate() :\n",
    "            obj_values = evaluate([candidate])\n",
    "            if compare(local_obj_values, obj_values) :\n",
    "                local_sol = candidate\n",
    "                local_obj_values = obj_values\n",
    "                add_node = node\n",
    "\n",
    "    if add_node == -1:\n",
    "        return route\n",
    "    \n",
    "    del unvisited_nodes[add_node]\n",
    "\n",
    "    return local_sol\n",
    "\n",
    "def create_neighborhood(routes, unvisited_nodes, status, max_len_cross, Tabu_list):\n",
    "    Neighborhood = []\n",
    "    T = len(routes)\n",
    "\n",
    "    if status == \"adding\":\n",
    "        new_route = []\n",
    "        for i in range(T):\n",
    "            Neighbor = local_neighbor_adding(routes[i],unvisited_nodes)\n",
    "            new_route.append(Neighbor)\n",
    "        Neighborhood = [new_route]\n",
    "        \n",
    "    elif status == \"switching\":\n",
    "        new_route = []\n",
    "        for i in range(T):\n",
    "            Neighbor = local_neighbor_switching(routes[i],unvisited_nodes)\n",
    "            new_route.append(Neighbor)\n",
    "        Neighborhood = [new_route]\n",
    "\n",
    "    elif status == \"deleting\":\n",
    "        local_obj_values = (0,0)\n",
    "        del_node = -1\n",
    "        for i in range(T):\n",
    "            Neighbors = Deleting_Node(routes[i])\n",
    "            for candidate, node in Neighbors:\n",
    "                new_routes = routes[:i]+[candidate]+routes[i+1:]\n",
    "                obj_values = evaluate(candidate)\n",
    "                if compare(local_obj_values, obj_values) :\n",
    "                    local_sol = candidate\n",
    "                    local_obj_values = obj_values\n",
    "                    del_node = node\n",
    "        \n",
    "        if del_node == -1:\n",
    "            Neighborhood = [routes]\n",
    "        else :\n",
    "            unvisited_nodes[del_node] = None\n",
    "            Neighborhood = [local_sol]\n",
    "        \n",
    "    else :\n",
    "        for i in range(T):\n",
    "            for j in range(i+1,T):\n",
    "                Neighbors = Crossing(routes[i], routes[j], max_len_cross)\n",
    "                for (route1,route2) in Neighbors:\n",
    "                    new_routes = routes[:i]+[route1]+routes[i+1:j]+[route2]+routes[j+1:]\n",
    "                    if Chemins(add_time(new_routes)).validate() and new_routes not in Tabu_list:\n",
    "                        Neighborhood.append(new_routes)\n",
    "    return Neighborhood\n",
    "\n",
    "# Initialisation / 1ère solution\n",
    "def sol_glouton():\n",
    "    sol =[]\n",
    "    for i in range(len(Employee.list)):\n",
    "        sol.append([i])\n",
    "    for v in unavails :\n",
    "        employee = Node.list[v].employee\n",
    "        employee_idx = Employee.index_of(employee)\n",
    "        sol[employee_idx].append(v)\n",
    "    return sol\n",
    "\n",
    "def search_unvisited_nodes(sol):\n",
    "    unvisited_nodes = {}\n",
    "    for i in range(len(Node.list)):\n",
    "        unvisited_nodes[i] = None\n",
    "    for route in sol:\n",
    "        for node in route :\n",
    "            del unvisited_nodes[node]\n",
    "    return unvisited_nodes\n",
    "\n",
    "# Itérations\n",
    "\n",
    "def tabu_search(max_len_cross,tabu_step,max_it,block_max):\n",
    "    sol = sol_glouton()\n",
    "    sol_list = [sol]\n",
    "    best_obj_values = evaluate(sol)\n",
    "    Tabu_list = {0 : sol}\n",
    "    block_count = 0\n",
    "    unvisited_nodes = search_unvisited_nodes(sol)\n",
    "    climbing = True\n",
    "    for it in range(1,max_it):\n",
    "        print(it,sol_list[-1])\n",
    "        block_count += 1\n",
    "        if block_count >= block_max//2 :\n",
    "            climbing = True\n",
    "\n",
    "        if block_count >= block_max :\n",
    "            neighborhood = create_neighborhood(sol_list[-1], unvisited_nodes, \"deleting\", max_len_cross, Tabu_list)\n",
    "            block_count = 0\n",
    "        elif climbing :\n",
    "            neighborhood = create_neighborhood(sol_list[-1], unvisited_nodes, \"adding\", max_len_cross,Tabu_list)\n",
    "            if neighborhood[0] == [sol_list[-1]] :\n",
    "                climbing = False\n",
    "                neighborhood = create_neighborhood(sol_list[-1], unvisited_nodes, \"switching\", max_len_cross, Tabu_list)\n",
    "                neighborhood = neighborhood + create_neighborhood(sol_list[-1], unvisited_nodes, \" \", max_len_cross, Tabu_list)\n",
    "        else :\n",
    "            neighborhood = create_neighborhood(sol_list[-1], unvisited_nodes, \"switching\", max_len_cross, Tabu_list)\n",
    "            neighborhood = neighborhood + create_neighborhood(sol_list[-1], unvisited_nodes, \" \", max_len_cross, Tabu_list)\n",
    "\n",
    "        local_obj_values = (0,0)\n",
    "        for candidate in neighborhood :\n",
    "            obj_values = evaluate(candidate)\n",
    "            if compare(local_obj_values, obj_values) :\n",
    "                local_sol = candidate\n",
    "                local_obj_values = obj_values\n",
    "        if local_obj_values == (0,0):\n",
    "            return \"No avaliable Neighbor\"\n",
    "\n",
    "        update_tabu(Tabu_list, local_sol, it, tabu_step)\n",
    "        sol_list.append(local_sol)\n",
    "\n",
    "        if compare(best_obj_values, local_obj_values):\n",
    "            sol = local_sol\n",
    "            best_obj_values = local_obj_values\n",
    "            block_count = 0\n",
    "    return sol, best_obj_values\n"
   ]
  },
  {
   "cell_type": "code",
   "execution_count": 17,
   "metadata": {},
=======
   "execution_count": 13,
   "metadata": {
    "pycharm": {
     "name": "#%%\n"
    }
   },
>>>>>>> e95bfeef156b2dcb47c67022de82e806e32b29ff
   "outputs": [
    {
     "name": "stdout",
     "output_type": "stream",
     "text": [
<<<<<<< HEAD
      "[[0, 118], [1], [2], [3, 119], [4], [5], [6], [7], [8, 120], [9]]\n"
=======
      "\u001b[93mError: C1: The number of entrance of each node should be equal to the number of exit.\u001b[0m\n",
      "\u001b[93mError: Condition violated by node [1] with [0] entrance(s) and [1] exit(s).\u001b[0m\n"
>>>>>>> e95bfeef156b2dcb47c67022de82e806e32b29ff
     ]
    },
    {
     "data": {
      "text/plain": [
<<<<<<< HEAD
       "True"
=======
       "False"
>>>>>>> e95bfeef156b2dcb47c67022de82e806e32b29ff
      ]
     },
     "execution_count": 17,
     "metadata": {},
     "output_type": "execute_result"
    }
   ],
   "source": [
<<<<<<< HEAD
    "Chemins.set_warning(False)\n",
    "#create_neighborhood([[0,10,7,4,6,12],[1,5,8,11,9]], [3],10)\n",
    "\n",
    "print(sol_glouton())\n",
    "\n",
    "Chemins(add_time(sol_glouton())).validate()"
   ]
  },
  {
   "cell_type": "code",
   "execution_count": 18,
   "metadata": {},
   "outputs": [
    {
     "name": "stdout",
     "output_type": "stream",
     "text": [
      "1 [[0, 118], [1], [2], [3, 119], [4], [5], [6], [7], [8, 120], [9]]\n",
      "2 [[0, 118, 64], [1], [2], [3, 119], [4], [5], [6], [7], [8, 120], [9]]\n",
      "3 [[0, 118, 64, 82], [1], [2], [3, 119], [4], [5], [6], [7], [8, 120], [9]]\n",
      "4 [[0, 118, 64, 60, 82], [1], [2], [3, 119], [4], [5], [6], [7], [8, 120], [9]]\n",
      "5 [[0, 118, 64, 60, 63, 82], [1], [2], [3, 119], [4], [5], [6], [7], [8, 120], [9]]\n",
      "6 [[0, 118, 64, 60, 63, 82], [1], [2], [3, 119], [4], [5], [6], [7], [8, 120], [9]]\n",
      "7 [[0, 118, 64, 60, 63, 82], [1], [2], [3, 119], [4], [5], [6], [7], [8, 120], [9]]\n",
      "8 [[0, 118, 64, 60, 63, 82], [1], [2], [3, 119], [4], [5], [6], [7], [8, 120], [9]]\n",
      "9 [[0, 118, 64, 60, 63, 82], [1], [2], [3, 119], [4], [5], [6], [7], [8, 120], [9]]\n",
      "10 [[0, 118, 64, 60, 63, 82], [1], [2], [3, 119], [4], [5], [6], [7], [8, 120], [9]]\n",
      "11 [[0, 118, 64, 60, 63, 82], [1], [2], [3, 119], [4], [5], [6], [7], [8, 120], [9]]\n",
      "12 [[0, 118, 64, 60, 63, 82], [1], [2], [3, 119], [4], [5], [6], [7], [8, 120], [9]]\n",
      "13 [[0, 118, 64, 60, 63, 82], [1], [2], [3, 119], [4], [5], [6], [7], [8, 120], [9]]\n",
      "14 [[0, 118, 64, 60, 63, 82], [1], [2], [3, 119], [4], [5], [6], [7], [8, 120], [9]]\n",
      "15 [[0, 118, 64, 60, 63, 82], [1], [2], [3, 119], [4], [5], [6], [7], [8, 120], [9]]\n",
      "16 [[0, 118, 64, 60, 63, 82], [1], [2], [3, 119], [4], [5], [6], [7], [8, 120], [9]]\n",
      "17 [[0, 118, 64, 60, 63, 82], [1], [2], [3, 119], [4], [5], [6], [7], [8, 120], [9]]\n",
      "18 [[0, 118, 64, 60, 63, 82], [1], [2], [3, 119], [4], [5], [6], [7], [8, 120], [9]]\n",
      "19 [[0, 118, 64, 60, 63, 82], [1], [2], [3, 119], [4], [5], [6], [7], [8, 120], [9]]\n",
      "20 [[0, 118, 64, 60, 63, 82], [1], [2], [3, 119], [4], [5], [6], [7], [8, 120], [9]]\n",
      "21 [[0, 118, 64, 60, 63, 82], [1], [2], [3, 119], [4], [5], [6], [7], [8, 120], [9]]\n",
      "22 [[0, 118, 64, 60, 63, 82], [1], [2], [3, 119], [4], [5], [6], [7], [8, 120], [9]]\n",
      "23 [[0, 118, 64, 60, 63, 82], [1], [2], [3, 119], [4], [5], [6], [7], [8, 120], [9]]\n",
      "24 [[0, 118, 64, 60, 63, 82], [1], [2], [3, 119], [4], [5], [6], [7], [8, 120], [9]]\n"
     ]
    },
    {
     "ename": "TypeError",
     "evalue": "list.append() takes exactly one argument (2 given)",
     "output_type": "error",
     "traceback": [
      "\u001b[1;31m---------------------------------------------------------------------------\u001b[0m",
      "\u001b[1;31mTypeError\u001b[0m                                 Traceback (most recent call last)",
      "\u001b[1;32m~\\AppData\\Local\\Temp/ipykernel_18960/2910579583.py\u001b[0m in \u001b[0;36m<module>\u001b[1;34m\u001b[0m\n\u001b[0;32m      1\u001b[0m \u001b[1;31m#Bordeaux V2 : 1,100,200,20\u001b[0m\u001b[1;33m\u001b[0m\u001b[1;33m\u001b[0m\u001b[0m\n\u001b[1;32m----> 2\u001b[1;33m \u001b[0mtabu_search\u001b[0m\u001b[1;33m(\u001b[0m\u001b[1;36m1\u001b[0m\u001b[1;33m,\u001b[0m\u001b[1;36m10\u001b[0m\u001b[1;33m,\u001b[0m\u001b[1;36m100\u001b[0m\u001b[1;33m,\u001b[0m\u001b[1;36m20\u001b[0m\u001b[1;33m)\u001b[0m\u001b[1;33m\u001b[0m\u001b[1;33m\u001b[0m\u001b[0m\n\u001b[0m",
      "\u001b[1;32m~\\AppData\\Local\\Temp/ipykernel_18960/4065609973.py\u001b[0m in \u001b[0;36mtabu_search\u001b[1;34m(max_len_cross, tabu_step, max_it, block_max)\u001b[0m\n\u001b[0;32m    212\u001b[0m \u001b[1;33m\u001b[0m\u001b[0m\n\u001b[0;32m    213\u001b[0m         \u001b[1;32mif\u001b[0m \u001b[0mblock_count\u001b[0m \u001b[1;33m>=\u001b[0m \u001b[0mblock_max\u001b[0m \u001b[1;33m:\u001b[0m\u001b[1;33m\u001b[0m\u001b[1;33m\u001b[0m\u001b[0m\n\u001b[1;32m--> 214\u001b[1;33m             \u001b[0mneighborhood\u001b[0m \u001b[1;33m=\u001b[0m \u001b[0mcreate_neighborhood\u001b[0m\u001b[1;33m(\u001b[0m\u001b[0msol_list\u001b[0m\u001b[1;33m[\u001b[0m\u001b[1;33m-\u001b[0m\u001b[1;36m1\u001b[0m\u001b[1;33m]\u001b[0m\u001b[1;33m,\u001b[0m \u001b[0munvisited_nodes\u001b[0m\u001b[1;33m,\u001b[0m \u001b[1;34m\"deleting\"\u001b[0m\u001b[1;33m,\u001b[0m \u001b[0mmax_len_cross\u001b[0m\u001b[1;33m,\u001b[0m \u001b[0mTabu_list\u001b[0m\u001b[1;33m)\u001b[0m\u001b[1;33m\u001b[0m\u001b[1;33m\u001b[0m\u001b[0m\n\u001b[0m\u001b[0;32m    215\u001b[0m             \u001b[0mblock_count\u001b[0m \u001b[1;33m=\u001b[0m \u001b[1;36m0\u001b[0m\u001b[1;33m\u001b[0m\u001b[1;33m\u001b[0m\u001b[0m\n\u001b[0;32m    216\u001b[0m         \u001b[1;32melif\u001b[0m \u001b[0mclimbing\u001b[0m \u001b[1;33m:\u001b[0m\u001b[1;33m\u001b[0m\u001b[1;33m\u001b[0m\u001b[0m\n",
      "\u001b[1;32m~\\AppData\\Local\\Temp/ipykernel_18960/4065609973.py\u001b[0m in \u001b[0;36mcreate_neighborhood\u001b[1;34m(routes, unvisited_nodes, status, max_len_cross, Tabu_list)\u001b[0m\n\u001b[0;32m    150\u001b[0m         \u001b[0mdel_node\u001b[0m \u001b[1;33m=\u001b[0m \u001b[1;33m-\u001b[0m\u001b[1;36m1\u001b[0m\u001b[1;33m\u001b[0m\u001b[1;33m\u001b[0m\u001b[0m\n\u001b[0;32m    151\u001b[0m         \u001b[1;32mfor\u001b[0m \u001b[0mi\u001b[0m \u001b[1;32min\u001b[0m \u001b[0mrange\u001b[0m\u001b[1;33m(\u001b[0m\u001b[0mT\u001b[0m\u001b[1;33m)\u001b[0m\u001b[1;33m:\u001b[0m\u001b[1;33m\u001b[0m\u001b[1;33m\u001b[0m\u001b[0m\n\u001b[1;32m--> 152\u001b[1;33m             \u001b[0mNeighbors\u001b[0m \u001b[1;33m=\u001b[0m \u001b[0mDeleting_Node\u001b[0m\u001b[1;33m(\u001b[0m\u001b[0mroutes\u001b[0m\u001b[1;33m[\u001b[0m\u001b[0mi\u001b[0m\u001b[1;33m]\u001b[0m\u001b[1;33m)\u001b[0m\u001b[1;33m\u001b[0m\u001b[1;33m\u001b[0m\u001b[0m\n\u001b[0m\u001b[0;32m    153\u001b[0m             \u001b[1;32mfor\u001b[0m \u001b[0mcandidate\u001b[0m\u001b[1;33m,\u001b[0m \u001b[0mnode\u001b[0m \u001b[1;32min\u001b[0m \u001b[0mNeighbors\u001b[0m\u001b[1;33m:\u001b[0m\u001b[1;33m\u001b[0m\u001b[1;33m\u001b[0m\u001b[0m\n\u001b[0;32m    154\u001b[0m                 \u001b[0mnew_routes\u001b[0m \u001b[1;33m=\u001b[0m \u001b[0mroutes\u001b[0m\u001b[1;33m[\u001b[0m\u001b[1;33m:\u001b[0m\u001b[0mi\u001b[0m\u001b[1;33m]\u001b[0m\u001b[1;33m+\u001b[0m\u001b[1;33m[\u001b[0m\u001b[0mcandidate\u001b[0m\u001b[1;33m]\u001b[0m\u001b[1;33m+\u001b[0m\u001b[0mroutes\u001b[0m\u001b[1;33m[\u001b[0m\u001b[0mi\u001b[0m\u001b[1;33m+\u001b[0m\u001b[1;36m1\u001b[0m\u001b[1;33m:\u001b[0m\u001b[1;33m]\u001b[0m\u001b[1;33m\u001b[0m\u001b[1;33m\u001b[0m\u001b[0m\n",
      "\u001b[1;32m~\\AppData\\Local\\Temp/ipykernel_18960/4065609973.py\u001b[0m in \u001b[0;36mDeleting_Node\u001b[1;34m(route)\u001b[0m\n\u001b[0;32m     94\u001b[0m     \u001b[1;32mfor\u001b[0m \u001b[0mi\u001b[0m \u001b[1;32min\u001b[0m \u001b[0mrange\u001b[0m\u001b[1;33m(\u001b[0m\u001b[1;36m1\u001b[0m\u001b[1;33m,\u001b[0m\u001b[0mlen\u001b[0m\u001b[1;33m(\u001b[0m\u001b[0mroute\u001b[0m\u001b[1;33m)\u001b[0m\u001b[1;33m)\u001b[0m\u001b[1;33m:\u001b[0m\u001b[1;33m\u001b[0m\u001b[1;33m\u001b[0m\u001b[0m\n\u001b[0;32m     95\u001b[0m         \u001b[1;32mif\u001b[0m \u001b[0mroute\u001b[0m\u001b[1;33m[\u001b[0m\u001b[0mi\u001b[0m\u001b[1;33m]\u001b[0m \u001b[1;32mnot\u001b[0m \u001b[1;32min\u001b[0m \u001b[0munavails\u001b[0m\u001b[1;33m:\u001b[0m\u001b[1;33m\u001b[0m\u001b[1;33m\u001b[0m\u001b[0m\n\u001b[1;32m---> 96\u001b[1;33m             \u001b[0mNeighbors\u001b[0m\u001b[1;33m.\u001b[0m\u001b[0mappend\u001b[0m\u001b[1;33m(\u001b[0m\u001b[1;33m(\u001b[0m\u001b[0mroute\u001b[0m\u001b[1;33m[\u001b[0m\u001b[1;33m:\u001b[0m\u001b[0mi\u001b[0m\u001b[1;33m]\u001b[0m\u001b[1;33m+\u001b[0m\u001b[0mroute\u001b[0m\u001b[1;33m[\u001b[0m\u001b[0mi\u001b[0m\u001b[1;33m+\u001b[0m\u001b[1;36m1\u001b[0m\u001b[1;33m:\u001b[0m\u001b[1;33m]\u001b[0m\u001b[1;33m)\u001b[0m\u001b[1;33m,\u001b[0m \u001b[0mroute\u001b[0m\u001b[1;33m[\u001b[0m\u001b[0mi\u001b[0m\u001b[1;33m]\u001b[0m\u001b[1;33m)\u001b[0m\u001b[1;33m\u001b[0m\u001b[1;33m\u001b[0m\u001b[0m\n\u001b[0m\u001b[0;32m     97\u001b[0m     \u001b[1;32mreturn\u001b[0m \u001b[0mNeighbors\u001b[0m\u001b[1;33m\u001b[0m\u001b[1;33m\u001b[0m\u001b[0m\n\u001b[0;32m     98\u001b[0m \u001b[1;33m\u001b[0m\u001b[0m\n",
      "\u001b[1;31mTypeError\u001b[0m: list.append() takes exactly one argument (2 given)"
     ]
    }
   ],
   "source": [
    "#Bordeaux V2 : 1,100,200,20\n",
    "tabu_search(1,10,100,20)"
   ]
  },
  {
   "cell_type": "code",
   "execution_count": null,
   "metadata": {},
   "outputs": [
    {
     "ename": "AttributeError",
     "evalue": "'Home' object has no attribute 'duration'",
     "output_type": "error",
     "traceback": [
      "\u001b[1;31m---------------------------------------------------------------------------\u001b[0m",
      "\u001b[1;31mAttributeError\u001b[0m                            Traceback (most recent call last)",
      "\u001b[1;32m~\\AppData\\Local\\Temp/ipykernel_16060/4103626980.py\u001b[0m in \u001b[0;36m<module>\u001b[1;34m\u001b[0m\n\u001b[1;32m----> 1\u001b[1;33m \u001b[0mevaluate\u001b[0m\u001b[1;33m(\u001b[0m\u001b[1;33m[\u001b[0m\u001b[1;33m[\u001b[0m\u001b[1;36m0\u001b[0m\u001b[1;33m,\u001b[0m \u001b[1;36m10\u001b[0m\u001b[1;33m,\u001b[0m \u001b[1;36m7\u001b[0m\u001b[1;33m,\u001b[0m \u001b[1;36m4\u001b[0m\u001b[1;33m,\u001b[0m \u001b[1;36m6\u001b[0m\u001b[1;33m,\u001b[0m \u001b[1;36m12\u001b[0m\u001b[1;33m]\u001b[0m\u001b[1;33m,\u001b[0m \u001b[1;33m[\u001b[0m\u001b[1;36m1\u001b[0m\u001b[1;33m,\u001b[0m \u001b[1;36m3\u001b[0m\u001b[1;33m,\u001b[0m \u001b[1;36m5\u001b[0m\u001b[1;33m,\u001b[0m \u001b[1;36m8\u001b[0m\u001b[1;33m,\u001b[0m \u001b[1;36m11\u001b[0m\u001b[1;33m,\u001b[0m \u001b[1;36m9\u001b[0m\u001b[1;33m]\u001b[0m\u001b[1;33m]\u001b[0m\u001b[1;33m)\u001b[0m\u001b[1;33m\u001b[0m\u001b[1;33m\u001b[0m\u001b[0m\n\u001b[0m",
      "\u001b[1;32m~\\AppData\\Local\\Temp/ipykernel_16060/2579593360.py\u001b[0m in \u001b[0;36mevaluate\u001b[1;34m(routes)\u001b[0m\n\u001b[0;32m      9\u001b[0m         \u001b[1;32mfor\u001b[0m \u001b[0mi\u001b[0m \u001b[1;32min\u001b[0m \u001b[0mrange\u001b[0m\u001b[1;33m(\u001b[0m\u001b[1;36m1\u001b[0m\u001b[1;33m,\u001b[0m\u001b[0mlen\u001b[0m\u001b[1;33m(\u001b[0m\u001b[0mroute\u001b[0m\u001b[1;33m)\u001b[0m\u001b[1;33m)\u001b[0m \u001b[1;33m:\u001b[0m\u001b[1;33m\u001b[0m\u001b[1;33m\u001b[0m\u001b[0m\n\u001b[0;32m     10\u001b[0m             \u001b[1;32mif\u001b[0m \u001b[0mroute\u001b[0m\u001b[1;33m[\u001b[0m\u001b[0mi\u001b[0m\u001b[1;33m]\u001b[0m \u001b[1;32mnot\u001b[0m \u001b[1;32min\u001b[0m \u001b[0munavails\u001b[0m \u001b[1;33m:\u001b[0m\u001b[1;33m\u001b[0m\u001b[1;33m\u001b[0m\u001b[0m\n\u001b[1;32m---> 11\u001b[1;33m                 \u001b[0mtotal_task_duration\u001b[0m \u001b[1;33m+=\u001b[0m \u001b[0mNode\u001b[0m\u001b[1;33m.\u001b[0m\u001b[0mlist\u001b[0m\u001b[1;33m[\u001b[0m\u001b[0mroute\u001b[0m\u001b[1;33m[\u001b[0m\u001b[0mi\u001b[0m\u001b[1;33m]\u001b[0m\u001b[1;33m]\u001b[0m\u001b[1;33m.\u001b[0m\u001b[0mduration\u001b[0m\u001b[1;33m\u001b[0m\u001b[1;33m\u001b[0m\u001b[0m\n\u001b[0m\u001b[0;32m     12\u001b[0m             \u001b[0mtotal_distance\u001b[0m \u001b[1;33m+=\u001b[0m \u001b[0mNode\u001b[0m\u001b[1;33m.\u001b[0m\u001b[0mdistance\u001b[0m\u001b[1;33m[\u001b[0m\u001b[0mroute\u001b[0m\u001b[1;33m[\u001b[0m\u001b[0mi\u001b[0m\u001b[1;33m-\u001b[0m\u001b[1;36m1\u001b[0m\u001b[1;33m]\u001b[0m\u001b[1;33m,\u001b[0m\u001b[0mroute\u001b[0m\u001b[1;33m[\u001b[0m\u001b[0mi\u001b[0m\u001b[1;33m]\u001b[0m\u001b[1;33m]\u001b[0m\u001b[1;33m\u001b[0m\u001b[1;33m\u001b[0m\u001b[0m\n\u001b[0;32m     13\u001b[0m         \u001b[0mtotal_distance\u001b[0m \u001b[1;33m+=\u001b[0m \u001b[0mNode\u001b[0m\u001b[1;33m.\u001b[0m\u001b[0mdistance\u001b[0m\u001b[1;33m[\u001b[0m\u001b[0mroute\u001b[0m\u001b[1;33m[\u001b[0m\u001b[1;33m-\u001b[0m\u001b[1;36m1\u001b[0m\u001b[1;33m]\u001b[0m\u001b[1;33m,\u001b[0m\u001b[0mroute\u001b[0m\u001b[1;33m[\u001b[0m\u001b[1;36m0\u001b[0m\u001b[1;33m]\u001b[0m\u001b[1;33m]\u001b[0m\u001b[1;33m\u001b[0m\u001b[1;33m\u001b[0m\u001b[0m\n",
      "\u001b[1;31mAttributeError\u001b[0m: 'Home' object has no attribute 'duration'"
     ]
    }
   ],
   "source": [
    "evaluate([[0, 10, 7, 4, 6, 12], [1, 3, 5, 8, 11, 9]])"
=======
    "Solution.set_warning(True) # modify setting to print warning messages again\n",
    "solution_instance.validate()"
>>>>>>> e95bfeef156b2dcb47c67022de82e806e32b29ff
   ]
  }
 ],
 "metadata": {
  "kernelspec": {
   "display_name": "Python 3 (ipykernel)",
   "language": "python",
   "name": "python3"
  },
  "language_info": {
   "codemirror_mode": {
    "name": "ipython",
    "version": 3
   },
   "file_extension": ".py",
   "mimetype": "text/x-python",
   "name": "python",
   "nbconvert_exporter": "python",
   "pygments_lexer": "ipython3",
   "version": "3.9.7"
  }
 },
 "nbformat": 4,
<<<<<<< HEAD
 "nbformat_minor": 0
=======
 "nbformat_minor": 1
>>>>>>> e95bfeef156b2dcb47c67022de82e806e32b29ff
}
