{
 "cells": [
  {
   "cell_type": "markdown",
   "metadata": {
    "collapsed": true,
    "pycharm": {
     "name": "#%% md\n"
    }
   },
   "source": [
    "# ST7 Planification quotidienne d’une équipe mobile\n",
    "# Phase III"
   ]
  },
  {
   "cell_type": "markdown",
   "metadata": {
    "pycharm": {
     "name": "#%% md\n"
    }
   },
   "source": [
    "## Importation de modules"
   ]
  },
  {
   "cell_type": "code",
   "execution_count": 1,
   "metadata": {
    "pycharm": {
     "name": "#%%\n"
    }
   },
   "outputs": [],
   "source": [
    "# module importation\n",
    "import numpy as np\n",
    "from math import ceil\n",
    "import matplotlib.pyplot as plt\n",
    "import itertools\n",
    "\n",
    "# utilities\n",
    "from utils import *\n",
    "from copy import deepcopy\n",
    "\n",
    "# model classes for employees and nodes\n",
    "from models_v2 import Employee, Node, Task, Home, Unavail"
   ]
  },
  {
   "cell_type": "markdown",
   "metadata": {
    "pycharm": {
     "name": "#%% md\n"
    }
   },
   "source": [
    "Déclaration des constantes et des indices :"
   ]
  },
  {
   "cell_type": "code",
   "execution_count": 2,
   "metadata": {
    "pycharm": {
     "name": "#%%\n"
    }
   },
   "outputs": [],
   "source": [
    "W = U = T = V = 0\n",
    "employees = homes = tasks = unavails = nodes = []"
   ]
  },
  {
   "cell_type": "markdown",
   "metadata": {
    "pycharm": {
     "name": "#%% md\n"
    }
   },
   "source": [
    "## Fonction de lecture de données"
   ]
  },
  {
   "cell_type": "code",
   "execution_count": 3,
   "metadata": {
    "pycharm": {
     "name": "#%%\n"
    }
   },
   "outputs": [],
   "source": [
    "def load_data_from_path(path_to_instance: str):\n",
    "    # load employee data\n",
    "    Employee.load_excel(path_to_instance)\n",
    "\n",
    "    # load node data\n",
    "    Node.clear_previous_data()\n",
    "    for cls in [Home, Task, Unavail]:\n",
    "        cls.load_excel(path_to_instance)\n",
    "    Node.initialize_distance()\n",
    "\n",
    "    # constants\n",
    "    global W, U, T, V\n",
    "    (W, U, T, V) = (Task.count, Unavail.count, Employee.count, Node.count)\n",
    "\n",
    "    # indices of employees, homes, lunches, tasks, unavailabilities\n",
    "    global employees, homes, tasks, unavails, nodes\n",
    "    employees = list(range(T))\n",
    "    homes = list(range(T))\n",
    "    tasks = list(range(T, T + W))\n",
    "    unavails = list((range(T + W, V)))\n",
    "    nodes = list(range(V))"
   ]
  },
  {
   "cell_type": "markdown",
   "metadata": {
    "pycharm": {
     "name": "#%% md\n"
    }
   },
   "source": [
    "Lecture de données de test"
   ]
  },
  {
   "cell_type": "code",
   "execution_count": 4,
   "metadata": {
    "pycharm": {
     "name": "#%%\n"
    }
   },
   "outputs": [],
   "source": [
    "path_to_test = path_bordeaux_v2 = \"./data/InstancesV2/InstanceBordeauxV2.xlsx\"\n",
    "load_data_from_path(path_to_test)"
   ]
  },
  {
   "cell_type": "code",
   "execution_count": 8,
   "metadata": {},
   "outputs": [],
   "source": [
    "def open_intervals(i):\n",
    "    d, f = Node.list[i].opening_time, Node.list[i].closing_time\n",
    "    task_duration = Node.list[i].duration\n",
    "    l = [d]\n",
    "    for s, e in Node.list[i].closed_intervals:\n",
    "        l.append(s)\n",
    "        l.append(e)\n",
    "    l.append(f)\n",
    "    return [(l[j],l[j+1]) for j in range(0,len(l),2) if l[j+1] - l[j] >= task_duration]"
   ]
  },
  {
   "cell_type": "markdown",
   "metadata": {
    "pycharm": {
     "name": "#%% md\n"
    }
   },
   "source": [
    "## Implémentation de la classe Solution"
   ]
  },
  {
   "cell_type": "code",
   "execution_count": 5,
   "metadata": {
    "pycharm": {
     "name": "#%%\n"
    }
   },
   "outputs": [
    {
     "ename": "IndentationError",
     "evalue": "expected an indented block (Temp/ipykernel_4056/4021777753.py, line 156)",
     "output_type": "error",
     "traceback": [
      "\u001b[1;36m  File \u001b[1;32m\"C:\\Users\\yasse\\AppData\\Local\\Temp/ipykernel_4056/4021777753.py\"\u001b[1;36m, line \u001b[1;32m156\u001b[0m\n\u001b[1;33m    for k in employees:\u001b[0m\n\u001b[1;37m    ^\u001b[0m\n\u001b[1;31mIndentationError\u001b[0m\u001b[1;31m:\u001b[0m expected an indented block\n"
     ]
    }
   ],
   "source": [
    "class Chemins:\n",
    "    print_warning = True  # whether to print warning or not when validating\n",
    "\n",
    "    def __init__(self):\n",
    "        \"\"\"instantiate new solution instance that adapts to the Employee and Node data\"\"\"\n",
    "        self.x = np.zeros((V, V), dtype=np.intc)\n",
    "        self.y = np.zeros((T, W), dtype=np.intc)\n",
    "        self.b = np.zeros(W, dtype=np.intc)\n",
    "        self.l = np.zeros((T, V), dtype=np.intc)\n",
    "        self.p = np.zeros(T, dtype = np.intc)\n",
    "        self.t = np.zeros(W, dtype = np.intc) # t[i] = indice du segment utilisé de disponibilité de la tache i\n",
    "        #Si la tache i n'est pas effectuée, on prend t[i] = -1\n",
    "\n",
    "    @classmethod\n",
    "    def set_warning(cls, print_warning: bool):\n",
    "        \"\"\"set whether to print warning when validating data\"\"\"\n",
    "        cls.print_warning = print_warning\n",
    "\n",
    "    @classmethod\n",
    "    def warn(cls, warning: str, print_color=\"yellow\"):\n",
    "        \"\"\"\n",
    "        Print a text in yellow if print_warning set to True\n",
    "        :param warning: the warning message we want to print\n",
    "        :param print_color: the color of the printed message, defaulted to yellow\n",
    "        \"\"\"\n",
    "        if not cls.print_warning: return # does nothing if print_warning set to False\n",
    "        correspondance = {\n",
    "            \"yellow\": Colors.WARNING,\n",
    "            \"cyan\": Colors.CYAN,\n",
    "            \"green\": Colors.GREEN,\n",
    "            \"red\": Colors.FAIL\n",
    "        }\n",
    "        color = correspondance[print_color] if print_color in correspondance.keys() else Colors.WARNING\n",
    "        print(f\"{color}Error: {warning}{Colors.NORMAL}\")\n",
    "\n",
    "    def copy(self):\n",
    "        \"\"\"Return a deep copy of the instance\"\"\"\n",
    "        return deepcopy(self)\n",
    "\n",
    "    def validate_format(self):\n",
    "        \"\"\"Verify that chemins and margin have the right format\"\"\"\n",
    "        if type(self.list) == str :\n",
    "            Chemins.warn(self.list)\n",
    "            return False\n",
    "\n",
    "        for k in self.list.keys():\n",
    "            if k not in employees :\n",
    "                Chemins.warn(f\"{k} is not the index of an employee\")\n",
    "                return False\n",
    "            for v in list(self.list[k].keys())[1:] : \n",
    "                if v not in tasks + unavails: \n",
    "                    Chemins.warn(f\"{v} is not the index of a task or an unvavailability\")\n",
    "                    return False\n",
    "        return True\n",
    "\n",
    "    def validate(self):\n",
    "        \"\"\"\n",
    "        validate the modifications\n",
    "        :return: whether the constraints are verified\n",
    "        \"\"\"\n",
    "\n",
    "        # verify that x, y and l contain only 0 and 1\n",
    "        if not self.validate_format(): return False\n",
    "\n",
    "        # C1, okay thank to the format \n",
    "\n",
    "        # C2\n",
    "        visited = []\n",
    "        for k in self.list.keys():\n",
    "            for v in self.list[k].keys():\n",
    "                if v in visited :\n",
    "                    Chemins.warn(\"C2: Each task should be done by at most one employee.\")\n",
    "                    Chemins.warn(f\"Condition violated by node {v} done by employees {k}.\", \"cyan\")\n",
    "                    return False\n",
    "                visited.append(v)\n",
    "\n",
    "        # C3.a and C3.b2\n",
    "        for v in unavails :\n",
    "            for k in self.list.keys() :\n",
    "                if Node.list[v].employee.index_of() == k and not v in self.list[k].keys():\n",
    "                    Chemins.warn(\"C3.a: Unavailabilities should be visited.\")\n",
    "                    Chemins.warn(f\"Condition violated by node {v}.\", \"cyan\")\n",
    "                    return False\n",
    "\n",
    "        for k in self.list.keys():\n",
    "            if list(self.list[k].keys())[0] != k:\n",
    "                Chemins.warn(f\"C3.b: Each employee should visits their home.\")\n",
    "                Chemins.warn(f\"Condition violated by employee {k}.\", \"cyan\")\n",
    "                return False\n",
    "\n",
    "        # C4, okay thank to the format \n",
    "\n",
    "        # C5 + C6.b\n",
    "        for k in self.list.keys():\n",
    "            delta1 = 0\n",
    "            delta2 = 0\n",
    "            for v in self.list[k].keys(): \n",
    "                if v == k :\n",
    "                    continue\n",
    "                self.list[k][v][0] += delta1\n",
    "                self.list[k][v][1] -= delta2\n",
    "\n",
    "                opening, closing = Node.list[v].opening_time, Node.list[v].closing_time\n",
    "                m = self.list[k][v][1] - opening\n",
    "                if m<0 :\n",
    "                    Chemins.warn(f\"C5: A task should be worked on between its opening time and closing time\")\n",
    "                    Chemins.warn(f\"Condition violated by task {v}\", \"cyan\")\n",
    "                    return False\n",
    "                if  opening > self.list[k][v][0] :\n",
    "                    delta1 += opening - self.list[k][v][0]\n",
    "                    self.list[k][v][0] = opening\n",
    "                \n",
    "                m = closing - (self.list[k][v][0] + Node.list[v].duration)\n",
    "                if m<0 :\n",
    "                    Chemins.warn(f\"C5: A task should be worked on between its opening time and closing time\")\n",
    "                    Chemins.warn(f\"Condition violated by task {v}\", \"cyan\")\n",
    "                    return False\n",
    "                if  closing < self.list[k][v][1] + Node.list[v].duration:\n",
    "                    delta2 += (self.list[k][v][1] + Node.list[v].duration) - closing\n",
    "                    self.list[k][v][1] = closing - Node.list[v].duration\n",
    "\n",
    "                if v in unavails :\n",
    "                    self.list[k][v][0] = opening\n",
    "                    self.list[k][v][1] = opening\n",
    "\n",
    "        # C6.a + \n",
    "        for k in self.list.keys():\n",
    "            if len(list(self.list[k].keys())) == 1: continue\n",
    "            v = list(self.list[k].keys())[1]\n",
    "            if v not in unavails :\n",
    "                if self.list[k][v][0] < Employee.list[k].start_time :\n",
    "                    Chemins.warn(f\"C6.a: Employees' start times should be respected\")\n",
    "                    Chemins.warn(f\"Condition violated by employee {k}\", \"cyan\")\n",
    "                    return False\n",
    "\n",
    "        # C7\n",
    "        # TODO: verify C7\n",
    "        for i in tasks:\n",
    "            if sum(self.x[i, :]) == 0: continue\n",
    "            intervals = open_intervals(i)\n",
    "            if self.t[i] in range(len(intervals)):\n",
    "                start, end = intervals[self.t[i]]\n",
    "                if self.b[i] >= start and self.b[i] + Node.list[i].duration <= end: continue\n",
    "                Solution.warn(\"C7 : Start and end of used disponibility segment not respected\")\n",
    "                Solution.warn(f\"CO)\n",
    "            Solution.warn(\"C7 : No disponibility segment used for a task that is visited!\")\n",
    "            Solution.warn(f\"Condition violated by task {i}\", \"cyan\")\n",
    "            return False\n",
    "                \n",
    "            \n",
    "        # C8\n",
    "        for k in employees:\n",
    "            if self.l[k, k] and self.b[k] > self.p[k]:\n",
    "                Solution.warn(\"C8: An employee's lunch time does not respect his daily activity start time.\")\n",
    "                Solution.warn(f\"Condition violated by employee {k}\", \"cyan\")\n",
    "                return False\n",
    "            for i in tasks + unavails:\n",
    "                if not self.x[k, i]: continue\n",
    "                task: Task = Node.list[i]\n",
    "                employee: Employee = Employee.list[k]\n",
    "                if self.b[k] + task.duration + (Node.distance[i, k] / Employee.speed) <= employee.end_time:\n",
    "                    if not self.l[k, k]: continue\n",
    "                    if self.p[k] + 60 + (Node.distance[i, k] / Employee.Speed) <= self.b[i]: continue\n",
    "                    Solution.warn(\"C8: An employee having his lunch at home should do his first task/unavail AFTER lunch time.\")\n",
    "                    Solution.warn(f\"Condition violated by employee {k} before task/unavail {i}\", \"cyan\")\n",
    "                    return False\n",
    "                Solution.warn(\"C8: An employee should respect his starting time to do his first task/unavail.\")\n",
    "                Solution.warn(f\"Condition violated by employee {k} before task/unavail {i}\", \"cyan\")\n",
    "                return False\n",
    "\n",
    "        # C9\n",
    "        for k in employees:\n",
    "            for i in tasks + unavails:\n",
    "                if not self.x[i, k]: continue\n",
    "                task: Task = Node.list[i]\n",
    "                employee: Employee = Employee.list[k]\n",
    "                if self.b[k] + task.duration + (Node.distance[i, k] / Employee.speed) <= employee.end_time:\n",
    "                    if not L[k, i] or not X[i, k]: continue\n",
    "                    if self.b[i] + task.duration <= self.p[k] and self.p[k] + 60 + (Node.distance[i, k] / Employee.speed) <= employee.end_time: continue\n",
    "                    Solution.warn(\"C9: An employee should have enough time to have his lunch time at his last task/unavail.\")\n",
    "                    Solution.warn(f\"Condition violated by emplye {k} after task/unavail {i}\", \"cyan\")\n",
    "                    return False\n",
    "                Solution.warn(\"C9: An employee should have enough time to go back home.\")\n",
    "                Solution.warn(f\"Condition violated by employee {k} after task/unavail {i}\", \"cyan\")\n",
    "                return False\n",
    "\n",
    "        # C10.a\n",
    "        for k in employees:\n",
    "            if sum(self.l[k, :]) == 1: continue\n",
    "            Solution.warn(\"C10.a: Each employee has one unique lunch\")\n",
    "            Solution.warn(f\"Condition violated by employee {k}\", \"cyan\")\n",
    "            return False\n",
    "\n",
    "        # C10.b\n",
    "        for k in employees:\n",
    "            for i in nodes:\n",
    "                if not self.l[k, i]: continue\n",
    "                if self.y[k, i]: continue\n",
    "                Solution.warn(f\"C10.b: Constraint violated\")\n",
    "                Solution.warn(f\"Condition violated by employee {k} after lunch at node {i}\")\n",
    "                return False\n",
    "\n",
    "        # C10\n",
    "        for k in self.list.keys() :\n",
    "            Lunch_Break = False\n",
    "            for i in range(len(self.list[k].keys())):\n",
    "                v = list(self.list[k].keys())[i]\n",
    "                t1,t2 = self.list[k][v]\n",
    "                if t1<= 13*60 and t2>=13*60 and t2-t1>=60 :\n",
    "                    if t1<=12*60:\n",
    "                        t_end_lunch = 13*60\n",
    "                    else :\n",
    "                        t_end_lunch = t1+60\n",
    "                    def rec(i,t):\n",
    "                        if i==len(self.list[k].keys()):\n",
    "                            return True\n",
    "                        else :\n",
    "                            v1 = list(self.list[k].keys())[i-1]\n",
    "                            v2 = list(self.list[k].keys())[i]\n",
    "                            t1,t2 = self.list[k][v2]\n",
    "                            if v1 == k:\n",
    "                                d = (Node.distance[v1,v2]/Employee.speed)\n",
    "                            else :\n",
    "                                d = Node.list[v1].duration + (Node.distance[v1,v2]/Employee.speed)\n",
    "                            T = t + d\n",
    "                            if T>t2:\n",
    "                                return False\n",
    "                            if T<=t1 :\n",
    "                                return True\n",
    "                            else :\n",
    "                                return rec(i+1,T)\n",
    "                    Lunch_Break = rec(i+1,t_end_lunch)\n",
    "                    if Lunch_Break : break\n",
    "            \n",
    "            if v>=len(self.list.keys()) and t1 + Node.list[v].duration <= 13*60 and Employee.list[k].end_time:\n",
    "                if Employee.list[k].end_time >= max(t1 + Node.list[v].duration,12*60) + 60 +Node.distance[v,k]/Employee.speed :\n",
    "                    break\n",
    "                    \n",
    "            if not Lunch_Break :\n",
    "                Chemins.warn(\"C10: Each employee must have the time to lunch\")\n",
    "                Chemins.warn(f\"Condition violated by employee {k}\", \"cyan\")\n",
    "                return False\n",
    "\n",
    "        # C12\n",
    "        for i in tasks + unavails:\n",
    "            for j in tasks + unavails:\n",
    "                if i == j or not self.x[i, j]: continue\n",
    "                pause_en_i = sum(self.l[:, i])\n",
    "                if self.b[i] + Node.list[i].duration + (Node.distance[i, j] / Employee.speed) <= self.b[j]:\n",
    "                    if not pause_en_i: continue\n",
    "                    if self.b[i] + Node.list[i].duration <= self.p[k] and self.p[k] + 60 + (Node.distance[i, j] / Employee.speed) <= self.b[j]: continue\n",
    "                    Solution.warn(\"C12: An employee should have enough time to have his lunch time at his current task/unavail before going to the next one.\")\n",
    "                    Solution.warn(f\"Condition violated between task/unavail {i} and task/unavail {j}\", \"cyan\")\n",
    "                    return False\n",
    "                Solution.warn(\"C12: The traveling time between two nodes should be sufficient.\")\n",
    "                Solution.warn(f\"Condition violated between task/unavail {i} and task/unavail {j}\", \"cyan\")\n",
    "                return False\n",
    "\n",
    "        # C13\n",
    "        for k in self.list.keys():\n",
    "            for v in self.list[k].keys():\n",
    "                if v in tasks and Employee.list[k].level < Node.list[v].level :\n",
    "                    Chemins.warn(\"C13: An employee can only do tasks that they are able to do.\")\n",
    "                    Chemins.warn(f\"Condition violated by employee {k} at node {v}\", \"cyan\")\n",
    "                    return False\n",
    "\n",
    "        # Every condition is verified\n",
    "        return True"
   ]
  },
  {
   "cell_type": "markdown",
   "metadata": {
    "pycharm": {
     "name": "#%% md\n"
    }
   },
   "source": [
    "# Demo\n",
    "On peut instancier une nouvelle instance de Solution en appelant simplement le constructeur Solution().\n",
    "L’instance s’adapte alors automatiquement aux données présentes dans les classes Employee et Node\n",
    "\n",
    "La méthode validate permet de déterminer si notre solution vérifie les contraintes. Lorsque au moins une contrainte n’est pas vérifiée. Dans ce cas-là, un message d’erreur correspondant à la première violation de contrainte s’affiche."
   ]
  },
  {
   "cell_type": "code",
   "execution_count": 6,
   "metadata": {
    "pycharm": {
     "name": "#%%\n"
    }
   },
   "outputs": [
    {
     "name": "stdout",
     "output_type": "stream",
     "text": [
      "\u001b[93mError: C3.a: Unavailabilities should be visited.\u001b[0m\n",
      "\u001b[96mError: Condition violated by node [0]\u001b[0m\n"
     ]
    },
    {
     "data": {
      "text/plain": [
       "False"
      ]
     },
     "execution_count": 6,
     "metadata": {},
     "output_type": "execute_result"
    }
   ],
   "source": [
    "solution_instance = Solution()\n",
    "solution_instance.validate()"
   ]
  },
  {
   "cell_type": "markdown",
   "metadata": {
    "pycharm": {
     "name": "#%% md\n"
    }
   },
   "source": [
    "Pour modifier une solution, on modifie directement les tableaux numpy stockés en attribut des instances."
   ]
  },
  {
   "cell_type": "code",
   "execution_count": 7,
   "metadata": {
    "pycharm": {
     "name": "#%%\n"
    }
   },
   "outputs": [
    {
     "name": "stdout",
     "output_type": "stream",
     "text": [
      "\u001b[93mError: A node can't be linked to itself.\u001b[0m\n",
      "\u001b[93mError: Condition violated by node 0.\u001b[0m\n"
     ]
    },
    {
     "data": {
      "text/plain": [
       "False"
      ]
     },
     "execution_count": 7,
     "metadata": {},
     "output_type": "execute_result"
    }
   ],
   "source": [
    "solution_instance.x[0, 0] = 1\n",
    "solution_instance.validate()"
   ]
  },
  {
   "cell_type": "markdown",
   "metadata": {
    "pycharm": {
     "name": "#%% md\n"
    }
   },
   "source": [
    "Pour copier une instance, on utilise la méthode copy(), qui fait un deep-copy de l’instance."
   ]
  },
  {
   "cell_type": "code",
   "execution_count": 8,
   "metadata": {
    "pycharm": {
     "name": "#%%\n"
    }
   },
   "outputs": [],
   "source": [
    "solution_instance_copy = solution_instance.copy()"
   ]
  },
  {
   "cell_type": "markdown",
   "metadata": {
    "pycharm": {
     "name": "#%% md\n"
    }
   },
   "source": [
    "Lorsque l’on modifie une copie, la solution originale n’est pas modifiée."
   ]
  },
  {
   "cell_type": "code",
   "execution_count": 9,
   "metadata": {
    "pycharm": {
     "name": "#%%\n"
    }
   },
   "outputs": [],
   "source": [
    "solution_instance_copy.x[0, 0] = 2\n",
    "solution_instance.x[0, 0] = 0\n",
    "solution_instance.x[1, 0] = solution_instance.x[0, 2] = 1"
   ]
  },
  {
   "cell_type": "code",
   "execution_count": 10,
   "metadata": {
    "pycharm": {
     "name": "#%%\n"
    }
   },
   "outputs": [
    {
     "name": "stdout",
     "output_type": "stream",
     "text": [
      "\u001b[93mError: C1: The number of entrance of each node should be equal to the number of exit.\u001b[0m\n",
      "\u001b[93mError: Condition violated by node [1] with [0] entrance(s) and [1] exit(s).\u001b[0m\n"
     ]
    },
    {
     "data": {
      "text/plain": [
       "False"
      ]
     },
     "execution_count": 10,
     "metadata": {},
     "output_type": "execute_result"
    }
   ],
   "source": [
    "solution_instance.validate()"
   ]
  },
  {
   "cell_type": "code",
   "execution_count": 11,
   "metadata": {
    "pycharm": {
     "name": "#%%\n"
    }
   },
   "outputs": [
    {
     "name": "stdout",
     "output_type": "stream",
     "text": [
      "\u001b[93mError: x should contain binary variables, values other than 0 and 1 detected.\u001b[0m\n"
     ]
    },
    {
     "data": {
      "text/plain": [
       "False"
      ]
     },
     "execution_count": 11,
     "metadata": {},
     "output_type": "execute_result"
    }
   ],
   "source": [
    "solution_instance_copy.validate()"
   ]
  },
  {
   "cell_type": "markdown",
   "metadata": {},
   "source": [
    "L'affichage des contraintes non vérifiées sont pour le debug, et on peut ne pas les afficher lorsque l’on exécute nos algorithmes méta-heuristiques."
   ]
  },
  {
   "cell_type": "code",
   "execution_count": 12,
   "metadata": {
    "pycharm": {
     "name": "#%%\n"
    }
   },
   "outputs": [
    {
     "data": {
      "text/plain": [
       "False"
      ]
     },
     "execution_count": 12,
     "metadata": {},
     "output_type": "execute_result"
    }
   },
   "outputs": [],
   "source": [
    "Solution.set_warning(False) # this tells the solution class to not print warning messages\n",
    "solution_instance.validate()"
   ]
  },
  {
   "cell_type": "code",
   "execution_count": 13,
   "metadata": {
    "pycharm": {
     "name": "#%%\n"
    }
   },
   "outputs": [
    {
     "name": "stdout",
     "output_type": "stream",
     "text": [
      "\u001b[93mError: C1: The number of entrance of each node should be equal to the number of exit.\u001b[0m\n",
      "\u001b[93mError: Condition violated by node [1] with [0] entrance(s) and [1] exit(s).\u001b[0m\n"
     ]
    },
    {
     "data": {
      "text/plain": [
       "False"
      ]
     },
     "execution_count": 17,
     "metadata": {},
     "output_type": "execute_result"
    }
   ],
   "source": [
  }
 ],
 "metadata": {
  "kernelspec": {
   "display_name": "Python 3 (ipykernel)",
   "language": "python",
   "name": "python3"
  },
  "language_info": {
   "codemirror_mode": {
    "name": "ipython",
    "version": 3
   },
   "file_extension": ".py",
   "mimetype": "text/x-python",
   "name": "python",
   "nbconvert_exporter": "python",
   "pygments_lexer": "ipython3",
   "version": "3.9.7"
  }
 },
 "nbformat": 4,
 "nbformat_minor": 1
}
