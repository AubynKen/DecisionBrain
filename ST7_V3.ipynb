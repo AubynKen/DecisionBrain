{
 "cells": [
  {
   "cell_type": "markdown",
   "metadata": {
    "collapsed": true,
    "pycharm": {
     "name": "#%% md\n"
    }
   },
   "source": [
    "# ST7 Planification quotidienne d’une équipe mobile\n",
    "# Phase III"
   ]
  },
  {
   "cell_type": "markdown",
   "source": [
    "## Importation de modules"
   ],
   "metadata": {
    "collapsed": false,
    "pycharm": {
     "name": "#%% md\n"
    }
   }
  },
  {
   "cell_type": "code",
   "execution_count": 19,
   "outputs": [],
   "source": [
    "# module importation\n",
    "import numpy as np\n",
    "from math import ceil\n",
    "import matplotlib.pyplot as plt\n",
    "\n",
    "# utilities\n",
    "from utils import *\n",
    "from copy import deepcopy\n",
    "\n",
    "# model classes for employees and nodes\n",
    "from models_v2 import Employee, Node, Task, Home, Unavail"
   ],
   "metadata": {
    "collapsed": false,
    "pycharm": {
     "name": "#%%\n"
    }
   }
  },
  {
   "cell_type": "markdown",
   "source": [
    "Déclaration des constantes et des indices :"
   ],
   "metadata": {
    "collapsed": false,
    "pycharm": {
     "name": "#%% md\n"
    }
   }
  },
  {
   "cell_type": "code",
   "execution_count": 20,
   "outputs": [],
   "source": [
    "W = U = T = V = 0\n",
    "employees = homes = tasks = unavails = nodes = []"
   ],
   "metadata": {
    "collapsed": false,
    "pycharm": {
     "name": "#%%\n"
    }
   }
  },
  {
   "cell_type": "markdown",
   "source": [
    "Fonction de lecture de données"
   ],
   "metadata": {
    "collapsed": false,
    "pycharm": {
     "name": "#%% md\n"
    }
   }
  },
  {
   "cell_type": "code",
   "source": [
    "def load_data_from_path(path_to_instance: str):\n",
    "    # load employee data\n",
    "    Employee.load_excel(path_to_instance)\n",
    "\n",
    "    # load node data\n",
    "    Node.clear_previous_data()\n",
    "    for cls in [Home, Task, Unavail]:\n",
    "        cls.load_excel(path_to_instance)\n",
    "    Node.initialize_distance()\n",
    "\n",
    "    # constants\n",
    "    global W, U, T, V\n",
    "    (W, U, T, V) = (Task.count, Unavail.count, Employee.count, Node.count)\n",
    "\n",
    "    # indices of employees, homes, lunches, tasks, unavailabilities\n",
    "    global employees, homes, tasks, unavails, nodes\n",
    "    employees = list(range(T))\n",
    "    homes = list(range(T))\n",
    "    tasks = list(range(T, T + W))\n",
    "    unavails = list((range(T + W, V)))\n",
    "    nodes = list(range(V))"
   ],
   "metadata": {
    "collapsed": false,
    "pycharm": {
     "name": "#%%\n"
    }
   },
   "execution_count": 21,
   "outputs": []
  },
  {
   "cell_type": "markdown",
   "source": [
    "Lecture de données de test"
   ],
   "metadata": {
    "collapsed": false,
    "pycharm": {
     "name": "#%% md\n"
    }
   }
  },
  {
   "cell_type": "code",
   "execution_count": 22,
   "outputs": [
    {
     "ename": "ImportError",
     "evalue": "Missing optional dependency 'openpyxl'.  Use pip or conda to install openpyxl.",
     "output_type": "error",
     "traceback": [
      "\u001B[0;31m---------------------------------------------------------------------------\u001B[0m",
      "\u001B[0;31mModuleNotFoundError\u001B[0m                       Traceback (most recent call last)",
      "File \u001B[0;32m~/.conda/envs/DecisionBrain/lib/python3.10/site-packages/pandas/compat/_optional.py:126\u001B[0m, in \u001B[0;36mimport_optional_dependency\u001B[0;34m(name, extra, errors, min_version)\u001B[0m\n\u001B[1;32m    125\u001B[0m \u001B[38;5;28;01mtry\u001B[39;00m:\n\u001B[0;32m--> 126\u001B[0m     module \u001B[38;5;241m=\u001B[39m \u001B[43mimportlib\u001B[49m\u001B[38;5;241;43m.\u001B[39;49m\u001B[43mimport_module\u001B[49m\u001B[43m(\u001B[49m\u001B[43mname\u001B[49m\u001B[43m)\u001B[49m\n\u001B[1;32m    127\u001B[0m \u001B[38;5;28;01mexcept\u001B[39;00m \u001B[38;5;167;01mImportError\u001B[39;00m:\n",
      "File \u001B[0;32m~/.conda/envs/DecisionBrain/lib/python3.10/importlib/__init__.py:126\u001B[0m, in \u001B[0;36mimport_module\u001B[0;34m(name, package)\u001B[0m\n\u001B[1;32m    125\u001B[0m         level \u001B[38;5;241m+\u001B[39m\u001B[38;5;241m=\u001B[39m \u001B[38;5;241m1\u001B[39m\n\u001B[0;32m--> 126\u001B[0m \u001B[38;5;28;01mreturn\u001B[39;00m \u001B[43m_bootstrap\u001B[49m\u001B[38;5;241;43m.\u001B[39;49m\u001B[43m_gcd_import\u001B[49m\u001B[43m(\u001B[49m\u001B[43mname\u001B[49m\u001B[43m[\u001B[49m\u001B[43mlevel\u001B[49m\u001B[43m:\u001B[49m\u001B[43m]\u001B[49m\u001B[43m,\u001B[49m\u001B[43m \u001B[49m\u001B[43mpackage\u001B[49m\u001B[43m,\u001B[49m\u001B[43m \u001B[49m\u001B[43mlevel\u001B[49m\u001B[43m)\u001B[49m\n",
      "File \u001B[0;32m<frozen importlib._bootstrap>:1050\u001B[0m, in \u001B[0;36m_gcd_import\u001B[0;34m(name, package, level)\u001B[0m\n",
      "File \u001B[0;32m<frozen importlib._bootstrap>:1027\u001B[0m, in \u001B[0;36m_find_and_load\u001B[0;34m(name, import_)\u001B[0m\n",
      "File \u001B[0;32m<frozen importlib._bootstrap>:1004\u001B[0m, in \u001B[0;36m_find_and_load_unlocked\u001B[0;34m(name, import_)\u001B[0m\n",
      "\u001B[0;31mModuleNotFoundError\u001B[0m: No module named 'openpyxl'",
      "\nDuring handling of the above exception, another exception occurred:\n",
      "\u001B[0;31mImportError\u001B[0m                               Traceback (most recent call last)",
      "Input \u001B[0;32mIn [22]\u001B[0m, in \u001B[0;36m<cell line: 2>\u001B[0;34m()\u001B[0m\n\u001B[1;32m      1\u001B[0m path_to_test \u001B[38;5;241m=\u001B[39m path_bordeaux_v2 \u001B[38;5;241m=\u001B[39m \u001B[38;5;124m\"\u001B[39m\u001B[38;5;124m./data/InstancesV2/InstanceBordeauxV2.xlsx\u001B[39m\u001B[38;5;124m\"\u001B[39m\n\u001B[0;32m----> 2\u001B[0m \u001B[43mload_data_from_path\u001B[49m\u001B[43m(\u001B[49m\u001B[43mpath_to_test\u001B[49m\u001B[43m)\u001B[49m\n",
      "Input \u001B[0;32mIn [21]\u001B[0m, in \u001B[0;36mload_data_from_path\u001B[0;34m(path_to_instance)\u001B[0m\n\u001B[1;32m      1\u001B[0m \u001B[38;5;28;01mdef\u001B[39;00m \u001B[38;5;21mload_data_from_path\u001B[39m(path_to_instance: \u001B[38;5;28mstr\u001B[39m):\n\u001B[1;32m      2\u001B[0m     \u001B[38;5;66;03m# load employee data\u001B[39;00m\n\u001B[0;32m----> 3\u001B[0m     \u001B[43mEmployee\u001B[49m\u001B[38;5;241;43m.\u001B[39;49m\u001B[43mload_excel\u001B[49m\u001B[43m(\u001B[49m\u001B[43mpath_to_instance\u001B[49m\u001B[43m)\u001B[49m\n\u001B[1;32m      5\u001B[0m     \u001B[38;5;66;03m# load node data\u001B[39;00m\n\u001B[1;32m      6\u001B[0m     Node\u001B[38;5;241m.\u001B[39mclear_previous_data()\n",
      "File \u001B[0;32m~/Desktop/DecisionBrain/models_v2.py:68\u001B[0m, in \u001B[0;36mEmployee.load_excel\u001B[0;34m(cls, path)\u001B[0m\n\u001B[1;32m     65\u001B[0m     \u001B[38;5;28mcls\u001B[39m\u001B[38;5;241m.\u001B[39mlist \u001B[38;5;241m=\u001B[39m []\n\u001B[1;32m     67\u001B[0m \u001B[38;5;66;03m# loading data into pandas dataframes\u001B[39;00m\n\u001B[0;32m---> 68\u001B[0m df_employees \u001B[38;5;241m=\u001B[39m \u001B[43mpd\u001B[49m\u001B[38;5;241;43m.\u001B[39;49m\u001B[43mread_excel\u001B[49m\u001B[43m(\u001B[49m\u001B[43mpath\u001B[49m\u001B[43m,\u001B[49m\u001B[43m \u001B[49m\u001B[43msheet_name\u001B[49m\u001B[38;5;241;43m=\u001B[39;49m\u001B[38;5;124;43m\"\u001B[39;49m\u001B[38;5;124;43mEmployees\u001B[39;49m\u001B[38;5;124;43m\"\u001B[39;49m\u001B[43m)\u001B[49m\n\u001B[1;32m     69\u001B[0m df_employees\u001B[38;5;241m.\u001B[39mset_index(\u001B[38;5;124m\"\u001B[39m\u001B[38;5;124mEmployeeName\u001B[39m\u001B[38;5;124m\"\u001B[39m)\n\u001B[1;32m     71\u001B[0m \u001B[38;5;66;03m# instantiation of employee instances\u001B[39;00m\n",
      "File \u001B[0;32m~/.conda/envs/DecisionBrain/lib/python3.10/site-packages/pandas/util/_decorators.py:311\u001B[0m, in \u001B[0;36mdeprecate_nonkeyword_arguments.<locals>.decorate.<locals>.wrapper\u001B[0;34m(*args, **kwargs)\u001B[0m\n\u001B[1;32m    305\u001B[0m \u001B[38;5;28;01mif\u001B[39;00m \u001B[38;5;28mlen\u001B[39m(args) \u001B[38;5;241m>\u001B[39m num_allow_args:\n\u001B[1;32m    306\u001B[0m     warnings\u001B[38;5;241m.\u001B[39mwarn(\n\u001B[1;32m    307\u001B[0m         msg\u001B[38;5;241m.\u001B[39mformat(arguments\u001B[38;5;241m=\u001B[39marguments),\n\u001B[1;32m    308\u001B[0m         \u001B[38;5;167;01mFutureWarning\u001B[39;00m,\n\u001B[1;32m    309\u001B[0m         stacklevel\u001B[38;5;241m=\u001B[39mstacklevel,\n\u001B[1;32m    310\u001B[0m     )\n\u001B[0;32m--> 311\u001B[0m \u001B[38;5;28;01mreturn\u001B[39;00m \u001B[43mfunc\u001B[49m\u001B[43m(\u001B[49m\u001B[38;5;241;43m*\u001B[39;49m\u001B[43margs\u001B[49m\u001B[43m,\u001B[49m\u001B[43m \u001B[49m\u001B[38;5;241;43m*\u001B[39;49m\u001B[38;5;241;43m*\u001B[39;49m\u001B[43mkwargs\u001B[49m\u001B[43m)\u001B[49m\n",
      "File \u001B[0;32m~/.conda/envs/DecisionBrain/lib/python3.10/site-packages/pandas/io/excel/_base.py:457\u001B[0m, in \u001B[0;36mread_excel\u001B[0;34m(io, sheet_name, header, names, index_col, usecols, squeeze, dtype, engine, converters, true_values, false_values, skiprows, nrows, na_values, keep_default_na, na_filter, verbose, parse_dates, date_parser, thousands, decimal, comment, skipfooter, convert_float, mangle_dupe_cols, storage_options)\u001B[0m\n\u001B[1;32m    455\u001B[0m \u001B[38;5;28;01mif\u001B[39;00m \u001B[38;5;129;01mnot\u001B[39;00m \u001B[38;5;28misinstance\u001B[39m(io, ExcelFile):\n\u001B[1;32m    456\u001B[0m     should_close \u001B[38;5;241m=\u001B[39m \u001B[38;5;28;01mTrue\u001B[39;00m\n\u001B[0;32m--> 457\u001B[0m     io \u001B[38;5;241m=\u001B[39m \u001B[43mExcelFile\u001B[49m\u001B[43m(\u001B[49m\u001B[43mio\u001B[49m\u001B[43m,\u001B[49m\u001B[43m \u001B[49m\u001B[43mstorage_options\u001B[49m\u001B[38;5;241;43m=\u001B[39;49m\u001B[43mstorage_options\u001B[49m\u001B[43m,\u001B[49m\u001B[43m \u001B[49m\u001B[43mengine\u001B[49m\u001B[38;5;241;43m=\u001B[39;49m\u001B[43mengine\u001B[49m\u001B[43m)\u001B[49m\n\u001B[1;32m    458\u001B[0m \u001B[38;5;28;01melif\u001B[39;00m engine \u001B[38;5;129;01mand\u001B[39;00m engine \u001B[38;5;241m!=\u001B[39m io\u001B[38;5;241m.\u001B[39mengine:\n\u001B[1;32m    459\u001B[0m     \u001B[38;5;28;01mraise\u001B[39;00m \u001B[38;5;167;01mValueError\u001B[39;00m(\n\u001B[1;32m    460\u001B[0m         \u001B[38;5;124m\"\u001B[39m\u001B[38;5;124mEngine should not be specified when passing \u001B[39m\u001B[38;5;124m\"\u001B[39m\n\u001B[1;32m    461\u001B[0m         \u001B[38;5;124m\"\u001B[39m\u001B[38;5;124man ExcelFile - ExcelFile already has the engine set\u001B[39m\u001B[38;5;124m\"\u001B[39m\n\u001B[1;32m    462\u001B[0m     )\n",
      "File \u001B[0;32m~/.conda/envs/DecisionBrain/lib/python3.10/site-packages/pandas/io/excel/_base.py:1419\u001B[0m, in \u001B[0;36mExcelFile.__init__\u001B[0;34m(self, path_or_buffer, engine, storage_options)\u001B[0m\n\u001B[1;32m   1416\u001B[0m \u001B[38;5;28mself\u001B[39m\u001B[38;5;241m.\u001B[39mengine \u001B[38;5;241m=\u001B[39m engine\n\u001B[1;32m   1417\u001B[0m \u001B[38;5;28mself\u001B[39m\u001B[38;5;241m.\u001B[39mstorage_options \u001B[38;5;241m=\u001B[39m storage_options\n\u001B[0;32m-> 1419\u001B[0m \u001B[38;5;28mself\u001B[39m\u001B[38;5;241m.\u001B[39m_reader \u001B[38;5;241m=\u001B[39m \u001B[38;5;28;43mself\u001B[39;49m\u001B[38;5;241;43m.\u001B[39;49m\u001B[43m_engines\u001B[49m\u001B[43m[\u001B[49m\u001B[43mengine\u001B[49m\u001B[43m]\u001B[49m\u001B[43m(\u001B[49m\u001B[38;5;28;43mself\u001B[39;49m\u001B[38;5;241;43m.\u001B[39;49m\u001B[43m_io\u001B[49m\u001B[43m,\u001B[49m\u001B[43m \u001B[49m\u001B[43mstorage_options\u001B[49m\u001B[38;5;241;43m=\u001B[39;49m\u001B[43mstorage_options\u001B[49m\u001B[43m)\u001B[49m\n",
      "File \u001B[0;32m~/.conda/envs/DecisionBrain/lib/python3.10/site-packages/pandas/io/excel/_openpyxl.py:524\u001B[0m, in \u001B[0;36mOpenpyxlReader.__init__\u001B[0;34m(self, filepath_or_buffer, storage_options)\u001B[0m\n\u001B[1;32m    509\u001B[0m \u001B[38;5;28;01mdef\u001B[39;00m \u001B[38;5;21m__init__\u001B[39m(\n\u001B[1;32m    510\u001B[0m     \u001B[38;5;28mself\u001B[39m,\n\u001B[1;32m    511\u001B[0m     filepath_or_buffer: FilePath \u001B[38;5;241m|\u001B[39m ReadBuffer[\u001B[38;5;28mbytes\u001B[39m],\n\u001B[1;32m    512\u001B[0m     storage_options: StorageOptions \u001B[38;5;241m=\u001B[39m \u001B[38;5;28;01mNone\u001B[39;00m,\n\u001B[1;32m    513\u001B[0m ) \u001B[38;5;241m-\u001B[39m\u001B[38;5;241m>\u001B[39m \u001B[38;5;28;01mNone\u001B[39;00m:\n\u001B[1;32m    514\u001B[0m     \u001B[38;5;124;03m\"\"\"\u001B[39;00m\n\u001B[1;32m    515\u001B[0m \u001B[38;5;124;03m    Reader using openpyxl engine.\u001B[39;00m\n\u001B[1;32m    516\u001B[0m \n\u001B[0;32m   (...)\u001B[0m\n\u001B[1;32m    522\u001B[0m \u001B[38;5;124;03m        passed to fsspec for appropriate URLs (see ``_get_filepath_or_buffer``)\u001B[39;00m\n\u001B[1;32m    523\u001B[0m \u001B[38;5;124;03m    \"\"\"\u001B[39;00m\n\u001B[0;32m--> 524\u001B[0m     \u001B[43mimport_optional_dependency\u001B[49m\u001B[43m(\u001B[49m\u001B[38;5;124;43m\"\u001B[39;49m\u001B[38;5;124;43mopenpyxl\u001B[39;49m\u001B[38;5;124;43m\"\u001B[39;49m\u001B[43m)\u001B[49m\n\u001B[1;32m    525\u001B[0m     \u001B[38;5;28msuper\u001B[39m()\u001B[38;5;241m.\u001B[39m\u001B[38;5;21m__init__\u001B[39m(filepath_or_buffer, storage_options\u001B[38;5;241m=\u001B[39mstorage_options)\n",
      "File \u001B[0;32m~/.conda/envs/DecisionBrain/lib/python3.10/site-packages/pandas/compat/_optional.py:129\u001B[0m, in \u001B[0;36mimport_optional_dependency\u001B[0;34m(name, extra, errors, min_version)\u001B[0m\n\u001B[1;32m    127\u001B[0m \u001B[38;5;28;01mexcept\u001B[39;00m \u001B[38;5;167;01mImportError\u001B[39;00m:\n\u001B[1;32m    128\u001B[0m     \u001B[38;5;28;01mif\u001B[39;00m errors \u001B[38;5;241m==\u001B[39m \u001B[38;5;124m\"\u001B[39m\u001B[38;5;124mraise\u001B[39m\u001B[38;5;124m\"\u001B[39m:\n\u001B[0;32m--> 129\u001B[0m         \u001B[38;5;28;01mraise\u001B[39;00m \u001B[38;5;167;01mImportError\u001B[39;00m(msg)\n\u001B[1;32m    130\u001B[0m     \u001B[38;5;28;01melse\u001B[39;00m:\n\u001B[1;32m    131\u001B[0m         \u001B[38;5;28;01mreturn\u001B[39;00m \u001B[38;5;28;01mNone\u001B[39;00m\n",
      "\u001B[0;31mImportError\u001B[0m: Missing optional dependency 'openpyxl'.  Use pip or conda to install openpyxl."
     ]
    }
   ],
   "source": [
    "path_to_test = path_bordeaux_v2 = \"./data/InstancesV2/InstanceBordeauxV2.xlsx\"\n",
    "load_data_from_path(path_to_test)"
   ],
   "metadata": {
    "collapsed": false,
    "pycharm": {
     "name": "#%%\n"
    }
   }
  },
  {
   "cell_type": "markdown",
   "source": [
    "La fonction suivante affiche un message d’erreur en orange"
   ],
   "metadata": {
    "collapsed": false,
    "pycharm": {
     "name": "#%% md\n"
    }
   }
  },
  {
   "cell_type": "code",
   "execution_count": 2,
   "outputs": [],
   "source": [
    "class Solution:\n",
    "\n",
    "    def __init__(self):\n",
    "        self.x = np.zeros((V, V), dtype=np.intc)\n",
    "        self.y = np.zeros((T, W), dtype=np.intc)\n",
    "        self.b = np.zeros(W, dtype=np.intc)\n",
    "        self.l = np.zeros((T, V), dtype=np.intc)\n",
    "\n",
    "    def copy(self):\n",
    "        \"\"\"Return a deep copy of the instance\"\"\"\n",
    "        return deepcopy(self)\n",
    "\n",
    "    def validate_binary_vars(self):\n",
    "        \"\"\"Verify that x, y and l only contain binary variables\"\"\"\n",
    "        def is_binary(arr: np.array):\n",
    "            return np.min(arr) >= 0 and np.max(arr) <= 1\n",
    "\n",
    "        to_verify = [(self.x, \"x\"), (self.y, \"y\"), (self.l, \"l\")]\n",
    "        for arr, name in to_verify:\n",
    "            if is_binary(arr):\n",
    "                continue\n",
    "            print_warning(f\"{name} should contain binary variables, values other than 0 and 1 detected.\")\n",
    "            return False\n",
    "        return True\n",
    "\n",
    "    def validate(self):\n",
    "        \"\"\"\n",
    "        validate the modifications\n",
    "        :return: whether the constraints are verified\n",
    "        \"\"\"\n",
    "\n",
    "        # verify that x, y and l contain only 0 and 1\n",
    "        if not self.validate_binary_vars(): return False\n",
    "\n",
    "\n",
    "        entrance_count = self.x.sum(axis=0)\n",
    "        exit_count = self.x.sum(axis=1)\n",
    "        # C1\n",
    "        if not np.all(entrance_count == exit_count):\n",
    "            print_warning(\"C1: The number of entrance of each node should be equal to the number of exit.\")\n",
    "            node_idx = np.argwhere(entrance_count != exit_count)[0]\n",
    "            print_warning(f\"Condition violated by node {node_idx} with {entrance_count[node_idx]} entrance(s) and {exit_count[node_idx]} exit(s).\")\n",
    "            return False\n",
    "\n",
    "\n",
    "\n",
    "        # C2\n",
    "        less_than_one_entrance = entrance_count <= 1\n",
    "        if not np.all(less_than_one_entrance[tasks + homes]):\n",
    "            print_warning(\"C2: Each task should be done by at most one employee.\")\n",
    "            for i in tasks:\n",
    "                if not less_than_one_entrance[i]:\n",
    "                    print_warning(f\"Condition violated by node {i} done by {entrance_count[i]} employees.\", \"cyan\")\n",
    "            return False\n",
    "\n",
    "        # C3.a\n",
    "        exactly_one_entrance = entrance_count == 1\n",
    "        if not np.all(exactly_one_entrance[unavails]):\n",
    "            print_warning(\"C3.a: Unavailabilities should be visited.\")\n",
    "            unavail_indices = np.argwhere(~exactly_one_entrance)\n",
    "            idx = unavail_indices[0]\n",
    "            print_warning(f\"Condition violated by node {idx}\", \"cyan\")\n",
    "            return False\n",
    "\n",
    "        # C3.b\n",
    "        for k in employees:\n",
    "            if self.x[k, Employee.list[k].home()]:\n",
    "                continue\n",
    "            print_warning(f\"C3.b: Each employee should visits their home.\")\n",
    "            print_warning(f\"Condition violated by employee {k}.\", \"cyan\")\n",
    "            \n",
    "            return False\n",
    "\n",
    "        for idx in unavails:\n",
    "            employee = Node.list[idx].employee\n",
    "            employee_idx = Employee.index_of(employee)\n",
    "            if self.x[employee_idx, idx] == 1:\n",
    "                continue\n",
    "            print_warning(f\"C3.b: Each employee should visit his unavailabilities.\")\n",
    "            print_warning(f\"Condition violated by employee {employee_idx}.\",\"cyan\")\n",
    "            return False\n",
    "\n",
    "        # C4\n",
    "        for i in nodes:\n",
    "            for j in nodes:\n",
    "                if i == j or not self.x[i, j]: continue\n",
    "                if self.y[:, i] == self.y[:, j]: continue\n",
    "                print_warning(f\"C4: Two consecutive tasks should be done by the same employee\")\n",
    "                print_warning(f\"Condition violated by task {i} and {j}\", \"cyan\")\n",
    "                return False\n",
    "\n",
    "        # C5\n",
    "        for i in tasks:\n",
    "            task: Task = Node.list[i]\n",
    "            opening, closing = task.opening_time, task.closing_time\n",
    "            if self.b[i] >= opening and self.b[i] + task.duration <= closing: continue\n",
    "            print_warning(f\"C5: A task should be worked on between its opening time and closing time\")\n",
    "            print_warning(f\"Condition violated by task {i}\", \"cyan\")\n",
    "            return False\n",
    "\n",
    "        # C6.a\n",
    "        for k in employees:\n",
    "            employee: Employee = Employee.list[k]\n",
    "            employee_start = employee.start_time\n",
    "            if employee_start == self.b[k]: continue\n",
    "            print_warning(f\"C6.a: Employees' start times should be respected\")\n",
    "            print_warning(f\"Condition violated by employee {k}\", \"cyan\")\n",
    "            return False\n",
    "\n",
    "        # C6.b\n",
    "        for i in unavails:\n",
    "            if self.b[i] == Node.list[i].opening_time: continue\n",
    "            print_warning(f\"C6.b: The beginning and end of unavailabilities should be respected\")\n",
    "            print_warning(f\"Condition violated by Node {i}\", \"cyan\")\n",
    "            return False\n",
    "\n",
    "        # C7\n",
    "        # TODO: verify C7\n",
    "\n",
    "        # C8\n",
    "        # TODO: verify C8\n",
    "\n",
    "        # C9\n",
    "        for k in employees:\n",
    "            for i in tasks:\n",
    "                if not self.x[i, k]: continue\n",
    "                task: Task = Node.list[i]\n",
    "                employee: Employee = Employee.list[k]\n",
    "                if self.b[k] + task.duration + (Node.distance[i, k] / Employee.speed) + self.l[\n",
    "                    k, i] * 60 <= employee.end_time: continue\n",
    "                print_warning(\"C9: An employee should have enough time to go back home.\")\n",
    "                print_warning(f\"Condition violated by employee {k} after task {i}\", \"cyan\")\n",
    "                return False\n",
    "\n",
    "        # C10.a\n",
    "        for k in employees:\n",
    "            if sum(self.l[k, :]) == 1: continue\n",
    "            print_warning(\"C10.a: Each employee has one unique lunch\")\n",
    "            print_warning(f\"Condition violated by employee {k}\", \"cyan\")\n",
    "            return False\n",
    "\n",
    "        # C10.b\n",
    "        for k in employees:\n",
    "            for i in nodes:\n",
    "                if not self.l[k, i]: continue\n",
    "                if self.y[k, i]: continue\n",
    "                print_warning(f\"C10.b: Constraint violated\")\n",
    "                print_warning(f\"Condition violated by employee {k} after lunch at node {i}\")\n",
    "                return False\n",
    "\n",
    "        # C10.c\n",
    "        for i in nodes:\n",
    "            for k in employees:\n",
    "                if not self.l[k, i]: continue\n",
    "                task_duration = Node.list[i].duration\n",
    "                if self.b[i] + task_duration + self.l[k, i] * 60 <= 14 * 60 and self.b[\n",
    "                    i] + task_duration >= 12 * 60: continue\n",
    "                print_warning(\"C10.c A task should be taken between 12AM and 2PM\")\n",
    "                print_warning(f\"Condition violated by employee {k} after node {i}\", \"cyan\")\n",
    "                return False\n",
    "\n",
    "        # C11\n",
    "        for i in tasks + unavails:\n",
    "            if sum(self.y[:, i]) <= sum(self.x[:, i]): continue\n",
    "            print_warning(\"C11: This constraint is violated\")\n",
    "            print_warning(f\"Condition violated by node {i}\", \"cyan\")\n",
    "            return False\n",
    "\n",
    "        # C12\n",
    "        for i in tasks + unavails:\n",
    "            for j in tasks + unavails:\n",
    "                if i == j or self.x[i, j]: continue\n",
    "                if self.b[i] + Node.list[i].duration + (Node.distance[i, j] / Employee.speed) + sum(\n",
    "                        self.l[:, i]) * 60 <= self.b[j]: continue\n",
    "                print_warning(\"C12: The traveling time between two nodes should be sufficient.\")\n",
    "                print_warning(f\"Condition violated between node {i} and {j}\", \"cyan\")\n",
    "                return False\n",
    "\n",
    "        # C13\n",
    "        for k in employees:\n",
    "            for i in tasks:\n",
    "                if not self.y[k, i]: continue\n",
    "                employee: Employee = Employee.list[k]\n",
    "                task: Task = Node.list[i]\n",
    "                if employee.level >= task.level: continue\n",
    "                print_warning(\"C13: An employee can only do tasks that they are able to do.\")\n",
    "                print_warning(f\"Condition violated by employee {k} at node {i}\", \"cyan\")\n",
    "                print_warning(repr(employee), \"green\")\n",
    "                print_warning(repr(task), \"green\")\n",
    "                return False\n",
    "\n",
    "        # Every condition is verified\n",
    "        return True"
   ],
   "metadata": {
    "collapsed": false,
    "pycharm": {
     "name": "#%%\n"
    }
   }
  },
  {
   "cell_type": "markdown",
   "source": [
    "# Demo"
   ],
   "metadata": {
    "collapsed": false,
    "pycharm": {
     "name": "#%% md\n"
    }
   }
  },
  {
   "cell_type": "code",
   "execution_count": 3,
   "outputs": [
    {
     "ename": "NameError",
     "evalue": "name 'V' is not defined",
     "output_type": "error",
     "traceback": [
      "\u001B[0;31m---------------------------------------------------------------------------\u001B[0m",
      "\u001B[0;31mNameError\u001B[0m                                 Traceback (most recent call last)",
      "Input \u001B[0;32mIn [3]\u001B[0m, in \u001B[0;36m<cell line: 1>\u001B[0;34m()\u001B[0m\n\u001B[0;32m----> 1\u001B[0m solution_instance \u001B[38;5;241m=\u001B[39m \u001B[43mSolution\u001B[49m\u001B[43m(\u001B[49m\u001B[43m)\u001B[49m\n",
      "Input \u001B[0;32mIn [2]\u001B[0m, in \u001B[0;36mSolution.__init__\u001B[0;34m(self)\u001B[0m\n\u001B[1;32m      3\u001B[0m \u001B[38;5;28;01mdef\u001B[39;00m \u001B[38;5;21m__init__\u001B[39m(\u001B[38;5;28mself\u001B[39m):\n\u001B[0;32m----> 4\u001B[0m     \u001B[38;5;28mself\u001B[39m\u001B[38;5;241m.\u001B[39mx \u001B[38;5;241m=\u001B[39m np\u001B[38;5;241m.\u001B[39mzeros((\u001B[43mV\u001B[49m, V), dtype\u001B[38;5;241m=\u001B[39mnp\u001B[38;5;241m.\u001B[39mintc)\n\u001B[1;32m      5\u001B[0m     \u001B[38;5;28mself\u001B[39m\u001B[38;5;241m.\u001B[39my \u001B[38;5;241m=\u001B[39m np\u001B[38;5;241m.\u001B[39mzeros((T, W), dtype\u001B[38;5;241m=\u001B[39mnp\u001B[38;5;241m.\u001B[39mintc)\n\u001B[1;32m      6\u001B[0m     \u001B[38;5;28mself\u001B[39m\u001B[38;5;241m.\u001B[39mb \u001B[38;5;241m=\u001B[39m np\u001B[38;5;241m.\u001B[39mzeros(W, dtype\u001B[38;5;241m=\u001B[39mnp\u001B[38;5;241m.\u001B[39mintc)\n",
      "\u001B[0;31mNameError\u001B[0m: name 'V' is not defined"
     ]
    }
   ],
   "source": [
    "solution_instance = Solution()"
   ],
   "metadata": {
    "collapsed": false,
    "pycharm": {
     "name": "#%%\n"
    }
   }
  },
  {
   "cell_type": "code",
   "execution_count": null,
   "outputs": [],
   "source": [],
   "metadata": {
    "collapsed": false,
    "pycharm": {
     "name": "#%%\n"
    }
   }
  }
 ],
 "metadata": {
  "kernelspec": {
   "display_name": "Python 3",
   "language": "python",
   "name": "python3"
  },
  "language_info": {
   "codemirror_mode": {
    "name": "ipython",
    "version": 2
   },
   "file_extension": ".py",
   "mimetype": "text/x-python",
   "name": "python",
   "nbconvert_exporter": "python",
   "pygments_lexer": "ipython2",
   "version": "2.7.6"
  }
 },
 "nbformat": 4,
 "nbformat_minor": 0
}