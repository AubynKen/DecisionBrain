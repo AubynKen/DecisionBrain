{
 "cells": [
  {
   "cell_type": "markdown",
   "id": "ebcd1aa6",
   "metadata": {
    "pycharm": {
     "name": "#%% md\n"
    }
   },
   "source": [
    "# ST7 Planification quotidienne d’une équipe mobile"
   ]
  },
  {
   "cell_type": "code",
   "execution_count": 1,
   "id": "6a6236d7",
   "metadata": {},
   "outputs": [],
   "source": [
    "# Modules de base\n",
    "import numpy as np\n",
    "import os\n",
    "\n",
    "import matplotlib.pyplot as plt\n",
    "%matplotlib inline\n",
    "\n",
    "# Module relatif à Gurobi\n",
    "from gurobipy import *\n",
    "\n",
    "# Utilités\n",
    "from math import ceil\n",
    "from utils import plot_map"
   ]
  },
  {
   "cell_type": "markdown",
   "id": "e2ddd5c9",
   "metadata": {
    "pycharm": {
     "name": "#%% md\n"
    }
   },
   "source": [
    "## Formulation du problème\n",
    "\n",
    "### Notation\n",
    "- $ V $ : Nombre de tâches + 1 qui correspond au dépôt (V pour vertex)\n",
    "- $ T $ : Nombre de techniciens\n",
    "- $ i, j \\in \\{0, ..., V - 1\\} $ : les indices des tâches\n",
    "- $ k \\in \\{0, ..., T - 1 \\} $ : les indices des techniciens\n",
    "- $ (opening_i)_i $ : l’ouverture des sites\n",
    "- $ (closing_i)_i $ : la fermeture des sites\n",
    "- $ (start_k)_k $ : le début de travail des employés\n",
    "- $ (end_k)_k $ : la fin de travail de chaque employé\n",
    "- $ (duration_i)_i $ : la durée de chaque tâche\n",
    "- $ (distance_{i, j}) $ : la distance entre les sites\n",
    "- $ speed $ : la vitesse de déplacement des techniciens\n",
    "- $ M $ : majorant pour notre problème\n",
    "\n",
    "\n",
    "\n",
    "### Variables de décisions\n",
    "- $ (x_{i, j})_{i, j} $, $ x_{i, j} = 1 $ ssi. (i, j) est un arc de i vers j\n",
    "- $ (y_{k, i})_{k, i} $, $ y_{k, i} = 1 $ ssi. le technicien k effectue la tâche i\n",
    "- $ (b_i)_i $, $B_i$ est le début de chaque tâche en minute (b pour beginning)\n",
    "- $ (t_k)_k $ vaut 1 si l'employé i est actif (avec une tâche assignée ou plus)\n",
    "\n",
    "\n",
    "### Objectif d’optimisation\n",
    "$$ min \\sum_{i, j = 0}^{V-1} x_{i, j} \\cdot distance_{i, j} $$\n",
    "\n",
    "\n",
    "### Contraintes\n",
    "- (C1) : Il y a autant de techniciens actifs que d'arcs sortants du dépôt\n",
    "$$ \\sum_{j = 1}^{V-1} x_{0, j} = \\sum_{k = 0}^{T-1} t_k $$\n",
    "\n",
    "- (C2) Il y a autant d’arcs entrant du dépôt que d’arcs sortants du dépôt\n",
    "$$ \\sum_{i = 1}^{V-1} x_{0, i} = \\sum_{i = 1}^{V-1} x_{i, 0} $$\n",
    "\n",
    "- (C3) Le site de chaque tâche est visité par exactement un technicien\n",
    "$$ \\forall i \\in \\{1,\\dots, V-1\\}, \\sum_{j = 1, j \\ne i}^{V-1} x_{i, j} = \\sum_{j = 1, j \\ne i}^{V-1} x_{j, i} = 1 $$\n",
    "\n",
    "- (C4) Deux tâches qui se suivent doivent être faites par le même technicien\n",
    "$$ \\forall i, j \\in \\{1,\\dots, V-1\\}, x_{i, j} \\implies \\forall k \\in \\{0,\\dots, T-1\\}, y_{k, i} = y_{k, j} \\\\\n",
    "\\equiv \\forall i, j \\in \\{1,\\dots, V-1\\}, \\forall k \\in \\{0,\\dots, T-1\\}, y_{k, i} \\le y_{k, j} + M \\cdot (1 - x_{i, j}) \\text{ et } y_{k, j} \\le y_{k, i} + M \\cdot (1 - x_{i, j}) $$\n",
    "\n",
    "- (C5) Lorsqu’un travail est effectué sur une tâche, la tâche doit être disponible.\n",
    "$$ \\forall i \\in \\{1,\\dots, V-1\\}, (b_i \\ge opening_i) \\land (b_i + duration_i \\le closing_i) $$\n",
    "\n",
    "- (C6) La fenêtre de temps entre deux travaux doit être suffisante pour le trajet\n",
    "$$ \\forall i, j \\in \\{1,\\dots, V-1\\}, x_{i, j} = 1 \\implies b_i + duration_i + \\frac{distance_{i, j}}{speed} \\le b_j \\\\\n",
    "\\equiv \\forall i, j \\in \\{1,\\dots, V-1\\}, b_i + duration_i + \\frac{distance_{i, j}}{speed} \\le b_j + M \\cdot (1-x_{i, j}) $$\n",
    "\n",
    "- (C7) Un technicien commence à l'heure\n",
    "$$ \\forall k \\in \\{0,\\dots, T-1\\}, \\forall i \\in \\{1,\\dots, V-1\\}, y_{k, i} \\land x_{0, i} \\implies start_k + \\frac{distance_{0, i}}{speed} \\le b_i \\\\\n",
    "\\equiv \\forall k \\in \\{0,\\dots, T-1\\}, \\forall i \\in \\{1,\\dots, V-1\\}, start_k + \\frac{distance_{0, i}}{speed} \\le b_i + (2 - y_{k, i} - x_{0, i}) \\cdot M $$\n",
    "\n",
    "- (C8) Un technicien doit avoir suffisamment de temps pour rentrer au dét après sa dernière tâche\n",
    "$$ \\forall k \\in \\{0,\\dots, T-1\\}, \\forall i \\in \\{1,\\dots, V-1\\}, y_{k, i} \\land x_{i, 0} \\implies b_i + duration_i + \\frac{distance_{i, 0}}{speed} \\le end_k \\\\\n",
    "\\equiv \\forall k \\in \\{0,\\dots, T-1\\}, \\forall i \\in \\{1,\\dots, V-1\\}, b_i + duration_i + \\frac{distance_{i, 0}}{speed} \\le end_k + (2 - y_{k, i} - x_{i, 0}) \\cdot M $$\n",
    "\n",
    "- (C9) Un technicien n’effectue que des tâches qu’il est capable d’effectuer\n",
    "$$ \\forall k \\in \\{0,\\dots, T-1\\}, \\forall i \\in \\{1,\\dots, V-1\\}, levelTech_k \\ge levelTask_i - M \\cdot (1 - y_{k, i}) $$\n",
    "\n",
    "- (C10) Une tâche est réalisée par un seul employé\n",
    "$$ \\forall i \\in \\{1,\\dots, V-1\\}, \\sum_{k=0}^{T-1} y_{k, i} = 1 $$\n",
    "\n"
   ]
  },
  {
   "cell_type": "markdown",
   "id": "7a617549",
   "metadata": {
    "collapsed": false,
    "pycharm": {
     "name": "#%% md\n"
    }
   },
   "source": [
    "## Implémentation d'employé et tâche"
   ]
  },
  {
   "cell_type": "code",
   "execution_count": 2,
   "id": "88651692",
   "metadata": {
    "pycharm": {
     "name": "#%%\n"
    }
   },
   "outputs": [],
   "source": [
    "# importing Employee and Task classes\n",
    "from models_v1 import Employee, Task\n",
    "from utils import store_result"
   ]
  },
  {
   "cell_type": "markdown",
   "id": "66bf9fe9",
   "metadata": {
    "collapsed": false,
    "pycharm": {
     "name": "#%% md\n"
    }
   },
   "source": [
    "### Quelques démos de l’implémentation"
   ]
  },
  {
   "cell_type": "code",
   "execution_count": 3,
   "id": "9240baa4",
   "metadata": {
    "pycharm": {
     "name": "#%%\n"
    }
   },
   "outputs": [],
   "source": [
    "from file_paths import path_bordeaux # path_finland, path_poland, path_italy, path_guinea_golf\n",
    "path = path_bordeaux\n",
    "path_result = \"results/SolutionBordeauxV1ByV1.txt\""
   ]
  },
  {
   "cell_type": "code",
   "execution_count": 4,
   "id": "18ecc7a4",
   "metadata": {
    "pycharm": {
     "name": "#%%\n"
    },
    "scrolled": true
   },
   "outputs": [],
   "source": [
    "# reading dataframe into python objects\n",
    "Employee.load_excel(path)\n",
    "Task.load_excel(path, initialize_distance=True, load_depot=True)"
   ]
  },
  {
   "cell_type": "code",
   "execution_count": 5,
   "id": "ff10c9ff",
   "metadata": {},
   "outputs": [
    {
     "name": "stdout",
     "output_type": "stream",
     "text": [
      "Fichier d’origine : \"./data/InstancesV1/InstanceBordeauxV1.xlsx\"\n",
      "Nombre d’employés : 2, Nombre de tâches : 11\n"
     ]
    }
   ],
   "source": [
    "T = len(Employee.list)\n",
    "V = len(Task.list)\n",
    "print(f\"Fichier d’origine : \\\"{path}\\\"\")\n",
    "print(f\"Nombre d’employés : {T}, Nombre de tâches : {V}\")"
   ]
  },
  {
   "cell_type": "markdown",
   "id": "3335c2b1",
   "metadata": {
    "collapsed": false,
    "pycharm": {
     "name": "#%% md\n"
    }
   },
   "source": [
    "Essayons maintenant d’afficher notre première tâche dans le fichier excel"
   ]
  },
  {
   "cell_type": "code",
   "execution_count": 6,
   "id": "2b13c232",
   "metadata": {
    "pycharm": {
     "name": "#%%\n"
    }
   },
   "outputs": [
    {
     "data": {
      "text/plain": [
       "Task(id=T1, position=[-0.3193922422375719, 44.55654938342008], duration=60, skill_requirement=level 1 Oenology,opening_time=[08:00AM to 06:00PM] "
      ]
     },
     "execution_count": 6,
     "metadata": {},
     "output_type": "execute_result"
    }
   ],
   "source": [
    "# test on Task object\n",
    "Task.list[1]"
   ]
  },
  {
   "cell_type": "code",
   "execution_count": 7,
   "id": "e827563e",
   "metadata": {},
   "outputs": [],
   "source": [
    "# loading opening_time, closing_time, duration into numpy arrays\n",
    "opening_time = np.array([Task.list[i].opening_time for i in range(V)])\n",
    "closing_time = np.array([Task.list[i].closing_time for i in range(V)])\n",
    "duration = np.array([Task.list[i].duration for i in range(V)])\n",
    "\n",
    "M = 1000000"
   ]
  },
  {
   "cell_type": "markdown",
   "id": "55ec44d8",
   "metadata": {
    "collapsed": false,
    "pycharm": {
     "name": "#%% md\n"
    }
   },
   "source": [
    "## Implémentation"
   ]
  },
  {
   "cell_type": "code",
   "execution_count": 8,
   "id": "7113eb6d",
   "metadata": {
    "pycharm": {
     "name": "#%%\n"
    },
    "scrolled": true
   },
   "outputs": [
    {
     "name": "stdout",
     "output_type": "stream",
     "text": [
      "Set parameter Username\n",
      "Academic license - for non-commercial use only - expires 2023-01-27\n"
     ]
    }
   ],
   "source": [
    "m = Model(\"DB\")\n",
    "\n",
    "# Decision variables\n",
    "X = {(i, j) : m.addVar(vtype = GRB.BINARY, name = f'x{i}_{j}') for i in range(V) for j in range(V) if i != j}\n",
    "Y = {(k, i) : m.addVar(vtype = GRB.BINARY, name = f'y{k}_{i}') for k in range(T) for i in range(V)}\n",
    "B = {i : m.addVar(vtype = GRB.CONTINUOUS, name = f'b{i}', lb = 0) for i in range(V)}\n",
    "t = {k : m.addVar(vtype = GRB.BINARY, name = f'k{k}') for k in range(T)}\n",
    "\n",
    "# Constraints\n",
    "\n",
    "# C1\n",
    "for k in range(T):\n",
    "    m.addConstr(t[k] <= quicksum([Y[(k,i)] for i in range(1,V)]))\n",
    "    for i in range(1,V):\n",
    "        m.addConstr(t[k] >= Y[(k,i)])\n",
    "c1 = m.addConstr(quicksum([X[(0,j)] for j in range(1,V)])  == quicksum([t[k] for k in range(T)]))\n",
    "\n",
    "# C2\n",
    "c2 = {}\n",
    "for i in range(1,V):\n",
    "    c2[i] = m.addConstr(quicksum([X[(i,j)] for j in range(V) if i != j]) == quicksum([X[(j,i)] for j in range(V) if i != j]))\n",
    "    \n",
    "# C3\n",
    "c3 = {}\n",
    "for i in range(1,V):\n",
    "    c2[i] = m.addConstr(quicksum([X[(i,j)] for j in range(V) if i != j]) == 1)\n",
    "                      \n",
    "# C4\n",
    "C4  = {(i,j,k) : m.addConstr(Y[(k,i)] <= Y[(k,j)] + M*(1-X[(i,j)])) for i in range(1,V) for j in range(1,V) for k in range(T) if i != j}\n",
    "C4b = {(i,j,k) : m.addConstr(Y[(k,i)] >= Y[(k,j)] - M*(1-X[(i,j)])) for i in range(1,V) for j in range(1,V) for k in range(T) if i != j}\n",
    "\n",
    "# C5\n",
    "C5o = {}\n",
    "C5c = {}\n",
    "for i in range(1,V):\n",
    "    C5o[i] = m.addConstr(B[i] >= opening_time[i])\n",
    "    C5c[i] = m.addConstr(duration[i] + B[i] <= closing_time[i])\n",
    "\n",
    "# C6\n",
    "C6 = {(i,j) : m.addConstr(B[i] + duration[i] + ceil(Task.distance[i,j]/Employee.speed) <= B[j] + M * (1-X[(i,j)]) ) for i in range(1,V) for j in range(1,V) if i != j}\n",
    "\n",
    "# C7\n",
    "C7 = {(k,i) : m.addConstr(Employee.list[k].start_time + ceil(Task.distance[0,i]/Employee.speed) - (2 - Y[(k,i)] - X[(0,i)]) * M <= B[i]) for k in range(T) for i in range(1,V)}\n",
    "\n",
    "# C8\n",
    "C8 = {(k,i) : m.addConstr(B[i] + duration[i] + ceil(Task.distance[i,0]/Employee.speed) <= Employee.list[k].end_time + M*(2-Y[(k,i)]-X[(i,0)])) for k in range(T) for i in range(1,V)}\n",
    "\n",
    "# C9\n",
    "C9 = {(k,i) : m.addConstr(Employee.list[k].level >= Task.list[i].level - M * (1 - Y[(k,i)]))  for k in range(T) for i in range(1,V)}\n",
    "\n",
    "# C10\n",
    "C10 = {i : m.addConstr(quicksum([Y[(k,i)] for k in range(T)]) == 1) for i in range(1,V)}"
   ]
  },
  {
   "cell_type": "markdown",
   "id": "260c6a4f",
   "metadata": {
    "collapsed": false,
    "pycharm": {
     "name": "#%% md\n"
    }
   },
   "source": [
    "### Objective d'optimisation"
   ]
  },
  {
   "cell_type": "code",
   "execution_count": 9,
   "id": "44d46387",
   "metadata": {
    "pycharm": {
     "name": "#%%\n"
    }
   },
   "outputs": [],
   "source": [
    "obj = quicksum([X[(i,j)]*Task.distance[i,j] for i in range(V) for j in range(V) if i != j])\n",
    "m.setObjective(obj, GRB.MINIMIZE)"
   ]
  },
  {
   "cell_type": "code",
   "execution_count": 10,
   "id": "4d95da51",
   "metadata": {},
   "outputs": [],
   "source": [
    "m.params.outputflag = 0\n",
    "\n",
    "m.update()\n",
    "\n",
    "m.optimize()"
   ]
  },
  {
   "cell_type": "code",
   "execution_count": 11,
   "id": "2dbdb2db",
   "metadata": {},
   "outputs": [],
   "source": [
    "assert m.status != GRB.INFEASIBLE"
   ]
  },
  {
   "cell_type": "code",
   "execution_count": 12,
   "id": "882eeb2e",
   "metadata": {
    "scrolled": true
   },
   "outputs": [
    {
     "name": "stdout",
     "output_type": "stream",
     "text": [
      "Techniciens actifs : [0, 1]\n",
      "Y_0 : [3, 4, 5, 6, 7, 9]\n",
      "Y_1 : [1, 2, 8, 10]\n",
      "\n",
      "[(0, 9), (0, 10)]\n",
      "[(1, 2)]\n",
      "[(2, 0)]\n",
      "[(3, 5)]\n",
      "[(4, 6)]\n",
      "[(5, 0)]\n",
      "[(6, 3)]\n",
      "[(7, 4)]\n",
      "[(8, 1)]\n",
      "[(9, 7)]\n",
      "[(10, 8)]\n",
      "\n",
      "['B_0 : 0.0', 'B_1 : 695.9999999999956', 'B_2 : 817.9999999999922', 'B_3 : 800.9999999999837', 'B_4 : 662.9999999999924', 'B_5 : 875.9999999999769', 'B_6 : 732.9999999999881', 'B_7 : 576.9999999999958', 'B_8 : 557.9999999999969', 'B_9 : 501.99999999999926', 'B_10 : 489.999999999999']\n"
     ]
    }
   ],
   "source": [
    "print(\"Techniciens actifs : {}\".format([k for k in range(T) if t[k].x == 1]))\n",
    "\n",
    "for k in range(T):\n",
    "    print(\"Y_{} : {}\".format(k,[i for i in range(1,V) if Y[(k,i)].x == 1]))\n",
    "print()\n",
    "for i in range(V):\n",
    "    print([(i,j) for j in range(V) if i != j and X[(i,j)].x == 1])\n",
    "print()\n",
    "print([\"B_{} : {}\".format(i,B[i].x) for i in range(V)])"
   ]
  },
  {
   "cell_type": "code",
   "execution_count": 13,
   "id": "4af8063a",
   "metadata": {},
   "outputs": [],
   "source": [
    "# Z associe un indice de tâche à l'employé qui l'effectue\n",
    "Z = {}\n",
    "for i in range(V):\n",
    "    for k in range(T):\n",
    "        if Y[(k,i)].x == 1:\n",
    "            Z[i] = k"
   ]
  },
  {
   "cell_type": "markdown",
   "id": "c0697a5c",
   "metadata": {
    "collapsed": false,
    "pycharm": {
     "name": "#%% md\n"
    }
   },
   "source": [
    "### Enregistrement des données dans le bon format"
   ]
  },
  {
   "cell_type": "code",
   "execution_count": 14,
   "id": "8b7352d5",
   "metadata": {
    "pycharm": {
     "name": "#%%\n"
    }
   },
   "outputs": [],
   "source": [
    "if not os.path.isdir(path_result):\n",
    "    store_result(target_path=path_result,\n",
    "                 employees=Employee.list,\n",
    "                 tasks=Task.list, z=Z, b=B)"
   ]
  },
  {
   "cell_type": "markdown",
   "id": "6ab66b13",
   "metadata": {
    "collapsed": false,
    "pycharm": {
     "name": "#%% md\n"
    }
   },
   "source": [
    "### Affichage de la distance totale"
   ]
  },
  {
   "cell_type": "code",
   "execution_count": 15,
   "id": "7b3efc71",
   "metadata": {},
   "outputs": [
    {
     "name": "stdout",
     "output_type": "stream",
     "text": [
      "The total distance is 127.79477073284689 km(s)\n"
     ]
    }
   ],
   "source": [
    "print(f\"The total distance is {max([Task.distance[i,j] for i in range(V) for j in range(V)])/Employee.speed} km(s)\")"
   ]
  },
  {
   "cell_type": "markdown",
   "id": "de8cc8b2",
   "metadata": {
    "collapsed": false,
    "pycharm": {
     "name": "#%% md\n"
    }
   },
   "source": [
    "### Maintenant essayons d’utiliser notre visualiseur pour voir comment notre algorithem a réglé le problème"
   ]
  },
  {
   "cell_type": "markdown",
   "id": "062aeeee",
   "metadata": {
    "collapsed": false
   },
   "source": []
  },
  {
   "cell_type": "code",
   "execution_count": 16,
   "id": "28c9cd34",
   "metadata": {},
   "outputs": [
    {
     "data": {
      "image/png": "[encoded data removed]",
      "text/plain": [
       "<Figure size 432x288 with 1 Axes>"
      ]
     },
     "metadata": {
      "needs_background": "light"
     },
     "output_type": "display_data"
    }
   ],
   "source": [
    "plot_map(V, Employee.list, Task.list, X, Z)"
   ]
  },
  {
   "cell_type": "markdown",
   "id": "3893e08e",
   "metadata": {
    "collapsed": false,
    "pycharm": {
     "name": "#%% md\n"
    }
   },
   "source": [
    "## Il suffit ensuite de changer les variables path et path_result pour faire les culculs sur les autres instances"
   ]
  }
 ],
 "metadata": {
  "kernelspec": {
   "display_name": "Python 3 (ipykernel)",
   "language": "python",
   "name": "python3"
  },
  "language_info": {
   "codemirror_mode": {
    "name": "ipython",
    "version": 3
   },
   "file_extension": ".py",
   "mimetype": "text/x-python",
   "name": "python",
   "nbconvert_exporter": "python",
   "pygments_lexer": "ipython3",
   "version": "3.9.7"
  }
 },
 "nbformat": 4,
 "nbformat_minor": 5
}
