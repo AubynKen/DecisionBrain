{
 "cells": [
  {
   "cell_type": "markdown",
   "id": "ebcd1aa6",
   "metadata": {
    "pycharm": {
     "name": "#%% md\n"
    }
   },
   "source": [
    "# ST7 Planification quotidienne d’une équipe mobile"
   ]
  },
  {
   "cell_type": "code",
   "execution_count": 1,
   "id": "6a6236d7",
   "metadata": {},
   "outputs": [],
   "source": [
    "# Modules de base\n",
    "import pandas as pd\n",
    "import numpy as np\n",
    "from datetime import datetime\n",
    "from math import radians, cos, sin, asin, sqrt\n",
    "from utils import parse_time, parse_time_minute\n",
    "\n",
    "import matplotlib.pyplot as plt\n",
    "%matplotlib inline\n",
    "\n",
    "# Module relatif à Gurobi\n",
    "from gurobipy import *\n",
    "\n",
    "# Utilités\n",
    "from math import ceil\n",
    "from utils import plot_map"
   ]
  },
  {
   "cell_type": "markdown",
   "id": "1c93a83a",
   "metadata": {
    "pycharm": {
     "name": "#%% md\n"
    }
   },
   "source": [
    "### Notations\n",
    "- $ W $ : Nombre de tâches (W pour work)\n",
    "- $ U $ : Nombre d’indisponibilités (unavail pour Unavailable)\n",
    "- $ T $ : Nombre de employés (T pour Technician)\n",
    "- $ V = 2 \\times T + W + U$ : Le nombre total de nœuds"
   ]
  },
  {
   "cell_type": "markdown",
   "id": "b2537ec5",
   "metadata": {
    "pycharm": {
     "name": "#%% md\n"
    }
   },
   "source": [
    "### Indices des nœuds\n",
    "\n",
    "Tout comme notre modèle dans la phase 1, notre modèle pour la phase 2 utilise le modèle de graphe pour résoudre notre problème. Dans la phase 1, les nœuds sont les tâches à effectuer, ainsi qu’un nœud symbolisant le dépôt initial d’où partent les employés. Dans la phase 2, le rajout de contraintes telles que la pause midi/déjeuner et les indisponibilités nous amène à distinguer quatre types de nœuds : les lieux de résidence des employés (home), les tâches (task), les nœuds auxiliaires fictifs/dummy nodes correspondants aux pauses déjeuners des employés (lunch) et enfin les indisponibilités (unavail). Afin de faciliter la lecture, nous utilisons les notations suivantes pour les indices des quatre types de nœuds :\n",
    "\n",
    "- $ homes = \\{0, ..., T - 1\\} $ sont les indices des lieux de résidence / maison des employés\n",
    "- $ lunches = \\{T, ..., 2T - 1\\} $ : les indices des pauses midi, ie. les déjeuners\n",
    "- $ tasks = \\{2T, ..., 2T + W - 1\\} $ : les indices des tâches à réaliser\n",
    "- $ unavails = \\{2T + W, ..., V - 1 \\} $ : les indisponibilités des employés\n",
    "\n",
    "L’ensemble des nœuds est donc : \n",
    "- $ nodes = homes \\cup lunches \\cup tasks \\cup unavails = \\{0, ..., V - 1\\} $\n",
    "\n",
    "Quant aux indices des employés, ils sont les mêmes que les indices de leur maisons : \n",
    "- $ employees = \\{0, ..., T - 1 \\} $\n",
    "\n",
    "Par la suite, lorsque l’on note $i \\in homes$, cela signifie $i \\in \\{0, ..., T - 1\\}$, idem pour les autres types de nœuds."
   ]
  },
  {
   "cell_type": "markdown",
   "id": "82489cba",
   "metadata": {
    "pycharm": {
     "name": "#%% md\n"
    }
   },
   "source": [
    "Les nœuds homes, lunches et unavails doivent être visités par leur employés correspondants. Nous utilisons les notations suivantes pour ces correspondances :\n",
    "- $ \\forall k \\in employees, home(k) $ : L’indice du lieu de résidence de l’employé k\n",
    "- $ \\forall k \\in employees, lunch(k) $ : L’indice du nœud correspondant à la pause déjeuner de l’employé k. Nous modélisons la pause déjeuner par une tâche fictive.\n",
    "\n",
    "Dans la phase 2 du projet, les tâches sont ouvertes sur plusieurs créneaux de temps. Les indisponibilités sont notées : \n",
    "- $ \\forall i \\in tasks, closedIntervals(i) $ : Ensemble des (start, end) des indisponibilités de la tâche i.\n",
    "\n",
    "Notons que ce ne sont pas des variables de décision et que ces notations ne changent pas au cours du temps, malgré la notation entre parenthèses."
   ]
  },
  {
   "cell_type": "markdown",
   "id": "72491756",
   "metadata": {
    "pycharm": {
     "name": "#%% md\n"
    }
   },
   "source": [
    "### À propos des pauses déjeuners\n",
    "Dans une perspective de pure optimisation, nous aurions pu considérer que les employés effectuent leurs pauses déjeuners en plein milieu de la trajectoire rectiligne du trajet entre une tâche et la suivante. Pourtant, il nous semble que cette manière de représenter les pauses déjeuners correspondent peu à la réalité, et il nous paraît plus naturel qu’après avoir effectué la dernière tâche du matin, un employé mange et se repose sur place, et ensuite qu’il prenne sa route vers la prochaine destination. Cela nous amène à modéliser les pauses déjeuners ainsi :\n",
    "\n",
    "Nous modélisons les pauses midi de chaque employé comme une «pseudo-tâche» d’une durée d’une heure, qui s’ouvre à 12h et qui ferme à 14h, que l’employé doit obligatoirement effectuer. Comme l’employé effectue cette tâche sur place (donc pas de temps de trajet entre la dernière tâche du matin et la pause déjeuner), la pause déjeuner a une distance de 0 vers les autres nœuds. Un employé effectue la dernière tâche du matin, se rend sur cette « pseudo-tâche », et ensuite retourne vers le nœud de la tâche du matin, comme illustre l’image suivante :\n",
    "\n",
    "\n",
    "<img src=\"./images/lunch_illustration.jpeg\" alt=\"lunch-illustration\" width=500>"
   ]
  },
  {
   "cell_type": "markdown",
   "id": "e2ddd5c9",
   "metadata": {
    "pycharm": {
     "name": "#%% md\n"
    }
   },
   "source": [
    "### Constantes : \n",
    "\n",
    "- $ opening_i, i \\in tasks \\cup unavails $ : l’ouverture de la tâche i / début de l’indisponibilité i\n",
    "- $ closing_i, i \\in tasks \\cup unavails $ : la fermeture de la tâche i / fin de l’indisponibilité i\n",
    "- $ start_k, k \\in employees $ : le début de la journée de l’employé k\n",
    "- $ end_k, k \\in employees $ la fin de la journée de d’employé k\n",
    "- $ duration_i $ : la durée de la tâche/indisponibilité/ i\n",
    "- $ distance_{i, j} $ : la distance entre le nœud i et le nœud j\n",
    "- $ speed $ : la vitesse de déplacement des techniciens\n",
    "\n",
    "### Variables de décisions\n",
    "- $ (x_{i, j})_{i , j \\in nodes \\times nodes, i \\neq j} $, $ x_{i, j} = 1 $ ssi. (i, j) est un arc de i vers j\n",
    "- $ (y_{k, i})_{k \\in employees, i \\in tasks} $, $ y_{k, i} = 1 $ ssi. le technicien k se rend au nœud i (Pour les indices i correspondant aux lieux de résidence/ pauses déjeuners /indisponibilités des employés, la notation est la même, sauf que les valeurs sont fixes car on connaît la relation entre ces nœuds et leurs employés correspondants)\n",
    "- $ (b_i)_i $, $b_i$ est le début de chaque tâche en minute (b pour beginning)"
   ]
  },
  {
   "cell_type": "markdown",
   "id": "af55642c",
   "metadata": {
    "pycharm": {
     "name": "#%% md\n"
    }
   },
   "source": [
    "### Contraintes :"
   ]
  },
  {
   "cell_type": "markdown",
   "id": "4610f7ef",
   "metadata": {
    "pycharm": {
     "name": "#%% md\n"
    }
   },
   "source": [
    "- (C1) Chaque nœud doit avoir autant d’entrée que de sorties\n",
    "$$ \\forall i \\in nodes, \\sum_{j = 0}^{V - 1} x_{i, j} = \\sum_{j = 0}^{V - 1} x_{j, i} $$\n",
    "\n",
    "En effet, les employés doivent former des cycles en partant de son lieu de résidence, et en terminant son parcours à son lieu de résidence. Cette condition est une condition nécessaire pour avoir que les parcours soient cycliques."
   ]
  },
  {
   "cell_type": "markdown",
   "id": "fc7a0eb1",
   "metadata": {
    "pycharm": {
     "name": "#%% md\n"
    }
   },
   "source": [
    "- (C2) Une tâche est effectuée par au plus un employé\n",
    "$$ \\forall i \\in tasks, \\sum_{j \\in tasks \\cup homes \\cup unavails} x_{i, j} \\le 1$$\n",
    "\n",
    "Pour les tâches, une tâche est effectuée par un plus un employé, donc il a zéro arc entrant/sortant s’il n’est pas effectuée, et une entrée/sortie s’il est effectué. Comme chaque nœud a autant d’arcs entrant que d’arcs sortant, nous ne comptons ici seulement les arcs sortants.\n",
    "\n",
    "Notons que nous ne comptabilisons pas les arcs sortants vers les «pseudo-nœuds» pauses midis, car ces arcs ne correspondent pas à de vrais trajets."
   ]
  },
  {
   "cell_type": "markdown",
   "id": "daa8610c",
   "metadata": {
    "pycharm": {
     "name": "#%% md\n"
    }
   },
   "source": [
    "- (C3.a) Les indisponibilités, les pauses déjeuners et les lieux de résidences sont visités exactement une fois : \n",
    "$$ \\forall i \\in unavails \\cup lunches \\cup homes, \\sum_{j \\in nodes} x_{i, j} = 1 $$"
   ]
  },
  {
   "cell_type": "markdown",
   "id": "8df82b09",
   "metadata": {
    "pycharm": {
     "name": "#%% md\n"
    }
   },
   "source": [
    "- (C3.b) Ces visites doivent être effectués par les employés correspondants à ces nœuds.\n",
    "$$ \\forall k \\in employees, \\forall i \\in \\{home(k), lunche(k)\\} \\cup unavails(k), y_{k,i} = 1 $$\n",
    "- Remarque : Même lorsque l’employé reste inactif, sa pause déjeuner fait que sa maison a une paire d’arc entrant/sortant."
   ]
  },
  {
   "cell_type": "markdown",
   "id": "1aff5882",
   "metadata": {
    "pycharm": {
     "name": "#%% md\n"
    }
   },
   "source": [
    "- (C4) Deux nœuds qui se suivent doivent être attribué à la même personne\n",
    "$$ \\forall i, j \\in nodes \\times nodes, x_{i, j} \\implies \\forall k \\in employees, y_{k, i} = y_{k, j} $$"
   ]
  },
  {
   "cell_type": "markdown",
   "id": "7345d0eb",
   "metadata": {
    "pycharm": {
     "name": "#%% md\n"
    }
   },
   "source": [
    "- (C5) Lorsqu’un travail est effectué sur une tâche, le site de la tâche doit être ouverte.\n",
    "$$ \\forall i \\in tasks \\cup lunches, (b_i \\ge opening_i) \\land (b_i + duration_i \\le closing_i) $$\n",
    "Pour les déjeuners, le opening time et closing time sont 12h et 14h."
   ]
  },
  {
   "cell_type": "markdown",
   "id": "6c5d9d99",
   "metadata": {
    "pycharm": {
     "name": "#%% md\n"
    }
   },
   "source": [
    "- (C6) Les débuts et fins des indisponibilités doivent être respectés :\n",
    "$$ \\forall i \\in unavails, b_i = opening_i $$\n",
    "\n",
    "remarque : la fin est automatiquement respecté, puisque dans notre implémentation (cf. section suivante), la durée de l’indisponibilité est exactement la différence entre le début et la fin de l’indisponibilité."
   ]
  },
  {
   "cell_type": "markdown",
   "id": "12bba297",
   "metadata": {
    "pycharm": {
     "name": "#%% md\n"
    }
   },
   "source": [
    "- (C7) Lorsqu’un travail est effectué sur une tâche, la tâche doit être disponible.\n",
    "$$ \\forall i \\in tasks, \\forall (start_{un}, end_{un}) \\in closedIntervals(i): $$\n",
    "$$ b_i \\ge end_{un} \\lor b_i + duration_i \\le start_{un} $$"
   ]
  },
  {
   "cell_type": "markdown",
   "id": "1379e327",
   "metadata": {
    "pycharm": {
     "name": "#%% md\n"
    }
   },
   "source": [
    "\n",
    "- (C8) Un technicien doit avoir suffisamment de temps pour arriver au premier nœuds (après avoir quitté son lieu de résidence)\n",
    "$$ \\forall k \\in employees, \\forall i \\in nodes, X_{home(k), i} \\implies start_k + \\frac{distance(home(k), i)}{speed} \\le b_i$$"
   ]
  },
  {
   "cell_type": "markdown",
   "id": "c9dce46e",
   "metadata": {
    "pycharm": {
     "name": "#%% md\n"
    }
   },
   "source": [
    "- (C9) Après avoir visité tous les nœuds qui lui sont attribué, un employé doit avoir suffisamment de temps pour rentrer chez lui :\n",
    "$$ \\forall k \\in employees, \\forall i \\in nodes, x_{i, home(k)} \\implies b_i + duration_i + \\frac{distance_{home(k), i}}{speed} \\le end_k $$"
   ]
  },
  {
   "cell_type": "markdown",
   "id": "3f1350ef",
   "metadata": {
    "pycharm": {
     "name": "#%% md\n"
    }
   },
   "source": [
    "- (C10) Après la pause déjeuner, l’employé doit se trouver là où il se trouvait au début de la pause déjeuner. (L’arc sortant et l’arc entrant au déjeuner doit connecter le déjeuner au même site)\n",
    "$$ \\forall i \\in lunches, \\forall j \\in nodes, x_{i,j} = x_{j,i}$$"
   ]
  },
  {
   "cell_type": "markdown",
   "id": "ba578b52",
   "metadata": {
    "pycharm": {
     "name": "#%% md\n"
    }
   },
   "source": [
    "- (C11) Une noeud est visité par exactement un seul employé\n",
    "$$ \\forall i \\in nodes, \\sum_{k=0}^{T-1} y_{k, i} = 1 $$"
   ]
  },
  {
   "cell_type": "markdown",
   "id": "058ae843",
   "metadata": {
    "pycharm": {
     "name": "#%% md\n"
    }
   },
   "source": [
    "- (C12) Le temps de trajet entre deux nœuds (dont aucun est un lieu de résidence) doit être suffisant :\n",
    "$$ \\forall i, j \\in (unavails \\cup tasks \\cup lunches)^2, x_{i, j} \\implies b_i + duration_i + \\frac{distance_{i, j}}{speed} \\le b_j $$\n",
    "\n",
    "Notez que cette condition n’est pas gênante lorsque i est la dernière tâche effectuée par un employé avant sa pause du midi / déjeuner, même s'il y a deux arcs sortant de cette tâche : l’arc vers le déjeuner et l’arc vers la prochaine tâche. En effet, cette condition entre le déjeuner et la tâche suivante est plus forte que cette condition entre la dernière tâche avant le déjeuner et la tâche après le déjeuner."
   ]
  },
  {
   "cell_type": "markdown",
   "id": "a7acdfc8",
   "metadata": {
    "pycharm": {
     "name": "#%% md\n"
    }
   },
   "source": [
    "- (C13) Un technicien n’effectue que des tâches qu’il est capable d’effectuer\n",
    "$$ \\forall k \\in \\{0,\\dots, T-1\\}, \\forall i \\in \\{1,\\dots, V-1\\}, levelTech_k \\ge levelTask_i - M \\cdot (1 - y_{k, i}) $$"
   ]
  },
  {
   "cell_type": "markdown",
   "id": "7a617549",
   "metadata": {
    "pycharm": {
     "name": "#%% md\n"
    }
   },
   "source": [
    "## Implémentation d'employé et tâche\n",
    "L’implémentation de la classe employé est similaire à l’implémentation dans la phase 1. Les employés sont stockés dans un attribut statique (commun à toute la classe) « list » de la classe ; les informations concernant l’employés sont lus à partir du tableau excel et stocké en attribut dans l’intance correspondant à l’employé ; la fonction « \\_\\_repr\\_\\_ » est implémenté de la même façon que dans la phase précédente pour afficher les informations des employés pour le débuggage.\n",
    "\n",
    "La fonction statique find_by_name qui retournent l’instance d’un employé à partir de son nom."
   ]
  },
  {
   "cell_type": "code",
   "execution_count": 2,
   "id": "88651692",
   "metadata": {
    "pycharm": {
     "name": "#%%\n"
    }
   },
   "outputs": [],
   "source": [
    "class Employee:\n",
    "    list = []  # list of all employee instances\n",
    "    count = 0 # employee count, i.e. the length of Employee.list\n",
    "    speed = 50 * 1000 / 60  # unit: meter/minute\n",
    "    __name_employee_correspondance = {} # stores the correspondance between names and instances\n",
    "\n",
    "    def __init__(self, name: str, latitude: float, longitude: float, skill: str, level: int, start_time, end_time):\n",
    "        \"\"\"\n",
    "        Initialize an employee instance and store it to the list of employees\n",
    "        :param name: name of the employee\n",
    "        :param latitude: latitude of the employee's home\n",
    "        :param longitude: longitude of the employee's home\n",
    "        :param skill: the skill of the employee\n",
    "        :param level: the level of the employee's skill\n",
    "        :param start_time: the time at which the employee starts working\n",
    "        :param end_time: the time at which the employee stops working\n",
    "        \"\"\"\n",
    "        self.name = name\n",
    "        self.latitude = latitude\n",
    "        self.longitude = longitude\n",
    "        self.skill = skill\n",
    "        self.level = level\n",
    "        self.start_time_str = parse_time(start_time)  # parse time into datetime object for printing\n",
    "        self.end_time_str = parse_time(end_time)\n",
    "        self.start_time = parse_time_minute(start_time)  # parse time into minutes\n",
    "        self.end_time = parse_time_minute(end_time)\n",
    "        self.unavails = [] # employee unavailabilities\n",
    "        Employee.count += 1\n",
    "        Employee.list.append(self)\n",
    "\n",
    "    @classmethod\n",
    "    def find_by_name(cls, name: str):\n",
    "        \"\"\"\n",
    "        Find the instance of the employee from its name.\n",
    "        :param name: name of the employee\n",
    "        :return: the corresponding employee instance\n",
    "        \"\"\"\n",
    "        for employee in cls.list:\n",
    "            if employee.name == name:\n",
    "                return employee\n",
    "\n",
    "    @classmethod\n",
    "    def load_excel(cls, path) -> None:\n",
    "        \"\"\"\n",
    "        Load all employee data.\n",
    "        :param path: path of the Excel file storing data about the city instance\n",
    "        \"\"\"\n",
    "\n",
    "        # clear previously loaded data if any\n",
    "        if cls.count:\n",
    "            cls.count = 0\n",
    "            cls.list = []\n",
    "\n",
    "        # loading data into pandas dataframes\n",
    "        df_employees = pd.read_excel(path, sheet_name=\"Employees\")\n",
    "        df_employees.set_index(\"EmployeeName\")\n",
    "\n",
    "        # instantiation of employee instances\n",
    "        for index, row in df_employees.iterrows():\n",
    "            Employee(row[\"EmployeeName\"],\n",
    "                     row[\"Latitude\"],\n",
    "                     row[\"Longitude\"],\n",
    "                     row[\"Skill\"],\n",
    "                     row[\"Level\"],\n",
    "                     row[\"WorkingStartTime\"],\n",
    "                     row[\"WorkingEndTime\"])\n",
    "\n",
    "    def __hash__(self):\n",
    "        return hash(self.name) # an employee is uniquely identified by its name\n",
    "\n",
    "    def __eq__(self, other):\n",
    "        return self.name == other.name\n",
    "\n",
    "    def __str__(self):\n",
    "        return self.name\n",
    "\n",
    "    def __repr__(self):\n",
    "        \"\"\"\n",
    "        Return a string representation of the employee for debugging and displaying purposes\n",
    "        :return:\n",
    "        \"\"\"\n",
    "        return f\"Employee(name={self.name}, \" \\\n",
    "               f\"position=[{self.longitude}, {self.latitude}], \" \\\n",
    "               f\"skill_requirement=level {self.level} {self.skill},\" \\\n",
    "               f\"available=[{self.start_time_str.strftime('%I:%M%p')}, {self.end_time_str.strftime('%I:%M%p')}] )\""
   ]
  },
  {
   "cell_type": "markdown",
   "id": "955c2d7c",
   "metadata": {
    "pycharm": {
     "name": "#%% md\n"
    }
   },
   "source": [
    "Tout comme pour les employés, les nœuds sont également implémentés en orienté-objet. La différence entre l’implémentation des nœuds de la phase 2 et celle des tâches (qui est l’unique type de nœuds implémenté dans la phase précédente) de la phase 1 est que, dans la phase 2, puisque’on distingue quatre types de nœuds, pour respecter certains principes du génie-logiciel en orienté-objet (séparation de responsabilité, typage des attributs, non-implémentation d’attributs non utilisés etc), nous avons implémenté une classe mère « Node » et quatre sous-classes « Home » « Task » « Lunch » et « Unavail »\n",
    "\n",
    "La méthode statique « calculate_distance » renvoie la distance entre deux nœuds en mètre."
   ]
  },
  {
   "cell_type": "code",
   "execution_count": 3,
   "id": "e9e22742",
   "metadata": {
    "pycharm": {
     "name": "#%%\n"
    }
   },
   "outputs": [],
   "source": [
    "class Node:\n",
    "    list = []\n",
    "    count = 0\n",
    "    distance: np.array = None\n",
    "    __is_initialized = False # whether the distance matrix is initialized\n",
    "\n",
    "    def __init__(self):\n",
    "        if Node.__is_initialized:\n",
    "            raise Exception(\"Cannot instantiate new task after initializing the distance matrix\")\n",
    "        Node.count += 1\n",
    "        Node.list.append(self)\n",
    "\n",
    "    @classmethod\n",
    "    def clear_previous_data(cls):\n",
    "        \"\"\"When loading a instance, we need to clear the data of the old instance\"\"\"\n",
    "        cls.list = []\n",
    "        cls.count = 0\n",
    "        cls.__is_initialized = False\n",
    "\n",
    "    @staticmethod\n",
    "    def calculate_distance(node1, node2):\n",
    "        \"\"\"\n",
    "        :param node1:\n",
    "        :param node2:\n",
    "        :return: the distance, in meter, between node1 and node2\n",
    "        \"\"\"\n",
    "\n",
    "        # the distance of a node to itself is zero\n",
    "        if node1 is node2:\n",
    "            return 0\n",
    "\n",
    "        # a lunch has a distance of 0 to any other node\n",
    "        if node1.node_type == \"lunch\" or node2.node_type == \"lunch\":\n",
    "            return 0\n",
    "\n",
    "        lon1, lat1 = radians(node1.longitude), radians(node1.latitude)\n",
    "        lon2, lat2 = radians(node2.longitude), radians(node2.latitude)\n",
    "\n",
    "        # Haversine formula\n",
    "        dlon = lon2 - lon1\n",
    "        dlat = lat2 - lat1\n",
    "        a = sin(dlat / 2) ** 2 + cos(lat1) * cos(lat2) * sin(dlon / 2) ** 2\n",
    "        c = 2 * asin(sqrt(a))\n",
    "        r = 6371 * 1000  # radius of earth in meter\n",
    "        return c * r\n",
    "\n",
    "    @classmethod\n",
    "    def initialize_distance(cls):\n",
    "        if cls.__is_initialized:\n",
    "            print(\"Warning: trying to reinitialize an initialized task list, recalculating the distance matrix\")\n",
    "        cls.__is_initialized = True\n",
    "        cls.distance = np.zeros((cls.count, cls.count), dtype=np.float64)\n",
    "\n",
    "        for i in range(cls.count):\n",
    "            for j in range(i):\n",
    "                node_i, node_j = cls.list[i], cls.list[j]\n",
    "                cls.distance[i, j] = cls.distance[j, i] = cls.calculate_distance(node_i, node_j)\n",
    "\n",
    "    @classmethod\n",
    "    def load_excel(cls, path):\n",
    "        pass"
   ]
  },
  {
   "cell_type": "markdown",
   "id": "0a56e521",
   "metadata": {
    "pycharm": {
     "name": "#%% md\n"
    }
   },
   "source": [
    "Dans chacune des sous-classes de Task, nous avons implémenté la fonction qui lit les données."
   ]
  },
  {
   "cell_type": "code",
"execution_count": 4,
   "id": "eb494d79",
   "metadata": {
    "pycharm": {
     "name": "#%%\n"
    }
   },
   "outputs": [],
   "source": [
    "class Task(Node):\n",
    "    list = [] # list of all tasks\n",
    "    count = 0 # task count\n",
    "    node_type = \"task\"\n",
    "\n",
    "    def __init__(self, task_id, latitude, longitude, duration, skill, level, opening_time, closing_time):\n",
    "        super().__init__()\n",
    "        self.id = task_id\n",
    "        self.latitude = latitude\n",
    "        self.longitude = longitude\n",
    "        self.duration = duration\n",
    "        self.skill = skill\n",
    "        self.level = level\n",
    "        self.opening_time_str = parse_time(opening_time) # for displaying time in __repr__\n",
    "        self.closing_time_str = parse_time(closing_time) # for displaying time in __repr__\n",
    "        self.opening_time = parse_time_minute(opening_time)\n",
    "        self.closing_time = parse_time_minute(closing_time)\n",
    "        self.closed_intervals = [] # intervals during which tasks are unavailable\n",
    "\n",
    "        Task.count += 1\n",
    "        Task.list.append(self)\n",
    "\n",
    "    @classmethod\n",
    "    def find_by_id(cls, task_id):\n",
    "        for task in Task.list:\n",
    "            if task.id == task_id:\n",
    "                return task\n",
    "        return None\n",
    "\n",
    "    @classmethod\n",
    "    def load_excel(cls, path:str):\n",
    "        # clear previous data if any\n",
    "        if cls.count:\n",
    "            cls.list = []\n",
    "            cls.count = 0\n",
    "\n",
    "        # load tasks\n",
    "        df = pd.read_excel(path, sheet_name=\"Tasks\")\n",
    "        df.set_index(\"TaskId\")\n",
    "        for index, row in df.iterrows():\n",
    "            # parse the start time and end time into datetime object\n",
    "            opening_time = datetime.strptime(row[\"OpeningTime\"], '%I:%M%p')\n",
    "            closing_time = datetime.strptime(row[\"ClosingTime\"], '%I:%M%p')\n",
    "            cls(row[\"TaskId\"],\n",
    "                 row[\"Latitude\"],\n",
    "                 row[\"Longitude\"],\n",
    "                 row[\"TaskDuration\"],\n",
    "                 row[\"Skill\"],\n",
    "                 row[\"Level\"],\n",
    "                 opening_time,\n",
    "                 closing_time)\n",
    "\n",
    "        # load task unavailabilities\n",
    "        df_unavail = pd.read_excel(path, sheet_name=\"Tasks Unavailabilities\")\n",
    "        df_unavail.set_index(\"TaskId\")\n",
    "        for _, row in df_unavail.iterrows():\n",
    "            task = cls.find_by_id(row[\"TaskId\"])\n",
    "            start_closed_interval = row[\"Start\"]\n",
    "            end_closed_interval = row[\"End\"]\n",
    "            task.closed_intervals.append((parse_time_minute(start_closed_interval),\n",
    "                                          parse_time_minute(end_closed_interval)))\n",
    "\n",
    "\n",
    "    def __repr__(self):\n",
    "        \"\"\"Return string representation of task for debugging and displaying purposes\"\"\"\n",
    "        if self.node_type == \"task\":\n",
    "            return f\"Task(id={self.id}, \" \\\n",
    "                   f\"position=[{self.longitude}, {self.latitude}], \" \\\n",
    "                   f\"duration={self.duration}, \" \\\n",
    "                   f\"skill_requirement=level {self.level} {self.skill},\" \\\n",
    "                   f\"opening_time=[{self.opening_time_str.strftime('%I:%M%p')}\" \\\n",
    "                   f\"to {self.closing_time_str.strftime('%I:%M%p')}] \""
   ]
  },
  {
   "cell_type": "code",
   "execution_count": 5,
   "id": "f4871ca7",
   "metadata": {
    "pycharm": {
     "name": "#%%\n"
    }
   },
   "outputs": [],
   "source": [
    "class Home(Node):\n",
    "    list = []\n",
    "    count = 0\n",
    "    node_type = \"home\"\n",
    "\n",
    "    def __init__(self, employee: str, latitude, longitude):\n",
    "        super().__init__()\n",
    "        self.employee = Employee.find_by_name(employee)\n",
    "        self.latitude = latitude\n",
    "        self.longitude = longitude\n",
    "        Home.list.append(self)\n",
    "        Home.count += 1\n",
    "\n",
    "    @classmethod\n",
    "    def load_excel(cls, path:str):\n",
    "        # clear previous data if any\n",
    "        if cls.count:\n",
    "            cls.list = []\n",
    "            cls.count = 0\n",
    "        df_employees = pd.read_excel(path, sheet_name=\"Employees\")\n",
    "        df_employees.set_index(\"EmployeeName\")\n",
    "        for _, row in df_employees.iterrows():\n",
    "            cls(row[\"EmployeeName\"], row[\"Latitude\"], row[\"Longitude\"])\n",
    "\n",
    "    def __repr__(self):\n",
    "        return f\"Home({self.employee})\""
   ]
  },
  {
   "cell_type": "code",
   "execution_count": 6,
   "id": "0c997417",
   "metadata": {
    "pycharm": {
     "name": "#%%\n"
    }
   },
   "outputs": [],
   "source": [
    "class Lunch(Node):\n",
    "    list = []\n",
    "    count = 0\n",
    "    duration = 60 # a lunch break is 1 hour = 60 minutes\n",
    "    opening_time = parse_time_minute(\"12:00am\") # a lunch break must start after 12am\n",
    "    closing_time = parse_time_minute(\"2:00pm\") # a lunch break finishes before 2pm\n",
    "    node_type = \"lunch\"\n",
    "\n",
    "    def __init__(self, employee: str):\n",
    "        super().__init__()\n",
    "        self.employee = Employee.find_by_name(employee)\n",
    "        Lunch.list.append(self)\n",
    "        Lunch.count += 1\n",
    "\n",
    "    @classmethod\n",
    "    def load_excel(cls, path: str):\n",
    "        if cls.count:\n",
    "            cls.list = []\n",
    "            cls.count = 0\n",
    "        # load dummy node for lunch\n",
    "        df_employees = pd.read_excel(path, sheet_name=\"Employees\")\n",
    "        df_employees.set_index(\"EmployeeName\")\n",
    "        for _, row in df_employees.iterrows():\n",
    "            cls(row[\"EmployeeName\"])\n",
    "\n",
    "    def __repr__(self):\n",
    "        if self.node_type == \"lunch\":\n",
    "            return f\"Lunch({self.employee})\""
   ]
  },
  {
   "cell_type": "code",
   "execution_count": 7,
   "id": "bc960297",
   "metadata": {
    "pycharm": {
     "name": "#%%\n"
    }
   },
   "outputs": [],
   "source": [
    "class Unavail(Node):\n",
    "    list = []\n",
    "    count = 0\n",
    "    node_type = \"unavail\"\n",
    "\n",
    "    def __init__(self, employee, latitude, longitude, opening_time, closing_time):\n",
    "        super().__init__()\n",
    "        self.employee = Employee.find_by_name(employee) # only for task\n",
    "        self.employee.unavails.append(self) # add new unavailability of the employee instance's unavails list\n",
    "        self.latitude = latitude\n",
    "        self.longitude = longitude\n",
    "        self.opening_time_str = parse_time(opening_time)\n",
    "        self.closing_time_str = parse_time(closing_time)\n",
    "\n",
    "        opening_time = parse_time_minute(opening_time)\n",
    "        closing_time = parse_time_minute(closing_time)\n",
    "        self.opening_time = opening_time\n",
    "        self.closing_time = closing_time\n",
    "        self.duration = closing_time - opening_time\n",
    "        Unavail.count += 1\n",
    "        Unavail.list.append(self)\n",
    "\n",
    "    @classmethod\n",
    "    def load_excel(cls, path, initialize_distance=False):\n",
    "        # clear previous data\n",
    "        if cls.count:\n",
    "            cls.list = []\n",
    "            cls.count = 0\n",
    "        # create a task for each unavailability at the bottom of the list\n",
    "        df_employees_unavailabilities = pd.read_excel(path, sheet_name=\"Employees Unavailabilities\")\n",
    "        df_employees_unavailabilities.set_index(\"EmployeeName\")\n",
    "\n",
    "        for _, row in df_employees_unavailabilities.iterrows():\n",
    "            open_time = row[\"Start\"]\n",
    "            close_time = row[\"End\"]\n",
    "            cls(row[\"EmployeeName\"], row[\"Latitude\"], row[\"Longitude\"], open_time, close_time)\n",
    "\n",
    "    def __repr__(self):\n",
    "        return f\"Unavailability({self.employee}, start={self.opening_time_str.strftime('%I:%M%p')}, end={self.closing_time_str.strftime('%I:%M%p')})\""
   ]
  },
  {
   "cell_type": "markdown",
   "id": "b7a40fcf",
   "metadata": {},
   "source": [
    "## Quelques démos et tests de notre implémentation\n",
    "\n",
    "### Liste des répertoires"
   ]
  },
  {
   "cell_type": "code",
   "execution_count": 8,
   "id": "3bb36fba",
   "metadata": {
    "pycharm": {
     "name": "#%%\n"
    }
   },
   "outputs": [],
   "source": [
    "path_australia = \"./data/InstancesV2/InstanceAustraliaV2.xlsx\"\n",
    "path_austria = \"./data/InstancesV2/InstanceAustriaV2.xlsx\"\n",
    "path_bordeaux = \"./data/InstancesV2/InstanceBordeauxV2.xlsx\"\n",
    "path_poland = \"./data/InstancesV2/InstancePolandV2.xlsx\"\n",
    "path_spain = \"./data/InstancesV2/InstanceSpainV2.xlsx\""
   ]
  },
  {
   "cell_type": "code",
   "execution_count": 9,
   "id": "c7195494",
   "metadata": {
    "pycharm": {
     "name": "#%%\n"
    }
   },
   "outputs": [],
   "source": [
    "path_to_test = path_bordeaux"
   ]
  },
  {
   "cell_type": "markdown",
   "id": "fffe6260",
   "metadata": {
    "pycharm": {
     "name": "#%% md\n"
    }
   },
   "source": [
    "### Test\n",
    "#### Chargement des données"
   ]
  },
  {
   "cell_type": "code",
   "execution_count": 10,
   "id": "3a20d847",
   "metadata": {
    "pycharm": {
     "name": "#%%\n"
    }
   },
   "outputs": [],
   "source": [
    "def load_data_from_path(path_to_instance: str):\n",
    "    # load employee data\n",
    "    Employee.load_excel(path_to_instance)\n",
    "\n",
    "    # load node data\n",
    "    Node.clear_previous_data()\n",
    "    for cls in [Home, Lunch, Task, Unavail]:\n",
    "        cls.load_excel(path_to_instance)\n",
    "    Node.initialize_distance() # distance matrix calculation"
   ]
  },
  {
   "cell_type": "code",
   "execution_count": 11,
   "id": "62dcbf66",
   "metadata": {
    "pycharm": {
     "name": "#%%\n"
    }
   },
   "outputs": [],
   "source": [
    "load_data_from_path(path_to_test)"
   ]
  },
  {
   "cell_type": "markdown",
   "id": "7d8ca211",
   "metadata": {
    "pycharm": {
     "name": "#%% md\n"
    }
   },
   "source": [
    "#### Vérifications des cardinaux des nœuds et des employés"
   ]
  },
  {
   "cell_type": "code",
   "execution_count": 12,
   "id": "46cd5349",
   "metadata": {
    "pycharm": {
     "name": "#%%\n"
    }
   },
   "outputs": [],
   "source": [
    "assert Home.count == Lunch.count == Employee.count # each employee should have exactly one home and one lunch\n",
    "assert Node.count == (Home.count + Lunch.count + Task.count + Unavail.count)"
   ]
  },
  {
   "cell_type": "markdown",
   "id": "acfaff64",
   "metadata": {
    "pycharm": {
     "name": "#%% md\n"
    }
   },
   "source": [
    "#### Les cardinaux des classes et les indices des nœuds et des employés"
   ]
  },
  {
   "cell_type": "code",
   "execution_count": 13,
   "id": "f43867d7",
   "metadata": {
    "pycharm": {
     "name": "#%%\n"
    }
   },
   "outputs": [],
   "source": [
    "# constants\n",
    "W = Task.count\n",
    "U = Unavail.count\n",
    "T = Employee.count\n",
    "V = Node.count\n",
    "\n",
    "# indices of employees, homes, lunches, tasks, unavailabilities\n",
    "employees = list(range(T))\n",
    "homes = list(range(T))\n",
    "lunches = list(range(T, 2 * T))\n",
    "tasks = list(range(2 * T, 2 * T + W))\n",
    "unavails = list((range(2 * T + W, V)))"
   ]
  },
  {
   "cell_type": "markdown",
   "id": "921ee4ff",
   "metadata": {
    "pycharm": {
     "name": "#%% md\n"
    }
   },
   "source": [
    "### Test de l’implémentation de la fonction de représentation \\_\\_repr\\_\\_"
   ]
  },
  {
   "cell_type": "code",
   "execution_count": 14,
   "id": "d55cc0c4",
   "metadata": {
    "pycharm": {
     "name": "#%%\n"
    }
   },
   "outputs": [
    {
     "name": "stdout",
     "output_type": "stream",
     "text": [
      "Closed intervals of task T4 in minutes:\n"
     ]
    },
    {
     "data": {
      "text/plain": [
       "[]"
      ]
     },
     "execution_count": 14,
     "metadata": {},
     "output_type": "execute_result"
    }
   ],
   "source": [
    "print(\"Closed intervals of task T4 in minutes:\")\n",
    "Task.list[3].closed_intervals"
   ]
  },
  {
   "cell_type": "code",
   "execution_count": 15,
   "id": "64423682",
   "metadata": {
    "pycharm": {
     "name": "#%%\n"
    }
   },
   "outputs": [
    {
     "name": "stdout",
     "output_type": "stream",
     "text": [
      "Unavailabilities of employee at index 1:\n"
     ]
    },
    {
     "data": {
      "text/plain": [
       "[]"
      ]
     },
     "execution_count": 15,
     "metadata": {},
     "output_type": "execute_result"
    }
   ],
   "source": [
    "print(\"Unavailabilities of employee at index 1:\")\n",
    "Employee.list[1].unavails"
   ]
  },
  {
   "cell_type": "code",
   "execution_count": 16,
   "id": "7968f8b9",
   "metadata": {
    "pycharm": {
     "name": "#%%\n"
    }
   },
   "outputs": [
    {
     "name": "stdout",
     "output_type": "stream",
     "text": [
      "First two employees:\n",
      "Valentin\n",
      "Ambre\n",
      "\n",
      "First two homes:\n",
      "Home(Valentin)\n",
      "Home(Ambre)\n",
      "\n",
      "First two lunches:\n",
      "Lunch(Valentin)\n",
      "Lunch(Ambre)\n",
      "\n",
      "First two tasks:\n",
      "Task(id=T1, position=[-0.3193922422375719, 44.55654938342008], duration=60, skill_requirement=level 1 Oenology,opening_time=[08:00AMto 06:00PM] \n",
      "Task(id=T2, position=[-0.6086852638150881, 44.96750095217799], duration=60, skill_requirement=level 1 Oenology,opening_time=[08:00AMto 06:00PM] \n",
      "\n",
      "First two unavailabilities:\n",
      "Unavailability(Valentin, start=03:00PM, end=06:00PM)\n"
     ]
    }
   ],
   "source": [
    "print(\"First two employees:\")\n",
    "for index in employees[:2]:\n",
    "    print(Employee.list[index])\n",
    "\n",
    "print(\"\\nFirst two homes:\")\n",
    "for index in homes[:2]:\n",
    "    print(Node.list[index])\n",
    "\n",
    "print(\"\\nFirst two lunches:\")\n",
    "for index in lunches[:2]:\n",
    "    print(Node.list[index])\n",
    "\n",
    "print(\"\\nFirst two tasks:\")\n",
    "for index in tasks[:2]:\n",
    "    print(Node.list[index])\n",
    "\n",
    "print(\"\\nFirst two unavailabilities:\")\n",
    "for index in unavails[:2]:\n",
    "    print(Node.list[index])"
   ]
  },
  {
   "cell_type": "markdown",
   "id": "a05f2fc4",
   "metadata": {
    "pycharm": {
     "name": "#%% md\n"
    }
   },
   "source": [
    "#### La matrice des distances des cinq premiers nœuds de l’instance que nous testons"
   ]
  },
  {
   "cell_type": "code",
   "execution_count": 17,
   "id": "227944bc",
   "metadata": {
    "pycharm": {
     "name": "#%%\n"
    }
   },
   "outputs": [
    {
     "data": {
      "text/plain": [
       "array([[    0.        , 23906.83058516,     0.        ,     0.        ,\n",
       "        77088.14164263],\n",
       "       [23906.83058516,     0.        ,     0.        ,     0.        ,\n",
       "        58439.72228403],\n",
       "       [    0.        ,     0.        ,     0.        ,     0.        ,\n",
       "            0.        ],\n",
       "       [    0.        ,     0.        ,     0.        ,     0.        ,\n",
       "            0.        ],\n",
       "       [77088.14164263, 58439.72228403,     0.        ,     0.        ,\n",
       "            0.        ]])"
      ]
     },
     "execution_count": 17,
     "metadata": {},
     "output_type": "execute_result"
    }
   ],
   "source": [
    "# the distance between a node to itself should be 0\n",
    "assert Node.distance[0,0] == Node.distance[1,1] == Node.distance[2,2] == 0\n",
    "\n",
    "# the distance matrix should be symmetrical\n",
    "assert Node.distance[2,3] == Node.distance[3,2]\n",
    "assert Node.distance[5, 1] == Node.distance[1, 5]\n",
    "\n",
    "# print the sub-matrix of the 5 first elements of the distance matrix\n",
    "Node.distance[:5, :5]"
   ]
  },
  {
   "cell_type": "code",
   "execution_count": 18,
   "id": "9c86dade",
   "metadata": {},
   "outputs": [],
   "source": [
    "def open_intervals(i):\n",
    "    d, f = Node.list[i].opening_time, Node.list[i].closing_time\n",
    "    l = [d]\n",
    "    for s, e in Node.list[i].closed_intervals:\n",
    "        l.append(s)\n",
    "        l.append(e)\n",
    "    l.append(f)\n",
    "    return [(l[i],l[i+1]) for i in range(0,len(l),2)]"
   ]
  },
  {
   "cell_type": "code",
   "execution_count": 19,
   "id": "7870766a",
   "metadata": {},
   "outputs": [
    {
     "data": {
      "text/plain": [
       "[(480, 1080)]"
      ]
     },
     "execution_count": 19,
     "metadata": {},
     "output_type": "execute_result"
    }
   ],
   "source": [
    "open_intervals(tasks[2])"
   ]
  },
  {
   "cell_type": "markdown",
   "id": "5da5bd99",
   "metadata": {
    "pycharm": {
     "name": "#%% md\n"
    }
   },
   "source": [
    "## Implémentation"
   ]
  },
  {
   "cell_type": "code",
   "execution_count": 20,
   "id": "8cd5c6c9",
   "metadata": {
    "pycharm": {
     "name": "#%%\n"
    }
   },
   "outputs": [
    {
     "name": "stdout",
     "output_type": "stream",
     "text": [
      "Set parameter Username\n",
      "Academic license - for non-commercial use only - expires 2023-01-26\n"
     ]
    }
   ],
   "source": [
    "m = Model(\"DB\")\n",
    "M = 1000000\n",
    "\n",
    "# Decision variables\n",
    "\n",
    "X = {(i, j) : m.addVar(vtype = GRB.BINARY, name = f'x{i}_{j}') for i in range(V) for j in range(V) if i != j}\n",
    "Y = {(k, i) : m.addVar(vtype = GRB.BINARY, name = f'y{k}_{i}') for k in employees for i in range(V)}\n",
    "B = {i : m.addVar(vtype = GRB.INTEGER, name = f'b{i}', lb = 0) for i in lunches + tasks + unavails}\n",
    "\n",
    "# Constraints\n",
    "\n",
    "# C1\n",
    "for i in homes + tasks + unavails:\n",
    "    m.addConstr(quicksum([X[(i,j)] for j in homes + tasks + unavails if i != j]) == quicksum([X[(j,i)] for j in homes + tasks + unavails if i != j]))\n",
    "    \n",
    "# C2\n",
    "for i in tasks:\n",
    "    m.addConstr(quicksum([X[(i,j)] for j in homes + tasks + unavails if i != j]) <= 1)\n",
    "\n",
    "# C3_a\n",
    "for j in homes + lunches + unavails:\n",
    "    m.addConstr(quicksum([X[(i,j)] for i in range(V) if i != j]) == 1)\n",
    "\n",
    "# C3_b\n",
    "for i in homes + lunches + unavails:\n",
    "    employee = Node.list[i].employee\n",
    "    for k in employees:\n",
    "        if employee == Employee.list[k] :\n",
    "            m.addConstr(Y[(k,i)] == 1)\n",
    "            break\n",
    "                 \n",
    "# C4\n",
    "for i in range(V):\n",
    "    for j in range(V):\n",
    "        if i != j:\n",
    "            for k in employees:\n",
    "                m.addConstr(Y[(k,i)] <= Y[(k,j)] + 1-X[(i,j)])\n",
    "                m.addConstr(Y[(k,i)] >= Y[(k,j)] - 1+X[(i,j)])\n",
    "\n",
    "# C5\n",
    "for i in lunches + tasks:\n",
    "    m.addConstr(B[i] >= Node.list[i].opening_time)\n",
    "    m.addConstr(Node.list[i].duration + B[i] <= Node.list[i].closing_time)\n",
    "    \n",
    "# C6\n",
    "for i in unavails:\n",
    "    m.addConstr(B[i] == Node.list[i].opening_time)\n",
    "\n",
    "# C7\n",
    "for i in tasks:\n",
    "    intervals = open_intervals(i)\n",
    "    \n",
    "    t = {l : m.addVar(vtype = GRB.BINARY, name = f't{l}') for l in range(len(intervals))}\n",
    "    m.addConstr(quicksum([t[l] for l in range(len(intervals))]) == quicksum([X[(i,j)] for j in range(V) if i != j]))\n",
    "    \n",
    "    for l in range(len(intervals)):\n",
    "        start, end = intervals[l]\n",
    "        m.addConstr(B[i] >= start - (1-t[l])*M)\n",
    "        m.addConstr(B[i] + Node.list[i].duration <= end + (1-t[l])*M)\n",
    "\n",
    "# C8\n",
    "for k in employees:\n",
    "    for i in lunches + tasks + unavails:\n",
    "        if k != i:\n",
    "            m.addConstr(Employee.list[k].start_time + ceil(Node.distance[k,i]/Employee.speed) - (2 - Y[(k,i)] - X[(k,i)]) * M <= B[i]) \n",
    "\n",
    "# C9\n",
    "for k in employees:\n",
    "    for i in lunches + tasks + unavails:\n",
    "        if k != i:\n",
    "            m.addConstr(B[i] + Node.list[i].duration + ceil(Node.distance[i,k]/Employee.speed) <= Employee.list[k].end_time + M*(2 - Y[(k,i)] - X[(i,k)])) \n",
    "\n",
    "# C10\n",
    "for i in lunches:\n",
    "    for j in range(V):\n",
    "        if i != j:\n",
    "            m.addConstr(X[(i,j)] == X[(j,i)])\n",
    "       \n",
    "# C11\n",
    "for i in range(V):\n",
    "    m.addConstr(quicksum([Y[(k,i)] for k in employees]) <= 1)\n",
    "\n",
    "# C12\n",
    "for i in tasks + unavails:\n",
    "    for j in tasks + unavails:\n",
    "        if i != j:\n",
    "            m.addConstr(B[i] + Node.list[i].duration + ceil(Node.distance[i,j]/Employee.speed) <= B[j] + M * (1-X[(i,j)]) ) \n",
    "\n",
    "# C13\n",
    "for k in employees:\n",
    "    for i in tasks:\n",
    "        if k != i:\n",
    "            m.addConstr(Employee.list[k].level >= Node.list[i].level - M * (1 - Y[(k,i)]))\n"
   ]
  },
  {
   "cell_type": "code",
   "execution_count": 21,
   "id": "93ba648d",
   "metadata": {
    "pycharm": {
     "name": "#%%\n"
    }
   },
   "outputs": [],
   "source": [
    "obj = quicksum([X[(i,j)]*Node.list[j].duration for i in homes + tasks + unavails for j in lunches + tasks + unavails if i != j])\n",
    "\n",
    "m.setObjective(obj, GRB.MAXIMIZE)"
   ]
  },
  {
   "cell_type": "code",
   "execution_count": 22,
   "id": "062e1125",
   "metadata": {},
   "outputs": [],
   "source": [
    "m.params.outputflag = 0\n",
    "\n",
    "m.update()\n",
    "\n",
    "m.optimize()"
   ]
  },
  {
   "cell_type": "code",
   "execution_count": 23,
   "id": "a92b1f9d",
   "metadata": {},
   "outputs": [],
   "source": [
    "assert m.status != GRB.INFEASIBLE"
   ]
  },
  {
   "cell_type": "code",
   "execution_count": 24,
   "id": "727b3461",
   "metadata": {},
   "outputs": [
    {
     "name": "stdout",
     "output_type": "stream",
     "text": [
      "Y[0] : [0, 2, 5, 6, 8, 9, 12, 14]\n",
      "Y[1] : [1, 3, 4, 7, 10, 11, 13]\n",
      "\n",
      " 0 -> 8 \n",
      " 1 -> 13 \n",
      " 2 -> 5 \n",
      " 3 -> 7 \n",
      " 4 -> 1 \n",
      " 5 -> 2 \n",
      " 6 -> 9 \n",
      " 7 -> 3 \n",
      " 8 -> 12 \n",
      " 9 -> 14 \n",
      " 10 -> 4 \n",
      " 11 -> 10 \n",
      " 12 -> 6 \n",
      " 13 -> 11 \n",
      " 14 -> 0 \n",
      "\n",
      "['B[2] : 780.0', 'B[3] : 780.0', 'B[4] : 919.0', 'B[5] : 540.0', 'B[6] : 691.0', 'B[7] : 480.0', 'B[8] : 501.0', 'B[9] : 759.0', 'B[10] : 731.0', 'B[11] : 568.0', 'B[12] : 603.0', 'B[13] : 500.0', 'B[14] : 900.0']\n"
     ]
    }
   ],
   "source": [
    "for k in employees:\n",
    "    print(\"Y[{}] : {}\".format(k,[i for i in range(V) if Y[(k,i)].x == 1]))\n",
    "print()\n",
    "for i in range(V):\n",
    "    for j in range(V):\n",
    "        if i != j and X[(i,j)].x == 1 :\n",
    "            print(f\" {i} -> {j} \")\n",
    "print()\n",
    "print([\"B[{}] : {}\".format(i,B[i].x) for i in lunches + tasks + unavails])"
   ]
  },
  {
   "cell_type": "code",
   "execution_count": null,
   "id": "0332fa11",
   "metadata": {},
   "outputs": [],
   "source": []
  }
 ],
 "metadata": {
  "kernelspec": {
   "display_name": "Python 3 (ipykernel)",
   "language": "python",
   "name": "python3"
  },
  "language_info": {
   "codemirror_mode": {
    "name": "ipython",
    "version": 3
   },
   "file_extension": ".py",
   "mimetype": "text/x-python",
   "name": "python",
   "nbconvert_exporter": "python",
   "pygments_lexer": "ipython3",
   "version": "3.9.7"
  }
 },
 "nbformat": 4,
 "nbformat_minor": 5
}
