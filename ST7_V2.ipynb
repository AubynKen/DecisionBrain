{
 "cells": [
  {
   "cell_type": "markdown",
   "id": "ebcd1aa6",
   "metadata": {
    "pycharm": {
     "name": "#%% md\n"
    }
   },
   "source": [
    "# ST7 Planification quotidienne d’une équipe mobile"
   ]
  },
  {
   "cell_type": "code",
   "execution_count": 1,
   "id": "6a6236d7",
   "metadata": {},
   "outputs": [],
   "source": [
    "# Modules de base\n",
    "import numpy as np\n",
    "import os\n",
    "\n",
    "import matplotlib.pyplot as plt\n",
    "%matplotlib inline\n",
    "\n",
    "# Module relatif à Gurobi\n",
    "from gurobipy import *\n",
    "\n",
    "# Utilités\n",
    "from math import ceil\n",
    "from utils import plot_map"
   ]
  },
  {
   "cell_type": "markdown",
   "source": [
    "### Notations\n",
    "- $ W $ : Nombre de tâches (W pour work)\n",
    "- $ U $ : Nombre d’indisponibilités (unavail pour Unavailable)\n",
    "- $ T $ : Nombre de employés (T pour Technician)\n",
    "- $ V = 2 \\times T + W + U$ : Le nombre total de nœuds"
   ],
   "metadata": {
    "collapsed": false,
    "pycharm": {
     "name": "#%% md\n"
    }
   }
  },
  {
   "cell_type": "markdown",
   "source": [
    "### Les indices des nœuds\n",
    "\n",
    "Tout comme notre modèle dans la phase 1, Dans notre modèle pour la phase 2, nous allons utiliser le modèle de graphe pour résoudre notre problème. Dans la phase 1, les nœuds sont les tâches à effectuer, ainsi qu’un nœud symbolisant le dépôt initial d’où partent les employés. Dans la phase 2, le rajout de contraintes tels que la pause midi/déjeuner et les indisponibilités nous amène à distinguer quatre types de nœuds : Les lieux de résidences des employés (home), les tâches (task), les nœuds auxiliaires fictifs/dummy nodes correspondant aux pauses déjeuners des employés (lunch) et enfin les indisponibilités (unavail). Afin de faciliter la lecture, nous utilisons les notations suivantes pour les indices des quatre types de nœuds : \n",
    "\n",
    "- $ homes = \\{0, ..., T - 1\\} $ sont les indices des lieux de résidence / maison des employés\n",
    "- $ lunches = \\{T, ..., 2T - 1\\} $ : les indices des pauses midi, ie. les déjeuners\n",
    "- $ tasks = \\{2T, ... 2T + W - 1\\} $ : les indices des tâches à réaliser\n",
    "- $ unavails = \\{2T + W, ..., V - 1 \\} $ : les indisponibilités des employés\n",
    "\n",
    "L’ensemble des nœuds est donc : \n",
    "- $ nodes = homes \\cup lunches \\cup tasks \\cup unavails = \\{0, ..., V - 1\\} $\n",
    "\n",
    "Quant aux indices des employés, ils sont les mêmes que les indices de leurs maisons : \n",
    "- $ employees = \\{0, ..., T - 1 \\} $\n",
    "\n",
    "Par la suite, lorsque l’on note $i \\in homes$, cela signifie $i \\in \\{0, ..., T - 1\\}$, idem pour les autres types de nœuds."
   ],
   "metadata": {
    "collapsed": false,
    "pycharm": {
     "name": "#%% md\n"
    }
   },
   "outputs": [
    {
     "ename": "SyntaxError",
     "evalue": "invalid syntax (2528471650.py, line 1)",
     "output_type": "error",
     "traceback": [
      "\u001B[0;36m  File \u001B[0;32m\"/var/folders/q9/gr1yp8lj3bd65hlwr2q9q5tr0000gn/T/ipykernel_49246/2528471650.py\"\u001B[0;36m, line \u001B[0;32m1\u001B[0m\n\u001B[0;31m    Dans notre modèle v2, nous allons utiliser quatre types de nœuds : Les lieux de résidences des employés (home), les tâches (task), les nœuds auxiliaires fictifs/dummy nodes correspondant aux pauses déjeuners des employés (lunch) et enfin les indisponibilités (unavail). Afin de faciliter la lecture, nous utilisons les notations suivantes pour les indices de nœuds.\u001B[0m\n\u001B[0m         ^\u001B[0m\n\u001B[0;31mSyntaxError\u001B[0m\u001B[0;31m:\u001B[0m invalid syntax\n"
     ]
    }
   ],
   "execution_count": 1
  },
  {
   "cell_type": "markdown",
   "source": [
    "Les nœuds homes, lunches, unavails doivent être visité par leurs employés correspondants. Nous utilisons les notations suivantes pour ces correspondances : \n",
    "- $ home(k), k \\in employees $ : L’indice du lieu de résidence de l’employé k\n",
    "- $ lunch(k), k \\in employees $ : L’indice du nœud correspondant à la pause déjeuner de l’employé k. Nous modélisons la pause déjeuner comme une tâche fictive.\n",
    "\n",
    "Dans la phase 2 du projet, les tâches sont ouvertes sur plusieurs créneaux de temps. Les indisponibilités sont notées : \n",
    "- $ closed(i), i \\in tasks $ : Ensemble des (start, end) des indisponibilités de la tâche i.\n",
    "\n",
    "Notez que ce ne sont pas des variables de décisions et ne changent pas au cours du temps, malgré la notation entre parenthèse."
   ],
   "metadata": {
    "collapsed": false,
    "pycharm": {
     "name": "#%% md\n"
    }
   }
  },
  {
   "cell_type": "markdown",
   "source": [
    "### À propos des pauses déjeuners\n",
    "Dans une perspective de pure optimisation, nous aurions pu considérer que les employés effectuent leurs pauses déjeuners en plein milieu de la trajectoire rectiligne du trajet entre une tâche et la suivante. Pourtant, il nous semble que cette manière de représenter les pauses déjeuners correspondent peu à la réalité, et il nous paraît plus naturel qu’après avoir effectué la dernière tâche du matin, un employé mange et se repose sur place, et ensuite qu’il prenne sa route vers la prochaine destination. Cela nous amène à modéliser les pauses déjeuners ainsi :\n",
    "\n",
    "Nous modélisons les pauses midi de chaque employé comme une «pseudo-tâche» d’une durée d’une heure, qui s’ouvrent à 12h et qui ferment à 14h, que l’employé doit obligatoirement effectuer. Comme l’employé effectuer cette tâche sur place (donc pas de temps de trajet entre la dernière tâche du matin et la pause déjeuner, la pause déjeuner a une distance de 0 vers les autres nœuds. Un employé effectuer la dernière tâche du matin, se rend sur cette « pseudo-nœuds », et ensuite retourne vers le nœud de la tâche du matin, comme illustre l’image suivante : \n",
    "\n",
    "\n",
    "<img src=\"./images/lunch_illustration.jpeg\" alt=\"lunch-illustration\" width=500>"
   ],
   "metadata": {
    "collapsed": false,
    "pycharm": {
     "name": "#%% md\n"
    }
   }
  },
  {
   "cell_type": "markdown",
   "id": "e2ddd5c9",
   "metadata": {
    "pycharm": {
     "name": "#%% md\n"
    }
   },
   "source": [
    "### Nous notons les constantes suivante : \n",
    "\n",
    "- $ opening_i, i \\in tasks \\cup unavails $ : l’ouverture de la tâche i / début de l’indisponibilité i\n",
    "- $ closing_i, i \\in tasks \\cup unavails $ : la fermeture de la tâche i / fin de l’indisponibilité i\n",
    "- $ start_k, k \\in employees $ : le début de la journée de l’employé k\n",
    "- $ end_k, k \\in employees $ la fin de la journée de d’employé k\n",
    "- $ duration_i $ : la durée de la tâche/indisponibilité/ i\n",
    "- $ distance_{i, j} $ : la distance entre le nœud i et le nœud j\n",
    "- $ speed $ : la vitesse de déplacement des techniciens\n",
    "\n",
    "### Variables de décisions\n",
    "- $ (x_{i, j})_{i , j \\in nodes \\times nodes, i \\neq j} $, $ x_{i, j} = 1 $ ssi. (i, j) est un arc de i vers j\n",
    "- $ (y_{k, i})_{k \\in employees, i \\in tasks} $, $ y_{k, i} = 1 $ ssi. le technicien k se rend au nœud i (Pour les indices i correspondant aux lieux de résidence/ pauses déjeuners /indisponibilités des employés, la notation est la même, sauf que les valeurs sont fixes car on connaît la relation entre ces nœuds et leurs employés correspondants)\n",
    "- $ (b_i)_i $, $b_i$ est le début de chaque tâche en minute (b pour beginning)"
   ]
  },
  {
   "cell_type": "markdown",
   "source": [
    "### Contraintes :"
   ],
   "metadata": {
    "collapsed": false,
    "pycharm": {
     "name": "#%% md\n"
    }
   }
  },
  {
   "cell_type": "markdown",
   "source": [
    "- (C1) Chaque nœud doit avoir autant d’entrée que de sorties\n",
    "$$ \\forall i \\in nodes, \\sum_{j = 0}^{V - 1} x_{i, j} = \\sum_{j = 0}^{V - 1} x_{j, i} $$\n",
    "\n",
    "En effet, les employés doivent former des cycles en partant de son lieu de résidence, et en terminant son parcours à son lieu de résidence. Cette condition est une condition nécessaire pour avoir que les parcours soient cycliques."
   ],
   "metadata": {
    "collapsed": false,
    "pycharm": {
     "name": "#%% md\n"
    }
   }
  },
  {
   "cell_type": "markdown",
   "source": [
    "- (C2) Une tâche est effectuée par au plus un employé\n",
    "$$ \\forall i \\in tasks, \\sum_{j \\in tasks \\cup homes \\cup unavails} x_{i, j} \\le 1$$\n",
    "\n",
    "Pour les tâches, une tâche est effectuée par un plus un employé, donc il a zéro arc entrant/sortant s’il n’est pas effectuée, et une entrée/sortie s’il est effectué. Comme chaque nœud a autant d’arcs entrant que d’arcs sortant, nous ne comptons ici seulement les arcs sortants.\n",
    "\n",
    "Notons que nous ne comptabilisons pas les arcs sortants vers les «pseudo-nœuds» pauses midis, car ces arcs ne correspondent pas à de vrais trajets."
   ],
   "metadata": {
    "collapsed": false,
    "pycharm": {
     "name": "#%% md\n"
    }
   }
  },
  {
   "cell_type": "markdown",
   "source": [
    "- (C3) Les indisponibilités, maisons et pauses déjeuners doivent obligatoirement être visités :\n",
    "$$ \\forall i \\in unavails \\cup lunches \\cup homes, \\sum_{j \\in nodes} x_{i, j} = 1 $$\n",
    "\n",
    "Remarque : Même lorsque l’employé reste inactif, sa pause déjeuner fait que sa maison a une paire d’arc entrant/sortant."
   ],
   "metadata": {
    "collapsed": false,
    "pycharm": {
     "name": "#%% md\n"
    }
   }
  },
  {
   "cell_type": "markdown",
   "source": [
    "- (C) Les employés doivent visiter les nœuds correspondant à leurs indisponibilités, leurs pauses déjeuners et leurs lieux de résidence.\n",
    "$$ \\forall k \\in employees, \\forall i \\in home(k) \\cup lunche(k) \\cup unavails(k), y_{k,i} = 1 $$\n",
    "\n",
    "- (C) Deux nœuds qui se suivent doivent être attribué à la même personne\n",
    "$$ \\forall i, j \\in \\{1,\\dots, V-1\\}, x_{i, j} \\implies \\forall k \\in \\{0,\\dots, T-1\\}, y_{k, i} = y_{k, j} $$\n",
    "\n",
    "- (C) Lorsqu’un travail est effectué sur une tâche, le site de la tâche doit être ouverte.\n",
    "$$ \\forall i \\in Tasks \\cup lunches, (b_i \\ge opening_i) \\land (b_i + duration_i \\le closing_i) $$\n",
    "Pour les déjeuners, le opening time et closing time sont 12h et 14h.\n",
    "\n",
    "- (C) Lorsqu’un travail est effectué sur une tâche, la tâche doit être disponible.\n",
    "$$ \\forall i \\in Tasks, \\forall (start_{un}, end_{un}) \\in unavailabilities(i): $$\n",
    "$$ b_i \\ge end_{un} \\lor b_i + duration_i \\le start_{un} $$\n",
    "\n",
    "- (C) Un technicien doit avoir suffisamment de temps pour arriver au premier nœuds (après avoir quitté son lieu de résidence)\n",
    "$$ \\forall k \\in \\{0, ..., T - 1\\}, \\forall i \\in nodes, X_{home(k), i} \\implies start_k + \\frac{distance(home(k), i)}{speed} \\le b_i$$\n",
    "Remarque : les $b_i$ pour les indisponibilités des employés correspondent au début de l’indisponibilité. (Un employé doit avoir assez de temps pour aller à l’événement qui a causé son indisponibilité)\n",
    "\n",
    "- (C) Après avoir visité tous les nœuds qui lui sont attribué, un employé doit avoir suffisamment de temps pour rentrer chez lui :\n",
    "$$ \\forall k \\in \\{0, ..., T - 1\\}, \\forall i \\in Nodes, x_{i, home(k)} \\implies b_i + duration_i + \\frac{distance_{home(k), i}}{speed} \\le end_k $$\n",
    "- $$ \\forall k \\in \\{0, ..., T - 1\\}, \\forall i \\in Unavailabilities, x_{i, home(k)} \\implies end_i + \\frac{distance_{home(k), i}}{speed} \\le end_k $$\n",
    "\n",
    "- (C) Chaque employé doit effectuer une pause déjeuner.\n",
    "$$\\forall k \\in employees, y_{lunch(k), k} = 1$$\n",
    "\n",
    "- (C) Après la pause déjeuner, l’employé doit se trouver là où il se trouvait au début de la pause déjeuner. (L’arc sortant et l’arc entrant au déjeuner doit connecter le déjeuner au même site)\n",
    "$$ \\forall k \\in employees, \\forall i \\in nodes, x_{home(k), i} \\iff x_{i, home(k)}$$\n",
    "\n",
    "- (C) Une noeud est visité par exactement un seul employé\n",
    "$$ \\forall i \\in \\{1,\\dots, V-1\\}, \\sum_{k=0}^{T-1} y_{k, i} = 1 $$\n",
    "\n",
    "- (C) Le temps de trajet entre deux nœuds (dont aucun est un lieu de résidence) doit être suffisant :\n",
    "$$ \\forall i, j \\in Unavails \\cup Tasks, x_{i, j} \\implies b_i + duration_i + \\frac{disatnce_{i, j}}{speed} \\le b_j $$\n",
    "\n",
    "\n",
    "- (C) Un technicien n’effectue que des tâches qu’il est capable d’effectuer\n",
    "$$ \\forall k \\in \\{0,\\dots, T-1\\}, \\forall i \\in \\{1,\\dots, V-1\\}, levelTech_k \\ge levelTask_i - M \\cdot (1 - y_{k, i}) $$"
   ],
   "metadata": {
    "collapsed": false,
    "pycharm": {
     "name": "#%% md\n"
    }
   }
  },
  {
   "cell_type": "markdown",
   "id": "7a617549",
   "metadata": {
    "collapsed": false,
    "pycharm": {
     "name": "#%% md\n"
    }
   },
   "source": [
    "## Implémentation d'employé et tâche"
   ]
  },
  {
   "cell_type": "code",
   "execution_count": 62,
   "id": "88651692",
   "metadata": {
    "pycharm": {
     "name": "#%%\n"
    }
   },
   "outputs": [],
   "source": [
    "import pandas as pd\n",
    "import numpy as np\n",
    "from datetime import datetime\n",
    "from math import radians, cos, sin, asin, sqrt\n",
    "from utils import parse_time, parse_time_minute\n",
    "\n",
    "\n",
    "class Employee:\n",
    "    list = []  # initialized to empty list\n",
    "    count = 0\n",
    "    speed = 50 * 1000 / 60  # unit: meter/minute\n",
    "    __name_employee_correspondance = {}\n",
    "\n",
    "    def __init__(self, name: str, latitude: float, longitude: float, skill: str, level: int, start_time, end_time):\n",
    "        self.name = name\n",
    "        self.latitude = latitude\n",
    "        self.longitude = longitude\n",
    "        self.skill = skill\n",
    "        self.level = level\n",
    "        self.start_time_str = parse_time(start_time)  # parse time into datetime object for printing\n",
    "        self.end_time_str = parse_time(end_time)\n",
    "        self.start_time = parse_time_minute(start_time)  # parse time into minutes\n",
    "        self.end_time = parse_time_minute(end_time)\n",
    "        Employee.count += 1\n",
    "        Employee.list.append(self)\n",
    "        Employee.__name_employee_correspondance[name] = self\n",
    "\n",
    "    @classmethod\n",
    "    def find_by_name(cls, name):\n",
    "        return cls.__name_employee_correspondance[name]\n",
    "\n",
    "    @classmethod\n",
    "    def load_excel(cls, path):\n",
    "        df_employees = pd.read_excel(path, sheet_name=\"Employees\")\n",
    "        df_employees.set_index(\"EmployeeName\")\n",
    "\n",
    "        for index, row in df_employees.iterrows():\n",
    "            Employee(row[\"EmployeeName\"],\n",
    "                     row[\"Latitude\"],\n",
    "                     row[\"Longitude\"],\n",
    "                     row[\"Skill\"],\n",
    "                     row[\"Level\"],\n",
    "                     row[\"WorkingStartTime\"],\n",
    "                     row[\"WorkingEndTime\"])\n",
    "\n",
    "    def __hash__(self):\n",
    "        return hash(self.name)\n",
    "\n",
    "    def __eq__(self, other):\n",
    "        return self.name == other.name\n",
    "\n",
    "    def __str__(self):\n",
    "        return self.name\n",
    "\n",
    "    def __repr__(self):\n",
    "        return f\"Employee(name={self.name}, \" \\\n",
    "               f\"position=[{self.longitude}, {self.latitude}], \" \\\n",
    "               f\"skill_requirement=level {self.level} {self.skill},\" \\\n",
    "               f\"available=[{self.start_time_str.strftime('%I:%M%p')}, {self.end_time_str.strftime('%I:%M%p')}] )\""
   ]
  },
  {
   "cell_type": "code",
   "execution_count": 69,
   "outputs": [],
   "source": [
    "class Node:\n",
    "    list = []\n",
    "    count_node = 0\n",
    "    count_task = 0\n",
    "    count_unavail = 0\n",
    "    distance: np.array = None\n",
    "    __is_initialized = False\n",
    "\n",
    "    def __init__(self, task_id, latitude, longitude, duration, skill, level, opening_time, closing_time,\n",
    "                 node_type: str):\n",
    "        if Node.__is_initialized:\n",
    "            raise Exception(\"Cannot instantiate new task after initializing the distance matrix\")\n",
    "        self.id = task_id\n",
    "        self.latitude = latitude\n",
    "        self.longitude = longitude\n",
    "        self.duration = duration\n",
    "        self.skill = skill\n",
    "        self.level = level\n",
    "        self.opening_time_str = parse_time(opening_time)\n",
    "        self.closing_time_str = parse_time(closing_time)\n",
    "        self.opening_time = parse_time_minute(opening_time)\n",
    "        self.closing_time = parse_time_minute(closing_time)\n",
    "        self.node_type = node_type # home, lunch, task, unavail\n",
    "\n",
    "        if node_type in [\"home\", \"lunch\", \"unavail\"]:\n",
    "            self.employee = Employee.find_by_name(task_id)\n",
    "\n",
    "        if node_type == \"task\":\n",
    "            Node.count_task += 1\n",
    "\n",
    "        if node_type == \"unavail\":\n",
    "            Node.count_unavail += 1\n",
    "\n",
    "        Node.count_node += 1\n",
    "        Node.list.append(self)\n",
    "\n",
    "    @classmethod\n",
    "    def load_excel(cls, path, initialize_distance=False):\n",
    "\n",
    "        # load homes\n",
    "        df_employees = pd.read_excel(path, sheet_name=\"Employees\")\n",
    "        df_employees.set_index(\"EmployeeName\")\n",
    "        for _, row in df_employees.iterrows():\n",
    "            Node(row[\"EmployeeName\"], row[\"Latitude\"], row[\"Longitude\"], 0, None, 0, None, None, \"home\")\n",
    "\n",
    "        # load dummy node for lunch\n",
    "        df_employees = pd.read_excel(path, sheet_name=\"Employees\")\n",
    "        df_employees.set_index(\"EmployeeName\")\n",
    "        for _, row in df_employees.iterrows():\n",
    "            Node(row[\"EmployeeName\"], None, None, 60, None, 0, \"12:00am\", \"2:00pm\", \"lunch\")\n",
    "\n",
    "        # load tasks\n",
    "        df = pd.read_excel(path, sheet_name=\"Tasks\")\n",
    "        df.set_index(\"TaskId\")\n",
    "        for index, row in df.iterrows():\n",
    "            # parse the start time and end time into datetime object\n",
    "            opening_time = datetime.strptime(row[\"OpeningTime\"], '%I:%M%p')\n",
    "            closing_time = datetime.strptime(row[\"ClosingTime\"], '%I:%M%p')\n",
    "\n",
    "            Node(row[\"TaskId\"],\n",
    "                 row[\"Latitude\"],\n",
    "                 row[\"Longitude\"],\n",
    "                 row[\"TaskDuration\"],\n",
    "                 row[\"Skill\"],\n",
    "                 row[\"Level\"],\n",
    "                 opening_time,\n",
    "                 closing_time, node_type=\"task\")\n",
    "\n",
    "        # create a task for each unavailability at the bottom of the list\n",
    "        df_employees_unavailabilities = pd.read_excel(path, sheet_name=\"Employees Unavailabilities\")\n",
    "        df_employees_unavailabilities.set_index(\"EmployeeName\")\n",
    "        for _, row in df_employees_unavailabilities.iterrows():\n",
    "            open_time = row[\"Start\"]\n",
    "            close_time = row[\"End\"]\n",
    "            duration = parse_time_minute(close_time) - parse_time_minute(open_time)\n",
    "            Node(row[\"EmployeeName\"], row[\"Latitude\"], row[\"Longitude\"], duration, None, 0, open_time, close_time,\n",
    "                 node_type=\"unavail\")\n",
    "\n",
    "        if initialize_distance:\n",
    "            cls.initialize_distance()\n",
    "\n",
    "    @staticmethod\n",
    "    def calculate_distance(task1, task2):\n",
    "        if task1.node_type == \"lunch\" or task2.node_type == \"lunch\":\n",
    "            return 0\n",
    "        lon1, lat1 = radians(task1.longitude), radians(task1.latitude)\n",
    "        lon2, lat2 = radians(task2.longitude), radians(task2.latitude)\n",
    "\n",
    "        # Haversine formula\n",
    "        dlon = lon2 - lon1\n",
    "        dlat = lat2 - lat1\n",
    "        a = sin(dlat / 2) ** 2 + cos(lat1) * cos(lat2) * sin(dlon / 2) ** 2\n",
    "        c = 2 * asin(sqrt(a))\n",
    "        r = 6371 * 1000  # radius of earth\n",
    "        return c * r\n",
    "\n",
    "    @classmethod\n",
    "    def initialize_distance(cls):\n",
    "        if cls.__is_initialized:\n",
    "            print(\"Warning: trying to reinitialize an initialized task list, recalculating the distance matrix\")\n",
    "        cls.__is_initialized = True\n",
    "        cls.distance = np.zeros((len(Node.list), len(Node.list)), dtype=np.float64)\n",
    "\n",
    "        for i in range(cls.count_node):\n",
    "            for j in range(i):\n",
    "                task_i, task_j = cls.list[i], cls.list[j]\n",
    "                cls.distance[i, j] = cls.distance[j, i] = cls.calculate_distance(task_i, task_j)\n",
    "\n",
    "    @classmethod\n",
    "    def get_home_correspondances(cls):\n",
    "        pass\n",
    "\n",
    "    def __hash__(self):\n",
    "        return hash(self.id)\n",
    "\n",
    "    def __eq__(self, other):\n",
    "        return self.id == other.id\n",
    "\n",
    "    def __repr__(self):\n",
    "        # opening_time = self.opening_time_str.strftime('%I:%M%p')\n",
    "        # closing_time = self.closing_time_str.strftime('%I:%M%p')\n",
    "\n",
    "        if self.node_type == \"task\":\n",
    "            return f\"Task(id={self.id}, \" \\\n",
    "                   f\"position=[{self.longitude}, {self.latitude}], \" \\\n",
    "                   f\"duration={self.duration}, \" \\\n",
    "                   f\"skill_requirement=level {self.level} {self.skill},\" \\\n",
    "                   f\"opening_time=[{self.opening_time_str.strftime('%I:%M%p')}\" \\\n",
    "                   f\"to {self.closing_time_str.strftime('%I:%M%p')}] \"\n",
    "\n",
    "        if self.node_type == \"lunch\":\n",
    "            return f\"Lunch({self.id})\"\n",
    "\n",
    "        if self.node_type == \"home\":\n",
    "            return f\"Home({self.id})\"\n",
    "\n",
    "        if self.node_type == \"unavail\":\n",
    "            return f\"Unavailability({self.id}, start={self.opening_time_str.strftime('%I:%M%p')}, end={self.closing_time_str.strftime('%I:%M%p')})\""
   ],
   "metadata": {
    "collapsed": false,
    "pycharm": {
     "name": "#%%\n"
    }
   }
  },
  {
   "cell_type": "markdown",
   "id": "66bf9fe9",
   "metadata": {
    "collapsed": false,
    "pycharm": {
     "name": "#%% md\n"
    }
   },
   "source": [
    "### Quelques démos de l’implémentation"
   ]
  },
  {
   "cell_type": "code",
   "execution_count": 70,
   "id": "9240baa4",
   "metadata": {
    "pycharm": {
     "name": "#%%\n"
    }
   },
   "outputs": [],
   "source": [
    "path_bordeaux = \"./data/InstancesV2/InstanceBordeauxV2.xlsx\"\n",
    "path = path_bordeaux\n",
    "# path_result = \"results/SolutionBordeauxV1ByV1.txt\""
   ]
  },
  {
   "cell_type": "code",
   "execution_count": 71,
   "id": "18ecc7a4",
   "metadata": {
    "pycharm": {
     "name": "#%%\n"
    },
    "scrolled": true
   },
   "outputs": [
    {
     "name": "stdout",
     "output_type": "stream",
     "text": [
      "15 10 1\n",
      "4\n"
     ]
    }
   ],
   "source": [
    "# reading dataframe into python objects\n",
    "Employee.load_excel(path)\n",
    "Node.load_excel(path, initialize_distance=True)\n",
    "print(Node.count_node, Node.count_task, Node.count_unavail)\n",
    "print(Employee.count)"
   ]
  },
  {
   "cell_type": "code",
   "execution_count": 72,
   "outputs": [
    {
     "data": {
      "text/plain": "array([[     0.        ,  23906.83058516,      0.        ,\n             0.        ,  77088.14164263,  26425.09673473,\n          6932.25850055,  13231.21025159,  16907.60607192,\n          8018.39052859,  29654.86503583,  14251.83756639,\n         18127.03789041,   7855.55497962,      0.        ],\n       [ 23906.83058516,      0.        ,      0.        ,\n             0.        ,  58439.72228403,  17830.47320533,\n         24334.2333104 ,  36821.29720994,  17526.58502259,\n         30020.55226258,  52398.27454399,   9870.88501072,\n         40509.07363752,  16256.55330524,  23906.83058516],\n       [     0.        ,      0.        ,      0.        ,\n             0.        ,      0.        ,      0.        ,\n             0.        ,      0.        ,      0.        ,\n             0.        ,      0.        ,      0.        ,\n             0.        ,      0.        ,      0.        ],\n       [     0.        ,      0.        ,      0.        ,\n             0.        ,      0.        ,      0.        ,\n             0.        ,      0.        ,      0.        ,\n             0.        ,      0.        ,      0.        ,\n             0.        ,      0.        ,      0.        ],\n       [ 77088.14164263,  58439.72228403,      0.        ,\n             0.        ,      0.        ,  51085.9624923 ,\n         73072.41327132,  86437.55876918,  60850.45713462,\n         79014.98988258, 106495.64227737,  64634.47114488,\n         95210.04154983,  69866.43262719,  77088.14164263],\n       [ 26425.09673473,  17830.47320533,      0.        ,\n             0.        ,  51085.9624923 ,      0.        ,\n         21986.45628832,  35449.9080036 ,   9770.68499266,\n         27973.14692514,  55462.66745953,  16805.9628642 ,\n         44393.32818978,  20041.42298443,  26425.09673473],\n       [  6932.25850055,  24334.2333104 ,      0.        ,\n             0.        ,  73072.41327132,  21986.45628832,\n             0.        ,  13727.9265476 ,  12229.61993738,\n          6226.53136649,  33550.65053579,  14596.09778772,\n         22900.06639071,   8977.90170791,   6932.25850055],\n       [ 13231.21025159,  36821.29720994,      0.        ,\n             0.        ,  86437.55876918,  35449.9080036 ,\n         13727.9265476 ,      0.        ,  25803.09337509,\n          7525.18272779,  21231.57047107,  26978.01985844,\n         13263.76898553,  20565.35918983,  13231.21025159],\n       [ 16907.60607192,  17526.58502259,      0.        ,\n             0.        ,  60850.45713462,   9770.68499266,\n         12229.61993738,  25803.09337509,      0.        ,\n         18290.91120789,  45695.47713172,  11126.02877306,\n         34700.70013272,  11556.8574646 ,  16907.60607192],\n       [  8018.39052859,  30020.55226258,      0.        ,\n             0.        ,  79014.98988258,  27973.14692514,\n          6226.53136649,   7525.18272779,  18290.91120789,\n             0.        ,  27983.53562192,  20157.63397724,\n         18158.82349184,  13952.21938524,   8018.39052859],\n       [ 29654.86503583,  52398.27454399,      0.        ,\n             0.        , 106495.64227737,  55462.66745953,\n         33550.65053579,  21231.57047107,  45695.47713172,\n         27983.53562192,      0.        ,  43449.0462799 ,\n         11889.39180498,  37343.83964802,  29654.86503583],\n       [ 14251.83756639,   9870.88501072,      0.        ,\n             0.        ,  64634.47114488,  16805.9628642 ,\n         14596.09778772,  26978.01985844,  11126.02877306,\n         20157.63397724,  43449.0462799 ,      0.        ,\n         31629.24820753,   6447.81656973,  14251.83756639],\n       [ 18127.03789041,  40509.07363752,      0.        ,\n             0.        ,  95210.04154983,  44393.32818978,\n         22900.06639071,  13263.76898553,  34700.70013272,\n         18158.82349184,  11889.39180498,  31629.24820753,\n             0.        ,  25633.81891925,  18127.03789041],\n       [  7855.55497962,  16256.55330524,      0.        ,\n             0.        ,  69866.43262719,  20041.42298443,\n          8977.90170791,  20565.35918983,  11556.8574646 ,\n         13952.21938524,  37343.83964802,   6447.81656973,\n         25633.81891925,      0.        ,   7855.55497962],\n       [     0.        ,  23906.83058516,      0.        ,\n             0.        ,  77088.14164263,  26425.09673473,\n          6932.25850055,  13231.21025159,  16907.60607192,\n          8018.39052859,  29654.86503583,  14251.83756639,\n         18127.03789041,   7855.55497962,      0.        ]])"
     },
     "execution_count": 72,
     "metadata": {},
     "output_type": "execute_result"
    }
   ],
   "source": [
    "Node.distance"
   ],
   "metadata": {
    "collapsed": false,
    "pycharm": {
     "name": "#%%\n"
    }
   }
  },
  {
   "cell_type": "code",
   "execution_count": 66,
   "id": "ff10c9ff",
   "metadata": {},
   "outputs": [
    {
     "name": "stdout",
     "output_type": "stream",
     "text": [
      "Fichier d’origine : \"./data/InstancesV2/InstanceBordeauxV2.xlsx\"\n",
      "Nombre d’employés : 2, Nombre de tâches : 15\n"
     ]
    }
   ],
   "source": [
    "T = len(Employee.list)\n",
    "V = len(Node.list)\n",
    "print(f\"Fichier d’origine : \\\"{path}\\\"\")\n",
    "print(f\"Nombre d’employés : {T}, Nombre de tâches : {V}\")"
   ]
  },
  {
   "cell_type": "markdown",
   "id": "3335c2b1",
   "metadata": {
    "collapsed": false,
    "pycharm": {
     "name": "#%% md\n"
    }
   },
   "source": [
    "Essayons maintenant d’afficher notre première tâche dans le fichier excel"
   ]
  },
  {
   "cell_type": "code",
   "execution_count": 68,
   "id": "2b13c232",
   "metadata": {
    "pycharm": {
     "name": "#%%\n"
    }
   },
   "outputs": [
    {
     "data": {
      "text/plain": "[Home(Valentin),\n Home(Ambre),\n Lunch(Valentin),\n Lunch(Ambre),\n Task(id=T1, position=[-0.3193922422375719, 44.55654938342008], duration=60, skill_requirement=level 1 Oenology,opening_time=[08:00AMto 06:00PM] ,\n Task(id=T2, position=[-0.6086852638150881, 44.96750095217799], duration=60, skill_requirement=level 1 Oenology,opening_time=[08:00AMto 06:00PM] ,\n Task(id=T3, position=[-0.7342570469020379, 45.14421541464031], duration=60, skill_requirement=level 2 Oenology,opening_time=[08:00AMto 06:00PM] ,\n Task(id=T4, position=[-0.7717887212411139, 45.264808304867096], duration=60, skill_requirement=level 1 Oenology,opening_time=[08:00AMto 06:00PM] ,\n Task(id=T5, position=[-0.6687606009488057, 45.044422793402624], duration=60, skill_requirement=level 2 Oenology,opening_time=[08:00AMto 06:00PM] ,\n Task(id=T6, position=[-0.7462077931750715, 45.19957452440505], duration=60, skill_requirement=level 2 Oenology,opening_time=[08:00AMto 06:00PM] ,\n Task(id=T7, position=[-0.9668192708194538, 45.397697776585], duration=60, skill_requirement=level 1 Oenology,opening_time=[08:00AMto 06:00PM] ,\n Task(id=T8, position=[-0.8072126299796225, 45.02347908679639], duration=60, skill_requirement=level 1 Oenology,opening_time=[08:00AMto 06:00PM] ,\n Task(id=T9, position=[-0.9365361007032236, 45.29291368453335], duration=60, skill_requirement=level 2 Oenology,opening_time=[08:00AMto 06:00PM] ,\n Task(id=T10, position=[-0.8062453230620741, 45.08146166752168], duration=60, skill_requirement=level 1 Oenology,opening_time=[08:00AMto 06:00PM] ,\n Unavailability(Valentin, start=03:00PM, end=06:00PM)]"
     },
     "execution_count": 68,
     "metadata": {},
     "output_type": "execute_result"
    }
   ],
   "source": [
    "Node.list"
   ]
  },
  {
   "cell_type": "markdown",
   "id": "55ec44d8",
   "metadata": {
    "collapsed": false,
    "pycharm": {
     "name": "#%% md\n"
    }
   },
   "source": [
    "## Implémentation"
   ]
  },
  {
   "cell_type": "markdown",
   "id": "260c6a4f",
   "metadata": {
    "collapsed": false,
    "pycharm": {
     "name": "#%% md\n"
    }
   },
   "source": [
    "### Objective d'optimisation"
   ]
  },
  {
   "cell_type": "code",
   "execution_count": 11,
   "id": "2dbdb2db",
   "metadata": {},
   "outputs": [],
   "source": [
    "assert m.status != GRB.INFEASIBLE"
   ]
  },
  {
   "cell_type": "code",
   "execution_count": 12,
   "id": "882eeb2e",
   "metadata": {
    "scrolled": true
   },
   "outputs": [
    {
     "name": "stdout",
     "output_type": "stream",
     "text": [
      "Techniciens actifs : [0, 1]\n",
      "Y_0 : [3, 4, 5, 6, 7, 9]\n",
      "Y_1 : [1, 2, 8, 10]\n",
      "\n",
      "[(0, 2), (0, 9)]\n",
      "[(1, 8)]\n",
      "[(2, 1)]\n",
      "[(3, 5)]\n",
      "[(4, 6)]\n",
      "[(5, 0)]\n",
      "[(6, 3)]\n",
      "[(7, 4)]\n",
      "[(8, 10)]\n",
      "[(9, 7)]\n",
      "[(10, 0)]\n",
      "\n",
      "['B_0 : -0.0', 'B_1 : 804.0', 'B_2 : 682.0', 'B_3 : 801.0', 'B_4 : 663.0', 'B_5 : 876.0', 'B_6 : 733.0', 'B_7 : 577.0', 'B_8 : 942.0', 'B_9 : 502.0', 'B_10 : 1010.0']\n"
     ]
    }
   ],
   "source": [
    "print(\"Techniciens actifs : {}\".format([k for k in range(T) if t[k].x == 1]))\n",
    "\n",
    "for k in range(T):\n",
    "    print(\"Y_{} : {}\".format(k,[i for i in range(1,V) if Y[(k,i)].x == 1]))\n",
    "print()\n",
    "for i in range(V):\n",
    "    print([(i,j) for j in range(V) if i != j and X[(i,j)].x == 1])\n",
    "print()\n",
    "print([\"B_{} : {}\".format(i,B[i].x) for i in range(V)])"
   ]
  },
  {
   "cell_type": "code",
   "execution_count": 13,
   "id": "4af8063a",
   "metadata": {},
   "outputs": [],
   "source": [
    "# Z associe un indice de tâche à l'employé qui l'effectue\n",
    "Z = {}\n",
    "for i in range(V):\n",
    "    for k in range(T):\n",
    "        if Y[(k,i)].x == 1:\n",
    "            Z[i] = k"
   ]
  },
  {
   "cell_type": "markdown",
   "id": "c0697a5c",
   "metadata": {
    "collapsed": false,
    "pycharm": {
     "name": "#%% md\n"
    }
   },
   "source": [
    "### Enregistrement des données dans le bon format"
   ]
  },
  {
   "cell_type": "code",
   "execution_count": 14,
   "id": "8b7352d5",
   "metadata": {
    "pycharm": {
     "name": "#%%\n"
    }
   },
   "outputs": [],
   "source": [
    "if not os.path.isdir(path_result):\n",
    "    store_result(target_path=path_result,\n",
    "                 employees=Employee.list,\n",
    "                 tasks=Task.list, z=Z, b=B)"
   ]
  },
  {
   "cell_type": "markdown",
   "id": "6ab66b13",
   "metadata": {
    "collapsed": false,
    "pycharm": {
     "name": "#%% md\n"
    }
   },
   "source": [
    "### Affichage de la distance totale"
   ]
  },
  {
   "cell_type": "code",
   "execution_count": 15,
   "id": "7b3efc71",
   "metadata": {},
   "outputs": [
    {
     "name": "stdout",
     "output_type": "stream",
     "text": [
      "The total distance is 127.79477073284689 km(s)\n"
     ]
    }
   ],
   "source": [
    "print(f\"The total distance is {max([Task.distance[i,j] for i in range(V) for j in range(V)])/Employee.speed} km(s)\")"
   ]
  },
  {
   "cell_type": "markdown",
   "id": "de8cc8b2",
   "metadata": {
    "collapsed": false,
    "pycharm": {
     "name": "#%% md\n"
    }
   },
   "source": [
    "### Maintenant essayons d’utiliser notre visualiseur pour voir comment notre algorithem a réglé le problème"
   ]
  },
  {
   "cell_type": "markdown",
   "id": "062aeeee",
   "metadata": {
    "collapsed": false
   },
   "source": []
  },
  {
   "cell_type": "code",
   "execution_count": 16,
   "id": "28c9cd34",
   "metadata": {},
   "outputs": [
    {
     "data": {
      "image/png": "[encoded data removed]",
      "text/plain": [
       "<Figure size 432x288 with 1 Axes>"
      ]
     },
     "metadata": {
      "needs_background": "light"
     },
     "output_type": "display_data"
    }
   ],
   "source": [
    "plot_map(V, Employee.list, Task.list, X, Z)"
   ]
  },
  {
   "cell_type": "markdown",
   "id": "3893e08e",
   "metadata": {
    "collapsed": false,
    "pycharm": {
     "name": "#%% md\n"
    }
   },
   "source": [
    "## Il suffit ensuite de changer les variables path et path_result pour faire les culculs sur les autres instances"
   ]
  }
 ],
 "metadata": {
  "kernelspec": {
   "display_name": "Python 3 (ipykernel)",
   "language": "python",
   "name": "python3"
  },
  "language_info": {
   "codemirror_mode": {
    "name": "ipython",
    "version": 3
   },
   "file_extension": ".py",
   "mimetype": "text/x-python",
   "name": "python",
   "nbconvert_exporter": "python",
   "pygments_lexer": "ipython3",
   "version": "3.9.7"
  }
 },
 "nbformat": 4,
 "nbformat_minor": 5
}